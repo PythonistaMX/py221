{
 "cells": [
  {
   "cell_type": "markdown",
   "metadata": {},
   "source": [
    "[![img/pythonista.png](img/pythonista.png)](https://www.pythonista.io)"
   ]
  },
  {
   "cell_type": "markdown",
   "metadata": {},
   "source": [
    "# La biblioteca *Marsmallow-SQLAlchemy*."
   ]
  },
  {
   "cell_type": "markdown",
   "metadata": {},
   "source": [
    "https://marshmallow-sqlalchemy.readthedocs.io/en/latest/"
   ]
  },
  {
   "cell_type": "code",
   "execution_count": 1,
   "metadata": {
    "scrolled": true
   },
   "outputs": [
    {
     "name": "stdout",
     "output_type": "stream",
     "text": [
      "Requirement already satisfied: marshmallow-sqlalchemy in /home/oi/pythonista/lib/python3.9/site-packages (0.27.0)\n",
      "Requirement already satisfied: marshmallow>=3.0.0 in /home/oi/pythonista/lib/python3.9/site-packages (from marshmallow-sqlalchemy) (3.14.1)\n",
      "Requirement already satisfied: SQLAlchemy>=1.2.0 in /home/oi/pythonista/lib/python3.9/site-packages (from marshmallow-sqlalchemy) (1.4.31)\n",
      "Requirement already satisfied: greenlet!=0.4.17 in /home/oi/pythonista/lib/python3.9/site-packages (from SQLAlchemy>=1.2.0->marshmallow-sqlalchemy) (1.1.2)\n",
      "\u001b[33mWARNING: You are using pip version 21.3.1; however, version 22.0.3 is available.\n",
      "You should consider upgrading via the '/home/oi/pythonista/bin/python -m pip install --upgrade pip' command.\u001b[0m\n"
     ]
    }
   ],
   "source": [
    "!pip install marshmallow-sqlalchemy"
   ]
  },
  {
   "cell_type": "markdown",
   "metadata": {},
   "source": [
    "## La clase ```SQLAlchemySchema```."
   ]
  },
  {
   "cell_type": "markdown",
   "metadata": {},
   "source": [
    "La clase ```marshmallow_sqlalchemy.SQLAlchemySchema```.\n",
    "\n",
    "https://marshmallow-sqlalchemy.readthedocs.io/en/latest/api_reference.html#marshmallow_sqlalchemy.SQLAlchemySchema"
   ]
  },
  {
   "cell_type": "code",
   "execution_count": 2,
   "metadata": {},
   "outputs": [],
   "source": [
    "import sqlalchemy as sa\n",
    "from sqlalchemy.ext.declarative import declarative_base\n",
    "from sqlalchemy.orm import scoped_session, sessionmaker"
   ]
  },
  {
   "cell_type": "code",
   "execution_count": 3,
   "metadata": {},
   "outputs": [],
   "source": [
    "engine = sa.create_engine(\"sqlite:///data/alumnosql.sqlite\")\n",
    "session = scoped_session(sessionmaker(bind=engine))\n",
    "Base = declarative_base()"
   ]
  },
  {
   "cell_type": "code",
   "execution_count": 4,
   "metadata": {},
   "outputs": [],
   "source": [
    "class AlumnosSQL(Base):\n",
    "    __tablename__ = 'alumno'\n",
    "    \n",
    "    cuenta = sa.Column(sa.Integer, primary_key=True)\n",
    "    nombre = sa.Column(sa.String(50))\n",
    "    primer_apellido = sa.Column(sa.String(50))\n",
    "    segundo_apellido = sa.Column(sa.String(50))\n",
    "    carrera = sa.Column(sa.String(50))\n",
    "    semestre = sa.Column(sa.Integer)\n",
    "    promedio = sa.Column(sa.Float)\n",
    "    al_corriente = sa.Column(sa.Boolean)"
   ]
  },
  {
   "cell_type": "code",
   "execution_count": 5,
   "metadata": {},
   "outputs": [],
   "source": [
    "Base.metadata.create_all(engine)"
   ]
  },
  {
   "cell_type": "code",
   "execution_count": 6,
   "metadata": {},
   "outputs": [],
   "source": [
    "from marshmallow_sqlalchemy import SQLAlchemySchema, auto_field"
   ]
  },
  {
   "cell_type": "code",
   "execution_count": 7,
   "metadata": {},
   "outputs": [],
   "source": [
    "class AlumnoSchema(SQLAlchemySchema):\n",
    "    class Meta:\n",
    "        model = AlumnosSQL\n",
    "        load_instance = True\n",
    "        \n",
    "    cuenta = auto_field()\n",
    "    nombre = auto_field()\n",
    "    primer_apellido = auto_field()\n",
    "    segundo_apellido = auto_field()\n",
    "    carrera = auto_field()\n",
    "    semestre = auto_field()\n",
    "    promedio = auto_field()\n",
    "    al_corriente = auto_field()"
   ]
  },
  {
   "cell_type": "code",
   "execution_count": 8,
   "metadata": {},
   "outputs": [],
   "source": [
    "alumno = AlumnosSQL(cuenta=12347)"
   ]
  },
  {
   "cell_type": "code",
   "execution_count": 9,
   "metadata": {},
   "outputs": [],
   "source": [
    "session.add(alumno)\n",
    "session.commit()"
   ]
  },
  {
   "cell_type": "code",
   "execution_count": 10,
   "metadata": {},
   "outputs": [],
   "source": [
    "alumno_schema = AlumnoSchema()"
   ]
  },
  {
   "cell_type": "code",
   "execution_count": 11,
   "metadata": {},
   "outputs": [
    {
     "data": {
      "text/plain": [
       "{'nombre': None,\n",
       " 'promedio': None,\n",
       " 'primer_apellido': None,\n",
       " 'semestre': None,\n",
       " 'al_corriente': None,\n",
       " 'segundo_apellido': None,\n",
       " 'carrera': None,\n",
       " 'cuenta': 12347}"
      ]
     },
     "execution_count": 11,
     "metadata": {},
     "output_type": "execute_result"
    }
   ],
   "source": [
    "alumno_schema.dump(alumno)"
   ]
  },
  {
   "cell_type": "code",
   "execution_count": 12,
   "metadata": {},
   "outputs": [],
   "source": [
    "nuevo_alumno = alumno_schema.load({\n",
    "    'cuenta': 12345,\n",
    "    'al_corriente': False, \n",
    "    'carrera': 'Derecho', \n",
    "    'nombre': 'Pedro', \n",
    "    'primer_apellido': 'Solis', \n",
    "    'promedio': 7.8, \n",
    "    'semestre': 3,},\n",
    "    session=session)"
   ]
  },
  {
   "cell_type": "code",
   "execution_count": 13,
   "metadata": {},
   "outputs": [
    {
     "data": {
      "text/plain": [
       "<__main__.AlumnosSQL at 0x7f2177ac4880>"
      ]
     },
     "execution_count": 13,
     "metadata": {},
     "output_type": "execute_result"
    }
   ],
   "source": [
    "nuevo_alumno"
   ]
  },
  {
   "cell_type": "code",
   "execution_count": 14,
   "metadata": {},
   "outputs": [],
   "source": [
    "session.add(nuevo_alumno)"
   ]
  },
  {
   "cell_type": "code",
   "execution_count": 15,
   "metadata": {},
   "outputs": [],
   "source": [
    "session.commit()"
   ]
  },
  {
   "cell_type": "code",
   "execution_count": 16,
   "metadata": {},
   "outputs": [],
   "source": [
    "%load_ext sql"
   ]
  },
  {
   "cell_type": "code",
   "execution_count": 17,
   "metadata": {},
   "outputs": [],
   "source": [
    "%sql sqlite:///data/alumnosql.sqlite"
   ]
  },
  {
   "cell_type": "code",
   "execution_count": 18,
   "metadata": {},
   "outputs": [
    {
     "name": "stdout",
     "output_type": "stream",
     "text": [
      " * sqlite:///data/alumnosql.sqlite\n",
      "Done.\n"
     ]
    },
    {
     "data": {
      "text/html": [
       "<table>\n",
       "    <tr>\n",
       "        <th>cuenta</th>\n",
       "        <th>nombre</th>\n",
       "        <th>primer_apellido</th>\n",
       "        <th>segundo_apellido</th>\n",
       "        <th>carrera</th>\n",
       "        <th>semestre</th>\n",
       "        <th>promedio</th>\n",
       "        <th>al_corriente</th>\n",
       "    </tr>\n",
       "    <tr>\n",
       "        <td>12345</td>\n",
       "        <td>Pedro</td>\n",
       "        <td>Solis</td>\n",
       "        <td>None</td>\n",
       "        <td>Derecho</td>\n",
       "        <td>3</td>\n",
       "        <td>7.8</td>\n",
       "        <td>0</td>\n",
       "    </tr>\n",
       "    <tr>\n",
       "        <td>12347</td>\n",
       "        <td>None</td>\n",
       "        <td>None</td>\n",
       "        <td>None</td>\n",
       "        <td>None</td>\n",
       "        <td>None</td>\n",
       "        <td>None</td>\n",
       "        <td>None</td>\n",
       "    </tr>\n",
       "</table>"
      ],
      "text/plain": [
       "[(12345, 'Pedro', 'Solis', None, 'Derecho', 3, 7.8, 0),\n",
       " (12347, None, None, None, None, None, None, None)]"
      ]
     },
     "execution_count": 18,
     "metadata": {},
     "output_type": "execute_result"
    }
   ],
   "source": [
    "%%sql \n",
    "select * from alumno"
   ]
  },
  {
   "cell_type": "markdown",
   "metadata": {},
   "source": [
    "## La clase ```SQLAlchemyAutoSchema```."
   ]
  },
  {
   "cell_type": "markdown",
   "metadata": {},
   "source": [
    "https://marshmallow-sqlalchemy.readthedocs.io/en/latest/api_reference.html#marshmallow_sqlalchemy.SQLAlchemyAutoSchema"
   ]
  },
  {
   "cell_type": "code",
   "execution_count": 19,
   "metadata": {},
   "outputs": [],
   "source": [
    "from marshmallow_sqlalchemy import SQLAlchemyAutoSchema"
   ]
  },
  {
   "cell_type": "code",
   "execution_count": 20,
   "metadata": {},
   "outputs": [],
   "source": [
    "class AlumnoSchema2(SQLAlchemyAutoSchema):\n",
    "    class Meta:\n",
    "        model = AlumnosSQL\n",
    "        include_relationships = True\n",
    "        load_instance = True"
   ]
  },
  {
   "cell_type": "code",
   "execution_count": 21,
   "metadata": {},
   "outputs": [],
   "source": [
    "alumno_schema2 = AlumnoSchema2()"
   ]
  },
  {
   "cell_type": "code",
   "execution_count": 22,
   "metadata": {},
   "outputs": [
    {
     "data": {
      "text/plain": [
       "{'nombre': 'Pedro',\n",
       " 'promedio': 7.8,\n",
       " 'primer_apellido': 'Solis',\n",
       " 'semestre': 3,\n",
       " 'al_corriente': False,\n",
       " 'segundo_apellido': None,\n",
       " 'carrera': 'Derecho',\n",
       " 'cuenta': 12345}"
      ]
     },
     "execution_count": 22,
     "metadata": {},
     "output_type": "execute_result"
    }
   ],
   "source": [
    "alumno_schema2.dump(nuevo_alumno)"
   ]
  },
  {
   "cell_type": "markdown",
   "metadata": {},
   "source": [
    "<p style=\"text-align: center\"><a rel=\"license\" href=\"http://creativecommons.org/licenses/by/4.0/\"><img alt=\"Licencia Creative Commons\" style=\"border-width:0\" src=\"https://i.creativecommons.org/l/by/4.0/80x15.png\" /></a><br />Esta obra está bajo una <a rel=\"license\" href=\"http://creativecommons.org/licenses/by/4.0/\">Licencia Creative Commons Atribución 4.0 Internacional</a>.</p>\n",
    "<p style=\"text-align: center\">&copy; José Luis Chiquete Valdivieso. 2022.</p>"
   ]
  }
 ],
 "metadata": {
  "kernelspec": {
   "display_name": "Python 3 (ipykernel)",
   "language": "python",
   "name": "python3"
  },
  "language_info": {
   "codemirror_mode": {
    "name": "ipython",
    "version": 3
   },
   "file_extension": ".py",
   "mimetype": "text/x-python",
   "name": "python",
   "nbconvert_exporter": "python",
   "pygments_lexer": "ipython3",
   "version": "3.9.2"
  }
 },
 "nbformat": 4,
 "nbformat_minor": 2
}
