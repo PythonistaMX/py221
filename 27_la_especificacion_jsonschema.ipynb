{
 "cells": [
  {
   "cell_type": "markdown",
   "metadata": {},
   "source": [
    "[![pythonista](img/pythonista.png)](https://www.pythonista.io)"
   ]
  },
  {
   "cell_type": "markdown",
   "metadata": {},
   "source": [
    "# JSONSchema en Python."
   ]
  },
  {
   "cell_type": "markdown",
   "metadata": {},
   "source": [
    "https://json-schema.org/"
   ]
  },
  {
   "cell_type": "code",
   "execution_count": null,
   "metadata": {},
   "outputs": [],
   "source": [
    "!pip install jsonschema "
   ]
  },
  {
   "cell_type": "code",
   "execution_count": null,
   "metadata": {},
   "outputs": [],
   "source": [
    "import jsonschema"
   ]
  },
  {
   "cell_type": "code",
   "execution_count": null,
   "metadata": {},
   "outputs": [],
   "source": [
    "esquema_alumno = {\n",
    "    \"$schema\": \"http://json-schema.org/draft-07/schema#\",\n",
    "    \"type\": \"object\",\n",
    "    \"properties\": {\n",
    "        \"Nombre\": {\"type\": \"string\",\n",
    "                   \"minLength\":1,\n",
    "                   },\n",
    "        \"Primer Apellido\": {\"type\": \"string\", \n",
    "                   \"minLength\":1,},\n",
    "        \"Segundo Apellido\": {\"type\": \"string\", \n",
    "                   \"minLength\":1,},\n",
    "        \"Carrera\": {\"type\": \"string\"},\n",
    "        \"Semestre\": {\"type\": \"number\",\n",
    "                   \"minimum\": 1,\n",
    "                   \"maximum\": 50,},\n",
    "        \"Promedio\": {\"type\": \"number\",\n",
    "                   \"minimum\": 0,\n",
    "                   \"maximum\": 10,},\n",
    "        \"Al Corriente\": {\"type\": \"boolean\"},\n",
    "    },\n",
    "    \"required\": [\"Nombre\",  \"Primer Apellido\", \"Carrera\", \"Semestre\",\n",
    "                 \"Promedio\", \"Al Corriente\"]\n",
    "}"
   ]
  },
  {
   "cell_type": "code",
   "execution_count": null,
   "metadata": {
    "scrolled": true
   },
   "outputs": [],
   "source": [
    "jsonschema.validate({'Al Corriente': False,\n",
    "                     'Carrera': 'Arquitectura',\n",
    "                     'Nombre': 'Pedro', \n",
    "                     'Primer Apellido': 'Solis', \n",
    "                     'Promedio': 7.8, \n",
    "                     'Semestre': 5,}, \n",
    "                    esquema_alumno)"
   ]
  },
  {
   "cell_type": "code",
   "execution_count": null,
   "metadata": {},
   "outputs": [],
   "source": [
    "jsonschema.validate({'Al Corriente': False,\n",
    "                     'Carrera': 'Arquitectura',\n",
    "                     'Nombre': 'Pedro', \n",
    "                     'Primer Apellido': 'Solis', \n",
    "                     'Promedio': 7.8, \n",
    "                     'Semestre': 5,\n",
    "                     'Género': 'F',},\n",
    "                    esquema_alumno)"
   ]
  },
  {
   "cell_type": "code",
   "execution_count": null,
   "metadata": {},
   "outputs": [],
   "source": [
    "jsonschema.validate({'Al Corriente': False, \n",
    "          'Carrera': 'Arquitectura', \n",
    "          'Nombre': 'Pedro', \n",
    "          'Primer Apellido': 'Solis', \n",
    "          'Promedio': 7.8, \n",
    "          'Semestre': -7,}, \n",
    "                    esquema_alumno)"
   ]
  },
  {
   "cell_type": "markdown",
   "metadata": {},
   "source": [
    "## Importación de módulos y datos."
   ]
  },
  {
   "cell_type": "code",
   "execution_count": 1,
   "metadata": {},
   "outputs": [],
   "source": [
    "from flask import Flask, jsonify, request, abort\n",
    "from json import loads, dumps\n",
    "import jsonschema\n",
    "from data import carreras, ruta, esquema_alumno "
   ]
  },
  {
   "cell_type": "code",
   "execution_count": 2,
   "metadata": {},
   "outputs": [
    {
     "data": {
      "text/plain": [
       "('Sistemas', 'Derecho', 'Actuaría', 'Arquitectura', 'Administración')"
      ]
     },
     "execution_count": 2,
     "metadata": {},
     "output_type": "execute_result"
    }
   ],
   "source": [
    "carreras"
   ]
  },
  {
   "cell_type": "code",
   "execution_count": 3,
   "metadata": {},
   "outputs": [
    {
     "data": {
      "text/plain": [
       "'data/alumnos.txt'"
      ]
     },
     "execution_count": 3,
     "metadata": {},
     "output_type": "execute_result"
    }
   ],
   "source": [
    "ruta"
   ]
  },
  {
   "cell_type": "code",
   "execution_count": 4,
   "metadata": {},
   "outputs": [
    {
     "data": {
      "text/plain": [
       "{'$schema': 'http://json-schema.org/draft-07/schema#',\n",
       " 'type': 'object',\n",
       " 'properties': {'Nombre': {'type': 'string', 'minLength': 1},\n",
       "  'Primer Apellido': {'type': 'string', 'minLength': 1},\n",
       "  'Segundo Apellido': {'type': 'string', 'minLength': 1},\n",
       "  'Carrera': {'type': 'string'},\n",
       "  'Semestre': {'type': 'number', 'minimum': 1, 'maximum': 50},\n",
       "  'Promedio': {'type': 'number', 'minimum': 0, 'maximum': 10},\n",
       "  'Al Corriente': {'type': 'boolean'}},\n",
       " 'required': ['Nombre',\n",
       "  'Primer Apellido',\n",
       "  'Carrera',\n",
       "  'Semestre',\n",
       "  'Promedio',\n",
       "  'Al Corriente']}"
      ]
     },
     "execution_count": 4,
     "metadata": {},
     "output_type": "execute_result"
    }
   ],
   "source": [
    "esquema_alumno"
   ]
  },
  {
   "cell_type": "markdown",
   "metadata": {},
   "source": [
    "## Definición de funciones."
   ]
  },
  {
   "cell_type": "markdown",
   "metadata": {},
   "source": [
    "### Funciones de gestión de la base de datos.\n",
    "\n",
    "En este caso la base de datos no es otra cosa más que un archivo de texto que representa a un objeto de tipo *list* de Python. \n",
    "\n",
    "La base de datos puede ser consultada en [data/alumnos.txt](data/alumnos.txt). "
   ]
  },
  {
   "cell_type": "code",
   "execution_count": null,
   "metadata": {},
   "outputs": [],
   "source": [
    "def accede_base(ruta, cuenta):\n",
    "    alumno = None\n",
    "    with open(ruta, 'tr') as f:\n",
    "        base = eval(f.read())\n",
    "    for item in base:\n",
    "        try:\n",
    "            if item['Cuenta'] == int(cuenta):\n",
    "                alumno = item\n",
    "        except:\n",
    "            break\n",
    "    return base, alumno"
   ]
  },
  {
   "cell_type": "markdown",
   "metadata": {},
   "source": [
    "## Funciones de validación de datos."
   ]
  },
  {
   "cell_type": "markdown",
   "metadata": {},
   "source": [
    "### Función que valida las reglas de los datos.\n",
    "\n",
    "* Validará que los datos tengan una estructura que con la descripción de ```esquema_alumno```.\n",
    "* E texto del campo ```'Carrera'``` debe de estar dentro de las cadenas listadas en ```data.carreras```."
   ]
  },
  {
   "cell_type": "code",
   "execution_count": null,
   "metadata": {},
   "outputs": [],
   "source": [
    "esquema_alumno"
   ]
  },
  {
   "cell_type": "markdown",
   "metadata": {},
   "source": [
    "### Función que valida que el mensaje contiene todos los campos obligatorios."
   ]
  },
  {
   "cell_type": "code",
   "execution_count": null,
   "metadata": {},
   "outputs": [],
   "source": [
    "def recurso_completo(cuenta, peticion):\n",
    "    try:\n",
    "        peticion = loads(peticion)\n",
    "        jsonschema.validate(peticion, esquema_alumno)\n",
    "        if set(esquema_alumno['properties']).issuperset(peticion) \\\n",
    "        and peticion['Carrera'] in carreras:\n",
    "            peticion['Cuenta'] = int(cuenta)\n",
    "        else:\n",
    "            raise(TypeError, \"Not valid\")\n",
    "    except (jsonschema.exceptions.ValidationError, TypeError):\n",
    "        return None\n",
    "    return peticion"
   ]
  },
  {
   "cell_type": "markdown",
   "metadata": {},
   "source": [
    "## Código del servidor.\n",
    "\n",
    "* El servidor correrá en [localhost:5000/api/](localhost:5000/api/). Si se accede a la raíz, se desplegará un listado de todos los alumnos en formato JSON.\n",
    "* El servidor soporta los métodos:\n",
    "    * **GET**: para obtener la información de un alumno por su número de cuenta.\n",
    "    * **POST**: para crear un registro nuevo.\n",
    "    * **PUT**: para sustituir por completo un registro existente.\n",
    "    * **PATCH**: para modificar ciertos datos de un registro existente.\n",
    "    * **DELETE**: para eliminar un registro existente."
   ]
  },
  {
   "cell_type": "code",
   "execution_count": null,
   "metadata": {
    "scrolled": true
   },
   "outputs": [],
   "source": [
    "app = Flask(__name__)\n",
    "\n",
    "\n",
    "@app.route('/api/', methods=['GET'])\n",
    "def index():\n",
    "    with open(ruta, 'tr') as base:    \n",
    "        return jsonify(eval(base.read()))\n",
    "\n",
    "    \n",
    "@app.route('/api/<cuenta>', methods=['GET', 'POST', 'PUT', 'PATCH', 'DELETE'])\n",
    "def api(cuenta):\n",
    "    \n",
    "    if request.method == 'GET':\n",
    "        base, alumno = accede_base(ruta, cuenta)\n",
    "        if alumno:\n",
    "            return jsonify(alumno)\n",
    "        else:\n",
    "            abort(404)\n",
    "            \n",
    "    if request.method == 'DELETE':               \n",
    "        base, alumno = accede_base(ruta, cuenta)\n",
    "        if alumno:\n",
    "            base.remove(alumno)\n",
    "            with open(ruta, 'wt') as f:\n",
    "                f.write(str(base))\n",
    "            return jsonify(alumno)\n",
    "        else:\n",
    "            abort(404)\n",
    "        \n",
    "    if request.method == 'POST':\n",
    "        base, alumno = accede_base(ruta, cuenta)\n",
    "        if alumno:\n",
    "            abort(409)\n",
    "        else:\n",
    "            respuesta = recurso_completo(cuenta, request.data)\n",
    "            if respuesta:\n",
    "                base.append(respuesta)\n",
    "                with open(ruta, 'wt') as f:\n",
    "                    f.write(str(base))\n",
    "                return jsonify(respuesta)\n",
    "            else:\n",
    "                abort(406)\n",
    "            \n",
    "    if request.method == 'PUT':\n",
    "        base, alumno = accede_base(ruta, cuenta)\n",
    "        if alumno:\n",
    "            respuesta = recurso_completo(cuenta, request.data)\n",
    "            if respuesta:\n",
    "                base.remove(alumno)\n",
    "                base.append(respuesta)\n",
    "                with open(ruta, 'wt') as f:\n",
    "                    f.write(str(base))\n",
    "                return jsonify(respuesta)\n",
    "            else:\n",
    "                abort(406)\n",
    "        else:\n",
    "            abort(404)\n",
    "            \n",
    "    if request.method == 'PATCH':\n",
    "        base, alumno = accede_base(ruta, cuenta)\n",
    "        if alumno:\n",
    "            del alumno[\"Cuenta\"]\n",
    "            alumno.update(loads(request.data))\n",
    "            respuesta = recurso_completo(cuenta, dumps(alumno))\n",
    "            if respuesta:\n",
    "                base.remove(alumno)\n",
    "                base.append(respuesta)\n",
    "                with open(ruta, 'wt') as f:\n",
    "                    f.write(str(base))\n",
    "                return jsonify(respuesta)\n",
    "            else:\n",
    "                abort(406)\n",
    "        else:\n",
    "            abort(404)"
   ]
  },
  {
   "cell_type": "code",
   "execution_count": null,
   "metadata": {},
   "outputs": [],
   "source": [
    "app.run('0.0.0.0')"
   ]
  },
  {
   "cell_type": "markdown",
   "metadata": {},
   "source": [
    "### Notas:  \n",
    "* **No reinicie o detenga el kernel de la notebook hasta que los clientes que accedan a esta aplicación hayan terminado sus sesiones.**\n",
    "* Debido a que el código de la celda de arriba levanta el servidor de Flask, ésta se ejecutará indefinidamente y desplegará los mensajes de respuesta a las peticiones de los clientes que se conecten. \n",
    "* La notebook [14_cliente_api_rest.ipynb](12_cliente_api_rest.ipynb) contiene al cliente para este servidor.\n"
   ]
  },
  {
   "cell_type": "markdown",
   "metadata": {},
   "source": [
    "<p style=\"text-align: center\"><a rel=\"license\" href=\"http://creativecommons.org/licenses/by/4.0/\"><img alt=\"Licencia Creative Commons\" style=\"border-width:0\" src=\"https://i.creativecommons.org/l/by/4.0/80x15.png\" /></a><br />Esta obra está bajo una <a rel=\"license\" href=\"http://creativecommons.org/licenses/by/4.0/\">Licencia Creative Commons Atribución 4.0 Internacional</a>.</p>\n",
    "<p style=\"text-align: center\">&copy; José Luis Chiquete Valdivieso. 2021.</p>"
   ]
  }
 ],
 "metadata": {
  "kernelspec": {
   "display_name": "Python 3 (ipykernel)",
   "language": "python",
   "name": "python3"
  },
  "language_info": {
   "codemirror_mode": {
    "name": "ipython",
    "version": 3
   },
   "file_extension": ".py",
   "mimetype": "text/x-python",
   "name": "python",
   "nbconvert_exporter": "python",
   "pygments_lexer": "ipython3",
   "version": "3.9.2"
  }
 },
 "nbformat": 4,
 "nbformat_minor": 2
}
