{
 "cells": [
  {
   "cell_type": "markdown",
   "metadata": {},
   "source": [
    "[![mg/pythonista.png](img/pythonista.png)](https://www.pythonista.io)"
   ]
  },
  {
   "cell_type": "markdown",
   "metadata": {},
   "source": [
    "# Validación de formularios."
   ]
  },
  {
   "cell_type": "markdown",
   "metadata": {},
   "source": [
    "## Validación de campos."
   ]
  },
  {
   "cell_type": "markdown",
   "metadata": {},
   "source": [
    "A lo largo del tiempo, los desarrolladores de aplicaciones basadas en *Flask* han identificado ciertos patrones que pueden ser útiles. Uno de ellos corresponde a un macro en *Jinja* que despliega los mensajes de error de validación de cada campo. Puede saber más al respecto en la siguiente liga:\n",
    "\n",
    "https://flask.palletsprojects.com/en/2.0.x/patterns/wtforms/"
   ]
  },
  {
   "cell_type": "markdown",
   "metadata": {},
   "source": [
    "## El patrón  ```_form_helpers.html```."
   ]
  },
  {
   "cell_type": "markdown",
   "metadata": {},
   "source": [
    "El código de este patrón es el siguiente y se ha guardado en el archivo [```templates/_formhelpers.html```](templates/_formhelpers.html).\n",
    "\n",
    "``` html\n",
    "{% macro render_field(field) %}\n",
    "  <dt>{{ field.label }}\n",
    "  <dd>{{ field(**kwargs)|safe }}\n",
    "  {% if field.errors %}\n",
    "    <ul class=errors>\n",
    "    {% for error in field.errors %}\n",
    "      <li>{{ error }}</li>\n",
    "    {% endfor %}\n",
    "    </ul>\n",
    "  {% endif %}\n",
    "  </dd>\n",
    "{% endmacro %}\n",
    "```\n",
    "El macro ```render_field()``` desplegará los errores de validación de cada campo al presionar el botón de envío."
   ]
  },
  {
   "cell_type": "markdown",
   "metadata": {},
   "source": [
    "**Ejemplo:**\n",
    "\n",
    "Se creará el archivo [```templates/datos_alumno.html```](templates/datos_alumno.html) que incluye el siguiente código, que es similar a la plantilla ```templates/pantilla_formularios.html```, pero importando y aplicando el macro ```render_field()```.\n",
    "\n",
    "``` html\n",
    "<!DOCTYPE html>\n",
    "<html>\n",
    "  <head>\n",
    "      <title>Datos del alumno</title>\n",
    "  </head>\n",
    "  <body>\n",
    "    <h1>Datos personales del alumno.</h1>\n",
    "    {% from \"_formhelpers.html\" import render_field %}\n",
    "    <form method=\"POST\">\n",
    "      {{ form.hidden_tag() }}\n",
    "      {{ render_field(form.nombre) }}\n",
    "      {{ render_field(form.primer_apellido) }}\n",
    "      {{ render_field(form.segundo_apellido) }}\n",
    "      {{ render_field(form.carrera)}}\n",
    "      {{ render_field(form.semestre)}}\n",
    "      {{ render_field(form.promedio)}}\n",
    "      {{ render_field(form.al_corriente)}}\n",
    "      <p>\n",
    "      {{ form.enviar }}\n",
    "    </form>\n",
    "  </body>\n",
    "</html>\n",
    "```\n",
    "**Advertencia:** Una vez ejecutada la siguiente celda, es necesario interrumpir el kernel de Jupyter para poder ejecutar el resto de las celdas de la notebook."
   ]
  },
  {
   "cell_type": "code",
   "execution_count": null,
   "metadata": {
    "scrolled": true
   },
   "outputs": [
    {
     "name": "stdout",
     "output_type": "stream",
     "text": [
      " * Serving Flask app '__main__' (lazy loading)\n",
      " * Environment: production\n",
      "\u001b[31m   WARNING: This is a development server. Do not use it in a production deployment.\u001b[0m\n",
      "\u001b[2m   Use a production WSGI server instead.\u001b[0m\n",
      " * Debug mode: off\n"
     ]
    },
    {
     "name": "stderr",
     "output_type": "stream",
     "text": [
      " * Running on all addresses.\n",
      "   WARNING: This is a development server. Do not use it in a production deployment.\n",
      " * Running on http://10.0.2.15:5000/ (Press CTRL+C to quit)\n",
      "10.0.2.2 - - [10/Feb/2022 21:21:03] \"GET / HTTP/1.1\" 200 -\n"
     ]
    },
    {
     "name": "stdout",
     "output_type": "stream",
     "text": [
      "Datos incorrectos.\n"
     ]
    },
    {
     "name": "stderr",
     "output_type": "stream",
     "text": [
      "10.0.2.2 - - [10/Feb/2022 21:21:31] \"POST / HTTP/1.1\" 200 -\n"
     ]
    },
    {
     "name": "stdout",
     "output_type": "stream",
     "text": [
      "Datos incorrectos.\n"
     ]
    },
    {
     "name": "stderr",
     "output_type": "stream",
     "text": [
      "10.0.2.2 - - [10/Feb/2022 21:23:32] \"POST / HTTP/1.1\" 200 -\n"
     ]
    },
    {
     "name": "stdout",
     "output_type": "stream",
     "text": [
      "Datos incorrectos.\n"
     ]
    },
    {
     "name": "stderr",
     "output_type": "stream",
     "text": [
      "10.0.2.2 - - [10/Feb/2022 21:24:57] \"POST / HTTP/1.1\" 200 -\n"
     ]
    },
    {
     "name": "stdout",
     "output_type": "stream",
     "text": [
      "Datos incorrectos.\n"
     ]
    },
    {
     "name": "stderr",
     "output_type": "stream",
     "text": [
      "10.0.2.2 - - [10/Feb/2022 21:24:59] \"POST / HTTP/1.1\" 200 -\n"
     ]
    },
    {
     "name": "stdout",
     "output_type": "stream",
     "text": [
      "Datos incorrectos.\n"
     ]
    },
    {
     "name": "stderr",
     "output_type": "stream",
     "text": [
      "10.0.2.2 - - [10/Feb/2022 21:25:01] \"POST / HTTP/1.1\" 200 -\n"
     ]
    },
    {
     "name": "stdout",
     "output_type": "stream",
     "text": [
      "Datos incorrectos.\n"
     ]
    },
    {
     "name": "stderr",
     "output_type": "stream",
     "text": [
      "10.0.2.2 - - [10/Feb/2022 21:25:07] \"POST / HTTP/1.1\" 200 -\n"
     ]
    },
    {
     "name": "stdout",
     "output_type": "stream",
     "text": [
      "Jaime\n",
      "Pérez\n",
      "\n",
      "Sistemas\n",
      "1\n",
      "10\n",
      "False\n"
     ]
    },
    {
     "name": "stderr",
     "output_type": "stream",
     "text": [
      "10.0.2.2 - - [10/Feb/2022 21:25:08] \"POST / HTTP/1.1\" 200 -\n"
     ]
    },
    {
     "name": "stdout",
     "output_type": "stream",
     "text": [
      "Jaime\n",
      "Pérez\n",
      "\n",
      "Sistemas\n",
      "1\n",
      "10\n",
      "False\n"
     ]
    }
   ],
   "source": [
    "from flask import Flask, render_template, abort\n",
    "from flask_wtf import FlaskForm\n",
    "from wtforms.validators import DataRequired, ValidationError\n",
    "from wtforms.fields import SelectField, BooleanField, SubmitField, StringField\n",
    "\n",
    "carreras = (\"Sistemas\", \n",
    "            \"Derecho\", \n",
    "            \"Actuaría\", \n",
    "            \"Arquitectura\", \n",
    "            \"Administración\")\n",
    "\n",
    "campos = ('nombre',\n",
    "          'primer_apellido', \n",
    "          'segundo_apellido', \n",
    "          'carrera', \n",
    "          'semestre', \n",
    "          'promedio', \n",
    "          'al_corriente')\n",
    "\n",
    "def valida_promedio(form, field):\n",
    "    try:\n",
    "        numero = float(field.data)\n",
    "    except:\n",
    "        raise ValidationError('Debe de ingresar un número')\n",
    "    if numero < 0 or numero > 10:\n",
    "        raise ValidationError('Debe de ingresar un número entre 0 y 10')\n",
    "        \n",
    "class DatosEstudiante(FlaskForm):            \n",
    "    nombre = StringField('Nombre', [DataRequired()], default = '')\n",
    "    primer_apellido = StringField('Primer apellido', [DataRequired()], default = '')\n",
    "    segundo_apellido = StringField('Segundo apellido', default = '')\n",
    "    carrera = SelectField('Carrera', [DataRequired()], choices = carreras)\n",
    "    semestre = SelectField('Semestre', [DataRequired()], choices = [(str(x), str(x)) for x in range(1, 50)])\n",
    "    promedio = StringField('Promedio', [DataRequired(), valida_promedio], default = '0')\n",
    "    al_corriente = BooleanField('Al corriente de pagos')\n",
    "    enviar = SubmitField('Enviar')\n",
    "    \n",
    "app = Flask(__name__)\n",
    "app.config['SECRET_KEY'] =\"Pyth0n15t4\"\n",
    "\n",
    "@app.route('/', methods=['GET', 'POST'])\n",
    "def index():\n",
    "    forma = DatosEstudiante()\n",
    "    if forma.validate_on_submit():\n",
    "        for campo in campos:\n",
    "            print(forma[campo].data) \n",
    "    else:\n",
    "        print('Datos incorrectos.')\n",
    "    return render_template('datos_alumno.html', form=forma)\n",
    "\n",
    "#Si no se define el parámetro host, flask sólo será visible desde localhost\n",
    "# app.run(host='localhost')\n",
    "app.run('0.0.0.0')"
   ]
  },
  {
   "cell_type": "markdown",
   "metadata": {},
   "source": [
    "http://localhost:5000"
   ]
  },
  {
   "cell_type": "markdown",
   "metadata": {},
   "source": [
    "<p style=\"text-align: center\"><a rel=\"license\" href=\"http://creativecommons.org/licenses/by/4.0/\"><img alt=\"Licencia Creative Commons\" style=\"border-width:0\" src=\"https://i.creativecommons.org/l/by/4.0/80x15.png\" /></a><br />Esta obra está bajo una <a rel=\"license\" href=\"http://creativecommons.org/licenses/by/4.0/\">Licencia Creative Commons Atribución 4.0 Internacional</a>.</p>\n",
    "<p style=\"text-align: center\">&copy; José Luis Chiquete Valdivieso. 2022.</p>"
   ]
  }
 ],
 "metadata": {
  "kernelspec": {
   "display_name": "Python 3 (ipykernel)",
   "language": "python",
   "name": "python3"
  },
  "language_info": {
   "codemirror_mode": {
    "name": "ipython",
    "version": 3
   },
   "file_extension": ".py",
   "mimetype": "text/x-python",
   "name": "python",
   "nbconvert_exporter": "python",
   "pygments_lexer": "ipython3",
   "version": "3.9.2"
  }
 },
 "nbformat": 4,
 "nbformat_minor": 2
}
