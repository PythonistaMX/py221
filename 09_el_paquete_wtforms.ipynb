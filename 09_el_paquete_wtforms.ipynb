{
 "cells": [
  {
   "cell_type": "markdown",
   "metadata": {},
   "source": [
    "[![mg/pythonista.png](img/pythonista.png)](https://www.pythonista.io)"
   ]
  },
  {
   "cell_type": "markdown",
   "metadata": {},
   "source": [
    "# Gestión de formularios."
   ]
  },
  {
   "cell_type": "markdown",
   "metadata": {},
   "source": [
    "## El proyecto  *WTForms*."
   ]
  },
  {
   "cell_type": "markdown",
   "metadata": {},
   "source": [
    "*WTForms* es un proyecto dedicado a faciltar la creación, validación y envío de formularios *HTML*. El paquete ```wtforms```, incluido en la instalación básica de *Flask* contiene lo necesario realizar dicho propósito.\n",
    "\n",
    "Para mayor información sobre *WTForms* se puede consultar el siguiente vínculo:\n",
    "\n",
    "https://wtforms.readthedocs.io/."
   ]
  },
  {
   "cell_type": "markdown",
   "metadata": {},
   "source": [
    "## Componentes de un formulario."
   ]
  },
  {
   "cell_type": "markdown",
   "metadata": {},
   "source": [
    "* **Formularios** Son objetos que se insertan dentro de un elemento ```<form>``` en una platilla de *HTML*. Los formularios son instancias de la clase ```wtf.Form```, a los que se les asignan campos como atributos.\n",
    "* **Campos**. Son objetos capaces de crear un elemento ```<input>``` de *HTML* por medio de un *widget* y conservar el dato obtenido por dicho elemento.\n",
    "* ***Widgets***. Son funciones encargadas de generar el elemento *HTML* de cada campo.\n",
    "* **Validadores**. Son funciones que permiten validar el contenido de un campo."
   ]
  },
  {
   "cell_type": "markdown",
   "metadata": {},
   "source": [
    "### Campos.\n",
    "\n",
    "Los componentes principales de un formulario son los campos, los cuales son instancias de alguna subclase de la clase ```wtforms.Field```.\n",
    "\n",
    "Para saber más acerca de los diversos tipos de campos disponibles se puede consultar el siguiente vínculo.\n",
    "\n",
    "https://wtforms.readthedocs.io/en/2.3.x/fields/"
   ]
  },
  {
   "cell_type": "markdown",
   "metadata": {},
   "source": [
    "Un campo se define instanciando la clase del tipo al que corresponde de la siguente forma:\n",
    "```\n",
    "<campo> = <tipo>(<descripción>, [<validador 1>, <validador2>, ... <validador n>,], default=<predeterminado>)\n",
    "```\n",
    "Los campos no pueden ser gestionados a menos que se encuentren dentro de un formulario."
   ]
  },
  {
   "cell_type": "markdown",
   "metadata": {},
   "source": [
    "**Ejemplo:**"
   ]
  },
  {
   "cell_type": "markdown",
   "metadata": {},
   "source": [
    "* Se creará el objeto ```nombre``` a partir de la clase ```wtforms.StringField```."
   ]
  },
  {
   "cell_type": "code",
   "execution_count": null,
   "metadata": {},
   "outputs": [],
   "source": [
    "from wtforms import StringField"
   ]
  },
  {
   "cell_type": "code",
   "execution_count": null,
   "metadata": {},
   "outputs": [],
   "source": [
    "nombre = StringField('nombre', default='Juan')"
   ]
  },
  {
   "cell_type": "code",
   "execution_count": null,
   "metadata": {},
   "outputs": [],
   "source": [
    "nombre"
   ]
  },
  {
   "cell_type": "markdown",
   "metadata": {},
   "source": [
    "El objeto ```nombre``` es de tipo ```UnboundField```, lo cual significa que es un campo que no está ligado a un formulario."
   ]
  },
  {
   "cell_type": "markdown",
   "metadata": {},
   "source": [
    "## Validadores."
   ]
  },
  {
   "cell_type": "markdown",
   "metadata": {},
   "source": [
    "\n",
    "Los validadores son un conjunto de clases que corroboran ciertas reglas definidas, dependiendo del tipo de información que se requiera.\n",
    "\n",
    "El módulo ```wtforms.validators``` contiene a las clases de validadores.\n",
    "\n",
    "Para saber más acerca de los diversos tipos de validadores disponibles se puede consultar el siguiente vínculo.\n",
    "\n",
    "https://wtforms.readthedocs.io/en/2.3.x/validators/"
   ]
  },
  {
   "cell_type": "markdown",
   "metadata": {},
   "source": [
    "**Ejemplo:**"
   ]
  },
  {
   "cell_type": "markdown",
   "metadata": {},
   "source": [
    "* Se creará el objeto ```primer_apellido``` a partir de la clase ```wtforms.StringField``` y se utilizará el validador ```wtforms.validators.Length``` para indicar que el texto ingresado debe de tener al menos un caracter."
   ]
  },
  {
   "cell_type": "code",
   "execution_count": null,
   "metadata": {},
   "outputs": [],
   "source": [
    "from wtforms.validators import Length"
   ]
  },
  {
   "cell_type": "markdown",
   "metadata": {},
   "source": [
    "El validador *Lenght* acepta entre otros, al parámetro *min*, el cual designa el tamaño mínimo del dato ingresado como cadena de caracteres. "
   ]
  },
  {
   "cell_type": "code",
   "execution_count": null,
   "metadata": {},
   "outputs": [],
   "source": [
    "nombre = StringField('nombre', [Length(min=1)], default='Juan')"
   ]
  },
  {
   "cell_type": "code",
   "execution_count": null,
   "metadata": {
    "scrolled": true
   },
   "outputs": [],
   "source": [
    "nombre"
   ]
  },
  {
   "cell_type": "markdown",
   "metadata": {},
   "source": [
    "### Creación de validadores propios.\n",
    "\n",
    "Cuando un dato no cumple con las condiciones de un validador, dicho validador levanta una excepción de tipo *ValidatorError*, la cual es \"cachada\" por el objeto *Field* y el mensaje de error es guardado en el atributo *errors*.\n",
    "\n",
    "Es posible crear validadores propios definiendo funciones que levanten un error de tipo *ValidatorError*."
   ]
  },
  {
   "cell_type": "markdown",
   "metadata": {},
   "source": []
  },
  {
   "cell_type": "markdown",
   "metadata": {},
   "source": [
    "## *Widgets*."
   ]
  },
  {
   "cell_type": "markdown",
   "metadata": {},
   "source": [
    "https://wtforms.readthedocs.io/en/2.3.x/widgets/"
   ]
  },
  {
   "cell_type": "markdown",
   "metadata": {},
   "source": [
    "## Formularios."
   ]
  },
  {
   "cell_type": "markdown",
   "metadata": {},
   "source": [
    "\n",
    "La clase ```wtforms.Form``` permite la creación de formularios cuyos atributos son instancias de las subclases de ```wtforms.Fields```. Tambien cuenta con parámetros de configuración y métodos de proceso y validación de datos.\n",
    "\n",
    "Cuando un campo  es defindo en un formulario, este adquiere el atributo ```data```, en el que se almacena la información que captura.\n",
    "\n",
    "https://wtforms.readthedocs.io/en/2.3.x/forms/"
   ]
  },
  {
   "cell_type": "markdown",
   "metadata": {},
   "source": [
    "## Ejemplo del uso de *wtforms*.\n",
    "\n",
    "* Se creará la clase *NombreEstudiante* que es subclase de *Form*, la cual incluirá los campos son de tipo *StringField*, corespondientes a *nombre*, *primer_apellido* y *segundo_apellido*.\n",
    "* El valor por defecto de todos los campos es una cadena de caracteres vacía.\n",
    "* Los campos *nombre* y *primer_apellido* incluyen al validador *Length*, el cual verificará que los campos no sean cadenas de caracteres vacías.\n",
    "* Se creará el objeto *forma* a partir de la clase *NombreEstudiante*."
   ]
  },
  {
   "cell_type": "code",
   "execution_count": null,
   "metadata": {},
   "outputs": [],
   "source": [
    "from wtforms import Form, StringField, validators\n",
    "class NombreEstudiante(Form):\n",
    "    nombre = StringField('Nombre', [validators.Length(min=1)], default='')\n",
    "    primer_apellido = StringField('Primer apellido', [validators.Length(min=1)], default='')\n",
    "    segundo_apellido = StringField('Segundo apellido', default='')"
   ]
  },
  {
   "cell_type": "code",
   "execution_count": null,
   "metadata": {},
   "outputs": [],
   "source": [
    "forma = NombreEstudiante()"
   ]
  },
  {
   "cell_type": "code",
   "execution_count": null,
   "metadata": {},
   "outputs": [],
   "source": [
    "forma['nombre']"
   ]
  },
  {
   "cell_type": "code",
   "execution_count": null,
   "metadata": {},
   "outputs": [],
   "source": [
    "forma.nombre"
   ]
  },
  {
   "cell_type": "markdown",
   "metadata": {},
   "source": [
    "El campo *forma* en este caso corresponde a un objeto *wtforms.fields.core.StringField*, lo que indica que dicho campo está ligado a una forma. En este caso, el campo adquiere el atributo *data*."
   ]
  },
  {
   "cell_type": "code",
   "execution_count": null,
   "metadata": {},
   "outputs": [],
   "source": [
    "forma.nombre.data"
   ]
  },
  {
   "cell_type": "markdown",
   "metadata": {},
   "source": [
    "El método *validate()* del objeto *Form* realizará las validaciones de cada campo y en caso de una falla de validación regresará *False* y añadirá la descripción de cada falla de validación al atributo *errors*."
   ]
  },
  {
   "cell_type": "code",
   "execution_count": null,
   "metadata": {},
   "outputs": [],
   "source": [
    "forma.validate()"
   ]
  },
  {
   "cell_type": "code",
   "execution_count": null,
   "metadata": {},
   "outputs": [],
   "source": [
    "forma.errors"
   ]
  },
  {
   "cell_type": "code",
   "execution_count": null,
   "metadata": {},
   "outputs": [],
   "source": [
    "forma.nombre.data = 'Juan'\n",
    "forma.primer_apellido.data = 'Pérez'"
   ]
  },
  {
   "cell_type": "code",
   "execution_count": null,
   "metadata": {},
   "outputs": [],
   "source": [
    "forma.validate()"
   ]
  },
  {
   "cell_type": "code",
   "execution_count": null,
   "metadata": {},
   "outputs": [],
   "source": [
    "forma.errors"
   ]
  },
  {
   "cell_type": "code",
   "execution_count": null,
   "metadata": {},
   "outputs": [],
   "source": [
    "def valida_promedio(form, field):\n",
    "        try:\n",
    "            numero = float(field.data)\n",
    "        except:\n",
    "            raise ValidationError('Debe de ingresar un número')\n",
    "        if numero < 0 or numero > 10:\n",
    "            raise ValidationError('Debe de ingresar un número entre 0 y 10')        \n",
    "            \n",
    "            \n",
    "    nombre = StringField('Nombre', [DataRequired()], default = '')\n",
    "    primer_apellido = StringField('Primer apellido', [DataRequired()], default = '')\n",
    "    segundo_apellido = StringField('Segundo apellido', default = '')\n",
    "    carrera = SelectField('Carrera', [DataRequired()], choices = carreras)\n",
    "    semestre = SelectField('Semestre', [DataRequired()], choices = [(str(x), str(x)) for x in range(1, 50)])\n",
    "    promedio = StringField('Promedio', [DataRequired(), valida_promedio], default = '0')\n",
    "    alcorriente = BooleanField('Al corriente de pagos')\n",
    "    enviar = SubmitField('Enviar')\n",
    "    \n",
    "            \n",
    "app = Flask(__name__)\n",
    "app.config['SECRET_KEY']='Saludines'\n",
    "\n",
    "\n",
    "@app.route('/', methods=['GET', 'POST'])\n",
    "def index():\n",
    "    forma = DatosEstudiante()\n",
    "    if forma.validate_on_submit():\n",
    "        for campo in ['nombre', 'primer_apellido', 'segundo_apellido', 'carrera', 'semestre', 'promedio', 'alcorriente']:\n",
    "            print(forma[campo].data) \n",
    "    return render_template('alumno_carrera.html', form=forma)\n",
    "\n",
    "#Si no se define el parámetro host, flask sólo será visible desde localhost\n",
    "# app.run(host='localhost')\n",
    "app.run('0.0.0.0')"
   ]
  },
  {
   "cell_type": "markdown",
   "metadata": {},
   "source": [
    "<p style=\"text-align: center\"><a rel=\"license\" href=\"http://creativecommons.org/licenses/by/4.0/\"><img alt=\"Licencia Creative Commons\" style=\"border-width:0\" src=\"https://i.creativecommons.org/l/by/4.0/80x15.png\" /></a><br />Esta obra está bajo una <a rel=\"license\" href=\"http://creativecommons.org/licenses/by/4.0/\">Licencia Creative Commons Atribución 4.0 Internacional</a>.</p>\n",
    "<p style=\"text-align: center\">&copy; José Luis Chiquete Valdivieso. 2021.</p>"
   ]
  }
 ],
 "metadata": {
  "kernelspec": {
   "display_name": "Python 3 (ipykernel)",
   "language": "python",
   "name": "python3"
  },
  "language_info": {
   "codemirror_mode": {
    "name": "ipython",
    "version": 3
   },
   "file_extension": ".py",
   "mimetype": "text/x-python",
   "name": "python",
   "nbconvert_exporter": "python",
   "pygments_lexer": "ipython3",
   "version": "3.9.7"
  }
 },
 "nbformat": 4,
 "nbformat_minor": 2
}
