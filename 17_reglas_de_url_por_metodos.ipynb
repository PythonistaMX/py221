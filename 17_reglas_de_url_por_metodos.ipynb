{
 "cells": [
  {
   "cell_type": "markdown",
   "metadata": {},
   "source": [
    "[![img/pythonista.png](img/pythonista.png)](https://www.pythonista.io)"
   ]
  },
  {
   "cell_type": "markdown",
   "metadata": {},
   "source": [
    "# Reglas por método."
   ]
  },
  {
   "cell_type": "markdown",
   "metadata": {},
   "source": [
    "Recientemente *Flask* ha incluído métodos que permiten definir relgass de ruta, con un método *HTTP* predefinido."
   ]
  },
  {
   "cell_type": "markdown",
   "metadata": {},
   "source": [
    "* ```app.get(<url>)```\n",
    "* ```app.post(<url>)```\n",
    "* ```app.patch(<url>)```\n",
    "* ```app.put(<url>)```\n",
    "* ```app.post(<url>)```\n",
    "* ```app.delete(<url>)```\n",
    "* ```app.optionss(<url>)```\n",
    "\n",
    "De este modo se define una función de vista para cada método en la misma ruta."
   ]
  },
  {
   "cell_type": "code",
   "execution_count": null,
   "metadata": {},
   "outputs": [],
   "source": [
    "from flask import Flask, jsonify, request, abort\n",
    "from json import loads\n",
    "from data import ruta, orden\n",
    "from src import carga_base, busca_base, recurso_completo, escribe_base, valida"
   ]
  },
  {
   "cell_type": "code",
   "execution_count": null,
   "metadata": {},
   "outputs": [],
   "source": [
    "app = Flask(__name__)"
   ]
  },
  {
   "cell_type": "code",
   "execution_count": null,
   "metadata": {},
   "outputs": [],
   "source": [
    "@app.route('/api/', methods=['GET'])\n",
    "def index():\n",
    "    with open(ruta, 'tr') as base:    \n",
    "        return jsonify(eval(base.read()))"
   ]
  },
  {
   "cell_type": "code",
   "execution_count": null,
   "metadata": {},
   "outputs": [],
   "source": [
    "@app.get('/api/<cuenta>')\n",
    "def consulta_cuenta(cuenta):\n",
    "    base = carga_base(ruta)\n",
    "    alumno = busca_base(cuenta, base)\n",
    "    if alumno:\n",
    "        return jsonify(alumno)\n",
    "    else:\n",
    "        abort(404)"
   ]
  },
  {
   "cell_type": "code",
   "execution_count": null,
   "metadata": {},
   "outputs": [],
   "source": [
    "@app.post('/api/<cuenta>')\n",
    "def crea_cuenta(cuenta): \n",
    "    base = carga_base(ruta)\n",
    "    alumno = busca_base(cuenta, base)\n",
    "    if alumno:\n",
    "        abort(409)\n",
    "    else:\n",
    "        return recurso_completo(base, ruta, cuenta, request.data)"
   ]
  },
  {
   "cell_type": "code",
   "execution_count": null,
   "metadata": {},
   "outputs": [],
   "source": [
    "@app.put('/api/<cuenta>')\n",
    "def sustituye_cuenta(cuenta):\n",
    "    base = carga_base(ruta)\n",
    "    alumno = busca_base(cuenta, base)\n",
    "    if not alumno:\n",
    "        abort(404)\n",
    "    else:\n",
    "        base.remove(alumno)\n",
    "        return recurso_completo(base, ruta, cuenta, request.data)"
   ]
  },
  {
   "cell_type": "code",
   "execution_count": null,
   "metadata": {},
   "outputs": [],
   "source": [
    "@app.delete('/api/<cuenta>')\n",
    "def borra_cuenta(cuenta):                   \n",
    "    base = carga_base(ruta)\n",
    "    alumno = busca_base(cuenta, base)\n",
    "    if alumno:\n",
    "        base.remove(alumno)\n",
    "        escribe_base(base, ruta)\n",
    "        return jsonify(alumno)\n",
    "    else:\n",
    "        abort(404)"
   ]
  },
  {
   "cell_type": "code",
   "execution_count": null,
   "metadata": {
    "scrolled": true
   },
   "outputs": [],
   "source": [
    "@app.patch('/api/<cuenta>')\n",
    "def modifica_cuenta(cuenta):             \n",
    "    base = carga_base(ruta)\n",
    "    alumno = busca_base(cuenta, base)\n",
    "    if not alumno:\n",
    "        abort(404)\n",
    "    else:\n",
    "        indice = base.index(alumno)\n",
    "        try:\n",
    "            peticion = loads(request.data)\n",
    "            if (set(peticion)).issubset(set(orden)):\n",
    "                for campo in peticion:\n",
    "                    dato = peticion[campo]\n",
    "                    if valida(dato, campo):\n",
    "                        alumno[campo] = dato\n",
    "                    else:\n",
    "                        abort(400)\n",
    "            else:\n",
    "                abort(400)\n",
    "        except:\n",
    "            abort(400)\n",
    "        base[indice] = alumno\n",
    "        escribe_base(base, ruta)\n",
    "        return jsonify(alumno)"
   ]
  },
  {
   "cell_type": "code",
   "execution_count": null,
   "metadata": {},
   "outputs": [],
   "source": [
    "app.run('0.0.0.0')"
   ]
  },
  {
   "cell_type": "markdown",
   "metadata": {},
   "source": [
    "### Notas:  \n",
    "* **No reinicie o detenga el kernel de la notebook hasta que los clientes que accedan a esta aplicación hayan terminado sus sesiones.**\n",
    "* Debido a que el código de la celda de arriba levanta el servidor de Flask, ésta se ejecutará indefinidamente y desplegará los mensajes de respuesta a las peticiones de los clientes que se conecten. "
   ]
  },
  {
   "cell_type": "markdown",
   "metadata": {},
   "source": [
    "<p style=\"text-align: center\"><a rel=\"license\" href=\"http://creativecommons.org/licenses/by/4.0/\"><img alt=\"Licencia Creative Commons\" style=\"border-width:0\" src=\"https://i.creativecommons.org/l/by/4.0/80x15.png\" /></a><br />Esta obra está bajo una <a rel=\"license\" href=\"http://creativecommons.org/licenses/by/4.0/\">Licencia Creative Commons Atribución 4.0 Internacional</a>.</p>\n",
    "<p style=\"text-align: center\">&copy; José Luis Chiquete Valdivieso. 2021.</p>"
   ]
  }
 ],
 "metadata": {
  "kernelspec": {
   "display_name": "Python 3 (ipykernel)",
   "language": "python",
   "name": "python3"
  },
  "language_info": {
   "codemirror_mode": {
    "name": "ipython",
    "version": 3
   },
   "file_extension": ".py",
   "mimetype": "text/x-python",
   "name": "python",
   "nbconvert_exporter": "python",
   "pygments_lexer": "ipython3",
   "version": "3.9.2"
  }
 },
 "nbformat": 4,
 "nbformat_minor": 2
}
