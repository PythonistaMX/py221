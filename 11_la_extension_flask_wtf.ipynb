{
 "cells": [
  {
   "cell_type": "markdown",
   "metadata": {},
   "source": [
    "[![mg/pythonista.png](img/pythonista.png)](https://www.pythonista.io)"
   ]
  },
  {
   "cell_type": "markdown",
   "metadata": {},
   "source": [
    "# La extensión *Flask-WTF*."
   ]
  },
  {
   "cell_type": "markdown",
   "metadata": {},
   "source": [
    "La extensión *Flask-WTF* permite deplegar y validar de formularios en una aplicación de *Flask* a partir de la biblioteca *WTForms*.\n",
    "\n",
    "https://flask-wtf.readthedocs.io/en/1.0.x/\n",
    "\n",
    "El paquete ```flask_wtf``` contiene los componentes necesarios para la gestión de formularios en *Flas*."
   ]
  },
  {
   "cell_type": "code",
   "execution_count": null,
   "metadata": {},
   "outputs": [],
   "source": [
    "!pip install flask-wtf"
   ]
  },
  {
   "cell_type": "markdown",
   "metadata": {},
   "source": [
    "## La clase ```flask_wtf.FlaskForm```."
   ]
  },
  {
   "cell_type": "markdown",
   "metadata": {},
   "source": [
    "La clase ```flask_wtf.FlaskForm``` es la implementación en *Flask* de la clase ```wtforms_Form```, permitiendo incluir los objetos instanciados de dicha clase en una plantilla *HTML* de *Jinja*."
   ]
  },
  {
   "cell_type": "code",
   "execution_count": null,
   "metadata": {},
   "outputs": [],
   "source": [
    "from flask_wtf import FlaskForm"
   ]
  },
  {
   "cell_type": "markdown",
   "metadata": {},
   "source": [
    "### El método ```flask_wtf.FlaskForm.hidden_tag()```.\n",
    "\n",
    "Este método se utiliza para agregar una etiqueta oculta dentro de una forma. Por lo general se utiliza para evitar ataques de tipo *CSRF*."
   ]
  },
  {
   "cell_type": "markdown",
   "metadata": {},
   "source": [
    "### El método ```flask_wtf.FlaskForm.is_submitted()```.\n",
    "\n",
    "Este método valida si la forma fue enviada."
   ]
  },
  {
   "cell_type": "markdown",
   "metadata": {},
   "source": [
    "### El método ```flask_wtf.FlaskForm.validate_on_submit()```.\n",
    "\n",
    "Este método valida los datos de cada campo una vez que son enviados y regresa ```True``` en caso de que dicha validación haya sido exitosa."
   ]
  },
  {
   "cell_type": "markdown",
   "metadata": {},
   "source": [
    "## Protección contra ataques *CSRF*.\n",
    "\n",
    "El paquete *wtforms* utiliza por defecto un mecanismo que impide que reciba peticiones que no pertenezcan al sitio. A esta técnica de penetración se le conoce como \"*CSRF*\", por las siglas en inglés de *Cross Site Request Forgery* o Falsificación de Peticiones Cruzadas entre Sitios.\n",
    "\n",
    "Esta protección se realiza generando *tokens* cifrados que permiten verifican y validan que la autenticidad de los formularios que se reciben y se envían por parte de la aplicación. "
   ]
  },
  {
   "cell_type": "markdown",
   "metadata": {},
   "source": [
    "### El campo ```app.config['SECRET_KEY']```.\n",
    "\n",
    "Los *tokens* cifrado son generados a partir de una cadena inicial, la cual es definida en el campo ```app.config['SECRET_KEY']```. \n",
    "\n",
    "La cadena de generación de *tokens* es un elemento crítico, ya que un atacante con acceso a dicha información podría vulnerar la autenticidad de las transascciones de la aplicación. por lo anterior, se recomienda que dicha cadena no sea visible en un entorno productivo y se extraiga de algún sistema de gestión de secretos o de bóveda (*vault*).\n",
    "\n",
    "```\n",
    "app.config['SECRET_KEY'] = <objeto tipo str>\n",
    "```"
   ]
  },
  {
   "cell_type": "markdown",
   "metadata": {},
   "source": [
    "## Aplicación ilustrativa."
   ]
  },
  {
   "cell_type": "markdown",
   "metadata": {},
   "source": [
    "### La plantilla ```plantilla_formularios.html```.\n",
    "\n",
    "* La plantilla localizada en [```templates/plantilla_formularios.html```](templates/plantilla_formularios.html) tiene el siguiente contenido:\n",
    "\n",
    "``` html\n",
    "<!DOCTYPE html>\n",
    "<html>\n",
    "  <head>\n",
    "      <title>Datos del alumno</title>\n",
    "  </head>\n",
    "  <body>\n",
    "    <h1>Datos personales del alumno.</h1>\n",
    "    <form method=\"POST\">\n",
    "      {{ form.hidden_tag() }}\n",
    "      <p>{{ form.nombre.label }}</p>\n",
    "      {{ form.nombre }}\n",
    "      <p>{{ form.primer_apellido.label }}</p>\n",
    "      {{ form.primer_apellido }}\n",
    "      <p>{{ form.segundo_apellido.label }}</p>\n",
    "      {{ form.segundo_apellido }}\n",
    "      <p>{{ form.carrera.label }}</p>\n",
    "      {{ form.carrera }}\n",
    "      <p>{{ form.semestre.label }}</p>\n",
    "      {{ form.semestre }}\n",
    "      <p>{{ form.promedio.label }}</p>\n",
    "      {{ form.promedio }}\n",
    "      <p>{{ form.al_corriente.label }}</p>\n",
    "      {{ form.al_corriente }}\n",
    "      <p>\n",
    "      {{ form.enviar }}\n",
    "    </form>\n",
    "  </body>\n",
    "</html>\n",
    "```"
   ]
  },
  {
   "cell_type": "markdown",
   "metadata": {},
   "source": [
    "### Importación de componentes."
   ]
  },
  {
   "cell_type": "code",
   "execution_count": null,
   "metadata": {},
   "outputs": [],
   "source": [
    "from flask import Flask, render_template, abort\n",
    "from flask_wtf import FlaskForm\n",
    "from wtforms.validators import DataRequired, ValidationError\n",
    "from wtforms.fields import SelectField, BooleanField, SubmitField, StringField"
   ]
  },
  {
   "cell_type": "markdown",
   "metadata": {},
   "source": [
    "### Definición de carreras."
   ]
  },
  {
   "cell_type": "code",
   "execution_count": null,
   "metadata": {},
   "outputs": [],
   "source": [
    "carreras = (\"Sistemas\", \n",
    "            \"Derecho\", \n",
    "            \"Actuaría\", \n",
    "            \"Arquitectura\", \n",
    "            \"Administración\")"
   ]
  },
  {
   "cell_type": "markdown",
   "metadata": {},
   "source": [
    "### Definición de campos."
   ]
  },
  {
   "cell_type": "code",
   "execution_count": null,
   "metadata": {},
   "outputs": [],
   "source": [
    "campos = ('nombre',\n",
    "          'primer_apellido', \n",
    "          'segundo_apellido', \n",
    "          'carrera', \n",
    "          'semestre', \n",
    "          'promedio', \n",
    "          'al_corriente')"
   ]
  },
  {
   "cell_type": "markdown",
   "metadata": {},
   "source": [
    "### La función ```valida_promedio()```."
   ]
  },
  {
   "cell_type": "code",
   "execution_count": null,
   "metadata": {},
   "outputs": [],
   "source": [
    "def valida_promedio(form, field):\n",
    "    try:\n",
    "        numero = float(field.data)\n",
    "    except:\n",
    "        raise ValidationError('Debe de ingresar un número')\n",
    "    if numero < 0 or numero > 10:\n",
    "        raise ValidationError('Debe de ingresar un número entre 0 y 10')        "
   ]
  },
  {
   "cell_type": "markdown",
   "metadata": {},
   "source": [
    "### La clase ```DatosEstudiante```."
   ]
  },
  {
   "cell_type": "code",
   "execution_count": null,
   "metadata": {},
   "outputs": [],
   "source": [
    "class DatosEstudiante(FlaskForm):            \n",
    "    nombre = StringField('Nombre', \n",
    "                         [DataRequired()], \n",
    "                         default = '')\n",
    "    primer_apellido = StringField('Primer apellido', \n",
    "                                  [DataRequired()], \n",
    "                                  default = '')\n",
    "    segundo_apellido = StringField('Segundo apellido', \n",
    "                                   default = '')\n",
    "    carrera = SelectField('Carrera', \n",
    "                          [DataRequired()], \n",
    "                          choices = carreras)\n",
    "    semestre = SelectField('Semestre', \n",
    "                           [DataRequired()], \n",
    "                           choices = [(str(x), str(x)) for x in range(1, 50)])\n",
    "    promedio = StringField('Promedio', \n",
    "                           [DataRequired(), valida_promedio], \n",
    "                           default = '0')\n",
    "    al_corriente = BooleanField('Al corriente de pagos')\n",
    "    enviar = SubmitField('Enviar')"
   ]
  },
  {
   "cell_type": "markdown",
   "metadata": {},
   "source": [
    "### Creación y configuración de la aplicación."
   ]
  },
  {
   "cell_type": "code",
   "execution_count": null,
   "metadata": {},
   "outputs": [],
   "source": [
    "app = Flask(__name__)\n",
    "app.config['SECRET_KEY'] = \"Pyth0n15t4\""
   ]
  },
  {
   "cell_type": "markdown",
   "metadata": {},
   "source": [
    "### Cuerpo de la aplicación."
   ]
  },
  {
   "cell_type": "code",
   "execution_count": null,
   "metadata": {},
   "outputs": [],
   "source": [
    "@app.route('/', methods=['GET', 'POST'])\n",
    "def index():\n",
    "    forma = DatosEstudiante()\n",
    "    if forma.validate_on_submit():\n",
    "        for campo in campos:\n",
    "            print(forma[campo].data) \n",
    "    else:\n",
    "        print('Datos incorrectos.')\n",
    "    return render_template('plantilla_formularios.html', form=forma)"
   ]
  },
  {
   "cell_type": "markdown",
   "metadata": {},
   "source": [
    "**Advertencia:** Una vez ejecutada la siguiente celda, es necesario interrumpir el *kernel* de *Jupyter* para poder ejecutar el resto de las celdas de la *notebook*."
   ]
  },
  {
   "cell_type": "code",
   "execution_count": null,
   "metadata": {
    "scrolled": true
   },
   "outputs": [],
   "source": [
    "#Si no se define el parámetro host, flask sólo será visible desde localhost\n",
    "# app.run(host='localhost')\n",
    "app.run('0.0.0.0')"
   ]
  },
  {
   "cell_type": "markdown",
   "metadata": {},
   "source": [
    "http://localhost:5000/"
   ]
  },
  {
   "cell_type": "markdown",
   "metadata": {},
   "source": [
    "<p style=\"text-align: center\"><a rel=\"license\" href=\"http://creativecommons.org/licenses/by/4.0/\"><img alt=\"Licencia Creative Commons\" style=\"border-width:0\" src=\"https://i.creativecommons.org/l/by/4.0/80x15.png\" /></a><br />Esta obra está bajo una <a rel=\"license\" href=\"http://creativecommons.org/licenses/by/4.0/\">Licencia Creative Commons Atribución 4.0 Internacional</a>.</p>\n",
    "<p style=\"text-align: center\">&copy; José Luis Chiquete Valdivieso. 2022.</p>"
   ]
  }
 ],
 "metadata": {
  "kernelspec": {
   "display_name": "Python 3 (ipykernel)",
   "language": "python",
   "name": "python3"
  },
  "language_info": {
   "codemirror_mode": {
    "name": "ipython",
    "version": 3
   },
   "file_extension": ".py",
   "mimetype": "text/x-python",
   "name": "python",
   "nbconvert_exporter": "python",
   "pygments_lexer": "ipython3",
   "version": "3.9.2"
  }
 },
 "nbformat": 4,
 "nbformat_minor": 2
}
