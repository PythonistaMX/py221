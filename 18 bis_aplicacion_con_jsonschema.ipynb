{
 "cells": [
  {
   "cell_type": "markdown",
   "metadata": {},
   "source": [
    "[![pythonista](img/pythonista.png)](https://www.pythonista.io)"
   ]
  },
  {
   "cell_type": "markdown",
   "metadata": {},
   "source": [
    "# La especificación *JSONSchema*."
   ]
  },
  {
   "cell_type": "code",
   "execution_count": null,
   "metadata": {},
   "outputs": [],
   "source": [
    "from flask import Flask, jsonify, request, abort\n",
    "from json import loads, dumps\n",
    "from jsonschema import validate\n",
    "from jsonschema.exceptions import ValidationError\n",
    "from data import ruta, esquema_alumno "
   ]
  },
  {
   "cell_type": "markdown",
   "metadata": {},
   "source": [
    "## El *script* ```data/alumnos.py```.\n",
    "\n",
    "El *script* ```data/alumnos.py``` define un objeto tipo  ```list``` que contiene los datos de alumnos ficticios."
   ]
  },
  {
   "cell_type": "code",
   "execution_count": null,
   "metadata": {},
   "outputs": [],
   "source": [
    "%pycat data/alumnos.py"
   ]
  },
  {
   "cell_type": "markdown",
   "metadata": {},
   "source": [
    "## La función ```accede_base()```."
   ]
  },
  {
   "cell_type": "code",
   "execution_count": null,
   "metadata": {},
   "outputs": [],
   "source": [
    "def accede_base(ruta, cuenta):\n",
    "    dato = None\n",
    "    with open(ruta, 'tr') as f:\n",
    "        base = eval(f.read())\n",
    "    for item in base:\n",
    "        if item['cuenta'] == cuenta:\n",
    "            dato = item\n",
    "    return base, dato"
   ]
  },
  {
   "cell_type": "markdown",
   "metadata": {},
   "source": [
    "## Funciones de validación de datos."
   ]
  },
  {
   "cell_type": "markdown",
   "metadata": {},
   "source": [
    "### Función que valida las reglas de los datos.\n",
    "\n",
    "* Validará que los datos tengan una estructura que con la descripción de ```esquema_alumno```."
   ]
  },
  {
   "cell_type": "code",
   "execution_count": null,
   "metadata": {},
   "outputs": [],
   "source": [
    "esquema_alumno"
   ]
  },
  {
   "cell_type": "markdown",
   "metadata": {},
   "source": [
    "### Función que valida que el mensaje contiene todos los campos obligatorios."
   ]
  },
  {
   "cell_type": "code",
   "execution_count": null,
   "metadata": {},
   "outputs": [],
   "source": [
    "def recurso_completo(candidato):\n",
    "    try:\n",
    "        validate(candidato, esquema_alumno)\n",
    "        if set(esquema_alumno['properties']).issuperset(set(candidato)):\n",
    "            return True\n",
    "        else:\n",
    "            raise ValidationError('Invalid data')\n",
    "    except ValidationError as e:\n",
    "        abort(400, e)"
   ]
  },
  {
   "cell_type": "markdown",
   "metadata": {},
   "source": [
    "## Código del servidor.\n",
    "\n",
    "* El servidor correrá en [localhost:5000/api/](localhost:5000/api/). Si se accede a la raíz, se desplegará un listado de todos los alumnos en formato JSON.\n",
    "* El servidor soporta los métodos:\n",
    "    * **GET**: para obtener la información de un alumno por su número de cuenta.\n",
    "    * **POST**: para crear un registro nuevo.\n",
    "    * **PUT**: para sustituir por completo un registro existente.\n",
    "    * **PATCH**: para modificar ciertos datos de un registro existente.\n",
    "    * **DELETE**: para eliminar un registro existente."
   ]
  },
  {
   "cell_type": "code",
   "execution_count": null,
   "metadata": {
    "scrolled": true
   },
   "outputs": [],
   "source": [
    "app = Flask(__name__)\n",
    "\n",
    "\n",
    "@app.route('/api/', methods=['GET'])\n",
    "def index():\n",
    "    with open(ruta, 'tr') as base:    \n",
    "        return jsonify(eval(base.read()))\n",
    "\n",
    "    \n",
    "@app.route('/api/<int:cuenta>', methods=['GET', 'POST', 'PUT', 'PATCH', 'DELETE'])\n",
    "def api(cuenta):   \n",
    "    if request.method == 'GET':\n",
    "        base, alumno = accede_base(ruta, cuenta)\n",
    "        if alumno:\n",
    "            return jsonify(alumno)\n",
    "        else:\n",
    "            abort(404)\n",
    "    if request.method == 'DELETE':               \n",
    "        base, alumno = accede_base(ruta, cuenta)\n",
    "        if alumno:\n",
    "            base.remove(alumno)\n",
    "            with open(ruta, 'wt') as f:\n",
    "                f.write(str(base))\n",
    "            return jsonify(alumno)\n",
    "        else:\n",
    "            abort(404)       \n",
    "    if request.method == 'POST':\n",
    "        base, alumno = accede_base(ruta, cuenta)\n",
    "        if alumno:\n",
    "            abort(409)\n",
    "        else:\n",
    "            candidato = loads(request.data)\n",
    "            candidato['cuenta'] = cuenta\n",
    "            if recurso_completo(candidato):\n",
    "                base.append(candidato)\n",
    "                with open(ruta, 'wt') as f:\n",
    "                    f.write(str(base))\n",
    "                return jsonify(candidato)            \n",
    "    if request.method == 'PUT':\n",
    "        base, alumno = accede_base(ruta, cuenta)\n",
    "        if alumno:\n",
    "            candidato = loads(request.data)\n",
    "            candidato['cuenta'] = cuenta\n",
    "            if recurso_completo(candidato):\n",
    "                base.remove(alumno)\n",
    "                base.append(candidato)\n",
    "                with open(ruta, 'wt') as f:\n",
    "                    f.write(str(base))\n",
    "                return jsonify(candidato)\n",
    "        else:\n",
    "            abort(404)\n",
    "    if request.method == 'PATCH':\n",
    "        base, alumno = accede_base(ruta, cuenta)\n",
    "        if alumno:\n",
    "            alumno.update(loads(request.data))\n",
    "            if recurso_completo(alumno):\n",
    "                base.remove(alumno)\n",
    "                base.append(alumno)\n",
    "                with open(ruta, 'wt') as f:\n",
    "                    f.write(str(base))\n",
    "                return jsonify(alumno)\n",
    "        else:\n",
    "            abort(404)"
   ]
  },
  {
   "cell_type": "code",
   "execution_count": null,
   "metadata": {
    "scrolled": true
   },
   "outputs": [],
   "source": [
    "app.run('0.0.0.0')"
   ]
  },
  {
   "cell_type": "markdown",
   "metadata": {},
   "source": [
    "### Notas:  \n",
    "* **No reinicie o detenga el kernel de la notebook hasta que los clientes que accedan a esta aplicación hayan terminado sus sesiones.**\n",
    "* Debido a que el código de la celda de arriba levanta el servidor de Flask, ésta se ejecutará indefinidamente y desplegará los mensajes de respuesta a las peticiones de los clientes que se conecten. \n",
    "* La notebook [14_cliente_api_rest.ipynb](12_cliente_api_rest.ipynb) contiene al cliente para este servidor.\n"
   ]
  },
  {
   "cell_type": "markdown",
   "metadata": {},
   "source": [
    "<p style=\"text-align: center\"><a rel=\"license\" href=\"http://creativecommons.org/licenses/by/4.0/\"><img alt=\"Licencia Creative Commons\" style=\"border-width:0\" src=\"https://i.creativecommons.org/l/by/4.0/80x15.png\" /></a><br />Esta obra está bajo una <a rel=\"license\" href=\"http://creativecommons.org/licenses/by/4.0/\">Licencia Creative Commons Atribución 4.0 Internacional</a>.</p>\n",
    "<p style=\"text-align: center\">&copy; José Luis Chiquete Valdivieso. 2022.</p>"
   ]
  }
 ],
 "metadata": {
  "kernelspec": {
   "display_name": "Python 3 (ipykernel)",
   "language": "python",
   "name": "python3"
  },
  "language_info": {
   "codemirror_mode": {
    "name": "ipython",
    "version": 3
   },
   "file_extension": ".py",
   "mimetype": "text/x-python",
   "name": "python",
   "nbconvert_exporter": "python",
   "pygments_lexer": "ipython3",
   "version": "3.9.2"
  }
 },
 "nbformat": 4,
 "nbformat_minor": 2
}
