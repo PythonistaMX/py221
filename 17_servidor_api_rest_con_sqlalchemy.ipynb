{
 "cells": [
  {
   "cell_type": "markdown",
   "metadata": {},
   "source": [
    "[![imagenes](imagenes/pythonista.png)](https://pythonista.io)"
   ]
  },
  {
   "cell_type": "markdown",
   "metadata": {},
   "source": [
    "# Desarrollo de una servidor de API REST con *Flask-SQLAlchemy*."
   ]
  },
  {
   "cell_type": "markdown",
   "metadata": {},
   "source": [
    "En este capítulo se reutilizará el código de la notebook [12_servidor_api_rest.ipynb](12_servidor_api_rest.ipynb), para realizar operaciones en la base de datos creada en la notebook [14_orm_con_flask_sqlalchemy.ipynb](14_orm_con_flask_sqlalchemy.ipynb).\n",
    "\n",
    "**Advertencia:** Es necesario que se haya creado correctamente la base de datos localizada en [data/alumnos.db]([data/alumnos.db)."
   ]
  },
  {
   "cell_type": "markdown",
   "metadata": {},
   "source": [
    "## Importación de módulos y datos."
   ]
  },
  {
   "cell_type": "code",
   "execution_count": null,
   "metadata": {},
   "outputs": [],
   "source": [
    "from flask import Flask, jsonify, request, abort\n",
    "from data import campos, orden\n",
    "from json import loads\n",
    "from flask_sqlalchemy import SQLAlchemy"
   ]
  },
  {
   "cell_type": "markdown",
   "metadata": {},
   "source": [
    "## Creación de la aplicación e inicio de la sesión con la base de datos."
   ]
  },
  {
   "cell_type": "code",
   "execution_count": null,
   "metadata": {},
   "outputs": [],
   "source": [
    "app = Flask(__name__)\n",
    "app.config['SQLALCHEMY_DATABASE_URI'] = 'sqlite:///data/alumnos.db'\n",
    "app.config['SQLALCHEMY_TRACK_MODIFICATIONS'] = False\n",
    "db = SQLAlchemy(app)"
   ]
  },
  {
   "cell_type": "markdown",
   "metadata": {},
   "source": [
    "## Definición de la clase *Alumno*."
   ]
  },
  {
   "cell_type": "code",
   "execution_count": null,
   "metadata": {},
   "outputs": [],
   "source": [
    "class Alumno(db.Model):\n",
    "    __tablename__ = 'alumnos'\n",
    "    cuenta = db.Column(db.Integer, primary_key=True)\n",
    "    nombre = db.Column(db.String(50))\n",
    "    primer_apellido = db.Column(db.String(50))\n",
    "    segundo_apellido = db.Column(db.String(50))\n",
    "    carrera = db.Column(db.String(50))\n",
    "    semestre = db.Column(db.Integer)\n",
    "    promedio = db.Column(db.Float)\n",
    "    al_corriente = db.Column(db.Boolean)"
   ]
  },
  {
   "cell_type": "markdown",
   "metadata": {},
   "source": [
    "## Función de conversión de los objetos a objetos tipo _dict_.\n",
    "\n",
    "Para poder enviar los datos a través de la API es necesario convertir los atributos de los objetos instanciados de la clase *Alumno* en campos de una objeto *dict*."
   ]
  },
  {
   "cell_type": "code",
   "execution_count": null,
   "metadata": {},
   "outputs": [],
   "source": [
    "def convierte(cuenta, alumno, orden):\n",
    "    respuesta = {'cuenta': cuenta}\n",
    "    for campo in orden:\n",
    "        respuesta[campo] = getattr(alumno, campo.lower().replace(' ', '_'))\n",
    "    return respuesta"
   ]
  },
  {
   "cell_type": "markdown",
   "metadata": {},
   "source": [
    "## Funciones de validación de datos.\n",
    "\n",
    "Estas funciones se definen de forma idéntica al capítulo [12_servidor_api_rest.ipynb](12_servidor_api_rest.ipynb)."
   ]
  },
  {
   "cell_type": "code",
   "execution_count": null,
   "metadata": {},
   "outputs": [],
   "source": [
    "def es_tipo(dato, tipo):\n",
    "    if tipo == str:\n",
    "        return True\n",
    "    else:\n",
    "        try: \n",
    "            return tipo(dato) is dato\n",
    "        except:\n",
    "            return False\n",
    "        \n",
    "def reglas(dato, campo):\n",
    "    from data import carreras\n",
    "    if campo == \"Carrera\" and dato not in carreras:\n",
    "        return False\n",
    "    elif campo == \"Semestre\" and dato < 1:\n",
    "        return False\n",
    "    elif campo == \"Promedio\" and (dato < 0 or dato > 10):\n",
    "        return False\n",
    "    elif (campo in (\"Nombre\", \"Primer Apellido\") and (dato == \"\")):\n",
    "        return False\n",
    "    else:\n",
    "        return True           \n",
    "    \n",
    "def valida(dato, campo):\n",
    "    return es_tipo(dato, campos[campo][0]) and reglas(dato, campo)"
   ]
  },
  {
   "cell_type": "markdown",
   "metadata": {},
   "source": [
    "## La función *recurso_completo()*.\n",
    "Esta función fue modificada para poder gestionar objetos instanciados de *Alumno* y añadir registros a la base de datos."
   ]
  },
  {
   "cell_type": "code",
   "execution_count": null,
   "metadata": {},
   "outputs": [],
   "source": [
    "def recurso_completo(cuenta, peticion):\n",
    "    try:\n",
    "        candidato = Alumno(cuenta=int(cuenta))\n",
    "        peticion = loads(peticion)\n",
    "        if (set(peticion)).issubset(set(orden)):                    \n",
    "            for campo in orden:\n",
    "                if not campos[campo][1] and campo not in peticion:\n",
    "                    setattr(candidato, campo.lower().replace(' ', '_'), '')\n",
    "                elif valida(peticion[campo], campo):\n",
    "                    setattr(candidato, campo.lower().replace(' ', '_'), peticion[campo])    \n",
    "                else:\n",
    "                    abort(400)\n",
    "        else:\n",
    "            abort(400)\n",
    "    except:\n",
    "        abort(400)\n",
    "    db.session.add(candidato)\n",
    "    db.session.commit()                        \n",
    "    return jsonify(convierte(cuenta, candidato, orden))"
   ]
  },
  {
   "cell_type": "markdown",
   "metadata": {},
   "source": [
    "## Las funciones de vista.\n",
    "\n",
    "Las funciones de vista conservan una estructura lógica idéntica, pero fueron modificadas para manipular los objetos instanciados de *Alumno* y realizar operaciones de búsqueda, modificación y eliminación de registros en la base de datos."
   ]
  },
  {
   "cell_type": "code",
   "execution_count": null,
   "metadata": {},
   "outputs": [],
   "source": [
    "@app.route('/api/')\n",
    "def ruta_api():\n",
    "    lista = Alumno.query.filter(Alumno.cuenta).all()\n",
    "    return jsonify([convierte(registro.cuenta, registro, orden) for registro in lista])\n",
    "    \n",
    "\n",
    "@app.route('/api/<cuenta>', methods=['GET', 'POST', 'PUT', 'PATCH', 'DELETE'])\n",
    "def api(cuenta):\n",
    "    \n",
    "    if request.method == 'GET':\n",
    "        alumno = Alumno.query.filter_by(cuenta=cuenta).first()\n",
    "        if alumno == None:\n",
    "            abort(404)\n",
    "        else:\n",
    "            return jsonify(convierte(cuenta, alumno, orden))\n",
    "            \n",
    "            \n",
    "    if request.method == 'DELETE':\n",
    "        alumno = Alumno.query.filter_by(cuenta=cuenta).first()\n",
    "        if alumno == None:\n",
    "            abort(404)\n",
    "        else:\n",
    "            db.session.delete(alumno)\n",
    "            db.session.commit()\n",
    "            return jsonify(convierte(cuenta, alumno, orden))\n",
    "        \n",
    "        \n",
    "    if request.method == 'POST':\n",
    "        alumno = Alumno.query.filter_by(cuenta=cuenta).first()\n",
    "        if alumno == None:\n",
    "            return recurso_completo(cuenta, request.data)\n",
    "        else:\n",
    "            abort(409)\n",
    "            \n",
    "            \n",
    "    if request.method == 'PUT':\n",
    "        alumno = Alumno.query.filter_by(cuenta=cuenta).first()\n",
    "        if alumno == None:\n",
    "            abort(404)\n",
    "        else:\n",
    "            db.session.delete(alumno)\n",
    "            db.session.commit()\n",
    "            return recurso_completo(cuenta, request.data)\n",
    "\n",
    "    if request.method == 'PATCH':               \n",
    "        alumno = Alumno.query.filter_by(cuenta=cuenta).first()\n",
    "        if alumno == None:\n",
    "            abort(404)\n",
    "        else:\n",
    "            try:\n",
    "                peticion = loads(request.data)\n",
    "                if (set(peticion)).issubset(set(orden)):\n",
    "                    for campo in peticion:\n",
    "                        dato = peticion[campo]\n",
    "                        if valida(dato, campo):\n",
    "                            setattr(alumno, campo.lower().replace(' ', '_'), dato)\n",
    "                        else:\n",
    "                            abort(400)\n",
    "                else:\n",
    "                    abort(400)\n",
    "            except:\n",
    "                abort(400)\n",
    "            db.session.add(alumno)\n",
    "            db.session.commit()                        \n",
    "            return jsonify(convierte(cuenta, alumno, orden))"
   ]
  },
  {
   "cell_type": "code",
   "execution_count": null,
   "metadata": {},
   "outputs": [],
   "source": [
    "app.run('0.0.0.0')"
   ]
  },
  {
   "cell_type": "markdown",
   "metadata": {},
   "source": [
    "### Notas:\n",
    "\n",
    "* **No reinicie o detenga el kernel de la notebook hasta que haya terminado todas las sesiones los clientes.**\n",
    "* Debido a que el código de la celda de arriba levanta el servidor de Flask, ésta se ejecutará indefinidamente y desplegará los mensajes de respuesta a las peticiones de los clientes que se conecten.\n",
    "* La notebook [13_cliente_api_rest.ipynb](13_cliente_api_rest.ipynb) contiene al cliente para este servidor."
   ]
  },
  {
   "cell_type": "markdown",
   "metadata": {},
   "source": [
    "<p style=\"text-align: center\"><a rel=\"license\" href=\"http://creativecommons.org/licenses/by/4.0/\"><img alt=\"Licencia Creative Commons\" style=\"border-width:0\" src=\"https://i.creativecommons.org/l/by/4.0/80x15.png\" /></a><br />Esta obra está bajo una <a rel=\"license\" href=\"http://creativecommons.org/licenses/by/4.0/\">Licencia Creative Commons Atribución 4.0 Internacional</a>.</p>\n",
    "<p style=\"text-align: center\">&copy; José Luis Chiquete Valdivieso. 2018.</p>"
   ]
  }
 ],
 "metadata": {
  "kernelspec": {
   "display_name": "Python 3",
   "language": "python",
   "name": "python3"
  },
  "language_info": {
   "codemirror_mode": {
    "name": "ipython",
    "version": 3
   },
   "file_extension": ".py",
   "mimetype": "text/x-python",
   "name": "python",
   "nbconvert_exporter": "python",
   "pygments_lexer": "ipython3",
   "version": "3.6.3"
  }
 },
 "nbformat": 4,
 "nbformat_minor": 2
}
