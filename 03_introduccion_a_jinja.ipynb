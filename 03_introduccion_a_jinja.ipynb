{
 "cells": [
  {
   "cell_type": "markdown",
   "metadata": {},
   "source": [
    "[![img/pythonista.png](img/pythonista.png)](https://www.pythonista.io)"
   ]
  },
  {
   "cell_type": "markdown",
   "metadata": {},
   "source": [
    "# Introducción a *Jinja*."
   ]
  },
  {
   "cell_type": "markdown",
   "metadata": {},
   "source": [
    "El contenido que entrega una función de vista es procesado y enviado por *Flask* con el encabezado ```Content-Type: text/html; charset=UTF-8```, por lo que el cliente interpretará la respuesta como un documento *HTML*.\n",
    "\n",
    "*Flask* es capaz de entregar contenido *HTML* a partir de plantillas capaces de procesar objetos de *Python* que son pasados dentro de un contexto. "
   ]
  },
  {
   "cell_type": "markdown",
   "metadata": {},
   "source": [
    "## El lenguaje de plantillas *Jinja*."
   ]
  },
  {
   "cell_type": "markdown",
   "metadata": {},
   "source": [
    "[*Jinja*](https://jinja.palletsprojects.com) es un lenguaje de plantillas (*templates*) el cual permite insertar y procesar objetos de *Python* dentro de un documento de texto. *Jinja* puede procesar cualquier documento de texto, puediendo crear estructuras basadas en *XML*, *HTML*, *YAML*, *JSON*, etc.\n",
    "\n",
    "*Jinja* no sólo es utilizado por *Flask*. Algunos otros proyectos como [*Ansible*](https://www.ansible.com/) lo utilizan para crear *playbooks*."
   ]
  },
  {
   "cell_type": "code",
   "execution_count": null,
   "metadata": {},
   "outputs": [],
   "source": [
    "import jinja2"
   ]
  },
  {
   "cell_type": "markdown",
   "metadata": {},
   "source": [
    "## El lenguaje de plantillas de *Jinja*.\n",
    "\n",
    "*Jinja* ejecuta las expresiones y declaraciones que se encuentran encerrados entre signos de llaves \"```{```\" \"```}```\".\n",
    "\n",
    "https://jinja.palletsprojects.com/en/3.0.x/templates/"
   ]
  },
  {
   "cell_type": "markdown",
   "metadata": {},
   "source": [
    "### Declaraciones.\n",
    "\n",
    "Las declaraciones deben estar encerradas entre signos de porcentajes \"```%```\".\n",
    "\n",
    "**Sintaxis:**\n",
    "```\n",
    "{% <declaración> %} \n",
    "```"
   ]
  },
  {
   "cell_type": "markdown",
   "metadata": {},
   "source": [
    "### Expresiones.\n",
    "\n",
    "Las declaraciones deben estar encerradas entre llaves nuevamente \"```{```\" \"```}```\".\n",
    "\n",
    "**Sintaxis:**\n",
    "```\n",
    "{{ <expresión> }} \n",
    "```"
   ]
  },
  {
   "cell_type": "markdown",
   "metadata": {},
   "source": [
    "### Comentarios.\n",
    "\n",
    "Las declaraciones deben estar encerradas entre signos de gato \"```#```\".\n",
    "\n",
    "**Sintaxis:**\n",
    "```\n",
    "{# <comentario> #} \n",
    "```"
   ]
  },
  {
   "cell_type": "markdown",
   "metadata": {},
   "source": [
    "## La clase ```jinja2.Template```.\n",
    "\n",
    " La clase ```jinja2.Template``` permite instanciar objetos capaces de procesar plantillas y su contexto.\n",
    "\n",
    "```\n",
    "jinja2.Template(<plantilla>)\n",
    "```\n",
    "\n",
    "Donde:\n",
    "\n",
    "* ```<plantilla>```es un objeto ```str``` que contiene texto y código de *Jinja*.\n",
    "\n",
    "Para fines de claridad, los objetos instanciados de la clase ```jinja2.Template``` serán referidos como ```template```."
   ]
  },
  {
   "cell_type": "markdown",
   "metadata": {},
   "source": [
    "**Ejemplo:**"
   ]
  },
  {
   "cell_type": "code",
   "execution_count": null,
   "metadata": {},
   "outputs": [],
   "source": [
    "template = jinja2.Template(\"Hola, {{nombre}}.\")"
   ]
  },
  {
   "cell_type": "markdown",
   "metadata": {},
   "source": [
    "### El método ```template.render()```.\n",
    "\n",
    "Este método interpereta el código de *Jinja* insertado en la plantilla contenida en el objeto ```template```. Una vez que se ejecuta el código de la plantilla, el método y regresa la cadena de texto resultante.\n",
    "\n",
    "```\n",
    "template.render(<contexto>)\n",
    "```\n",
    "\n",
    "Donde:\n",
    "\n",
    "* ```<contexto>``` es una sucesión de pares ``` <identificador> = <objeto>``` separados por comas. Dichos pares crearán un espacio de nombre que será utilizado por *Jinja*."
   ]
  },
  {
   "cell_type": "markdown",
   "metadata": {},
   "source": [
    "**Ejemplo:**"
   ]
  },
  {
   "cell_type": "code",
   "execution_count": null,
   "metadata": {},
   "outputs": [],
   "source": [
    "template = jinja2.Template(\"Hola,{{nombre}}.\\nEres socio {{nivel}}.\")"
   ]
  },
  {
   "cell_type": "code",
   "execution_count": null,
   "metadata": {},
   "outputs": [],
   "source": [
    "template.render(nombre=\"Juan\", nivel=\"Premier\")"
   ]
  },
  {
   "cell_type": "code",
   "execution_count": null,
   "metadata": {},
   "outputs": [],
   "source": [
    "print(template.render(nombre=\"Juan\", nivel=\"Premier\"))"
   ]
  },
  {
   "cell_type": "markdown",
   "metadata": {},
   "source": [
    "## Lectura de plantillas a partir de archivos.\n",
    "\n",
    "La clase ```jinja.Template``` puede gestionar objetos de texto. Sin embargo, el verdadero potencial de *Jinja* está en el consumo de documnentos de texto."
   ]
  },
  {
   "cell_type": "markdown",
   "metadata": {},
   "source": [
    "### La clase ```jinja2.FileSystemLoader```.\n",
    "\n",
    "La clase ```jinja2.FileSystemLoader``` permite definir los parámetros necesarios para acceder a un sistema  de archivos, definiendo una o varias rutas en las que se encontrarán las plantillas.\n",
    "\n",
    "Sintaxis:\n",
    "\n",
    "```\n",
    "jinja2.FileSystemLoader('<ruta>')\n",
    "\n",
    "o\n",
    "\n",
    "jinja2.FileSystemLoader(['<ruta 1>', '<ruta 2>', ..., '<ruta n>'])\n",
    "```"
   ]
  },
  {
   "cell_type": "markdown",
   "metadata": {},
   "source": [
    "### La clase ```jinja2.Environment```.\n",
    "\n",
    "La clase ```jinja2.Environment``` permite definir la configuración de diversas propiedades de *Jinja*.\n",
    "\n",
    "**Sintaxis:**\n",
    "\n",
    "```\n",
    "jinja2.Environment(loader = <objeto de la clase jinja2.FileSystemLoader>, <otros parámetros>)\n",
    "```\n",
    "\n",
    "Donde:\n",
    "\n",
    "* ```loader``` es un objeto instanciado de la clase  ```jinja2.FileSystemLoader```."
   ]
  },
  {
   "cell_type": "markdown",
   "metadata": {},
   "source": [
    "### Carga de plantillas. "
   ]
  },
  {
   "cell_type": "markdown",
   "metadata": {},
   "source": [
    "El objeto instanciado de la clase ```jinja2.Environment``` contiene al  método ```get_template()```, el cual permite acceder a una archivo cuyo nombre o ruta relativa se ingresa como parámetro.\n",
    "\n",
    "Jinja 2 buscará el archivo desde las rutas definidas previamente.\n",
    "\n",
    "**Sintaxis:**\n",
    "\n",
    "```\n",
    "<objeto environment>.get_template('<ruta relativa del archivo>') \n",
    "```\n",
    "El resultado es un objeto ```template```."
   ]
  },
  {
   "cell_type": "markdown",
   "metadata": {},
   "source": [
    "**Ejemplo:**"
   ]
  },
  {
   "cell_type": "code",
   "execution_count": null,
   "metadata": {},
   "outputs": [],
   "source": [
    "import os"
   ]
  },
  {
   "cell_type": "code",
   "execution_count": null,
   "metadata": {},
   "outputs": [],
   "source": [
    "miruta = os.getcwd()"
   ]
  },
  {
   "cell_type": "code",
   "execution_count": null,
   "metadata": {},
   "outputs": [],
   "source": [
    "entorno = jinja2.Environment(loader=jinja2.FileSystemLoader(miruta + '/plantillas'))"
   ]
  },
  {
   "cell_type": "code",
   "execution_count": null,
   "metadata": {},
   "outputs": [],
   "source": [
    "template = entorno.get_template(\"plantilla.html\")"
   ]
  },
  {
   "cell_type": "code",
   "execution_count": null,
   "metadata": {},
   "outputs": [],
   "source": [
    "ligas = [['slashdot', 'https://slashdot.org'], \n",
    "         ['pythonista', 'https://pythonista.mx'], \n",
    "         ['cloudevel', 'https://cloudevel.com']]"
   ]
  },
  {
   "cell_type": "code",
   "execution_count": null,
   "metadata": {},
   "outputs": [],
   "source": [
    "print(template.render(lista=ligas))"
   ]
  },
  {
   "cell_type": "markdown",
   "metadata": {
    "collapsed": true
   },
   "source": [
    "## *Flask* y *Jinja*.\n",
    "\n",
    "*Jinja* viene incluido en la instalación base de *Flask* y cuenta con la función ```flask.render_template()``` para la gestión de plantillas. \n",
    "\n",
    "*Flask* está configurado para buscar los archivos de plantilla en la carpeta ```templates``` localizada en el directorio desde el que se ejecuta el objeto ```app```."
   ]
  },
  {
   "cell_type": "markdown",
   "metadata": {},
   "source": [
    "**Ejemplo:**"
   ]
  },
  {
   "cell_type": "markdown",
   "metadata": {},
   "source": [
    "* L plantilla [```templates/plantilla.html```](templates/plantilla.html) es un documento de texto que incluye código *HTML* y código de *Jinja*:\n",
    "\n",
    "``` html\n",
    "<!DOCTYPE html>\n",
    "<html>\n",
    "<head>\n",
    "    <title>Bienvenidos </title>\n",
    "</head>\n",
    "<body>\n",
    "   <h1>Listado de referencias</h1>\n",
    "   <ul>\n",
    "   {% for nombre, liga in lista %}\n",
    "   <li><a href='{{ liga }}'> {{ nombre.capitalize() }}</a></li>\n",
    "   {% endfor %}\n",
    "   <ul>\n",
    "</body>\n",
    "```"
   ]
  },
  {
   "cell_type": "markdown",
   "metadata": {},
   "source": [
    "**Advertencia:** Una vez ejecutada la siguiente celda, es necesario interrumpir el kernel de Jupyter para poder ejecutar el resto de las celdas de la notebook."
   ]
  },
  {
   "cell_type": "code",
   "execution_count": null,
   "metadata": {
    "scrolled": true
   },
   "outputs": [],
   "source": [
    "from flask import Flask, render_template\n",
    "\n",
    "app = Flask(__name__)\n",
    "\n",
    "@app.route('/')\n",
    "def inicio():\n",
    "    \n",
    "    ligas = [['slashdot', 'https://slashdot.org'], \n",
    "         ['pythonista', 'https://pythonista.io'], \n",
    "         ['cloudevel', 'https://cloudevel.com']]\n",
    "    \n",
    "    return render_template('plantilla.html', lista=ligas)\n",
    "\n",
    "#Si no se define el parámetro host, flask sólo será visible desde localhost\n",
    "app.run(host='0.0.0.0')"
   ]
  },
  {
   "cell_type": "markdown",
   "metadata": {},
   "source": [
    "Esta celda levantará un servidor que puede ser accedido desde http://localhost:5000"
   ]
  },
  {
   "cell_type": "markdown",
   "metadata": {},
   "source": [
    "<p style=\"text-align: center\"><a rel=\"license\" href=\"http://creativecommons.org/licenses/by/4.0/\"><img alt=\"Licencia Creative Commons\" style=\"border-width:0\" src=\"https://i.creativecommons.org/l/by/4.0/80x15.png\" /></a><br />Esta obra está bajo una <a rel=\"license\" href=\"http://creativecommons.org/licenses/by/4.0/\">Licencia Creative Commons Atribución 4.0 Internacional</a>.</p>\n",
    "<p style=\"text-align: center\">&copy; José Luis Chiquete Valdivieso. 2022.</p>"
   ]
  }
 ],
 "metadata": {
  "kernelspec": {
   "display_name": "Python 3 (ipykernel)",
   "language": "python",
   "name": "python3"
  },
  "language_info": {
   "codemirror_mode": {
    "name": "ipython",
    "version": 3
   },
   "file_extension": ".py",
   "mimetype": "text/x-python",
   "name": "python",
   "nbconvert_exporter": "python",
   "pygments_lexer": "ipython3",
   "version": "3.9.7"
  }
 },
 "nbformat": 4,
 "nbformat_minor": 2
}
