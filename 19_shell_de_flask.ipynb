{
 "cells": [
  {
   "cell_type": "markdown",
   "metadata": {},
   "source": [
    "[![imagenes](imagenes/pythonista.png)](https://pythonista.io)"
   ]
  },
  {
   "cell_type": "markdown",
   "metadata": {},
   "source": [
    "# El shell de Flask.\n",
    "\n",
    "El shell de Flask nos permite interactuar con una aplicaión que está en ejecución, de tal modo que es posible modificar el entorno e incluso emular contextos de petición en tiempo real."
   ]
  },
  {
   "cell_type": "markdown",
   "metadata": {},
   "source": [
    "## Ejemplo.\n",
    "\n",
    "A partir del código de la notebook [15_servidor_api_rest_con_sqlalchemy.ipynb](15_servidor_api_rest_con_sqlalchemy.ipynb) se creó el script [servidor_sqlalchemy.py](servidor_sqlalchemy.py), el cual será ejecutado desde bash.\n",
    "\n",
    "**Nota:** Revise que la ruta de ejecución coincida."
   ]
  },
  {
   "cell_type": "code",
   "execution_count": null,
   "metadata": {},
   "outputs": [],
   "source": [
    "!pwd"
   ]
  },
  {
   "cell_type": "code",
   "execution_count": null,
   "metadata": {
    "scrolled": true
   },
   "outputs": [],
   "source": [
    "%%bash\n",
    "export FLASK_APP=/opt/pythonista/py201/servidor_sqlalchemy.py\n",
    "flask run -h '0.0.0.0'"
   ]
  },
  {
   "cell_type": "markdown",
   "metadata": {},
   "source": [
    "La celda previa ejecutará el script desde bash. \n",
    "\n",
    "**Advertencia:** No detenga el kernel para poder continuar con el ejercicio."
   ]
  },
  {
   "cell_type": "markdown",
   "metadata": {},
   "source": [
    "Abra una terminal y ejecute las siguientes instrucciones:\n",
    "\n",
    "``` bash\n",
    "$ export FLASK_APP=/opt/pythonista/py201/servidor_sqlalchemy.py\n",
    "$ flask shell\n",
    "```\n",
    "\n",
    "Una vez dentro del shell ejecute las siguientes instrucciones:\n",
    "    \n",
    "``` python\n",
    ">>> from servidor_sqlalchemy import Alumno\n",
    ">>> alumnos = Alumno.query.filter(Alumno.cuenta).all()\n",
    ">>> print(alumnos[1].nombre)\n",
    "```\n"
   ]
  },
  {
   "cell_type": "markdown",
   "metadata": {},
   "source": [
    "<p style=\"text-align: center\"><a rel=\"license\" href=\"http://creativecommons.org/licenses/by/4.0/\"><img alt=\"Licencia Creative Commons\" style=\"border-width:0\" src=\"https://i.creativecommons.org/l/by/4.0/80x15.png\" /></a><br />Esta obra está bajo una <a rel=\"license\" href=\"http://creativecommons.org/licenses/by/4.0/\">Licencia Creative Commons Atribución 4.0 Internacional</a>.</p>\n",
    "<p style=\"text-align: center\">&copy; José Luis Chiquete Valdivieso. 2018.</p>"
   ]
  }
 ],
 "metadata": {
  "kernelspec": {
   "display_name": "Python 3 (ipykernel)",
   "language": "python",
   "name": "python3"
  },
  "language_info": {
   "codemirror_mode": {
    "name": "ipython",
    "version": 3
   },
   "file_extension": ".py",
   "mimetype": "text/x-python",
   "name": "python",
   "nbconvert_exporter": "python",
   "pygments_lexer": "ipython3",
   "version": "3.9.2"
  }
 },
 "nbformat": 4,
 "nbformat_minor": 2
}
