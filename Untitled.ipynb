{
 "cells": [
  {
   "cell_type": "code",
   "execution_count": null,
   "id": "a02af686",
   "metadata": {},
   "outputs": [],
   "source": [
    "def html(funcion):\n",
    "    def etiquetas(texto):\n",
    "        return f'<html>\\n<body>\\n{funcion(texto)}\\n</body>\\n</html>'\n",
    "    return etiquetas"
   ]
  },
  {
   "cell_type": "code",
   "execution_count": null,
   "id": "c1c717b0",
   "metadata": {},
   "outputs": [],
   "source": [
    "def parrafo(texto):\n",
    "    return f'<p>{texto}</p>'"
   ]
  },
  {
   "cell_type": "code",
   "execution_count": null,
   "id": "fa8681f8",
   "metadata": {},
   "outputs": [],
   "source": [
    "parrafo( 'Hola, mundo')"
   ]
  },
  {
   "cell_type": "code",
   "execution_count": null,
   "id": "3c3ef099",
   "metadata": {},
   "outputs": [],
   "source": [
    "html(parrafo)"
   ]
  },
  {
   "cell_type": "code",
   "execution_count": null,
   "id": "40c2d7a9",
   "metadata": {},
   "outputs": [],
   "source": [
    "html(parrafo)('Hola, mundo.')"
   ]
  },
  {
   "cell_type": "code",
   "execution_count": null,
   "id": "1c6e0ab9",
   "metadata": {},
   "outputs": [],
   "source": [
    "@html\n",
    "def parrafo(texto):\n",
    "    return f'<p>{texto}</p>'"
   ]
  },
  {
   "cell_type": "code",
   "execution_count": null,
   "id": "3c05444a",
   "metadata": {},
   "outputs": [],
   "source": [
    "parrafo('Hola, mundo')"
   ]
  },
  {
   "cell_type": "code",
   "execution_count": null,
   "id": "5604a613",
   "metadata": {},
   "outputs": [],
   "source": [
    "print(parrafo('Hola, mundo'))"
   ]
  }
 ],
 "metadata": {
  "kernelspec": {
   "display_name": "Python 3 (ipykernel)",
   "language": "python",
   "name": "python3"
  },
  "language_info": {
   "codemirror_mode": {
    "name": "ipython",
    "version": 3
   },
   "file_extension": ".py",
   "mimetype": "text/x-python",
   "name": "python",
   "nbconvert_exporter": "python",
   "pygments_lexer": "ipython3",
   "version": "3.9.2"
  }
 },
 "nbformat": 4,
 "nbformat_minor": 5
}
