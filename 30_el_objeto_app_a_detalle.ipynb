{
 "cells": [
  {
   "cell_type": "markdown",
   "metadata": {},
   "source": [
    "[![img/pythonista.png](img/pythonista.png)](https://www.pythonista.io)"
   ]
  },
  {
   "cell_type": "markdown",
   "metadata": {},
   "source": [
    "# Introducción a *Flask*."
   ]
  },
  {
   "cell_type": "code",
   "execution_count": 2,
   "metadata": {},
   "outputs": [],
   "source": [
    "from flask import Flask\n",
    "app = Flask(__name__)"
   ]
  },
  {
   "cell_type": "code",
   "execution_count": 4,
   "metadata": {},
   "outputs": [
    {
     "data": {
      "text/plain": [
       "['__annotations__',\n",
       " '__call__',\n",
       " '__class__',\n",
       " '__delattr__',\n",
       " '__dict__',\n",
       " '__dir__',\n",
       " '__doc__',\n",
       " '__eq__',\n",
       " '__format__',\n",
       " '__ge__',\n",
       " '__getattribute__',\n",
       " '__gt__',\n",
       " '__hash__',\n",
       " '__init__',\n",
       " '__init_subclass__',\n",
       " '__le__',\n",
       " '__lt__',\n",
       " '__module__',\n",
       " '__ne__',\n",
       " '__new__',\n",
       " '__reduce__',\n",
       " '__reduce_ex__',\n",
       " '__repr__',\n",
       " '__setattr__',\n",
       " '__sizeof__',\n",
       " '__str__',\n",
       " '__subclasshook__',\n",
       " '__weakref__',\n",
       " '_before_request_lock',\n",
       " '_find_error_handler',\n",
       " '_get_exc_class_and_code',\n",
       " '_got_first_request',\n",
       " '_is_setup_finished',\n",
       " '_method_route',\n",
       " '_static_folder',\n",
       " '_static_url_path',\n",
       " 'add_template_filter',\n",
       " 'add_template_global',\n",
       " 'add_template_test',\n",
       " 'add_url_rule',\n",
       " 'after_request',\n",
       " 'after_request_funcs',\n",
       " 'app_context',\n",
       " 'app_ctx_globals_class',\n",
       " 'async_to_sync',\n",
       " 'auto_find_instance_path',\n",
       " 'before_first_request',\n",
       " 'before_first_request_funcs',\n",
       " 'before_request',\n",
       " 'before_request_funcs',\n",
       " 'blueprints',\n",
       " 'cli',\n",
       " 'config',\n",
       " 'config_class',\n",
       " 'context_processor',\n",
       " 'create_global_jinja_loader',\n",
       " 'create_jinja_environment',\n",
       " 'create_url_adapter',\n",
       " 'debug',\n",
       " 'default_config',\n",
       " 'delete',\n",
       " 'dispatch_request',\n",
       " 'do_teardown_appcontext',\n",
       " 'do_teardown_request',\n",
       " 'endpoint',\n",
       " 'ensure_sync',\n",
       " 'env',\n",
       " 'error_handler_spec',\n",
       " 'errorhandler',\n",
       " 'extensions',\n",
       " 'finalize_request',\n",
       " 'full_dispatch_request',\n",
       " 'get',\n",
       " 'get_send_file_max_age',\n",
       " 'got_first_request',\n",
       " 'handle_exception',\n",
       " 'handle_http_exception',\n",
       " 'handle_url_build_error',\n",
       " 'handle_user_exception',\n",
       " 'has_static_folder',\n",
       " 'import_name',\n",
       " 'inject_url_defaults',\n",
       " 'instance_path',\n",
       " 'iter_blueprints',\n",
       " 'jinja_env',\n",
       " 'jinja_environment',\n",
       " 'jinja_loader',\n",
       " 'jinja_options',\n",
       " 'json_decoder',\n",
       " 'json_encoder',\n",
       " 'log_exception',\n",
       " 'logger',\n",
       " 'make_config',\n",
       " 'make_default_options_response',\n",
       " 'make_response',\n",
       " 'make_shell_context',\n",
       " 'name',\n",
       " 'open_instance_resource',\n",
       " 'open_resource',\n",
       " 'patch',\n",
       " 'permanent_session_lifetime',\n",
       " 'post',\n",
       " 'preprocess_request',\n",
       " 'preserve_context_on_exception',\n",
       " 'process_response',\n",
       " 'propagate_exceptions',\n",
       " 'put',\n",
       " 'raise_routing_exception',\n",
       " 'register_blueprint',\n",
       " 'register_error_handler',\n",
       " 'request_class',\n",
       " 'request_context',\n",
       " 'response_class',\n",
       " 'root_path',\n",
       " 'route',\n",
       " 'run',\n",
       " 'secret_key',\n",
       " 'select_jinja_autoescape',\n",
       " 'send_file_max_age_default',\n",
       " 'send_static_file',\n",
       " 'session_cookie_name',\n",
       " 'session_interface',\n",
       " 'shell_context_processor',\n",
       " 'shell_context_processors',\n",
       " 'should_ignore_error',\n",
       " 'static_folder',\n",
       " 'static_url_path',\n",
       " 'subdomain_matching',\n",
       " 'teardown_appcontext',\n",
       " 'teardown_appcontext_funcs',\n",
       " 'teardown_request',\n",
       " 'teardown_request_funcs',\n",
       " 'template_context_processors',\n",
       " 'template_filter',\n",
       " 'template_folder',\n",
       " 'template_global',\n",
       " 'template_test',\n",
       " 'templates_auto_reload',\n",
       " 'test_cli_runner',\n",
       " 'test_cli_runner_class',\n",
       " 'test_client',\n",
       " 'test_client_class',\n",
       " 'test_request_context',\n",
       " 'testing',\n",
       " 'trap_http_exception',\n",
       " 'try_trigger_before_first_request_functions',\n",
       " 'update_template_context',\n",
       " 'url_build_error_handlers',\n",
       " 'url_default_functions',\n",
       " 'url_defaults',\n",
       " 'url_map',\n",
       " 'url_map_class',\n",
       " 'url_rule_class',\n",
       " 'url_value_preprocessor',\n",
       " 'url_value_preprocessors',\n",
       " 'use_x_sendfile',\n",
       " 'view_functions',\n",
       " 'wsgi_app']"
      ]
     },
     "execution_count": 4,
     "metadata": {},
     "output_type": "execute_result"
    }
   ],
   "source": [
    "dir(app)"
   ]
  },
  {
   "cell_type": "markdown",
   "metadata": {},
   "source": [
    " 'add_url_rule',\n",
    " 'after_request',\n",
    " 'app_context',\n",
    " 'before_first_request',\n",
    " 'before_request',\n",
    " 'debug',\n",
    " 'delete',\n",
    " 'endpoint',\n",
    " 'env',\n",
    " 'extensions',\n",
    " 'get',\n",
    " 'got_first_request',\n",
    " 'has_static_folder',\n",
    " 'patch',\n",
    " 'post',\n",
    " 'put',\n",
    " 'register_blueprint',\n",
    " 'request_context',\n",
    " 'root_path',\n",
    " 'route',\n",
    " 'run',\n",
    " 'secret_key',\n",
    " 'static_folder',\n",
    " 'static_url_path',\n",
    " 'teardown_appcontext',\n",
    " 'teardown_request',,\n",
    " 'template_test',\n",
    " 'test_client',\n",
    " 'test_client_class',\n",
    " 'test_request_context',\n",
    " 'testing',\n",
    " 'try_trigger_before_first_request_functions',\n",
    " 'update_template_context',"
   ]
  },
  {
   "cell_type": "code",
   "execution_count": 46,
   "metadata": {
    "scrolled": true
   },
   "outputs": [
    {
     "name": "stdout",
     "output_type": "stream",
     "text": [
      "Help on method test_client in module flask.app:\n",
      "\n",
      "test_client(use_cookies: bool = True, **kwargs: Any) -> 'FlaskClient' method of flask.app.Flask instance\n",
      "    Creates a test client for this application.  For information\n",
      "    about unit testing head over to :doc:`/testing`.\n",
      "    \n",
      "    Note that if you are testing for assertions or exceptions in your\n",
      "    application code, you must set ``app.testing = True`` in order for the\n",
      "    exceptions to propagate to the test client.  Otherwise, the exception\n",
      "    will be handled by the application (not visible to the test client) and\n",
      "    the only indication of an AssertionError or other exception will be a\n",
      "    500 status code response to the test client.  See the :attr:`testing`\n",
      "    attribute.  For example::\n",
      "    \n",
      "        app.testing = True\n",
      "        client = app.test_client()\n",
      "    \n",
      "    The test client can be used in a ``with`` block to defer the closing down\n",
      "    of the context until the end of the ``with`` block.  This is useful if\n",
      "    you want to access the context locals for testing::\n",
      "    \n",
      "        with app.test_client() as c:\n",
      "            rv = c.get('/?vodka=42')\n",
      "            assert request.args['vodka'] == '42'\n",
      "    \n",
      "    Additionally, you may pass optional keyword arguments that will then\n",
      "    be passed to the application's :attr:`test_client_class` constructor.\n",
      "    For example::\n",
      "    \n",
      "        from flask.testing import FlaskClient\n",
      "    \n",
      "        class CustomClient(FlaskClient):\n",
      "            def __init__(self, *args, **kwargs):\n",
      "                self._authentication = kwargs.pop(\"authentication\")\n",
      "                super(CustomClient,self).__init__( *args, **kwargs)\n",
      "    \n",
      "        app.test_client_class = CustomClient\n",
      "        client = app.test_client(authentication='Basic ....')\n",
      "    \n",
      "    See :class:`~flask.testing.FlaskClient` for more information.\n",
      "    \n",
      "    .. versionchanged:: 0.4\n",
      "       added support for ``with`` block usage for the client.\n",
      "    \n",
      "    .. versionadded:: 0.7\n",
      "       The `use_cookies` parameter was added as well as the ability\n",
      "       to override the client to be used by setting the\n",
      "       :attr:`test_client_class` attribute.\n",
      "    \n",
      "    .. versionchanged:: 0.11\n",
      "       Added `**kwargs` to support passing additional keyword arguments to\n",
      "       the constructor of :attr:`test_client_class`.\n",
      "\n"
     ]
    }
   ],
   "source": [
    "help(app.test_client)"
   ]
  },
  {
   "cell_type": "code",
   "execution_count": 41,
   "metadata": {},
   "outputs": [
    {
     "data": {
      "text/plain": [
       "'/static'"
      ]
     },
     "execution_count": 41,
     "metadata": {},
     "output_type": "execute_result"
    }
   ],
   "source": [
    "app.static_url_path"
   ]
  },
  {
   "cell_type": "code",
   "execution_count": 33,
   "metadata": {},
   "outputs": [],
   "source": [
    "from flask import request"
   ]
  },
  {
   "cell_type": "code",
   "execution_count": 34,
   "metadata": {},
   "outputs": [
    {
     "data": {
      "text/plain": [
       "<LocalProxy unbound>"
      ]
     },
     "execution_count": 34,
     "metadata": {},
     "output_type": "execute_result"
    }
   ],
   "source": [
    "request"
   ]
  },
  {
   "cell_type": "markdown",
   "metadata": {},
   "source": [
    "<p style=\"text-align: center\"><a rel=\"license\" href=\"http://creativecommons.org/licenses/by/4.0/\"><img alt=\"Licencia Creative Commons\" style=\"border-width:0\" src=\"https://i.creativecommons.org/l/by/4.0/80x15.png\" /></a><br />Esta obra está bajo una <a rel=\"license\" href=\"http://creativecommons.org/licenses/by/4.0/\">Licencia Creative Commons Atribución 4.0 Internacional</a>.</p>\n",
    "<p style=\"text-align: center\">&copy; José Luis Chiquete Valdivieso. 2021.</p>"
   ]
  },
  {
   "cell_type": "code",
   "execution_count": null,
   "metadata": {},
   "outputs": [],
   "source": []
  }
 ],
 "metadata": {
  "kernelspec": {
   "display_name": "Python 3 (ipykernel)",
   "language": "python",
   "name": "python3"
  },
  "language_info": {
   "codemirror_mode": {
    "name": "ipython",
    "version": 3
   },
   "file_extension": ".py",
   "mimetype": "text/x-python",
   "name": "python",
   "nbconvert_exporter": "python",
   "pygments_lexer": "ipython3",
   "version": "3.9.7"
  }
 },
 "nbformat": 4,
 "nbformat_minor": 2
}
