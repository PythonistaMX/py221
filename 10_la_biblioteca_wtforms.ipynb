{
 "cells": [
  {
   "cell_type": "markdown",
   "metadata": {},
   "source": [
    "[![mg/pythonista.png](img/pythonista.png)](https://www.pythonista.io)"
   ]
  },
  {
   "cell_type": "markdown",
   "metadata": {},
   "source": [
    "# La biblioteca  *WTForms*."
   ]
  },
  {
   "cell_type": "markdown",
   "metadata": {},
   "source": [
    "*WTForms* es un proyecto dedicado a faciltar la creación, validación y envío de formularios *HTML*. El paquete ```wtforms``` contiene lo necesario realizar dicho propósito.\n",
    "\n",
    "Para mayor información sobre *WTForms* se puede consultar el siguiente vínculo:\n",
    "\n",
    "https://wtforms.readthedocs.io/."
   ]
  },
  {
   "cell_type": "code",
   "execution_count": 1,
   "metadata": {},
   "outputs": [
    {
     "name": "stdout",
     "output_type": "stream",
     "text": [
      "Requirement already satisfied: wtforms in /home/oi/pythonista/lib/python3.9/site-packages (3.0.1)\n",
      "Requirement already satisfied: MarkupSafe in /home/oi/pythonista/lib/python3.9/site-packages (from wtforms) (2.0.1)\n",
      "\u001b[33mWARNING: You are using pip version 21.3.1; however, version 22.0.3 is available.\n",
      "You should consider upgrading via the '/home/oi/pythonista/bin/python -m pip install --upgrade pip' command.\u001b[0m\n"
     ]
    }
   ],
   "source": [
    "!pip install wtforms"
   ]
  },
  {
   "cell_type": "markdown",
   "metadata": {},
   "source": [
    "## Preliminares."
   ]
  },
  {
   "cell_type": "code",
   "execution_count": null,
   "metadata": {},
   "outputs": [],
   "source": [
    "from IPython.display import HTML"
   ]
  },
  {
   "cell_type": "markdown",
   "metadata": {},
   "source": [
    "## Componentes de un formulario."
   ]
  },
  {
   "cell_type": "markdown",
   "metadata": {},
   "source": [
    "* **Formularios** Son objetos que se insertan dentro de un elemento ```<form>``` en una documento *HTML*. Los formularios son instancias de la clase ```wtforms.Form```, a los que se les asignan campos como atributos.\n",
    "* **Campos**. Son objetos capaces de crear un elemento ```<input>``` de *HTML* por medio de un *widget* y conservar el dato obtenido por dicho elemento.\n",
    "* ***Widgets***. Son funciones encargadas de generar el elemento *HTML* de cada campo.\n",
    "* **Validadores**. Son funciones que permiten validar el contenido de un campo."
   ]
  },
  {
   "cell_type": "markdown",
   "metadata": {},
   "source": [
    "### Campos.\n",
    "\n",
    "Los componentes principales de un formulario son los campos, los cuales son instancias de alguna subclase de la clase ```wtforms.Field```.\n",
    "\n",
    "Para saber más acerca de los diversos tipos de campos disponibles se puede consultar el siguiente vínculo.\n",
    "\n",
    "https://wtforms.readthedocs.io/en/2.3.x/fields/"
   ]
  },
  {
   "cell_type": "markdown",
   "metadata": {},
   "source": [
    "Un campo se define instanciando la clase del tipo al que corresponde de la siguente forma:\n",
    "```\n",
    "<campo> = <tipo>(<descripción>, [<validador 1>, <validador2>, ... <validador n>,], default=<predeterminado>)\n",
    "```\n",
    "Los campos no pueden ser gestionados a menos que se encuentren dentro de un formulario."
   ]
  },
  {
   "cell_type": "markdown",
   "metadata": {},
   "source": [
    "**Ejemplo:**"
   ]
  },
  {
   "cell_type": "markdown",
   "metadata": {},
   "source": [
    "* Se creará el objeto ```nombre``` a partir de la clase ```wtforms.StringField```."
   ]
  },
  {
   "cell_type": "code",
   "execution_count": null,
   "metadata": {},
   "outputs": [],
   "source": [
    "from wtforms import StringField"
   ]
  },
  {
   "cell_type": "code",
   "execution_count": null,
   "metadata": {},
   "outputs": [],
   "source": [
    "nombre = StringField('nombre', default='Juan')"
   ]
  },
  {
   "cell_type": "code",
   "execution_count": null,
   "metadata": {},
   "outputs": [],
   "source": [
    "nombre"
   ]
  },
  {
   "cell_type": "markdown",
   "metadata": {},
   "source": [
    "El objeto ```nombre``` es de tipo ```UnboundField```, lo cual significa que es un campo que no está ligado a un formulario."
   ]
  },
  {
   "cell_type": "markdown",
   "metadata": {},
   "source": [
    "## Validadores."
   ]
  },
  {
   "cell_type": "markdown",
   "metadata": {},
   "source": [
    "\n",
    "Los validadores son un conjunto de clases que corroboran ciertas reglas definidas, dependiendo del tipo de información que se requiera.\n",
    "\n",
    "El módulo ```wtforms.validators``` contiene a las clases de validadores.\n",
    "\n",
    "Para saber más acerca de los diversos tipos de validadores disponibles se puede consultar el siguiente vínculo.\n",
    "\n",
    "https://wtforms.readthedocs.io/en/2.3.x/validators/"
   ]
  },
  {
   "cell_type": "markdown",
   "metadata": {},
   "source": [
    "**Ejemplo:**"
   ]
  },
  {
   "cell_type": "markdown",
   "metadata": {},
   "source": [
    "* Se creará el objeto ```primer_apellido``` a partir de la clase ```wtforms.StringField``` y se utilizará el validador ```wtforms.validators.Length``` para indicar que el texto ingresado debe de tener al menos un caracter."
   ]
  },
  {
   "cell_type": "code",
   "execution_count": null,
   "metadata": {},
   "outputs": [],
   "source": [
    "from wtforms.validators import Length"
   ]
  },
  {
   "cell_type": "markdown",
   "metadata": {},
   "source": [
    "El validador ```Lenght``` acepta entre otros, al parámetro ```min```, el cual designa el tamaño mínimo del dato ingresado como cadena de caracteres. "
   ]
  },
  {
   "cell_type": "code",
   "execution_count": null,
   "metadata": {},
   "outputs": [],
   "source": [
    "nombre = StringField('nombre', [Length(min=1)], default='Juan')"
   ]
  },
  {
   "cell_type": "code",
   "execution_count": null,
   "metadata": {
    "scrolled": true
   },
   "outputs": [],
   "source": [
    "nombre"
   ]
  },
  {
   "cell_type": "markdown",
   "metadata": {},
   "source": [
    "### Creación de validadores propios.\n",
    "\n",
    "Cuando un dato no cumple con las condiciones de un validador, dicho validador levanta una excepción de tipo ```ValidatorError```, la cual es \"cachada\" por el objeto ```Field``` y el mensaje de error es guardado en el atributo ```errors```.\n",
    "\n",
    "Es posible crear validadores propios definiendo funciones que levanten un error de tipo ```ValidatorError```."
   ]
  },
  {
   "cell_type": "markdown",
   "metadata": {},
   "source": [
    "## *Widgets*."
   ]
  },
  {
   "cell_type": "markdown",
   "metadata": {},
   "source": [
    "Los *widgets* son piezas de código *HTML* que permiten desplegar el campo en un navegador utilizando las etiquetas adecuadas.\n",
    "\n",
    "https://wtforms.readthedocs.io/en/2.3.x/widgets/"
   ]
  },
  {
   "cell_type": "markdown",
   "metadata": {},
   "source": [
    "## Formularios."
   ]
  },
  {
   "cell_type": "markdown",
   "metadata": {},
   "source": [
    "\n",
    "La clase ```wtforms.Form``` permite la creación de formularios cuyos atributos son instancias de las subclases de ```wtforms.Fields```. Tambien cuenta con parámetros de configuración y métodos de proceso y validación de datos.\n",
    "\n",
    "Cuando un campo  es defindo en un formulario, este adquiere el atributo ```data```, en el que se almacena la información que captura.\n",
    "\n",
    "https://wtforms.readthedocs.io/en/2.3.x/forms/"
   ]
  },
  {
   "cell_type": "markdown",
   "metadata": {},
   "source": [
    "## Ejemplo del uso de ```wtforms```.\n",
    "\n",
    "* Se creará la clase ```NombreEstudiante``` que es subclase de ```wtforms.Form```, la cual incluirá los atributos de tipo ```wtforms.StringField```, correspondientes a:\n",
    "    * ```nombre```\n",
    "    * ```primer_apellido```\n",
    "    * ```segundo_apellido```\n",
    "* El valor por defecto de todos los campos es una cadena de caracteres vacía.\n",
    "* Los atributos ```nombre``` y ```primer_apellido``` incluyen al validador ```wtforms.Length```, el cual verificará que los campos no sean cadenas de caracteres vacías.\n",
    "* Se creará el objeto ```forma``` instanciado de la clase ```NombreEstudiante```."
   ]
  },
  {
   "cell_type": "code",
   "execution_count": null,
   "metadata": {},
   "outputs": [],
   "source": [
    "from wtforms import Form, StringField, validators"
   ]
  },
  {
   "cell_type": "code",
   "execution_count": null,
   "metadata": {},
   "outputs": [],
   "source": [
    "class NombreEstudiante(Form):\n",
    "    nombre = StringField('Nombre', [validators.Length(min=1)], default='')\n",
    "    primer_apellido = StringField('Primer apellido', [validators.Length(min=1)], default='')\n",
    "    segundo_apellido = StringField('Segundo apellido', default='')"
   ]
  },
  {
   "cell_type": "code",
   "execution_count": null,
   "metadata": {},
   "outputs": [],
   "source": [
    "forma = NombreEstudiante()"
   ]
  },
  {
   "cell_type": "code",
   "execution_count": null,
   "metadata": {},
   "outputs": [],
   "source": [
    "forma['nombre']"
   ]
  },
  {
   "cell_type": "code",
   "execution_count": null,
   "metadata": {},
   "outputs": [],
   "source": [
    "forma.nombre"
   ]
  },
  {
   "cell_type": "code",
   "execution_count": null,
   "metadata": {},
   "outputs": [],
   "source": [
    "forma.nombre.label"
   ]
  },
  {
   "cell_type": "code",
   "execution_count": null,
   "metadata": {},
   "outputs": [],
   "source": [
    "forma.nombre.widget"
   ]
  },
  {
   "cell_type": "code",
   "execution_count": null,
   "metadata": {},
   "outputs": [],
   "source": [
    "forma.nombre.__html__()"
   ]
  },
  {
   "cell_type": "code",
   "execution_count": null,
   "metadata": {},
   "outputs": [],
   "source": [
    "HTML(forma.nombre.__html__())"
   ]
  },
  {
   "cell_type": "markdown",
   "metadata": {},
   "source": [
    "El campo ```forma```en este caso corresponde a un objeto ```wtforms.fields.core.StringField```, lo que indica que dicho campo está ligado a una forma. En este caso, el campo adquiere el atributo ```data```."
   ]
  },
  {
   "cell_type": "code",
   "execution_count": null,
   "metadata": {},
   "outputs": [],
   "source": [
    "forma.nombre.data"
   ]
  },
  {
   "cell_type": "markdown",
   "metadata": {},
   "source": [
    "El método ```validate()``` del objeto instanciado de ```wtform.Form``` realizará las validaciones de cada campo y en caso de una falla de validación regresará ```False``` y añadirá la descripción de cada falla de validación al atributo ```errors```."
   ]
  },
  {
   "cell_type": "code",
   "execution_count": null,
   "metadata": {},
   "outputs": [],
   "source": [
    "forma.validate()"
   ]
  },
  {
   "cell_type": "code",
   "execution_count": null,
   "metadata": {},
   "outputs": [],
   "source": [
    "forma.errors"
   ]
  },
  {
   "cell_type": "code",
   "execution_count": null,
   "metadata": {},
   "outputs": [],
   "source": [
    "forma.nombre.data = 'Juan'\n",
    "forma.primer_apellido.data = 'Pérez'"
   ]
  },
  {
   "cell_type": "code",
   "execution_count": null,
   "metadata": {},
   "outputs": [],
   "source": [
    "forma.validate()"
   ]
  },
  {
   "cell_type": "code",
   "execution_count": null,
   "metadata": {
    "scrolled": true
   },
   "outputs": [],
   "source": [
    "forma.errors"
   ]
  },
  {
   "cell_type": "markdown",
   "metadata": {},
   "source": [
    "<p style=\"text-align: center\"><a rel=\"license\" href=\"http://creativecommons.org/licenses/by/4.0/\"><img alt=\"Licencia Creative Commons\" style=\"border-width:0\" src=\"https://i.creativecommons.org/l/by/4.0/80x15.png\" /></a><br />Esta obra está bajo una <a rel=\"license\" href=\"http://creativecommons.org/licenses/by/4.0/\">Licencia Creative Commons Atribución 4.0 Internacional</a>.</p>\n",
    "<p style=\"text-align: center\">&copy; José Luis Chiquete Valdivieso. 2022.</p>"
   ]
  }
 ],
 "metadata": {
  "kernelspec": {
   "display_name": "Python 3 (ipykernel)",
   "language": "python",
   "name": "python3"
  },
  "language_info": {
   "codemirror_mode": {
    "name": "ipython",
    "version": 3
   },
   "file_extension": ".py",
   "mimetype": "text/x-python",
   "name": "python",
   "nbconvert_exporter": "python",
   "pygments_lexer": "ipython3",
   "version": "3.9.2"
  }
 },
 "nbformat": 4,
 "nbformat_minor": 2
}
