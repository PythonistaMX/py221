{
 "cells": [
  {
   "cell_type": "markdown",
   "metadata": {},
   "source": [
    "\n",
    "[![imagenes](imagenes/pythonista.png)](https://pythonista.mx)"
   ]
  },
  {
   "cell_type": "markdown",
   "metadata": {},
   "source": [
    "# JSON y Flask."
   ]
  },
  {
   "cell_type": "markdown",
   "metadata": {},
   "source": [
    "## El formato *JSON*.\n",
    "\n",
    "JSON es un acrónimo de Javascript Object Notation y corresponde precisamente al modo en que se definen objetos en Javascript. Sin embargo, la notación es tan simple y práctica que ha sido adoptada como un formato para la transmisión de datos y a evolucionado de forma paralela a Javascript.\n",
    "\n",
    "Para aprender más acerca de JSON puede consultar esta liga: https://www.w3schools.com/js/js_json_intro.asp\n",
    "\n",
    "\n",
    "## El módulo _json_.\n",
    "\n",
    "Permite transformar un objetos de python en una cadena de caracteres que representa a dichos objetos en formato con JSON.\n",
    "\n",
    "\n",
    "### La función json.dump()\n",
    "Transforma a un objeto de tipo _dict_ ingresada como primer parámetro a una cadena de texto en formato JSON y lo guarda en un archivo de texto que se ingresa como segundo parámetro.\n",
    "\n",
    "**Sintaxis:**\n",
    "\n",
    "```\n",
    "json.dump(<objeto>, <archivo>)\n",
    "```\n",
    "\n",
    "### La función json.dumps()\n",
    "Transforma a un objeto de tipo _dict_ ingresada como primer parámetro a una cadena de texto en formato JSON.\n",
    "\n",
    "**Sintaxis:**\n",
    "\n",
    "```\n",
    "json.dumps(<objeto>)\n",
    "```\n",
    "\n",
    "### La función json.load()\n",
    "Lee el contenido de un archivo de texto que contiene información en formato JSON y la transforma en un objeto de tipo _dict_.\n",
    "\n",
    "**Sintaxis:**\n",
    "\n",
    "```\n",
    "json.dump(<archivo>)\n",
    "```\n",
    "### La función json.loads()\n",
    "Transforma una cadena de caracteres que contiene información en formato JSON y la transforma en un objeto de tipo _dict_.\n",
    "\n",
    "**Sintaxis:**\n",
    "\n",
    "```\n",
    "json.dumps(<cadena de caracteres>)\n",
    "```\n"
   ]
  },
  {
   "cell_type": "code",
   "execution_count": null,
   "metadata": {},
   "outputs": [],
   "source": [
    "import json"
   ]
  },
  {
   "cell_type": "code",
   "execution_count": null,
   "metadata": {},
   "outputs": [],
   "source": [
    "estudiante = {'nombre completo': ['Juan', 'Pérez', 'Sánchez'], 'rol': 'estudiante'}"
   ]
  },
  {
   "cell_type": "code",
   "execution_count": null,
   "metadata": {},
   "outputs": [],
   "source": [
    "type(estudiante)"
   ]
  },
  {
   "cell_type": "code",
   "execution_count": null,
   "metadata": {},
   "outputs": [],
   "source": [
    "estudiante['rol']"
   ]
  },
  {
   "cell_type": "code",
   "execution_count": null,
   "metadata": {},
   "outputs": [],
   "source": [
    "estudiante['nombre completo']"
   ]
  },
  {
   "cell_type": "code",
   "execution_count": null,
   "metadata": {},
   "outputs": [],
   "source": [
    "json.dumps(estudiante)"
   ]
  },
  {
   "cell_type": "code",
   "execution_count": null,
   "metadata": {},
   "outputs": [],
   "source": [
    "estudiante_json = json.dumps(estudiante)"
   ]
  },
  {
   "cell_type": "code",
   "execution_count": null,
   "metadata": {},
   "outputs": [],
   "source": [
    "json.loads(estudiante_json)"
   ]
  },
  {
   "cell_type": "code",
   "execution_count": null,
   "metadata": {},
   "outputs": [],
   "source": [
    "with open(\"alumno.json\", \"wt\") as archivo:\n",
    "    json.dump(estudiante, archivo)"
   ]
  },
  {
   "cell_type": "code",
   "execution_count": null,
   "metadata": {},
   "outputs": [],
   "source": [
    "with open(\"alumno.json\", \"rt\") as archivo:\n",
    "    nuevo_estudiante = json.load(archivo)"
   ]
  },
  {
   "cell_type": "code",
   "execution_count": null,
   "metadata": {},
   "outputs": [],
   "source": [
    "nuevo_estudiante"
   ]
  },
  {
   "cell_type": "code",
   "execution_count": null,
   "metadata": {},
   "outputs": [],
   "source": [
    "type(nuevo_estudiante)"
   ]
  },
  {
   "cell_type": "code",
   "execution_count": null,
   "metadata": {},
   "outputs": [],
   "source": [
    "estudiante == nuevo_estudiante"
   ]
  },
  {
   "cell_type": "code",
   "execution_count": null,
   "metadata": {},
   "outputs": [],
   "source": [
    "estudiante is nuevo_estudiante"
   ]
  },
  {
   "cell_type": "code",
   "execution_count": null,
   "metadata": {},
   "outputs": [],
   "source": [
    "id(estudiante)"
   ]
  },
  {
   "cell_type": "code",
   "execution_count": null,
   "metadata": {},
   "outputs": [],
   "source": [
    "id(nuevo_estudiante)"
   ]
  },
  {
   "cell_type": "markdown",
   "metadata": {},
   "source": [
    "## La función *flask. jsonify()*.\n",
    "\n",
    "El paquete *flask* incluye a la función *jsonify()*, el cual permite enviar datos basados en JSON en formato binario a partir de un objeto de Python.\n",
    "\n",
    "Dicha función sólo puede funcionar dentro del contexto de una aplicación de *flask*.\n"
   ]
  },
  {
   "cell_type": "markdown",
   "metadata": {},
   "source": [
    "**Ejemplo:**\n",
    "\n",
    "La siguiente celda levantará un servicio web simple el cual convertirá en un mensaje JSON a un objeto de tipo *dict* y lo desplegará en [http://localhost:5000](http://localhost:5000).\n",
    "\n",
    "**Advertencia:** Una vez ejecutada la siguiente celda, es necesario interrumpir el kernel de Jupyter para poder ejecutar el resto de las celdas de la notebook."
   ]
  },
  {
   "cell_type": "code",
   "execution_count": null,
   "metadata": {},
   "outputs": [],
   "source": [
    "from flask import Flask, jsonify\n",
    "\n",
    "app = Flask(__name__)\n",
    "\n",
    "@app.route('/')\n",
    "def inicio():\n",
    "    return jsonify({'Nombre': 'Juan', \n",
    "        'Primer Apellido': 'Pérez', \n",
    "        'Segundo Apellido': None})\n",
    "\n",
    "#Si no se define el parámetro host, flask sólo será visible desde localhost\n",
    "# app.run(host='localhost')\n",
    "app.run(host='0.0.0.0')"
   ]
  },
  {
   "cell_type": "markdown",
   "metadata": {},
   "source": [
    "<p style=\"text-align: center\"><a rel=\"license\" href=\"http://creativecommons.org/licenses/by/4.0/\"><img alt=\"Licencia Creative Commons\" style=\"border-width:0\" src=\"https://i.creativecommons.org/l/by/4.0/80x15.png\" /></a><br />Esta obra está bajo una <a rel=\"license\" href=\"http://creativecommons.org/licenses/by/4.0/\">Licencia Creative Commons Atribución 4.0 Internacional</a>.</p>\n",
    "<p style=\"text-align: center\">&copy; José Luis Chiquete Valdivieso. 2018.</p>"
   ]
  }
 ],
 "metadata": {
  "kernelspec": {
   "display_name": "Python 3 (ipykernel)",
   "language": "python",
   "name": "python3"
  },
  "language_info": {
   "codemirror_mode": {
    "name": "ipython",
    "version": 3
   },
   "file_extension": ".py",
   "mimetype": "text/x-python",
   "name": "python",
   "nbconvert_exporter": "python",
   "pygments_lexer": "ipython3",
   "version": "3.9.2"
  }
 },
 "nbformat": 4,
 "nbformat_minor": 2
}
