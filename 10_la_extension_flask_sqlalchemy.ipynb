{
 "cells": [
  {
   "cell_type": "markdown",
   "metadata": {},
   "source": [
    "[![img/pythonista.png](img/pythonista.png)](https://www.pythonista.io)"
   ]
  },
  {
   "cell_type": "markdown",
   "metadata": {},
   "source": [
    "# Integración de ORM con Flask-SQLAlchemy."
   ]
  },
  {
   "cell_type": "markdown",
   "metadata": {},
   "source": [
    "## La biblioteca con *SQLAlchemy*.\n",
    "\n",
    "[*SQLAlchemy*](http://www.sqlalchemy.org/) comprende diversas herramientas enfocadas a interactuar con bases de datos relacionales de forma \"pythonica\".\n",
    "\n",
    "Consta de:\n",
    "* **SQLAlchemy Core**, la cual permite crear una interfaz genérica e independiente del gestor de base de datos por medio de un lenguaje  de expresiones basado en SQL.\n",
    "* **SQLAlchemy ORM**, mapeador entre objetos y transacciones relacionales u ORM (por las sigas de object-relational mapper).\n",
    "\n",
    "Conocer a profundidad la biblioteca de SQLAlchemy podría extenderse por varios capítulos, por lo que para fines de este curso, solo se explorarán superficialmente el ORM de la extensión [*Flask-SQLAlchemy*](http://flask-sqlalchemy.pocoo.org) y la extensión de Jupyter del lenguaje de expresiones de SQLAlchemy ([*ipython-sql*](https://github.com/catherinedevlin/ipython-sql)). "
   ]
  },
  {
   "cell_type": "markdown",
   "metadata": {},
   "source": [
    "## La extensión *Flask-SQLAlchemy*.\n",
    "\n",
    "La extensión *Flask-SQLAlchemy* permite realizar operaciones de gestión de bases de datos desde todos los contextos de Flask de forma segura."
   ]
  },
  {
   "cell_type": "code",
   "execution_count": null,
   "metadata": {
    "scrolled": false
   },
   "outputs": [],
   "source": [
    "!pip install Flask-SQLAlchemy"
   ]
  },
  {
   "cell_type": "markdown",
   "metadata": {},
   "source": [
    "## La clase ```flask_sqlalchemy.SQLAlchemy```.\n",
    "\n",
    "Esta clase contiene todas las funcionalidades de *SQLAlchemy*.\n",
    "\n",
    "La sintaxis para poder usarla junto con una aplicación de *Flask* es la siguiente:\n",
    "\n",
    "```\n",
    "from flask_sqlalchemy import SQLAlchemy\n",
    "...\n",
    "...\n",
    "<db> = SQLAlchemy(app)\n",
    "```\n"
   ]
  },
  {
   "cell_type": "markdown",
   "metadata": {},
   "source": [
    "### Configuración de la aplicación del objeto tipo *Flask* para *Flask-SQLAlchemy*.\n",
    "\n",
    "Para poder integrar la extensión a un aplicación de *Flask*, es necesario añadir ciertos campos a ```app.config```.\n",
    "\n",
    "La lista de campos de configuración puede ser consultada en http://flask-sqlalchemy.pocoo.org/2.3/config/. Sin embargo, hay dos campos que deben de ser definidos para una operación satisfactoria."
   ]
  },
  {
   "cell_type": "markdown",
   "metadata": {},
   "source": [
    "### Localización del gestor de la base de datos.\n",
    "\n",
    "El campo ```app.config['SQLALCHEMY_DATABASE_URI']``` le indica a la aplicación la dirección en la que se encuetra el gestor de base de datos.\n",
    "\n",
    "```\n",
    "app.config['SQLALCHEMY_DATABASE_URI'] = '<ruta de conexión>'\n",
    "```"
   ]
  },
  {
   "cell_type": "markdown",
   "metadata": {},
   "source": [
    "La ruta de conexión a la base de datos utiliza la siguiente sintaxis.\n",
    "\n",
    "```\n",
    "<dialecto>+<controlador>://<usuario>:<contraseña>@<url>:<puerto>/<base de datos>\n",
    "```\n",
    "Los dialectos son implementaciones de *SQLAlchemy* para cada variante de *SQL* de los diversos gestores de bases de datos. Por otra parte, las conexiones a las bases de datos se realizan por medio de controladores basados en la *DBAPI* de *Python*.\n",
    "\n",
    "Puede consultar la lista de combinaciones ```<dialecto> + <controlador>``` soportadas por *SQLALchemy* en:\n",
    "\n",
    "https://docs.sqlalchemy.org/en/latest/dialects/"
   ]
  },
  {
   "cell_type": "markdown",
   "metadata": {},
   "source": [
    "#### Optimización de ejecución de *SQLAlchemy*.\n",
    "\n",
    "El campo ```app.config['SQLALCHEMY_TRACK_MODIFICATIONS']``` contiene el valor ```None``` por defecto y a menos que sea requerido, debe de contener el valor ```False``` a fin de optimizar la ejecución de la aplicación.   "
   ]
  },
  {
   "cell_type": "markdown",
   "metadata": {},
   "source": [
    "## El gestor de bases de datos *SQLite*.\n",
    "\n",
    "[*SQLite*](https://www.sqlite.org/index.html) es un gestor de bases de datos que viene incluido con *Python*, capaz de crear y gestionar bases de datos desde un sólo archivo e incluso en memoria.\n",
    "\n",
    "**Nota:** Los ejemplos utilizados en este curso están basados en *SQLite*."
   ]
  },
  {
   "cell_type": "markdown",
   "metadata": {},
   "source": [
    "## Ejemplo de uso básico del *ORM* de *SQLAlchemy*."
   ]
  },
  {
   "cell_type": "markdown",
   "metadata": {},
   "source": [
    "### Creación de la aplicación.\n",
    "\n",
    "* Se definirá una aplicación utilizando una base de datos llamada ```alumnos.db```, localizada en el subdirectorio [```data```](data). \n",
    "\n",
    "**Advertencia:** En vista de que en este capítulo se creará la base de datos, es necesario que el archivo [```data/alumnos.db```](data/alumnos.db) NO exista."
   ]
  },
  {
   "cell_type": "code",
   "execution_count": null,
   "metadata": {},
   "outputs": [],
   "source": [
    "from flask import Flask\n",
    "from flask_sqlalchemy import SQLAlchemy\n",
    "\n",
    "app = Flask(__name__)\n",
    "app.config['SQLALCHEMY_DATABASE_URI'] = 'sqlite:///data/alumnos.db'\n",
    "app.config['SQLALCHEMY_TRACK_MODIFICATIONS'] = False\n",
    "db = SQLAlchemy(app)"
   ]
  },
  {
   "cell_type": "markdown",
   "metadata": {},
   "source": [
    "El objeto ```db```, al ser una instancia de ```flask-sqlalchemy.SQLALchemy``` es el encargado de realizar todas las operaciones de *SQLAlchemy* en la aplicación.\n",
    "\n",
    "**Nota:** \n",
    "A partir de este momento cualquier referencia a ```db```, es aplicable cualquier objeto instanciado de ```flask-sqlalchemy.SQLALchemy```."
   ]
  },
  {
   "cell_type": "markdown",
   "metadata": {},
   "source": [
    "## Definición de un modelo objeto-relacional."
   ]
  },
  {
   "cell_type": "markdown",
   "metadata": {},
   "source": [
    "Antes de crear la base de datos es necesario definir un modelo que mapee a un objeto con al menos una tabla en la base de datos."
   ]
  },
  {
   "cell_type": "markdown",
   "metadata": {},
   "source": [
    "### La clase ```db.Model```.\n",
    "\n",
    "La clase ```db.Model``` permite crear subclases capaces de instanciar objetos cuyos atributos estén ligados a una tabla en una base de datos.\n",
    "\n",
    "El atributo especial ```db.Model.__table_name__``` indica el nombre de la tabla a la que los objetos instanciados estarán ligados."
   ]
  },
  {
   "cell_type": "markdown",
   "metadata": {},
   "source": [
    "### La clase ```db.Column```.\n",
    "\n",
    "La clase ```db.Column``` permite crear objetos que representan columnas en una tabla y que servirán como atributos para los objetos instanciados de las subclases de ```db.Model```.\n",
    "\n",
    "```\n",
    "<nombre> = db.Column(<tipo de dato>, <argumentos>)\n",
    "```"
   ]
  },
  {
   "cell_type": "markdown",
   "metadata": {},
   "source": [
    "### Tipos de datos de *SQLAlchemy*.\n",
    "\n",
    "Cada columna debe de ser definida en la base de datos con un tipo de dato específico.\n",
    "\n",
    "Los tipos de datos que *SQLAlchemy* acepta pueden ser consultados en:\n",
    "\n",
    "http://docs.sqlalchemy.org/en/latest/core/type_basics.html."
   ]
  },
  {
   "cell_type": "markdown",
   "metadata": {},
   "source": [
    "### Parámetros relevantes de instancias de ```db.Column```. \n",
    "\n",
    "* El parámetro ```primary_key``` con argumento igual a ```True``` indica que dicho atributo  y será la clave primaria de la tabla.\n",
    "* El parámetro ```unique``` con argumento igual a ```True``` indica que no puede haber dos valores idénticos en la columna. "
   ]
  },
  {
   "cell_type": "markdown",
   "metadata": {},
   "source": [
    "## Ejemplo ilustrativo."
   ]
  },
  {
   "cell_type": "markdown",
   "metadata": {},
   "source": [
    "A continuación se creará la clase ```Alumno``` como una subclase de ```db.Model```, la cual estará ligada a la tabla ```alumnos```. \n",
    "\n",
    "Los atributos de la clase ```Alumno``` son:\n",
    "\n",
    "* ```cuenta``` de tipo ```db.Integer``` con el argumento ```primary_key=True```.\n",
    "* ```nombre``` de tipo ```db.String``` con tamaño de 50 caracteres.\n",
    "* ```primer_apellido``` de tipo ```db.String``` con tamaño de 50 caracteres.\n",
    "* ```segundo_apellido``` de tipo ```db.String``` con tamaño de 50 caracteres.\n",
    "* ```carrera``` de tipo ```db.String``` con tamaño de 50 caracteres.\n",
    "* ```semestre``` de tipo ```db.Integer```.\n",
    "* ```promedio``` de tipo ```db.Float```.\n",
    "* ```al_corriente``` de tipo ```dbBoolean```. "
   ]
  },
  {
   "cell_type": "code",
   "execution_count": null,
   "metadata": {},
   "outputs": [],
   "source": [
    "class Alumno(db.Model):\n",
    "    __tablename__ = 'alumnos'\n",
    "    cuenta = db.Column(db.Integer, primary_key=True)\n",
    "    nombre = db.Column(db.String(50))\n",
    "    primer_apellido = db.Column(db.String(50))\n",
    "    segundo_apellido = db.Column(db.String(50))\n",
    "    carrera = db.Column(db.String(50))\n",
    "    semestre = db.Column(db.Integer)\n",
    "    promedio = db.Column(db.Float)\n",
    "    al_corriente = db.Column(db.Boolean)"
   ]
  },
  {
   "cell_type": "markdown",
   "metadata": {},
   "source": [
    "### Creación de las tablas de la base de datos.\n",
    "\n",
    "Una base de datos puede consistir de múltiples tablas. En este caso, la base de datos sólo contendrá a la tabla ```alumnos```, la cual está  ligada a la clase ```Alumno```.\n",
    "\n",
    "Para crear la base de datos con las tablas definidas se utiliza el método ```db.create_all()```. \n",
    "\n",
    "* En caso de que no exista el archivo con la base de datos, este será creado.\n",
    "* En caso de que ya existan tablas definidas en la base de datos, sólo se crearán las que sean nuevas y los datos que ya contienen no serán eliminados."
   ]
  },
  {
   "cell_type": "code",
   "execution_count": null,
   "metadata": {},
   "outputs": [],
   "source": [
    "db.create_all()"
   ]
  },
  {
   "cell_type": "markdown",
   "metadata": {},
   "source": [
    "* El archivo [```data/alumnos.db```](data/alumnos.db) será creado.\n",
    "\n",
    "A partir de este momento, cada objeto instanciado de ```Alumno``` puede ser representado como un registro de la tabla ```alumnos```."
   ]
  },
  {
   "cell_type": "markdown",
   "metadata": {},
   "source": [
    "### Operaciones en la base de datos.\n",
    "\n",
    "El objeto *db.sessions* contiene atributos y métodos que permiten interactuar con la base de datos. En este y el próximo capítulo usaremos:\n",
    "\n",
    "* El método *db.session.add()* que añade o sustituye el regisrto ligado al objeto instanciado de una subclase de *db.Model* en el registro correspondiente dentro de la base de datos.\n",
    "* El método *db.session.delete()* que elimina el registro ligado al objeto.\n",
    "* El método *db.session.commit()* el cual aplica los cambios en la base de datos."
   ]
  },
  {
   "cell_type": "markdown",
   "metadata": {},
   "source": [
    "###  Poblamiento de la base de datos a partir de un archivo.\n",
    "\n",
    "El script [*data/alumnos.py*](data/alumnos.py)."
   ]
  },
  {
   "cell_type": "code",
   "execution_count": null,
   "metadata": {
    "scrolled": false
   },
   "outputs": [],
   "source": [
    "# Craga los datos del archivo.\n",
    "with open('data/alumnos.py', 'tr') as archivo:\n",
    "    base = eval(archivo.read())\n",
    "    \n",
    "# Puebla la tabla alumno instanciando de Alumno a cada elemento de tipo _dict_.\n",
    "for registro in base:\n",
    "    # Se instancia el objeto alumno a partir de la clase Alumno.\n",
    "    alumno  = Alumno(cuenta=registro['cuenta'])\n",
    "    del registro['cuenta']\n",
    "    for campo in registro:\n",
    "        # Los campos son convertidos en atributos. \n",
    "        setattr(alumno, campo, registro[campo])\n",
    "    #\n",
    "    db.session.add(alumno)\n",
    "# Los cambios se aplican a la base de datos.\n",
    "db.session.commit()"
   ]
  },
  {
   "cell_type": "markdown",
   "metadata": {},
   "source": [
    "### Consultas mediante el ORM.\n",
    "\n",
    "Las subclases de *db.Model* pueden realizar búsquedas relacionadas a los objetos instanciados a partir de ellas y de las tablas ligadas a ellas.\n",
    "\n",
    "SQLAlchemy puede realizar consultas tanto mediante álgebra relacional como de búsqueda sobre los atributos de sus objetos instanciados.\n",
    "\n",
    "**Nota:** Para ilustrar estas operaciones se utilizará la clase *Alumno*, la cual es subclase de *db.Model*.\n",
    "\n",
    "#### El objeto *Alumno.query*.\n",
    "\n",
    "El objeto *Alumno.query* es una instancia de la clase *flask_sqlalchemy.BaseQuery* y contiene los métodos de búsqueda de SQLAlchemy y algunos adicionales diseñados para ser utilizados por Flask."
   ]
  },
  {
   "cell_type": "markdown",
   "metadata": {},
   "source": [
    "Para efectos de este curso sólo se explorarán los siguientes métodos:\n",
    "\n",
    "* *query.first()* regresa al primer objeto encontrado en una búsqueda.\n",
    "* *query.all()* regresa un objeto tipo *list* con todos los objetos resultantes de una búsqueda.\n",
    "* *query.filter()* regresa un objeto de tipo *Query* con los objetos encontrados al ejecutar una búsqueda que satisfaga la expresión lógica sobre los atributos de la clase, la cual es ingresada como argumento.\n",
    "* *query.filter_by()* regresa un objeto de tipo *Query* con los objetos encontrados al ejecutar una búsqueda en la tabla de la base de datos cuyos valores en la columna sean iguales al valor que se ingresa como argumento en la forma ```<columna>=<valor>```."
   ]
  },
  {
   "cell_type": "markdown",
   "metadata": {},
   "source": [
    "**Ejemplos:**"
   ]
  },
  {
   "cell_type": "code",
   "execution_count": null,
   "metadata": {},
   "outputs": [],
   "source": [
    "Alumno.query.filter(Alumno.cuenta)"
   ]
  },
  {
   "cell_type": "code",
   "execution_count": null,
   "metadata": {},
   "outputs": [],
   "source": [
    "Alumno.query.filter(Alumno.cuenta).all()"
   ]
  },
  {
   "cell_type": "code",
   "execution_count": null,
   "metadata": {},
   "outputs": [],
   "source": [
    "Alumno.query.filter(Alumno.cuenta > 1231221).all()"
   ]
  },
  {
   "cell_type": "code",
   "execution_count": null,
   "metadata": {},
   "outputs": [],
   "source": [
    "Alumno.query.filter(Alumno.cuenta > 1231221).first()"
   ]
  },
  {
   "cell_type": "code",
   "execution_count": null,
   "metadata": {},
   "outputs": [],
   "source": [
    "Alumno.query.filter_by(cuenta = 1231221).first()"
   ]
  },
  {
   "cell_type": "code",
   "execution_count": null,
   "metadata": {},
   "outputs": [],
   "source": [
    "Alumno.query.filter_by(cuenta = 1231221).first().nombre"
   ]
  },
  {
   "cell_type": "markdown",
   "metadata": {},
   "source": [
    "## La extensión *ipython-sql* de Jupyter.\n",
    "\n",
    "La extensión [*ipython-sql*](https://github.com/catherinedevlin/ipython-sql) utiliza a SQLAlchemy para realizar conexiones a bases de datos y ejecutar instrucciones SQL desde una celda de Jupyer mediante \"comandos mágicos\".\n",
    "\n",
    "Para cargar la extensión se debe ejecutarse desde una celda con la siguiente sintaxis:\n",
    "\n",
    "```\n",
    "%load_ext sql\n",
    "```\n",
    "\n",
    "Para conectarse a la base de datos se utiliza la siguiente sintaxis:\n",
    "\n",
    "```\n",
    "%sql <ruta a la base de datos>\n",
    "```\n",
    "\n",
    "Para ejecutar una instrucción SQL por celda se utiliza la siguiente sintaxis:\n",
    "\n",
    "```\n",
    "%sql <instrucción>\n",
    "```\n",
    "\n",
    "Para ejecutar varias instrucciones SQL en una celda se utiliza la siguiente sintaxis:\n",
    "\n",
    "```\n",
    "%%sql \n",
    "<instrucción>\n",
    "<instrucción>\n",
    "...\n",
    "<instrucción>\n",
    "```\n"
   ]
  },
  {
   "cell_type": "markdown",
   "metadata": {},
   "source": [
    "**Ejemplo:**\n",
    "\n",
    "* Se instalará y cargará la extensión.\n",
    "* Se hará una conexión con la base de datos *data/alumnos.db*.\n",
    "* Se realizarán un par de consultas SQL."
   ]
  },
  {
   "cell_type": "code",
   "execution_count": null,
   "metadata": {},
   "outputs": [],
   "source": [
    "!pip install ipython-sql"
   ]
  },
  {
   "cell_type": "code",
   "execution_count": null,
   "metadata": {},
   "outputs": [],
   "source": [
    "%load_ext sql"
   ]
  },
  {
   "cell_type": "code",
   "execution_count": null,
   "metadata": {},
   "outputs": [],
   "source": [
    "%sql sqlite:///src/proyecto-blueprint/abc_alumnos/data/alumnos.db"
   ]
  },
  {
   "cell_type": "code",
   "execution_count": null,
   "metadata": {
    "scrolled": true
   },
   "outputs": [],
   "source": [
    "%%sql \n",
    "select * from alumnos"
   ]
  },
  {
   "cell_type": "code",
   "execution_count": null,
   "metadata": {
    "scrolled": false
   },
   "outputs": [],
   "source": [
    "%sql select * from alumnos"
   ]
  },
  {
   "cell_type": "markdown",
   "metadata": {},
   "source": [
    "<p style=\"text-align: center\"><a rel=\"license\" href=\"http://creativecommons.org/licenses/by/4.0/\"><img alt=\"Licencia Creative Commons\" style=\"border-width:0\" src=\"https://i.creativecommons.org/l/by/4.0/80x15.png\" /></a><br />Esta obra está bajo una <a rel=\"license\" href=\"http://creativecommons.org/licenses/by/4.0/\">Licencia Creative Commons Atribución 4.0 Internacional</a>.</p>\n",
    "<p style=\"text-align: center\">&copy; José Luis Chiquete Valdivieso. 2021.</p>"
   ]
  }
 ],
 "metadata": {
  "kernelspec": {
   "display_name": "Python 3 (ipykernel)",
   "language": "python",
   "name": "python3"
  },
  "language_info": {
   "codemirror_mode": {
    "name": "ipython",
    "version": 3
   },
   "file_extension": ".py",
   "mimetype": "text/x-python",
   "name": "python",
   "nbconvert_exporter": "python",
   "pygments_lexer": "ipython3",
   "version": "3.9.2"
  }
 },
 "nbformat": 4,
 "nbformat_minor": 2
}
