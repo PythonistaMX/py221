{
 "cells": [
  {
   "cell_type": "code",
   "execution_count": null,
   "id": "7e70794b",
   "metadata": {},
   "outputs": [],
   "source": [
    "from requests import get, post, delete, put\n",
    "import json"
   ]
  },
  {
   "cell_type": "code",
   "execution_count": null,
   "id": "68921299",
   "metadata": {},
   "outputs": [],
   "source": [
    "with get('http://localhost:5000/api/') as r:\n",
    "    print(r.status_code)\n",
    "    print(json.dumps(r.json()))"
   ]
  },
  {
   "cell_type": "code",
   "execution_count": null,
   "id": "5ac5a736",
   "metadata": {},
   "outputs": [],
   "source": [
    "data ={'Al Corriente': False,\n",
    " 'Carrera': 'Derecho',\n",
    " 'Nombre': 'Santos',\n",
    " 'Primer Apellido': 'Rosas',\n",
    " 'Promedio': 6.2,\n",
    " 'Semestre': 8,}"
   ]
  },
  {
   "cell_type": "code",
   "execution_count": null,
   "id": "582b4a07",
   "metadata": {
    "scrolled": false
   },
   "outputs": [],
   "source": [
    "with post('http://localhost:5000/api/123126', json=data) as r:\n",
    "    print(r.status_code)\n",
    "    print(json.dumps(r.json()))"
   ]
  },
  {
   "cell_type": "code",
   "execution_count": null,
   "id": "9e3ef6e8",
   "metadata": {},
   "outputs": [],
   "source": [
    "data ={'Al Corriente': True,\n",
    " 'Carrera': 'Derecho',\n",
    " 'Nombre': 'Santos',\n",
    " 'Primer Apellido': 'Rosas',\n",
    " 'Segundo Apellido': 'Ruiz',\n",
    " 'Promedio': 7.6,\n",
    " 'Semestre': 9,}"
   ]
  },
  {
   "cell_type": "code",
   "execution_count": null,
   "id": "1c4be2f0",
   "metadata": {},
   "outputs": [],
   "source": [
    "with put('http://localhost:5000/api/123126', json=data) as r:\n",
    "    print(r.status_code)\n",
    "    print(json.dumps(r.json()))"
   ]
  },
  {
   "cell_type": "code",
   "execution_count": null,
   "id": "24f62700",
   "metadata": {},
   "outputs": [],
   "source": [
    "with delete('http://localhost:5000/api/123126') as r:\n",
    "    print(r.status_code)\n",
    "    print(json.dumps(r.json()))"
   ]
  },
  {
   "cell_type": "code",
   "execution_count": null,
   "id": "48d08d17",
   "metadata": {},
   "outputs": [],
   "source": []
  }
 ],
 "metadata": {
  "kernelspec": {
   "display_name": "Python 3 (ipykernel)",
   "language": "python",
   "name": "python3"
  },
  "language_info": {
   "codemirror_mode": {
    "name": "ipython",
    "version": 3
   },
   "file_extension": ".py",
   "mimetype": "text/x-python",
   "name": "python",
   "nbconvert_exporter": "python",
   "pygments_lexer": "ipython3",
   "version": "3.9.2"
  }
 },
 "nbformat": 4,
 "nbformat_minor": 5
}
