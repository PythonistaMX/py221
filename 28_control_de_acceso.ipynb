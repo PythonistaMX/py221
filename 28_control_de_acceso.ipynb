{
 "cells": [
  {
   "cell_type": "markdown",
   "metadata": {},
   "source": [
    "[![img/pythonista.png](img/pythonista.png)](https://www.pythonista.io)"
   ]
  },
  {
   "cell_type": "markdown",
   "metadata": {},
   "source": [
    "# Control de acceso mediante usuario y contraseña."
   ]
  },
  {
   "cell_type": "markdown",
   "metadata": {},
   "source": [
    "## La extensión *Flask-Security*.\n",
    "\n",
    "Flask cuenta con varias extensiones enfocadas a garantizar la seguridad de los servicios web. Una de ellas es [*Flask-Security*](https://pythonhosted.org/Flask-Security/), la cual a su vez hace uso de las extensiones y módulos:\n",
    "\n",
    "* [Flask-Login](https://flask-login.readthedocs.io/).\n",
    "* [Flask-Mail](https://pythonhosted.org/Flask-Mail/).\n",
    "* [Flask-Principal](https://pythonhosted.org/Flask-Principal/).\n",
    "* [Flask-WTF](https://flask-wtf.readthedocs.io/).\n",
    "* [itsdangerous](https://itsdangerous.palletsprojects.com).\n",
    "* [passlib](https://passlib.readthedocs.io/).\n",
    "\n",
    "Es necesario contar con un sistema de generación de *hash* como [*bcrypt*](https://pypi.org/project/bcrypt).\n",
    "\n",
    "Esta extensión controla el proceso de alta, registro e incluso recuperación por correo electrónico de usuarios, contraseñas y roles."
   ]
  },
  {
   "cell_type": "code",
   "execution_count": 1,
   "metadata": {
    "scrolled": true
   },
   "outputs": [
    {
     "name": "stdout",
     "output_type": "stream",
     "text": [
      "Requirement already satisfied: flask-security in /home/oi/pythonista/lib/python3.9/site-packages (3.0.0)\n",
      "Requirement already satisfied: flask-sqlalchemy in /home/oi/pythonista/lib/python3.9/site-packages (2.5.1)\n",
      "Requirement already satisfied: bcrypt in /home/oi/pythonista/lib/python3.9/site-packages (3.2.0)\n",
      "Requirement already satisfied: email-validator in /home/oi/pythonista/lib/python3.9/site-packages (1.1.3)\n",
      "Requirement already satisfied: Flask-BabelEx>=0.9.3 in /home/oi/pythonista/lib/python3.9/site-packages (from flask-security) (0.9.4)\n",
      "Requirement already satisfied: Flask-WTF>=0.13.1 in /home/oi/pythonista/lib/python3.9/site-packages (from flask-security) (0.15.1)\n",
      "Requirement already satisfied: passlib>=1.7 in /home/oi/pythonista/lib/python3.9/site-packages (from flask-security) (1.7.4)\n",
      "Requirement already satisfied: itsdangerous>=0.21 in /home/oi/pythonista/lib/python3.9/site-packages (from flask-security) (2.0.1)\n",
      "Requirement already satisfied: Flask-Principal>=0.3.3 in /home/oi/pythonista/lib/python3.9/site-packages (from flask-security) (0.4.0)\n",
      "Requirement already satisfied: Flask>=0.11 in /home/oi/pythonista/lib/python3.9/site-packages (from flask-security) (2.0.2)\n",
      "Requirement already satisfied: Flask-Mail>=0.7.3 in /home/oi/pythonista/lib/python3.9/site-packages (from flask-security) (0.9.1)\n",
      "Requirement already satisfied: Flask-Login>=0.3.0 in /home/oi/pythonista/lib/python3.9/site-packages (from flask-security) (0.5.0)\n",
      "Requirement already satisfied: SQLAlchemy>=0.8.0 in /home/oi/pythonista/lib/python3.9/site-packages (from flask-sqlalchemy) (1.4.26)\n",
      "Requirement already satisfied: six>=1.4.1 in /home/oi/pythonista/lib/python3.9/site-packages (from bcrypt) (1.16.0)\n",
      "Requirement already satisfied: cffi>=1.1 in /home/oi/pythonista/lib/python3.9/site-packages (from bcrypt) (1.15.0)\n",
      "Requirement already satisfied: idna>=2.0.0 in /home/oi/pythonista/lib/python3.9/site-packages (from email-validator) (3.3)\n",
      "Requirement already satisfied: dnspython>=1.15.0 in /home/oi/pythonista/lib/python3.9/site-packages (from email-validator) (2.1.0)\n",
      "Requirement already satisfied: pycparser in /home/oi/pythonista/lib/python3.9/site-packages (from cffi>=1.1->bcrypt) (2.20)\n",
      "Requirement already satisfied: Jinja2>=3.0 in /home/oi/pythonista/lib/python3.9/site-packages (from Flask>=0.11->flask-security) (3.0.2)\n",
      "Requirement already satisfied: Werkzeug>=2.0 in /home/oi/pythonista/lib/python3.9/site-packages (from Flask>=0.11->flask-security) (2.0.2)\n",
      "Requirement already satisfied: click>=7.1.2 in /home/oi/pythonista/lib/python3.9/site-packages (from Flask>=0.11->flask-security) (8.0.3)\n",
      "Requirement already satisfied: speaklater>=1.2 in /home/oi/pythonista/lib/python3.9/site-packages (from Flask-BabelEx>=0.9.3->flask-security) (1.3)\n",
      "Requirement already satisfied: Babel>=1.0 in /home/oi/pythonista/lib/python3.9/site-packages (from Flask-BabelEx>=0.9.3->flask-security) (2.9.1)\n",
      "Requirement already satisfied: blinker in /home/oi/pythonista/lib/python3.9/site-packages (from Flask-Mail>=0.7.3->flask-security) (1.4)\n",
      "Requirement already satisfied: WTForms in /home/oi/pythonista/lib/python3.9/site-packages (from Flask-WTF>=0.13.1->flask-security) (2.3.3)\n",
      "Requirement already satisfied: greenlet!=0.4.17 in /home/oi/pythonista/lib/python3.9/site-packages (from SQLAlchemy>=0.8.0->flask-sqlalchemy) (1.1.2)\n",
      "Requirement already satisfied: pytz>=2015.7 in /home/oi/pythonista/lib/python3.9/site-packages (from Babel>=1.0->Flask-BabelEx>=0.9.3->flask-security) (2021.3)\n",
      "Requirement already satisfied: MarkupSafe>=2.0 in /home/oi/pythonista/lib/python3.9/site-packages (from Jinja2>=3.0->Flask>=0.11->flask-security) (2.0.1)\n"
     ]
    }
   ],
   "source": [
    "!pip install flask-security flask-sqlalchemy bcrypt email-validator"
   ]
  },
  {
   "cell_type": "markdown",
   "metadata": {},
   "source": [
    "## Ejemplo de una aplicación básica con *Flask-Security* y el *Flask-SQLAlchemy*.\n",
    "\n",
    "Esta es una versión modificada del ejemplo localizado en https://pythonhosted.org/Flask-Security/quickstart.html#sqlalchemy-application. \n",
    "\n",
    "El uso de *Flask-Security* es aún más extenso, pero para los fines de este curso sólo se explorarán los aspectos más básicos."
   ]
  },
  {
   "cell_type": "markdown",
   "metadata": {},
   "source": [
    "### Importación de los módulos y paquetes.\n",
    "\n",
    "* La extensión cuenta con objetos capaces de conectarse al ORM de *SQLAlchemy* y crear tablas especializadas para gestión de usuarios y roles en la base de datos.\n",
    "* El uso de *mixins* facilita la creación de clases que contengan métodos compatibles con la extensión."
   ]
  },
  {
   "cell_type": "code",
   "execution_count": 2,
   "metadata": {},
   "outputs": [],
   "source": [
    "from flask import Flask\n",
    "from flask_sqlalchemy import SQLAlchemy\n",
    "from flask_security import Security, SQLAlchemyUserDatastore, \\\n",
    "    UserMixin, RoleMixin, login_required"
   ]
  },
  {
   "cell_type": "markdown",
   "metadata": {},
   "source": [
    "### Creación y configuración de la aplicación de Flask.\n",
    "\n",
    "Para poder utilizar *Flask-Security* es necesario incluir algunos parámetros de configuración de *Flask-SQLAlchemy* tales como:\n",
    "\n",
    "* ```'SECRET_KEY'```, el cual es utilizado por *Flask-WTF* para saegurar los formularios.\n",
    "* ```'SECURITY_PASSWORD_SALT'```, el cual sirve para cifrar las contraseñas."
   ]
  },
  {
   "cell_type": "code",
   "execution_count": 3,
   "metadata": {},
   "outputs": [],
   "source": [
    "app = Flask(__name__)\n",
    "app.config['SECRET_KEY'] = 'secretísimo'\n",
    "app.config['SQLALCHEMY_DATABASE_URI'] = 'sqlite:///data/usuarios.db'\n",
    "app.config['SQLALCHEMY_TRACK_MODIFICATIONS'] = False\n",
    "app.config['SECURITY_PASSWORD_SALT'] = 'ultra-secreto'\n",
    "db = SQLAlchemy(app)"
   ]
  },
  {
   "cell_type": "markdown",
   "metadata": {},
   "source": [
    "## Definición de las tablas de usuarios y roles.\n",
    "\n",
    "Se crearán varias tablas y clases.\n",
    "\n",
    "\n",
    "**Advertencia:** para evitar conflictos es necesario eliminar el archivo ```usuarios.db``` localizado en el directorio [```data```](data) en caso de que exista."
   ]
  },
  {
   "cell_type": "markdown",
   "metadata": {},
   "source": [
    "### Creación de la tabla de roles con la clase ```db.Table```. \n",
    "\n",
    "La clase ```db.Table()``` permite definir un objeto ligado a una tabla en la base de datos, ingresando objetos instanciados de ```db.Column``` como argumentos para el método ```__init__()``` del objeto instanciado.\n",
    "\n",
    "Cabe hacer notar que la tabla ```roles``` contiene las columnas ```id_usuario``` e ```id_rol```, las cuales están ligadas a los atributos ```usuario.id``` y ```rol.id``` respectivamente.\n",
    "\n",
    "La clase ```db.ForeginKey``` liga a un campo ligado a la columna de otra tabla."
   ]
  },
  {
   "cell_type": "code",
   "execution_count": 4,
   "metadata": {},
   "outputs": [],
   "source": [
    "roles_usuarios = db.Table('roles',\n",
    "        db.Column('id_usuario', db.Integer(), db.ForeignKey('usuario.id')),\n",
    "        db.Column('id_rol', db.Integer(), db.ForeignKey('rol.id')))"
   ]
  },
  {
   "cell_type": "markdown",
   "metadata": {},
   "source": [
    "### Creación de las tablas ```rol``` y ```usuario``` .\n",
    "\n",
    "Los mixins ```RoleMixin``` y ```UserMixin``` ya contienen atributos y métodos capaces de crear tablas sin necesidad de definirlas explícitamente y ligar los objetos instanciados a dichas tablas. Por ello se crearán las tablas ```rol``` y ```usuario``` sin necesidad de especificarlo.\n",
    "\n",
    "El atributo ```Usuario.roles``` utiliza la función ```db.relationship()``` para definir una relacion ente a la clase ```Usuario``` y la clase ```Rol``` que se refleja en el objeto ```roles_usuarios```. Es decir, un usuario puede tener múltiples roles y esta relación de roles es guardada en la tabla ```roles```, ligada al objeto ```roles_usuarios```."
   ]
  },
  {
   "cell_type": "code",
   "execution_count": 5,
   "metadata": {},
   "outputs": [],
   "source": [
    "class Rol(db.Model, RoleMixin):\n",
    "    id = db.Column(db.Integer(), primary_key=True)\n",
    "    name = db.Column(db.String(80), unique=True)\n",
    "    description = db.Column(db.String(255))\n",
    "\n",
    "class Usuario(db.Model, UserMixin):\n",
    "    id = db.Column(db.Integer, primary_key=True)\n",
    "    email = db.Column(db.String(255), unique=True)\n",
    "    password = db.Column(db.String(255))\n",
    "    active = db.Column(db.Boolean())\n",
    "    roles = db.relationship('Rol', secondary=roles_usuarios,\n",
    "                            backref=db.backref('usuarios', lazy='dynamic'))"
   ]
  },
  {
   "cell_type": "markdown",
   "metadata": {},
   "source": [
    "### Creación de las tablas en la base de datos.\n",
    "\n",
    "Se crean las tablas en la base de datos."
   ]
  },
  {
   "cell_type": "code",
   "execution_count": 6,
   "metadata": {},
   "outputs": [],
   "source": [
    "db.create_all()"
   ]
  },
  {
   "cell_type": "markdown",
   "metadata": {},
   "source": [
    "Se puede comprobar el contenido de la base de datos de la siguiente manera:"
   ]
  },
  {
   "cell_type": "code",
   "execution_count": 7,
   "metadata": {},
   "outputs": [],
   "source": [
    "%load_ext sql"
   ]
  },
  {
   "cell_type": "code",
   "execution_count": 8,
   "metadata": {},
   "outputs": [],
   "source": [
    "%sql sqlite:///data/usuarios.db"
   ]
  },
  {
   "cell_type": "code",
   "execution_count": 9,
   "metadata": {
    "scrolled": true
   },
   "outputs": [
    {
     "name": "stdout",
     "output_type": "stream",
     "text": [
      " * sqlite:///data/usuarios.db\n",
      "Done.\n"
     ]
    },
    {
     "data": {
      "text/html": [
       "<table>\n",
       "    <tr>\n",
       "        <th>tbl_name</th>\n",
       "    </tr>\n",
       "    <tr>\n",
       "        <td>rol</td>\n",
       "    </tr>\n",
       "    <tr>\n",
       "        <td>usuario</td>\n",
       "    </tr>\n",
       "    <tr>\n",
       "        <td>roles</td>\n",
       "    </tr>\n",
       "</table>"
      ],
      "text/plain": [
       "[('rol',), ('usuario',), ('roles',)]"
      ]
     },
     "execution_count": 9,
     "metadata": {},
     "output_type": "execute_result"
    }
   ],
   "source": [
    "%sql select tbl_name from sqlite_master where type = 'table';"
   ]
  },
  {
   "cell_type": "markdown",
   "metadata": {},
   "source": [
    "### Creación del objeto que gestiona las operaciones de usuarios y roles.\n",
    "\n",
    "La extensión *Flask-Security* permite crear un objeto capaz de utilizar las tablas recién creadas para las operaciones de gestión de usuarios y roles mediante la clase ```flask_security.SQLAlchemyUserDatastore```."
   ]
  },
  {
   "cell_type": "code",
   "execution_count": 10,
   "metadata": {},
   "outputs": [],
   "source": [
    "datastore_usuario = SQLAlchemyUserDatastore(db, Usuario, Rol)"
   ]
  },
  {
   "cell_type": "code",
   "execution_count": 22,
   "metadata": {},
   "outputs": [
    {
     "data": {
      "text/plain": [
       "['__class__',\n",
       " '__delattr__',\n",
       " '__dict__',\n",
       " '__dir__',\n",
       " '__doc__',\n",
       " '__eq__',\n",
       " '__format__',\n",
       " '__ge__',\n",
       " '__getattribute__',\n",
       " '__gt__',\n",
       " '__hash__',\n",
       " '__init__',\n",
       " '__init_subclass__',\n",
       " '__le__',\n",
       " '__lt__',\n",
       " '__module__',\n",
       " '__ne__',\n",
       " '__new__',\n",
       " '__reduce__',\n",
       " '__reduce_ex__',\n",
       " '__repr__',\n",
       " '__setattr__',\n",
       " '__sizeof__',\n",
       " '__str__',\n",
       " '__subclasshook__',\n",
       " '__weakref__',\n",
       " '_is_numeric',\n",
       " '_prepare_create_user_args',\n",
       " '_prepare_role_modify_args',\n",
       " 'activate_user',\n",
       " 'add_role_to_user',\n",
       " 'commit',\n",
       " 'create_role',\n",
       " 'create_user',\n",
       " 'db',\n",
       " 'deactivate_user',\n",
       " 'delete',\n",
       " 'delete_user',\n",
       " 'find_or_create_role',\n",
       " 'find_role',\n",
       " 'find_user',\n",
       " 'get_user',\n",
       " 'put',\n",
       " 'remove_role_from_user',\n",
       " 'role_model',\n",
       " 'toggle_active',\n",
       " 'user_model']"
      ]
     },
     "execution_count": 22,
     "metadata": {},
     "output_type": "execute_result"
    }
   ],
   "source": [
    "dir(datastore_usuariotore_usuario)"
   ]
  },
  {
   "cell_type": "markdown",
   "metadata": {},
   "source": [
    "### Implementación de las operaciones de control de acceso  de la aplicación.\n",
    "\n",
    "La clase ```Security``` permite crear un objeto el cual realiza las operaciones de control de acceso de la aplicación."
   ]
  },
  {
   "cell_type": "code",
   "execution_count": 11,
   "metadata": {},
   "outputs": [],
   "source": [
    "seguridad = Security(app, datastore_usuario)"
   ]
  },
  {
   "cell_type": "markdown",
   "metadata": {},
   "source": [
    "### Creación de un usario nuevo."
   ]
  },
  {
   "cell_type": "code",
   "execution_count": 17,
   "metadata": {},
   "outputs": [],
   "source": [
    "datastore_usuario.create_user(email='contacto@pythonista.io', password='Jupyter')\n",
    "db.session.commit()"
   ]
  },
  {
   "cell_type": "code",
   "execution_count": 18,
   "metadata": {},
   "outputs": [
    {
     "name": "stdout",
     "output_type": "stream",
     "text": [
      " * sqlite:///data/usuarios.db\n",
      "Done.\n"
     ]
    },
    {
     "data": {
      "text/html": [
       "<table>\n",
       "    <tr>\n",
       "        <th>id</th>\n",
       "        <th>email</th>\n",
       "        <th>password</th>\n",
       "        <th>active</th>\n",
       "    </tr>\n",
       "    <tr>\n",
       "        <td>1</td>\n",
       "        <td>contacto@pythonista.io</td>\n",
       "        <td>Jupyter</td>\n",
       "        <td>1</td>\n",
       "    </tr>\n",
       "</table>"
      ],
      "text/plain": [
       "[(1, 'contacto@pythonista.io', 'Jupyter', 1)]"
      ]
     },
     "execution_count": 18,
     "metadata": {},
     "output_type": "execute_result"
    }
   ],
   "source": [
    "%sql select * from usuario"
   ]
  },
  {
   "cell_type": "code",
   "execution_count": 19,
   "metadata": {},
   "outputs": [
    {
     "name": "stdout",
     "output_type": "stream",
     "text": [
      " * sqlite:///data/usuarios.db\n",
      "Done.\n"
     ]
    },
    {
     "data": {
      "text/html": [
       "<table>\n",
       "    <tr>\n",
       "        <th>id</th>\n",
       "        <th>name</th>\n",
       "        <th>description</th>\n",
       "    </tr>\n",
       "</table>"
      ],
      "text/plain": [
       "[]"
      ]
     },
     "execution_count": 19,
     "metadata": {},
     "output_type": "execute_result"
    }
   ],
   "source": [
    "%sql select * from rol"
   ]
  },
  {
   "cell_type": "markdown",
   "metadata": {},
   "source": [
    "### Función de vista que requiere control de acceso mediante usuario y contraseña.\n",
    "\n",
    "La función ```flask_security.login_required()``` aplicada como un decorador sobre la función ```home()``` indica que es necesario registrarse para pdoer acceder."
   ]
  },
  {
   "cell_type": "code",
   "execution_count": 20,
   "metadata": {},
   "outputs": [],
   "source": [
    "@app.route('/')\n",
    "@login_required\n",
    "def home():\n",
    "    return 'Hola'"
   ]
  },
  {
   "cell_type": "markdown",
   "metadata": {},
   "source": [
    "### Ejecución de la aplicación.\n",
    "\n",
    "Se ejecutará un servidor en http://localhost:5000 que pedirá un usuario y contraseña válidos para poder acceder.\n",
    "\n",
    "**Advertencia:** Una vez ejecutada la siguente celda es necesario interrumpir el kernel de Jupyter para poder ejecutar el resto de las celdas de la notebook."
   ]
  },
  {
   "cell_type": "code",
   "execution_count": 21,
   "metadata": {},
   "outputs": [
    {
     "name": "stdout",
     "output_type": "stream",
     "text": [
      " * Serving Flask app '__main__' (lazy loading)\n",
      " * Environment: production\n",
      "\u001b[31m   WARNING: This is a development server. Do not use it in a production deployment.\u001b[0m\n",
      "\u001b[2m   Use a production WSGI server instead.\u001b[0m\n",
      " * Debug mode: off\n"
     ]
    },
    {
     "name": "stderr",
     "output_type": "stream",
     "text": [
      " * Running on all addresses.\n",
      "   WARNING: This is a development server. Do not use it in a production deployment.\n",
      " * Running on http://10.0.2.15:5000/ (Press CTRL+C to quit)\n",
      "10.0.2.2 - - [03/Nov/2021 20:49:28] \"\u001b[32mGET / HTTP/1.1\u001b[0m\" 302 -\n",
      "10.0.2.2 - - [03/Nov/2021 20:49:28] \"GET /login?next=%2F HTTP/1.1\" 200 -\n",
      "10.0.2.2 - - [03/Nov/2021 20:50:19] \"\u001b[32mPOST /login HTTP/1.1\u001b[0m\" 302 -\n",
      "10.0.2.2 - - [03/Nov/2021 20:50:19] \"GET / HTTP/1.1\" 200 -\n",
      "10.0.2.2 - - [03/Nov/2021 20:50:27] \"GET / HTTP/1.1\" 200 -\n",
      "10.0.2.2 - - [03/Nov/2021 20:50:28] \"GET / HTTP/1.1\" 200 -\n",
      "10.0.2.2 - - [03/Nov/2021 20:50:28] \"GET / HTTP/1.1\" 200 -\n",
      "10.0.2.2 - - [03/Nov/2021 20:50:29] \"GET / HTTP/1.1\" 200 -\n",
      "10.0.2.2 - - [03/Nov/2021 20:50:29] \"GET / HTTP/1.1\" 200 -\n",
      "10.0.2.2 - - [03/Nov/2021 20:50:30] \"GET / HTTP/1.1\" 200 -\n",
      "10.0.2.2 - - [03/Nov/2021 20:50:30] \"GET / HTTP/1.1\" 200 -\n",
      "10.0.2.2 - - [03/Nov/2021 20:50:31] \"GET / HTTP/1.1\" 200 -\n",
      "10.0.2.2 - - [03/Nov/2021 20:50:31] \"GET / HTTP/1.1\" 200 -\n",
      "10.0.2.2 - - [03/Nov/2021 20:52:06] \"\u001b[32mGET /logout HTTP/1.1\u001b[0m\" 302 -\n",
      "10.0.2.2 - - [03/Nov/2021 20:52:06] \"\u001b[32mGET / HTTP/1.1\u001b[0m\" 302 -\n",
      "10.0.2.2 - - [03/Nov/2021 20:52:06] \"GET /login?next=%2F HTTP/1.1\" 200 -\n",
      "10.0.2.2 - - [03/Nov/2021 20:52:30] \"\u001b[32mGET / HTTP/1.1\u001b[0m\" 302 -\n",
      "10.0.2.2 - - [03/Nov/2021 20:52:30] \"GET /login?next=%2F HTTP/1.1\" 200 -\n",
      "10.0.2.2 - - [03/Nov/2021 20:52:43] \"\u001b[32mGET /logout HTTP/1.1\u001b[0m\" 302 -\n",
      "10.0.2.2 - - [03/Nov/2021 20:52:43] \"\u001b[32mGET / HTTP/1.1\u001b[0m\" 302 -\n",
      "10.0.2.2 - - [03/Nov/2021 20:52:43] \"GET /login?next=%2F HTTP/1.1\" 200 -\n"
     ]
    }
   ],
   "source": [
    "#Si no se define el parámetro host, flask sólo será visible desde localhost\n",
    "# app.run(host='localhost')\n",
    "app.run('0.0.0.0')"
   ]
  },
  {
   "cell_type": "markdown",
   "metadata": {},
   "source": [
    "<p style=\"text-align: center\"><a rel=\"license\" href=\"http://creativecommons.org/licenses/by/4.0/\"><img alt=\"Licencia Creative Commons\" style=\"border-width:0\" src=\"https://i.creativecommons.org/l/by/4.0/80x15.png\" /></a><br />Esta obra está bajo una <a rel=\"license\" href=\"http://creativecommons.org/licenses/by/4.0/\">Licencia Creative Commons Atribución 4.0 Internacional</a>.</p>\n",
    "<p style=\"text-align: center\">&copy; José Luis Chiquete Valdivieso. 2021.</p>"
   ]
  }
 ],
 "metadata": {
  "kernelspec": {
   "display_name": "Python 3 (ipykernel)",
   "language": "python",
   "name": "python3"
  },
  "language_info": {
   "codemirror_mode": {
    "name": "ipython",
    "version": 3
   },
   "file_extension": ".py",
   "mimetype": "text/x-python",
   "name": "python",
   "nbconvert_exporter": "python",
   "pygments_lexer": "ipython3",
   "version": "3.9.2"
  }
 },
 "nbformat": 4,
 "nbformat_minor": 2
}
