{
 "cells": [
  {
   "cell_type": "markdown",
   "metadata": {},
   "source": [
    "[![img/pythonista.png](img/pythonista.png)](https://www.pythonista.io)"
   ]
  },
  {
   "cell_type": "markdown",
   "metadata": {},
   "source": [
    "# El lenguaje de plantillas de *Jinja*."
   ]
  },
  {
   "cell_type": "markdown",
   "metadata": {},
   "source": [
    "## Preliminares."
   ]
  },
  {
   "cell_type": "code",
   "execution_count": null,
   "metadata": {},
   "outputs": [],
   "source": [
    "import os\n",
    "import jinja2\n",
    "from IPython.display import HTML"
   ]
  },
  {
   "cell_type": "code",
   "execution_count": null,
   "metadata": {},
   "outputs": [],
   "source": [
    "entorno = jinja2.Environment(loader=jinja2.FileSystemLoader(os.getcwd() + '/templates'))"
   ]
  },
  {
   "cell_type": "markdown",
   "metadata": {},
   "source": [
    "## Expresiones."
   ]
  },
  {
   "cell_type": "markdown",
   "metadata": {},
   "source": [
    "### Nombres, índices y atributos.\n",
    "\n",
    "En vista de que *Jinja* está basado en *Python*, es posible utilizar su sintaxis para acceder a los elementos y/o atributos de un objeto que se utiliza como parámetro."
   ]
  },
  {
   "cell_type": "markdown",
   "metadata": {},
   "source": [
    "**Ejemplos:**"
   ]
  },
  {
   "cell_type": "code",
   "execution_count": null,
   "metadata": {},
   "outputs": [],
   "source": [
    "texto = \"Hola, {{persona['nombre'].upper()}}.\""
   ]
  },
  {
   "cell_type": "code",
   "execution_count": null,
   "metadata": {},
   "outputs": [],
   "source": [
    "template = jinja2.Template(texto)"
   ]
  },
  {
   "cell_type": "code",
   "execution_count": null,
   "metadata": {},
   "outputs": [],
   "source": [
    "template.render(persona={'nombre':'Jose', 'apellido': 'Pérez'})"
   ]
  },
  {
   "cell_type": "markdown",
   "metadata": {},
   "source": [
    "### Filtros.\n",
    "Un filtro en *Jinja* es una especie de función que modifica al objeto resultante de una expresión.\n",
    "\n",
    "Es posible consultar lo diversos filtros que ofrece *Jinja* en esta liga:\n",
    "\n",
    "https://jinja.palletsprojects.com/en/3.0.x/templates/#list-of-builtin-filters\n",
    "\n",
    "Es posible \"encadenar\" varios filtros al texto que se ingresa mediante *pipes* usando la siguiente sintaxis:\n",
    "\n",
    "```\n",
    "{{<expresión> | <filtro 1> | <filtro 2> |... | <filtro n>}}\n",
    "```\n",
    "De este modo, la salida de un filtro es la entrada del siguiente."
   ]
  },
  {
   "cell_type": "markdown",
   "metadata": {},
   "source": [
    "**Ejemplos:**"
   ]
  },
  {
   "cell_type": "markdown",
   "metadata": {},
   "source": [
    "En las siguientes celdas se utilizarán los filtros ```center``` y ```reverse``` de forma separada y posteriormente combinada."
   ]
  },
  {
   "cell_type": "code",
   "execution_count": null,
   "metadata": {},
   "outputs": [],
   "source": [
    "texto = \"Hola, {{persona['nombre'].upper() | center(40)}}.\"\n",
    "plantilla = jinja2.Template(texto)\n",
    "plantilla.render(persona={'nombre':'Jose', 'apellido': 'Pérez'})"
   ]
  },
  {
   "cell_type": "code",
   "execution_count": null,
   "metadata": {},
   "outputs": [],
   "source": [
    "texto = \"Hola, {{persona['nombre'].upper() | reverse}}.\"\n",
    "plantilla = jinja2.Template(texto)\n",
    "plantilla.render(persona={'nombre':'Jose', 'apellido': 'Pérez'})"
   ]
  },
  {
   "cell_type": "code",
   "execution_count": null,
   "metadata": {},
   "outputs": [],
   "source": [
    "texto = \"Hola, {{persona['nombre'].upper()| center(40)| reverse}}.\"\n",
    "plantilla = jinja2.Template(texto)\n",
    "plantilla.render(persona={'nombre':'Jose', 'apellido': 'Pérez'})"
   ]
  },
  {
   "cell_type": "markdown",
   "metadata": {},
   "source": [
    "## Declaraciones.\n",
    "\n",
    "Una declaración corresponde a un bloque de código que se ejecuta y que incluye texto, expresiones e incluso declaraciones anidadas con la siguiente sintaxis.\n",
    "\n",
    "```\n",
    "{% <declaración> %}\n",
    "...\n",
    "<texto y código>\n",
    "...\n",
    "<% <fin de declaración> %>\n",
    "\n",
    "```"
   ]
  },
  {
   "cell_type": "markdown",
   "metadata": {},
   "source": [
    "### Limitación del ámbito de las declaraciones.\n",
    "\n",
    "Los nombres y objetos definidos dentro de una declaración pertenecen exclusivamente al ámbito de dicha declaración. Sólo los pares ```<identificador>=<objeto>``` ingresados en el contexto del método ```render()``` pertenecen al ámbito global."
   ]
  },
  {
   "cell_type": "markdown",
   "metadata": {},
   "source": [
    "### Condicionales con ```if``` .\n",
    "\n",
    "*Jinja*  permite el uso del condicionales ```if``` con la siguiente sintaxis:\n",
    "\n",
    "```\n",
    "{% if <expresión lógica> %}\n",
    "<Texto y código>\n",
    "{% endif %}\n",
    "```\n",
    "\n",
    "Cabe hacer notar que los operadores lógicos de *Python* son los mismos que se utilizan para las expresiones lógicas de este condicional.\n",
    " "
   ]
  },
  {
   "cell_type": "markdown",
   "metadata": {},
   "source": [
    "**Ejemplo:**"
   ]
  },
  {
   "cell_type": "markdown",
   "metadata": {},
   "source": [
    "* El objeto ```texto``` define una plantilla que valida si el el objeto correspondiente a  ```persona['socio']```es ```True```, y en caso de ser así, desplegará el texto:\n",
    "\n",
    "```\\nUsted es socio distinguido.```."
   ]
  },
  {
   "cell_type": "code",
   "execution_count": null,
   "metadata": {},
   "outputs": [],
   "source": [
    "texto = \"Hola {{persona['nombre']}}.\\\n",
    "{% if persona['socio'] %}\\\n",
    "\\nUsted es socio distinguido.\\\n",
    "{% endif %}\""
   ]
  },
  {
   "cell_type": "code",
   "execution_count": null,
   "metadata": {},
   "outputs": [],
   "source": [
    "plantilla = jinja2.Template(texto)"
   ]
  },
  {
   "cell_type": "code",
   "execution_count": null,
   "metadata": {},
   "outputs": [],
   "source": [
    "print(plantilla.render(persona={'nombre':'Jose', \n",
    "                                'socio': True}))"
   ]
  },
  {
   "cell_type": "code",
   "execution_count": null,
   "metadata": {},
   "outputs": [],
   "source": [
    "print(plantilla.render(persona={'nombre':'Juan', \n",
    "                                'socio': False}))"
   ]
  },
  {
   "cell_type": "markdown",
   "metadata": {},
   "source": [
    "###  Uso de ```if``` ```else``` y ```elif```.\n",
    "\n",
    "También es posible evaluar más de una expresión con la siguiente sintaxis:\n",
    "\n",
    "```\n",
    "{% if <expresión lógica 1>%}\n",
    "<Texto y código>\n",
    "{% elif <expresión lógica 2>%}\n",
    "<Texto y código>\n",
    "...\n",
    "...\n",
    "{% elif <expresión lógica n>%}\n",
    "<Texto y código>\n",
    "{% else %}\n",
    "<Texto y código>\n",
    "\n",
    "{% endif %}\n",
    "```"
   ]
  },
  {
   "cell_type": "markdown",
   "metadata": {},
   "source": [
    "**Ejemplo:**"
   ]
  },
  {
   "cell_type": "markdown",
   "metadata": {},
   "source": [
    "* El objeto ```texto``` define una plantilla que evalúa al objeto correspondiente a  ```persona['status']```.\n",
    "    * En caso de que ```persona['status']``` sea ```'socio'```, se despelgará el texto: ```Usted es socio distinguido.```\n",
    "    * En caso de que ```persona['status']``` sea ```'cliente'```, se despelgará el texto: ```Usted tiene una cuenta de cliente.```\n",
    "    * En cualquier otro caso, se despelgará el texto: ```Por favor indique si es socio o cliente.```"
   ]
  },
  {
   "cell_type": "code",
   "execution_count": null,
   "metadata": {},
   "outputs": [],
   "source": [
    "texto = \"Hola {{persona['nombre']}}.\\n\\\n",
    "{% if persona['status'] == 'socio' %}\\\n",
    "Usted es socio distinguido.\\\n",
    "{% elif persona['status'] == 'cliente' %}\\\n",
    "Usted tiene una cuenta de cliente.\\\n",
    "{% else %}\\\n",
    "Por favor indique si es socio o cliente.\\\n",
    "{% endif %}\""
   ]
  },
  {
   "cell_type": "code",
   "execution_count": null,
   "metadata": {},
   "outputs": [],
   "source": [
    "plantilla = jinja2.Template(texto)"
   ]
  },
  {
   "cell_type": "code",
   "execution_count": null,
   "metadata": {},
   "outputs": [],
   "source": [
    "print(plantilla.render(persona={'nombre':'Jose',\n",
    "                                'status': 'socio'}))"
   ]
  },
  {
   "cell_type": "code",
   "execution_count": null,
   "metadata": {
    "scrolled": true
   },
   "outputs": [],
   "source": [
    "print(plantilla.render(persona={'nombre':'Juan',\n",
    "                                'status': 'cliente'}))"
   ]
  },
  {
   "cell_type": "code",
   "execution_count": null,
   "metadata": {},
   "outputs": [],
   "source": [
    "print(plantilla.render(persona={'nombre':'Juan',}))"
   ]
  },
  {
   "cell_type": "markdown",
   "metadata": {},
   "source": [
    "### Validaciones adicionales.\n",
    "\n",
    "*Jinja*  cuenta con algunas validaciones que pueden ser consultadas en esta liga: \n",
    "\n",
    "http://jinja.pocoo.org/docs/latest/templates/#builtin-tests"
   ]
  },
  {
   "cell_type": "markdown",
   "metadata": {},
   "source": [
    "**Ejemplo:**"
   ]
  },
  {
   "cell_type": "markdown",
   "metadata": {},
   "source": [
    "* Para este caso se utilizarán los validadores ```even``` y ```odd```."
   ]
  },
  {
   "cell_type": "code",
   "execution_count": null,
   "metadata": {},
   "outputs": [],
   "source": [
    "texto = \"El número es {{numero}}.\\n\\\n",
    "{% if numero is even %}\\\n",
    "Este número es par.\\\n",
    "{% elif numero is odd %}\\\n",
    "Este número es non.\\\n",
    "{% endif %}\""
   ]
  },
  {
   "cell_type": "code",
   "execution_count": null,
   "metadata": {},
   "outputs": [],
   "source": [
    "plantilla = jinja2.Template(texto)"
   ]
  },
  {
   "cell_type": "code",
   "execution_count": null,
   "metadata": {},
   "outputs": [],
   "source": [
    "print(plantilla.render(numero=7))"
   ]
  },
  {
   "cell_type": "code",
   "execution_count": null,
   "metadata": {},
   "outputs": [],
   "source": [
    "print(plantilla.render(numero=6))"
   ]
  },
  {
   "cell_type": "markdown",
   "metadata": {},
   "source": [
    "### Ciclos con ```for```.\n",
    "\n",
    "La evaluación de ciclos con ```for``` se comportan de forma idéntica a *Python*, pero con la siguiente sintaxis:\n",
    "\n",
    "```\n",
    "{% for <elemento> in <iterable> %}\n",
    "    {{ <elemento> }}\n",
    "{% endfor %}\n",
    "```"
   ]
  },
  {
   "cell_type": "markdown",
   "metadata": {},
   "source": [
    "**Ejemplo:**"
   ]
  },
  {
   "cell_type": "markdown",
   "metadata": {},
   "source": [
    "* Se utilizará el ciclo ```for``` para una lista que a su vez contiene listas de dos elementos."
   ]
  },
  {
   "cell_type": "code",
   "execution_count": null,
   "metadata": {},
   "outputs": [],
   "source": [
    "texto = \"Enlaces recomendados:\\n\\\n",
    "{%for nombre, liga in dato %}\\\n",
    " \\n{{ nombre }}: {{ liga }}  \\\n",
    "{% endfor %}\""
   ]
  },
  {
   "cell_type": "code",
   "execution_count": null,
   "metadata": {},
   "outputs": [],
   "source": [
    "ligas = [['slashdot', 'https://slashdot.org'], \n",
    "         ['pythonista', 'https://www.pythonista.io'], \n",
    "         ['cloudevel', 'https://www.cloudevel.com']]"
   ]
  },
  {
   "cell_type": "code",
   "execution_count": null,
   "metadata": {},
   "outputs": [],
   "source": [
    "plantilla = jinja2.Template(texto)\n",
    "print(plantilla.render(dato=ligas))"
   ]
  },
  {
   "cell_type": "markdown",
   "metadata": {},
   "source": [
    "## Macros.\n",
    "\n",
    "Lo macros se comportan de forma similar a una función de *Python* y se definen con la siguiente sintaxis:\n",
    "\n",
    "```\n",
    "{% macro <nombre> (<parámetros>) %}\n",
    "<texto y código>\n",
    "{% endmacro %}\n",
    "```\n",
    "\n",
    "Para invocar un macro se hace de la siguiente manera:\n",
    "```\n",
    "{{ <nombre>(<argumentos>) }}\n",
    "```\n",
    "\n",
    "**Ejemplo:**"
   ]
  },
  {
   "cell_type": "markdown",
   "metadata": {},
   "source": [
    "* La plantilla del objeto ```texto``` define al macro ```suma()``` con los parámetros ```a``` y ```b=2```."
   ]
  },
  {
   "cell_type": "code",
   "execution_count": null,
   "metadata": {},
   "outputs": [],
   "source": [
    "texto = '{% macro suma (a, b=2) %}\\\n",
    "La suma es {{a + b}}.\\n\\\n",
    "{% endmacro %}\\\n",
    "{{ suma(2)}}\\\n",
    "{{ suma(2, 3) }}'"
   ]
  },
  {
   "cell_type": "code",
   "execution_count": null,
   "metadata": {},
   "outputs": [],
   "source": [
    "plantilla = jinja2.Template(texto)\n",
    "resultado = plantilla.render()\n",
    "print(resultado)"
   ]
  },
  {
   "cell_type": "markdown",
   "metadata": {},
   "source": [
    "## Importación de macros.\n",
    "\n",
    "Es posible importar un macro desde una plantilla mediante la siguiente sintaxis:\n",
    "\n",
    "```\n",
    "{% from <plantilla> import <nombre del macro>\n",
    "\n",
    "``` \n",
    "\n",
    "Donde:\n",
    "\n",
    "* ```<plantilla>``` es un documento que contiene un macro."
   ]
  },
  {
   "cell_type": "markdown",
   "metadata": {},
   "source": [
    "**Ejemplo:**\n",
    "\n",
    "* El archivo [```templates/sumadora.txt```](templates/sumadora.txt) contiene la siguiente plantilla:\n",
    "\n",
    "```\n",
    "{% macro suma (a, b=2) %}\n",
    "La suma es {{a + b}}.\n",
    "{% endmacro %}\n",
    "```\n",
    "\n",
    "* El archivo [```templates/importadora.txt```](templates/importadora.txt) contiene la siguiente plantilla:\n",
    "```\n",
    "{% from \"sumadora.txt\" import suma %}\\\n",
    "{{ suma(3, 4) }}\n",
    "```\n"
   ]
  },
  {
   "cell_type": "code",
   "execution_count": null,
   "metadata": {},
   "outputs": [],
   "source": [
    "plantilla = entorno.get_template(\"importadora.txt\")"
   ]
  },
  {
   "cell_type": "code",
   "execution_count": null,
   "metadata": {},
   "outputs": [],
   "source": [
    "print(plantilla.render())"
   ]
  },
  {
   "cell_type": "markdown",
   "metadata": {},
   "source": [
    "## Herencia de plantillas.\n",
    "\n",
    "*Jinja* tiene la capacidad de aprovechar plantillas que pueden ser modificadas utilizando el concepto de bloques.\n",
    "\n",
    "### Bloques.\n",
    "Los bloques son etiquetas que lleva un nombre y que se definen con la siguiente sintaxis:\n",
    "\n",
    "```\n",
    "{% block <nombre> %}\n",
    "...\n",
    "...\n",
    "{% endblock% }\n",
    "```\n",
    "Los bloques pueden ser anidados.\n",
    "\n",
    "### Herencia con ```extends```.\n",
    "\n",
    "Es posible crear una nueva plantilla partir de mediante la siguiente sintaxis:\n",
    "\n",
    "```{% extends '<ruta de la platilla de origen>' %}\n",
    "```\n",
    "\n",
    "Esto traerá consigo el contenido completo de la plantilla de origen y es posible sobrescribir los bloques simpremente redefiniéndolos."
   ]
  },
  {
   "cell_type": "markdown",
   "metadata": {},
   "source": [
    "**Ejemplo:**\n",
    "\n",
    "* El archivo [```templates/plantilla_base.html```](templates/plantilla_base.html) contiene el siguiente código que define los bloques:\n",
    "    * ```head```.\n",
    "    * ```title```.\n",
    "    * ```content```.\n",
    "    * ```footer```.\n",
    "\n",
    "\n",
    "``` html\n",
    "<!DOCTYPE html>\n",
    "<html>\n",
    "<head>\n",
    "    {% block head %}\n",
    "    <link rel=\"stylesheet\" href=\"style.css\" />\n",
    "    <title>Bienvenidos a {% block title%}Pythonista{% endblock %}</title>\n",
    "    {% endblock %}\n",
    "</head>\n",
    "<body>\n",
    "    <div id=\"content\">{% block content %}Hola, Bienvenidos.{% endblock %}</div>\n",
    "    <div id=\"footer\">\n",
    "        {% block footer %}\n",
    "        &copy; Copyright 2022 <a href=\"https://www.pythonista.io/\">Pythonista®.</a>\n",
    "        {% endblock %}\n",
    "    </div>\n",
    "</body>\n",
    "```"
   ]
  },
  {
   "cell_type": "code",
   "execution_count": null,
   "metadata": {},
   "outputs": [],
   "source": [
    "plantilla = entorno.get_template(\"plantilla_base.html\")"
   ]
  },
  {
   "cell_type": "code",
   "execution_count": null,
   "metadata": {},
   "outputs": [],
   "source": [
    "print(plantilla.render())"
   ]
  },
  {
   "cell_type": "code",
   "execution_count": null,
   "metadata": {},
   "outputs": [],
   "source": [
    "HTML(plantilla.render())"
   ]
  },
  {
   "cell_type": "markdown",
   "metadata": {},
   "source": [
    "El archivo [```templates/plantilla_hija.html```](templates/plantilla_hija.html) contiene el siguiente código, el cual hereda el código del archivo ```templates/plantilla_base.html``` y sustituye los bloques:\n",
    "\n",
    "* ```title```.\n",
    "* ```footer```.\n",
    "\n",
    "\n",
    "``` html\n",
    "{% extends \"plantilla_base.html\" %}\n",
    "{% block title %} Cloudevel {%endblock %}\n",
    "{% block footer %}\n",
    "    &copy; Copyright 2022 <a href=\"https://www.cloudevel.com/\">Cloudevel®.</a>\n",
    "{% endblock %}\n",
    "```"
   ]
  },
  {
   "cell_type": "code",
   "execution_count": null,
   "metadata": {
    "scrolled": true
   },
   "outputs": [],
   "source": [
    "plantilla = entorno.get_template(\"plantilla_hija.html\")"
   ]
  },
  {
   "cell_type": "code",
   "execution_count": null,
   "metadata": {},
   "outputs": [],
   "source": [
    "print(plantilla.render())"
   ]
  },
  {
   "cell_type": "code",
   "execution_count": null,
   "metadata": {},
   "outputs": [],
   "source": [
    "HTML((plantilla.render()))"
   ]
  },
  {
   "cell_type": "markdown",
   "metadata": {},
   "source": [
    "### La función ```super()```.\n",
    "\n",
    "Esta función de *Jinja* es similar a la ```super()``` de *Python*, y permite traer el contenido del bloque original para ser reutilizado en el nuevo bloque."
   ]
  },
  {
   "cell_type": "markdown",
   "metadata": {},
   "source": [
    "**Ejemplo:**\n",
    "\n",
    "El archivo [```templates/plantilla_superpuesta.html```](templates/plantilla_superpuesta.html) contiene el siguiente código, el cual hereda el código del archivo ```templates/plantilla_base.html```, pero usa la función ```super()``` para recuperar el bloque de texto que sobreescribió.\n",
    "\n",
    "``` html\n",
    "{% extends \"plantilla_base.html\" %}\n",
    "{% block title %} \n",
    "Cloudevel, empresa hermana de \n",
    "{{ super() }}\n",
    "{%endblock %}\n",
    "{% block footer %}\n",
    "    &copy; Copyright 2022 <a href=\"https://www.cloudevel.com/\">Cloudevel®.</a>\n",
    "    <br/>\n",
    "{{ super() }}\n",
    "{% endblock %}\n",
    "```\n",
    "\n"
   ]
  },
  {
   "cell_type": "code",
   "execution_count": null,
   "metadata": {
    "scrolled": true
   },
   "outputs": [],
   "source": [
    "plantilla = entorno.get_template(\"plantilla_superpuesta.html\")"
   ]
  },
  {
   "cell_type": "code",
   "execution_count": null,
   "metadata": {},
   "outputs": [],
   "source": [
    "print(plantilla.render())"
   ]
  },
  {
   "cell_type": "code",
   "execution_count": null,
   "metadata": {},
   "outputs": [],
   "source": [
    "HTML(plantilla.render())"
   ]
  },
  {
   "cell_type": "markdown",
   "metadata": {},
   "source": [
    "<p style=\"text-align: center\"><a rel=\"license\" href=\"http://creativecommons.org/licenses/by/4.0/\"><img alt=\"Licencia Creative Commons\" style=\"border-width:0\" src=\"https://i.creativecommons.org/l/by/4.0/80x15.png\" /></a><br />Esta obra está bajo una <a rel=\"license\" href=\"http://creativecommons.org/licenses/by/4.0/\">Licencia Creative Commons Atribución 4.0 Internacional</a>.</p>\n",
    "<p style=\"text-align: center\">&copy; José Luis Chiquete Valdivieso. 2022.</p>"
   ]
  }
 ],
 "metadata": {
  "kernelspec": {
   "display_name": "Python 3 (ipykernel)",
   "language": "python",
   "name": "python3"
  },
  "language_info": {
   "codemirror_mode": {
    "name": "ipython",
    "version": 3
   },
   "file_extension": ".py",
   "mimetype": "text/x-python",
   "name": "python",
   "nbconvert_exporter": "python",
   "pygments_lexer": "ipython3",
   "version": "3.9.2"
  }
 },
 "nbformat": 4,
 "nbformat_minor": 2
}
