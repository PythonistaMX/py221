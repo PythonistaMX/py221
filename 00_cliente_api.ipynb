{
 "cells": [
  {
   "cell_type": "markdown",
   "metadata": {},
   "source": [
    "[![pythonista](img/pythonista.png)](https://www.pythonista.io)"
   ]
  },
  {
   "cell_type": "markdown",
   "metadata": {},
   "source": [
    "# Cliente de la API con requests.\n",
    "\n",
    "En esta notebook se encuentra el código de un cliente capaz de consumir los servicios de los servidores creado en este curso.\n",
    "\n",
    "Es necesario que el servidor en la notebook se encuentre en ejecución."
   ]
  },
  {
   "cell_type": "code",
   "execution_count": null,
   "metadata": {},
   "outputs": [],
   "source": [
    "!pip install requests PyYAML"
   ]
  },
  {
   "cell_type": "code",
   "execution_count": null,
   "metadata": {},
   "outputs": [],
   "source": [
    "from requests import put, get, post, delete, patch\n",
    "import yaml"
   ]
  },
  {
   "cell_type": "code",
   "execution_count": null,
   "metadata": {},
   "outputs": [],
   "source": [
    "# host=\"http://localhost:5000\"\n",
    "host = \"https://py221-2111.uc.r.appspot.com\""
   ]
  },
  {
   "cell_type": "markdown",
   "metadata": {},
   "source": [
    "## Acceso a la raíz de la API.\n",
    "\n",
    "Regresará el listado completo de la base de datos en formato JSON."
   ]
  },
  {
   "cell_type": "code",
   "execution_count": null,
   "metadata": {},
   "outputs": [],
   "source": [
    "with get(f'{host}/api/') as r:\n",
    "    print(r.url)\n",
    "    print(r.status_code)\n",
    "    if r.headers['Content-Type'] == 'application/json':\n",
    "        print(r.json())\n",
    "    else:\n",
    "        print(\"Sin contenido JSON.\")"
   ]
  },
  {
   "cell_type": "markdown",
   "metadata": {},
   "source": [
    "## Búsqueda por número de cuenta mediante GET.\n",
    "* Regresará los datos en formato JSON del registro cuyo campo 'Cuenta' coincida con el número que se ingrese en la ruta.\n",
    "* En caso de que no exista un registro con ese número de cuenta, regresará un mensaje 404."
   ]
  },
  {
   "cell_type": "code",
   "execution_count": null,
   "metadata": {},
   "outputs": [],
   "source": [
    "with get(f'{host}/api/1231267') as r:\n",
    "    print(r.url)\n",
    "    print(r.status_code)\n",
    "    if r.headers['Content-Type'] == 'application/json':\n",
    "        print(r.json())\n",
    "    else:\n",
    "        print(\"Sin contenido JSON.\")"
   ]
  },
  {
   "cell_type": "markdown",
   "metadata": {},
   "source": [
    "## Creación de un nuevo registro mediante POST.\n",
    "* Creará un nuevo registro con la estructura de datos enviada en caso de que no exista un registro cuyo contenido del campo 'Cuenta' coincida con el numero ingresado en la URL y regresará los datos completos de dicho registro en formato JSON.\n",
    "* En caso de que exista un registro  cuyo contenido del campo 'Cuenta' coincida con el numero ingresado en la URL, regresará un mensaje 409.\n",
    "* En caso de que los datos no sean correctos, estén incompletos o no se apeguen a la estructura de datos, regresará un mensaje 400."
   ]
  },
  {
   "cell_type": "code",
   "execution_count": null,
   "metadata": {},
   "outputs": [],
   "source": [
    " data ={'al_corriente': True,\n",
    " 'carrera': 'Sistemas',\n",
    " 'nombre': 'Laura',\n",
    " 'primer_apellido': 'Robles',\n",
    " 'promedio': 9.2,\n",
    " 'semestre': 1}"
   ]
  },
  {
   "cell_type": "code",
   "execution_count": null,
   "metadata": {
    "scrolled": true
   },
   "outputs": [],
   "source": [
    "with post(f'{host}/api/1231268', json=data) as r:\n",
    "    print(r.url)\n",
    "    print(r.status_code)\n",
    "    if r.headers['Content-Type'] == 'application/json':\n",
    "        print(r.json())\n",
    "    else:\n",
    "        print(\"Sin contenido JSON.\")"
   ]
  },
  {
   "cell_type": "markdown",
   "metadata": {},
   "source": [
    "## Sustitución de un registro existente mediante PUT.\n",
    "\n",
    "* Sustituirá por completo un registro cuyo contenido del campo 'Cuenta' coincida con el numero ingresado en la URL con los datos enviados y regresará los datos completos del nuevo registro en formato JSON.\n",
    "* En caso de que no exista un registro cuyo contenido del campo 'Cuenta' coincida con el numero ingresado en la URL, regresará un mensaje 404.\n",
    "* En caso de que los datos no sean correctos, no estén completos o no se apeguen a la estructura de datos, regresará un mensaje 400.\n",
    "\n"
   ]
  },
  {
   "cell_type": "code",
   "execution_count": null,
   "metadata": {},
   "outputs": [],
   "source": [
    " data = {'al_corriente': True,\n",
    " 'carrera': 'Sistemas',\n",
    " 'nombre': 'Laura',\n",
    " 'primer_apellido': 'Robles',\n",
    " 'segundo_apellido': 'Sánchez',\n",
    " 'promedio': 10,\n",
    " 'semestre': 2}"
   ]
  },
  {
   "cell_type": "code",
   "execution_count": null,
   "metadata": {},
   "outputs": [],
   "source": [
    "with put(f'{host}/api/1231268', json=data) as r:\n",
    "    print(r.url)\n",
    "    print(r.status_code)\n",
    "    if r.headers['Content-Type'] == 'application/json':\n",
    "        print(r.json())\n",
    "    else:\n",
    "        print(\"Sin contenido JSON.\")"
   ]
  },
  {
   "cell_type": "markdown",
   "metadata": {},
   "source": [
    "## Enmienda de un registro existente con el método ```PATCH```."
   ]
  },
  {
   "cell_type": "code",
   "execution_count": null,
   "metadata": {},
   "outputs": [],
   "source": [
    "data = {'al_corriente': True,\n",
    "       'semestre': 10}"
   ]
  },
  {
   "cell_type": "code",
   "execution_count": null,
   "metadata": {},
   "outputs": [],
   "source": [
    "with patch(f'{host}/api/1231268', json=data) as r:\n",
    "    print(r.url)\n",
    "    print(r.status_code)\n",
    "    if r.headers['Content-Type'] == 'application/json':\n",
    "        print(r.json())\n",
    "    else:\n",
    "        print(\"Sin contenido JSON.\")"
   ]
  },
  {
   "cell_type": "markdown",
   "metadata": {},
   "source": [
    "## Eliminación de un registro existente mediante DELETE.\n",
    "* Eliminará un registro cuyo contenido del campo 'Cuenta' coincida con el numero ingresado en la URL y regresará los datos completos del registro eliminado en formato JSON.\n",
    "* En caso de que no exista un registro cuyo contenido del campo 'Cuenta' coincida con el numero ingresado en la URL, regresará un mensaje 404."
   ]
  },
  {
   "cell_type": "code",
   "execution_count": null,
   "metadata": {},
   "outputs": [],
   "source": [
    "with delete(f'{host}/api/1231268') as r:\n",
    "    print(r.url)\n",
    "    print(r.status_code)\n",
    "    if r.headers['Content-Type'] == 'application/json':\n",
    "        print(r.json())\n",
    "    else:\n",
    "        print(\"Sin contenido JSON.\")"
   ]
  },
  {
   "cell_type": "markdown",
   "metadata": {},
   "source": [
    "## La documentación de *Swagger*."
   ]
  },
  {
   "cell_type": "code",
   "execution_count": null,
   "metadata": {
    "scrolled": false
   },
   "outputs": [],
   "source": [
    "with get('f'{host}/swagger/') as r:\n",
    "    print(r.url)\n",
    "    print(r.status_code)\n",
    "    if r.headers['Content-Type'] == 'application/json':\n",
    "        print(yaml.dump(r.json()))\n",
    "    else:\n",
    "        print(\"Sin contenido JSON.\")"
   ]
  },
  {
   "cell_type": "markdown",
   "metadata": {},
   "source": [
    "<p style=\"text-align: center\"><a rel=\"license\" href=\"http://creativecommons.org/licenses/by/4.0/\"><img alt=\"Licencia Creative Commons\" style=\"border-width:0\" src=\"https://i.creativecommons.org/l/by/4.0/80x15.png\" /></a><br />Esta obra está bajo una <a rel=\"license\" href=\"http://creativecommons.org/licenses/by/4.0/\">Licencia Creative Commons Atribución 4.0 Internacional</a>.</p>\n",
    "<p style=\"text-align: center\">&copy; José Luis Chiquete Valdivieso. 2022.</p>"
   ]
  }
 ],
 "metadata": {
  "kernelspec": {
   "display_name": "Python 3 (ipykernel)",
   "language": "python",
   "name": "python3"
  },
  "language_info": {
   "codemirror_mode": {
    "name": "ipython",
    "version": 3
   },
   "file_extension": ".py",
   "mimetype": "text/x-python",
   "name": "python",
   "nbconvert_exporter": "python",
   "pygments_lexer": "ipython3",
   "version": "3.9.7"
  }
 },
 "nbformat": 4,
 "nbformat_minor": 2
}
