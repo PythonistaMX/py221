{
 "cells": [
  {
   "cell_type": "markdown",
   "metadata": {},
   "source": [
    "[![img/pythonista.png](img/pythonista.png)](https://www.pythonista.io)"
   ]
  },
  {
   "cell_type": "markdown",
   "metadata": {},
   "source": [
    "# Control de acceso mediante usuario y contraseña."
   ]
  },
  {
   "cell_type": "markdown",
   "metadata": {},
   "source": [
    "## La extensión Flask-Security.\n",
    "\n",
    "Flask cuenta con varias extensiones enfocadas a garantizar la seguridad de los servicios web. Una de ellas es [*Flask-Security*](https://pythonhosted.org/Flask-Security/), la cual a su vez hace uso de las extensiones y módulos:\n",
    "\n",
    "* [Flask-Login](https://flask-login.readthedocs.io/).\n",
    "* [Flask-Mail](https://pythonhosted.org/Flask-Mail/).\n",
    "* [Flask-Principal](https://pythonhosted.org/Flask-Principal/).\n",
    "* [Flask-WTF](https://flask-wtf.readthedocs.io/).\n",
    "* [itsdangerous](https://itsdangerous.palletsprojects.com).\n",
    "* [passlib](https://passlib.readthedocs.io/).\n",
    "\n",
    "Es necesario contar con un sistema de generación de *hash* como [*bcrypt*](https://pypi.org/project/bcrypt).\n",
    "\n",
    "Esta extensión controla el proceso de alta, registro e incluso recuperación por correo electrónico de usuarios, contraseñas y roles."
   ]
  },
  {
   "cell_type": "code",
   "execution_count": null,
   "metadata": {
    "scrolled": true
   },
   "outputs": [],
   "source": [
    "!pip install flask-security flask-sqlalchemy bcrypt email-validator"
   ]
  },
  {
   "cell_type": "markdown",
   "metadata": {},
   "source": [
    "## Ejemplo de una aplicación básica con *Flask-Security* y el *Flask-SQLAlchemy*.\n",
    "\n",
    "Esta es una versión modificada del ejemplo localizado en https://pythonhosted.org/Flask-Security/quickstart.html#sqlalchemy-application. \n",
    "\n",
    "El uso de *Flask-Security* es aún más extenso, pero para los fines de este curso sólo se explorarán los aspectos más básicos."
   ]
  },
  {
   "cell_type": "markdown",
   "metadata": {},
   "source": [
    "### Importación de los módulos y paquetes.\n",
    "\n",
    "* La extensión cuenta con objetos capaces de conectarse al ORM de *SQLAlchemy* y crear tablas especializadas para gestión de usuarios y roles en la base de datos.\n",
    "* El uso de *mixins* facilita la creación de clases que contengan métodos compatibles con la extensión."
   ]
  },
  {
   "cell_type": "code",
   "execution_count": null,
   "metadata": {},
   "outputs": [],
   "source": [
    "from flask import Flask\n",
    "from flask_sqlalchemy import SQLAlchemy\n",
    "from flask_security import Security, SQLAlchemyUserDatastore, \\\n",
    "    UserMixin, RoleMixin, login_required"
   ]
  },
  {
   "cell_type": "markdown",
   "metadata": {},
   "source": [
    "### Creación y configuración de la aplicación de Flask.\n",
    "\n",
    "Para poder utilizar *Flask-Security* es necesario incluir algunos parámetros de configuración de *Flask-SQLAlchemy* tales como:\n",
    "\n",
    "* ```'SECRET_KEY'```, el cual es utilizado por *Flask-WTF* para saegurar los formularios.\n",
    "* ```'SECURITY_PASSWORD_SALT'```, el cual sirve para cifrar las contraseñas."
   ]
  },
  {
   "cell_type": "code",
   "execution_count": null,
   "metadata": {},
   "outputs": [],
   "source": [
    "app = Flask(__name__)\n",
    "app.config['SECRET_KEY'] = 'secretísimo'\n",
    "app.config['SQLALCHEMY_DATABASE_URI'] = 'sqlite:///data/usuarios.db'\n",
    "app.config['SQLALCHEMY_TRACK_MODIFICATIONS'] = False\n",
    "app.config['SECURITY_PASSWORD_SALT'] = 'ultra-secreto'\n",
    "db = SQLAlchemy(app)"
   ]
  },
  {
   "cell_type": "markdown",
   "metadata": {},
   "source": [
    "## Definición de las tablas de usuarios y roles.\n",
    "\n",
    "Se crearán varias tablas y clases.\n",
    "\n",
    "\n",
    "**Advertencia:** para evitar conflictos es necesario eliminar el archivo ```usuarios.db``` localizado en el directorio [```data```](data) en caso de que exista."
   ]
  },
  {
   "cell_type": "markdown",
   "metadata": {},
   "source": [
    "### Creación de la tabla de roles con la clase ```db.Table```. \n",
    "\n",
    "La clase ```db.Table()``` permite definir un objeto ligado a una tabla en la base de datos, ingresando objetos instanciados de ```db.Column``` como argumentos para el método ```__init__()``` del objeto instanciado.\n",
    "\n",
    "Cabe hacer notar que la tabla ```roles``` contiene las columnas ```id_usuario``` e ```id_rol```, las cuales están ligadas a los atributos ```usuario.id``` y ```rol.id``` respectivamente.\n",
    "\n",
    "La clase ```db.ForeginKey``` liga a un campo ligado a la columna de otra tabla."
   ]
  },
  {
   "cell_type": "code",
   "execution_count": null,
   "metadata": {},
   "outputs": [],
   "source": [
    "roles_usuarios = db.Table('roles',\n",
    "        db.Column('id_usuario', db.Integer(), db.ForeignKey('usuario.id')),\n",
    "        db.Column('id_rol', db.Integer(), db.ForeignKey('rol.id')))"
   ]
  },
  {
   "cell_type": "markdown",
   "metadata": {},
   "source": [
    "### Creación de las tablas ```rol``` y ```usuario``` .\n",
    "\n",
    "Los mixins ```RoleMixin``` y ```UserMixin``` ya contienen atributos y métodos capaces de crear tablas sin necesidad de definirlas explícitamente y ligar los objetos instanciados a dichas tablas. Por ello se crearán las tablas ```rol``` y ```usuario``` sin necesidad de especificarlo.\n",
    "\n",
    "El atributo ```Usuario.roles``` utiliza la función ```db.relationship()``` para definir una relacion ente a la clase ```Usuario``` y la clase ```Rol``` que se refleja en el objeto ```roles_usuarios```. Es decir, un usuario puede tener múltiples roles y esta relación de roles es guardada en la tabla ```roles```, ligada al objeto ```roles_usuarios```."
   ]
  },
  {
   "cell_type": "code",
   "execution_count": null,
   "metadata": {},
   "outputs": [],
   "source": [
    "class Rol(db.Model, RoleMixin):\n",
    "    id = db.Column(db.Integer(), primary_key=True)\n",
    "    name = db.Column(db.String(80), unique=True)\n",
    "    description = db.Column(db.String(255))\n",
    "\n",
    "class Usuario(db.Model, UserMixin):\n",
    "    id = db.Column(db.Integer, primary_key=True)\n",
    "    email = db.Column(db.String(255), unique=True)\n",
    "    password = db.Column(db.String(255))\n",
    "    active = db.Column(db.Boolean())\n",
    "    roles = db.relationship('Rol', secondary=roles_usuarios,\n",
    "                            backref=db.backref('usuarios', lazy='dynamic'))"
   ]
  },
  {
   "cell_type": "markdown",
   "metadata": {},
   "source": [
    "### Creación de las tablas en la base de datos.\n",
    "\n",
    "Se crean las tablas en la base de datos."
   ]
  },
  {
   "cell_type": "code",
   "execution_count": null,
   "metadata": {},
   "outputs": [],
   "source": [
    "db.create_all()"
   ]
  },
  {
   "cell_type": "markdown",
   "metadata": {},
   "source": [
    "Se puede comprobar el contenido de la base de datos de la siguiente manera:"
   ]
  },
  {
   "cell_type": "code",
   "execution_count": null,
   "metadata": {},
   "outputs": [],
   "source": [
    "%load_ext sql"
   ]
  },
  {
   "cell_type": "code",
   "execution_count": null,
   "metadata": {},
   "outputs": [],
   "source": [
    "%sql sqlite:///data/usuarios.db"
   ]
  },
  {
   "cell_type": "code",
   "execution_count": null,
   "metadata": {
    "scrolled": true
   },
   "outputs": [],
   "source": [
    "%sql select tbl_name from sqlite_master where type = 'table';"
   ]
  },
  {
   "cell_type": "markdown",
   "metadata": {},
   "source": [
    "### Creación del objeto que gestiona las operaciones de usuarios y roles.\n",
    "\n",
    "La extensión *Flask-Security* permite crear un objeto capaz de utilizar las tablas recién creadas para las operaciones de gestión de usuarios y roles mediante la clase ```flask_security.SQLAlchemyUserDatastore```."
   ]
  },
  {
   "cell_type": "code",
   "execution_count": null,
   "metadata": {},
   "outputs": [],
   "source": [
    "datastore_usuario = SQLAlchemyUserDatastore(db, Usuario, Rol)"
   ]
  },
  {
   "cell_type": "markdown",
   "metadata": {},
   "source": [
    "### Implementación de las operaciones de control de acceso  de la aplicación.\n",
    "\n",
    "La clase ```Security``` permite crear un objeto el cual realiza las operaciones de control de acceso de la aplicación."
   ]
  },
  {
   "cell_type": "code",
   "execution_count": null,
   "metadata": {},
   "outputs": [],
   "source": [
    "seguridad = Security(app, datastore_usuario)"
   ]
  },
  {
   "cell_type": "markdown",
   "metadata": {},
   "source": [
    "### Creación de un usario nuevo."
   ]
  },
  {
   "cell_type": "code",
   "execution_count": null,
   "metadata": {},
   "outputs": [],
   "source": [
    "datastore_usuario.create_user(email='contacto@pythonista.io', password='Jupyter')\n",
    "db.session.commit()"
   ]
  },
  {
   "cell_type": "code",
   "execution_count": null,
   "metadata": {},
   "outputs": [],
   "source": [
    "%sql select * from usuario"
   ]
  },
  {
   "cell_type": "markdown",
   "metadata": {},
   "source": [
    "### Función de vista que requiere control de acceso mediante usuario y contraseña.\n",
    "\n",
    "La función ```flask_security.login_required()``` aplicada como un decorador sobre la función ```home()``` indica que es necesario registrarse para pdoer acceder."
   ]
  },
  {
   "cell_type": "code",
   "execution_count": null,
   "metadata": {},
   "outputs": [],
   "source": [
    "@app.route('/')\n",
    "@login_required\n",
    "def home():\n",
    "    return 'Hola'"
   ]
  },
  {
   "cell_type": "markdown",
   "metadata": {},
   "source": [
    "### Ejecución de la aplicación.\n",
    "\n",
    "Se ejecutará un servidor en http://localhost:5000 que pedirá un usuario y contraseña válidos para poder acceder.\n",
    "\n",
    "**Advertencia:** Una vez ejecutada la siguente celda es necesario interrumpir el kernel de Jupyter para poder ejecutar el resto de las celdas de la notebook."
   ]
  },
  {
   "cell_type": "code",
   "execution_count": null,
   "metadata": {},
   "outputs": [],
   "source": [
    "#Si no se define el parámetro host, flask sólo será visible desde localhost\n",
    "# app.run(host='localhost')\n",
    "app.run('0.0.0.0')"
   ]
  },
  {
   "cell_type": "markdown",
   "metadata": {},
   "source": [
    "<p style=\"text-align: center\"><a rel=\"license\" href=\"http://creativecommons.org/licenses/by/4.0/\"><img alt=\"Licencia Creative Commons\" style=\"border-width:0\" src=\"https://i.creativecommons.org/l/by/4.0/80x15.png\" /></a><br />Esta obra está bajo una <a rel=\"license\" href=\"http://creativecommons.org/licenses/by/4.0/\">Licencia Creative Commons Atribución 4.0 Internacional</a>.</p>\n",
    "<p style=\"text-align: center\">&copy; José Luis Chiquete Valdivieso. 2021.</p>"
   ]
  }
 ],
 "metadata": {
  "kernelspec": {
   "display_name": "Python 3 (ipykernel)",
   "language": "python",
   "name": "python3"
  },
  "language_info": {
   "codemirror_mode": {
    "name": "ipython",
    "version": 3
   },
   "file_extension": ".py",
   "mimetype": "text/x-python",
   "name": "python",
   "nbconvert_exporter": "python",
   "pygments_lexer": "ipython3",
   "version": "3.9.2"
  }
 },
 "nbformat": 4,
 "nbformat_minor": 2
}
