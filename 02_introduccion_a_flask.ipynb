{
 "cells": [
  {
   "cell_type": "markdown",
   "metadata": {},
   "source": [
    "[![img/pythonista.png](img/pythonista.png)](https://www.pythonista.io)"
   ]
  },
  {
   "cell_type": "markdown",
   "metadata": {},
   "source": [
    "# Introducción a *Flask*."
   ]
  },
  {
   "cell_type": "markdown",
   "metadata": {},
   "source": [
    "[*Flask*](https://flask.palletsprojects.com) es conocido como un \"*microframework*\". Es decir, que a diferencia de proyectos como *Django* que viene \"con las pilas incluidas\", *Flask* solamente contiene funcionalidades básicas tales como:\n",
    "\n",
    "* Un servidor de aplicaciones basado en la biblioteca [*Werkzeug*](https://werkzeug.palletsprojects.com/).\n",
    "* Soporte de Plantillas por medio de [*Jinja*](https://jinja.palletsprojects.com).\n",
    "* Una herramienta de depuración.\n",
    "* Soporte para pruebas unitarias.\n",
    "* Soporte para cookies seguras.\n",
    "* Soporte para desarrollo de instrucciones por medio de la interfaz de línea de comandos (*CLI*) mediante [*Click*](https://click.palletsprojects.com/)."
   ]
  },
  {
   "cell_type": "markdown",
   "metadata": {},
   "source": [
    "## Las extensiones de *Flask*.\n",
    "\n",
    "Aún cuando la instalación básica de *Flask* contiene componentes mínimos, el proyecto cuenta  con un amplio catáĺogo de extensiones disponibles en la siguiente liga: \n",
    "\n",
    "https://flask.palletsprojects.com/en/2.0.x/extensions/"
   ]
  },
  {
   "cell_type": "markdown",
   "metadata": {},
   "source": [
    "## Instalación del paquete ```flask```.\n",
    "\n",
    "El paquete ```flask``` se puede encontrar dentro del catalogo de [*pypi*](https://pypi.org/project/Flask/) y puede ser instalado mediante ```pip```."
   ]
  },
  {
   "cell_type": "code",
   "execution_count": null,
   "metadata": {},
   "outputs": [],
   "source": [
    "!pip install flask"
   ]
  },
  {
   "cell_type": "markdown",
   "metadata": {},
   "source": [
    "## La clase ```flask.Flask```.\n",
    "\n",
    "La clase ```flask.Flask``` es el componente principal del framework. Los objetos instanciados a partir de esta clase realizarán todas las funciones del servidor de aplicaciones.\n",
    "\n",
    "El único parámetro requerido obligatoriamente al instanciar un objeto de tipo ```Flask``` es el nombre de la aplicación, el cual de principio corresponde al objeto asignado al nombre del entorno global ```__name__```.\n",
    "\n",
    "Solamente si se piensa en utilizar un objeto de tipo ```Flask``` dentro de un paquete, el nombre deber de ser cambiado por el nombre del paquete.\n",
    "\n",
    "**Sintaxis:**\n",
    "\n",
    "``` python\n",
    "<nombre> = flask.Flask(<nombre de la aplicación>)\n",
    "```\n",
    "\n",
    "**Nota:** aún cuando puede asignársele cualquier nombre, se utiliza el nombre ```app``` por convención. En adelante se usará dicha convención para hacer referencia a un objeto instanciado de la clase ```flask.Flask```. "
   ]
  },
  {
   "cell_type": "markdown",
   "metadata": {},
   "source": [
    "**Ejemplo:**\n",
    "\n",
    "Las siguientes líneas de código asigna el nombre ```app``` al objeto instanciado de la clase ```Flask```, ingresando el nombre ```_name__``` como argumento."
   ]
  },
  {
   "cell_type": "code",
   "execution_count": null,
   "metadata": {},
   "outputs": [],
   "source": [
    "from flask import Flask\n",
    "app = Flask(__name__)"
   ]
  },
  {
   "cell_type": "code",
   "execution_count": null,
   "metadata": {},
   "outputs": [],
   "source": [
    "app"
   ]
  },
  {
   "cell_type": "markdown",
   "metadata": {},
   "source": [
    "## El atributo ```app.config```. "
   ]
  },
  {
   "cell_type": "markdown",
   "metadata": {},
   "source": [
    "El atributo ```app.config``` es un objeto instanciado de una subclase de ```dict``` que sirve como el recurso usado para consultar, añadir o modificar los parámetros de configuración de la aplicación, incluyendo aquellas que son utulizadas por las extensiones de *Flask*.\n",
    "\n",
    "La documentación de ```app.config``` puede ser consultada en:\n",
    "\n",
    "https://flask.palletsprojects.com/en/2.0.x/config/"
   ]
  },
  {
   "cell_type": "code",
   "execution_count": null,
   "metadata": {},
   "outputs": [],
   "source": [
    "app.config"
   ]
  },
  {
   "cell_type": "markdown",
   "metadata": {},
   "source": [
    "### Opciones comunes de ```app.config```.\n",
    "\n",
    "* ```app.config['ENV']```, la cual define el entorno en el que se ejecutará la aplicación y que corresponde a:\n",
    "    * ```'production'``` para entornos en producción.\n",
    "    * ```'development'``` para entornos de desarrollo.\n",
    "* ```app.config['DEBUG']```, la cual indica si la aplicación se ejecutará en modo de depuración en caso de que sea ```True```.\n",
    "* ```app.config['TESTING']```, la cual indica si la aplicación está corriendo pruebas, en caso de que sea ```True```. \n",
    "* ```app.config['SECRET_KEY']```, la cual define la clave base a partir de la cual se construirán los *hash* de cifrado. "
   ]
  },
  {
   "cell_type": "markdown",
   "metadata": {},
   "source": [
    "**Ejemplos:**"
   ]
  },
  {
   "cell_type": "code",
   "execution_count": null,
   "metadata": {},
   "outputs": [],
   "source": [
    "app.config['ENV']"
   ]
  },
  {
   "cell_type": "code",
   "execution_count": null,
   "metadata": {},
   "outputs": [],
   "source": [
    "app.config['DEBUG']"
   ]
  },
  {
   "cell_type": "code",
   "execution_count": null,
   "metadata": {},
   "outputs": [],
   "source": [
    "app.config['TESTING']"
   ]
  },
  {
   "cell_type": "code",
   "execution_count": null,
   "metadata": {},
   "outputs": [],
   "source": [
    "app.config['SECRET_KEY']"
   ]
  },
  {
   "cell_type": "markdown",
   "metadata": {},
   "source": [
    "### Métodos  para la carga de configuraciones de  ```app.config``` .\n",
    "\n",
    "Algunos valores de configuración de ```app.config``` pueden contener contraseñas o datos sensibles que por seguridad no deben de ser incluidos en el código de la aplicación.\n",
    "\n",
    "Es por ello que los siguientes métodos permiten cargar los parámetros de configuración de ```app.config``` desde un archivo u objeto.\n",
    "\n",
    "```\n",
    "<método>(<ruta>)\n",
    "```\n",
    "Donde: \n",
    "* <método> es uno de los siguientes métodos:\n",
    "    * ```app.config.from_file()```\n",
    "    * ```app.config.from_json()```\n",
    "    * ```app.config.from_pyfile()```"
   ]
  },
  {
   "cell_type": "markdown",
   "metadata": {},
   "source": [
    "**Ejemplo:**"
   ]
  },
  {
   "cell_type": "markdown",
   "metadata": {},
   "source": [
    "* La siguiente celda importará la configuración del archivo ```settings.cfg```. "
   ]
  },
  {
   "cell_type": "code",
   "execution_count": null,
   "metadata": {
    "scrolled": true
   },
   "outputs": [],
   "source": [
    "app.config.from_pyfile('settings.cfg')"
   ]
  },
  {
   "cell_type": "code",
   "execution_count": null,
   "metadata": {},
   "outputs": [],
   "source": [
    "%pycat settings.cfg"
   ]
  },
  {
   "cell_type": "code",
   "execution_count": null,
   "metadata": {},
   "outputs": [],
   "source": [
    "app.config['SECRET_KEY']"
   ]
  },
  {
   "cell_type": "markdown",
   "metadata": {},
   "source": [
    "## Rutas y funciones de vista.\n",
    "\n",
    "Cuando un cliente realiza una petición al servidor de aplicaciones de *Flask*, ésta debe de corresponder a una ruta válida capaz de gestionar dicha petición. De lo contrario, el servidor de *Flask* regresará un estado ```404```.\n",
    "\n",
    "**Nota:** las respuestas que envía el servidor de aplicaciones de *Flask* son documentos *HTML* por defecto."
   ]
  },
  {
   "cell_type": "markdown",
   "metadata": {},
   "source": [
    "## El método ```app.route()```.\n",
    "\n",
    " \n",
    "El método ```app.route()``` es una función de orden superior que al ser usada como decorador, permite ligar a una ruta con una función.\n",
    "\n",
    "\n",
    "```\n",
    "@app.route(<regla de url>, methods=<métodos>)\n",
    "def <vista>():\n",
    "    ...\n",
    "    ...\n",
    "```\n",
    "\n",
    "Donde:\n",
    "\n",
    "* ```<regla de url>``` es un objeto ```str``` que define la ruta a la que se asociará una función de vista. \n",
    "* ```<métodos>``` es un objeto de tipo ```list``` que contiene los nombres en formato ```str``` de los métodos *HTTP*. El valor por defecto es ```[\"GET\"]```.\n",
    "* ```<función de vista>``` es la definición de una función cuyo resultado será enviado al cliente quen realice una petición a la ruta indicada."
   ]
  },
  {
   "cell_type": "markdown",
   "metadata": {},
   "source": [
    "**Ejemplo:**"
   ]
  },
  {
   "cell_type": "markdown",
   "metadata": {},
   "source": [
    "La siguiente celda creará una regla de *URL* para el directorio raíz del servidor de aplicaciones, la cual enviará como mensaje de respuesta un documento *HTML*, el cual contendrá el texto ```<p>Hola, Mundo.</p>```"
   ]
  },
  {
   "cell_type": "code",
   "execution_count": null,
   "metadata": {},
   "outputs": [],
   "source": [
    "@app.route('/')\n",
    "def inicio():\n",
    "    return '<p>Hola, Mundo.</p>'"
   ]
  },
  {
   "cell_type": "markdown",
   "metadata": {},
   "source": [
    "## El método ```app.run()```.\n",
    "\n",
    "El método ```app.run()``` es el encargado de levantar el servidor web. Es posible ingresar algunos parámetros iniciales tales como:\n",
    "\n",
    "\n",
    "```\n",
    "app.run(<parámetros>)\n",
    "```\n",
    "\n",
    "* El parámetro ```host``` al cual se le asignaría un objeto de tipo ```str``` que definiría el rango de las direcciones *IP* que puede escuchar. El valor inicial es ```'localhost'```, pero se puede especificar el rango de direcciones *IP* al que se desee atender. Por ejemplo, ```'0.0.0.0'``` indica que el servidor de aplicaciones escuchará a todas las direcciones *IP*.\n",
    "* El parámetro ```port``` corresponde a un número entero cuyo valor predetermiando es ```5000``` y defiene el puerto al que el servicio será asignado.\n",
    "* El parámetro ```debug``` permite a *Flask* entrar en modo de depuración y su valor es un boolenado que por defecto es ```False```.\n"
   ]
  },
  {
   "cell_type": "markdown",
   "metadata": {},
   "source": [
    "**Ejemplo:**"
   ]
  },
  {
   "cell_type": "code",
   "execution_count": null,
   "metadata": {},
   "outputs": [],
   "source": [
    "app.run(host=\"0.0.0.0\", port=5000)"
   ]
  },
  {
   "cell_type": "markdown",
   "metadata": {},
   "source": [
    "<p style=\"text-align: center\"><a rel=\"license\" href=\"http://creativecommons.org/licenses/by/4.0/\"><img alt=\"Licencia Creative Commons\" style=\"border-width:0\" src=\"https://i.creativecommons.org/l/by/4.0/80x15.png\" /></a><br />Esta obra está bajo una <a rel=\"license\" href=\"http://creativecommons.org/licenses/by/4.0/\">Licencia Creative Commons Atribución 4.0 Internacional</a>.</p>\n",
    "<p style=\"text-align: center\">&copy; José Luis Chiquete Valdivieso. 2022.</p>"
   ]
  }
 ],
 "metadata": {
  "kernelspec": {
   "display_name": "Python 3 (ipykernel)",
   "language": "python",
   "name": "python3"
  },
  "language_info": {
   "codemirror_mode": {
    "name": "ipython",
    "version": 3
   },
   "file_extension": ".py",
   "mimetype": "text/x-python",
   "name": "python",
   "nbconvert_exporter": "python",
   "pygments_lexer": "ipython3",
   "version": "3.9.2"
  }
 },
 "nbformat": 4,
 "nbformat_minor": 2
}
