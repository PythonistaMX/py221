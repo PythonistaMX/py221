{
 "cells": [
  {
   "cell_type": "markdown",
   "metadata": {},
   "source": [
    "[![imagenes](imagenes/pythonista.png)](https://pythonista.io)"
   ]
  },
  {
   "cell_type": "markdown",
   "metadata": {},
   "source": [
    "# Páginas responsivas con la extensión Flask-Bootstrap."
   ]
  },
  {
   "cell_type": "markdown",
   "metadata": {},
   "source": [
    "## La extensión *Flask-Bootstrap*.\n",
    "\n",
    "[Bootstrap](https://getbootstrap.com/) es un marco de trabajo (framework) basada en Javascript y CSS cuyo propósito es el de facilitar el desarrollo de interfaces web responsivas. Aún cuando existen otras opciones, Bootstrap es una de las más populares.\n",
    "\n",
    "La extensión [Flask-Bootstrap](https://pythonhosted.org/Flask-Bootstrap/) permite crear páginas responsivas compatibles con las plantillas para Jinja 2.\n",
    "\n",
    "Para habilitar la extensión en una app de Flask se usa la siguiente sintaxis:\n",
    "\n",
    "```\n",
    "from flask_bootstrap import Bootstrap\n",
    "...\n",
    "...\n",
    "Bootstrap(<objeto tipo Flask>)\n",
    "```\n",
    "Las pantillas de la aplicación deben de heredar a la plantilla *'bootstrap/base.html'*\n",
    "\n",
    "Los bloques definidos por Flask-Boootstrap son:\n",
    "\n",
    "* *doc*. \t\n",
    "* *html*.\n",
    "* *head*. \n",
    "* *body*. \n",
    "* *body_attribs*. \t\n",
    "* *title*. \t\n",
    "* *styles*. \n",
    "* *metas*.\n",
    "* *navbar*.\n",
    "* *content*.\n",
    "* *scripts*."
   ]
  },
  {
   "cell_type": "code",
   "execution_count": 1,
   "metadata": {
    "scrolled": false
   },
   "outputs": [
    {
     "name": "stdout",
     "output_type": "stream",
     "text": [
      "Collecting flask-bootstrap\n",
      "  Downloading Flask-Bootstrap-3.3.7.1.tar.gz (456 kB)\n",
      "\u001b[K     |████████████████████████████████| 456 kB 841 kB/s eta 0:00:01\n",
      "\u001b[?25hRequirement already satisfied: Flask>=0.8 in /home/oi/pythonista/lib/python3.9/site-packages (from flask-bootstrap) (2.0.2)\n",
      "Collecting dominate\n",
      "  Downloading dominate-2.6.0-py2.py3-none-any.whl (29 kB)\n",
      "Collecting visitor\n",
      "  Downloading visitor-0.1.3.tar.gz (3.3 kB)\n",
      "Requirement already satisfied: Jinja2>=3.0 in /home/oi/pythonista/lib/python3.9/site-packages (from Flask>=0.8->flask-bootstrap) (3.0.2)\n",
      "Requirement already satisfied: Werkzeug>=2.0 in /home/oi/pythonista/lib/python3.9/site-packages (from Flask>=0.8->flask-bootstrap) (2.0.2)\n",
      "Requirement already satisfied: itsdangerous>=2.0 in /home/oi/pythonista/lib/python3.9/site-packages (from Flask>=0.8->flask-bootstrap) (2.0.1)\n",
      "Requirement already satisfied: click>=7.1.2 in /home/oi/pythonista/lib/python3.9/site-packages (from Flask>=0.8->flask-bootstrap) (8.0.3)\n",
      "Requirement already satisfied: MarkupSafe>=2.0 in /home/oi/pythonista/lib/python3.9/site-packages (from Jinja2>=3.0->Flask>=0.8->flask-bootstrap) (2.0.1)\n",
      "Building wheels for collected packages: flask-bootstrap, visitor\n",
      "  Building wheel for flask-bootstrap (setup.py) ... \u001b[?25ldone\n",
      "\u001b[?25h  Created wheel for flask-bootstrap: filename=Flask_Bootstrap-3.3.7.1-py3-none-any.whl size=460124 sha256=25c60941e7ed3a3a021fcc17a2081ff360dc9dcd8b24d3c3470d06d05a84c715\n",
      "  Stored in directory: /home/oi/.cache/pip/wheels/bb/41/c0/e09286bce2bca8d80bcaeccf519aa73b9747278e78ca83ce3f\n",
      "  Building wheel for visitor (setup.py) ... \u001b[?25ldone\n",
      "\u001b[?25h  Created wheel for visitor: filename=visitor-0.1.3-py3-none-any.whl size=3943 sha256=cc5490717d27956097349b8b6389fe44529450c198809d12dc0f8a1b43685821\n",
      "  Stored in directory: /home/oi/.cache/pip/wheels/cd/93/8e/b92d317bbcc888f0bdcd7df644ae49e8e0f1b4f738eec61b82\n",
      "Successfully built flask-bootstrap visitor\n",
      "Installing collected packages: visitor, dominate, flask-bootstrap\n",
      "Successfully installed dominate-2.6.0 flask-bootstrap-3.3.7.1 visitor-0.1.3\n",
      "\u001b[33mWARNING: You are using pip version 21.2.4; however, version 21.3.1 is available.\n",
      "You should consider upgrading via the '/home/oi/pythonista/bin/python -m pip install --upgrade pip' command.\u001b[0m\n"
     ]
    }
   ],
   "source": [
    "!pip install flask-bootstrap"
   ]
  },
  {
   "cell_type": "markdown",
   "metadata": {},
   "source": [
    "## Ejemplo.\n",
    "\n",
    "Se utilizará la extensión Flask-Bootstrap para gestionar el estilo de la aplicación ejecutándose desde http://localhost:5000 \n",
    "y se sobreescribirán algunos estilos con un archivo de hoja de estilo propio.\n",
    "\n",
    "En este ejemplo se utilizará la clase [*jumbotron*](https://getbootstrap.com/docs/4.0/components/jumbotron/) de Bootstrap.\n",
    "\n",
    "Se creará una aplicación que utilizará la platilla localizada en [*templates/ejemplo-bootstrap.html*](templates/ejemplo-bootstrap.html) que contiene lo siguiente:\n",
    "\n",
    "``` html\n",
    "{% extends \"bootstrap/base.html\" %}\n",
    "{% block title %}Página de prueba{% endblock %}\n",
    "\n",
    "\n",
    "{% block content %}\n",
    "<div class=\"jumbotron\">\n",
    "  <h1>Hola. Esta es la página de {{ mensaje }}.</h1>\n",
    "      <p> ¡Bienvenido!</p>\n",
    "</div>\n",
    "<p> Esta es una prueba simple del uso de Flask-Boostrap.</p>\n",
    "{% endblock %}\n",
    "\n",
    "\n",
    "{% block navbar %}\n",
    "<div id=\"navbar\">\n",
    " <ul>\n",
    "     <li><a href= {{url_for('index')}}>Inicio</a> </li>\n",
    "     <li><a href= {{url_for('apartado', nombre='Acerca de nosotros')}}>Acerca de nosotros</a> </li>\n",
    "     <li><a href= {{url_for('apartado', nombre='Contacto')}}>Contacto</a> </li>\n",
    "  </ul>\n",
    "  <!-- ... -->\n",
    "</div>\n",
    "{% endblock %}\n",
    "\n",
    "\n",
    "{% block styles %}\n",
    "{{super()}}\n",
    "<link rel=\"stylesheet\"\n",
    "      href=\"{{url_for('.static', filename='estilo.css')}}\">\n",
    "{% endblock %}\n",
    "\n",
    "```\n",
    "\n",
    "En el directorio [*static*](static) se creó el archivo de hojas de estilo [*static/estilo.css*](static/estilo.css) que contiene lo siguiente.\n",
    "\n",
    "``` css\n",
    "#navbar li {\n",
    "display:inline;\n",
    "padding-left: 2em;\n",
    "list-style-type: none;\n",
    "}\n",
    "#navbar a:link, #navbar a:visited {\n",
    "font-size: 110%;\n",
    "line-height: 1em;\n",
    "font-weight: normal;\n",
    "text-decoration: none;\n",
    "color: #CB5C14;\n",
    "background: no-repeat top center;\n",
    "}\n",
    "#navbar #navbar, #navbar a:hover {\n",
    "color: #000;\n",
    "background: transparent url(pyramid.gif) no-repeat top center;\n",
    "}\n",
    "```\n",
    "Este archivo de estilo sobreescribirá el comportamiento del elemento de clase *#navbar*.\n",
    "\n",
    "**Advertencia:** Una vez ejecutada la siguente celda es necesario interrumpir el kernel de Jupyter para poder ejecutar el resto de las celdas de la notebook."
   ]
  },
  {
   "cell_type": "code",
   "execution_count": null,
   "metadata": {},
   "outputs": [
    {
     "name": "stdout",
     "output_type": "stream",
     "text": [
      " * Serving Flask app '__main__' (lazy loading)\n",
      " * Environment: production\n",
      "\u001b[31m   WARNING: This is a development server. Do not use it in a production deployment.\u001b[0m\n",
      "\u001b[2m   Use a production WSGI server instead.\u001b[0m\n",
      " * Debug mode: off\n"
     ]
    },
    {
     "name": "stderr",
     "output_type": "stream",
     "text": [
      " * Running on all addresses.\n",
      "   WARNING: This is a development server. Do not use it in a production deployment.\n",
      " * Running on http://10.0.2.15:5000/ (Press CTRL+C to quit)\n",
      "10.0.2.2 - - [28/Oct/2021 21:12:28] \"GET / HTTP/1.1\" 200 -\n",
      "10.0.2.2 - - [28/Oct/2021 21:12:28] \"GET /static/estilo.css HTTP/1.1\" 200 -\n",
      "10.0.2.2 - - [28/Oct/2021 21:12:31] \"GET /static/pyramid.gif HTTP/1.1\" 200 -\n"
     ]
    }
   ],
   "source": [
    "from flask import Flask, render_template\n",
    "from flask_bootstrap import Bootstrap\n",
    "\n",
    "app = Flask(__name__)\n",
    "Bootstrap(app)\n",
    "\n",
    "@app.route('/')\n",
    "def index():\n",
    "    return render_template('ejemplo-bootstrap.html', mensaje='inicio')\n",
    "\n",
    "@app.route('/<nombre>')\n",
    "def apartado(nombre):\n",
    "    return render_template('ejemplo-bootstrap.html', mensaje=nombre)\n",
    "\n",
    "#Si no se define el parámetro host, flask sólo será visible desde localhost\n",
    "# app.run(host='localhost')    \n",
    "app.run('0.0.0.0')"
   ]
  },
  {
   "cell_type": "markdown",
   "metadata": {},
   "source": [
    "<p style=\"text-align: center\"><a rel=\"license\" href=\"http://creativecommons.org/licenses/by/4.0/\"><img alt=\"Licencia Creative Commons\" style=\"border-width:0\" src=\"https://i.creativecommons.org/l/by/4.0/80x15.png\" /></a><br />Esta obra está bajo una <a rel=\"license\" href=\"http://creativecommons.org/licenses/by/4.0/\">Licencia Creative Commons Atribución 4.0 Internacional</a>.</p>\n",
    "<p style=\"text-align: center\">&copy; José Luis Chiquete Valdivieso. 2018.</p>"
   ]
  }
 ],
 "metadata": {
  "kernelspec": {
   "display_name": "Python 3 (ipykernel)",
   "language": "python",
   "name": "python3"
  },
  "language_info": {
   "codemirror_mode": {
    "name": "ipython",
    "version": 3
   },
   "file_extension": ".py",
   "mimetype": "text/x-python",
   "name": "python",
   "nbconvert_exporter": "python",
   "pygments_lexer": "ipython3",
   "version": "3.9.2"
  }
 },
 "nbformat": 4,
 "nbformat_minor": 2
}
