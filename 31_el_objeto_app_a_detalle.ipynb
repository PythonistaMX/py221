{
 "cells": [
  {
   "cell_type": "markdown",
   "metadata": {},
   "source": [
    "[![img/pythonista.png](img/pythonista.png)](https://www.pythonista.io)"
   ]
  },
  {
   "cell_type": "markdown",
   "metadata": {},
   "source": [
    "# Introducción a *Flask*."
   ]
  },
  {
   "cell_type": "code",
   "execution_count": 1,
   "metadata": {},
   "outputs": [],
   "source": [
    "from flask import Flask, g, session, request, jsonify, Request\n",
    "app = Flask(__name__)"
   ]
  },
  {
   "cell_type": "code",
   "execution_count": 2,
   "metadata": {},
   "outputs": [],
   "source": [
    "@app.get('/')\n",
    "def saluda():\n",
    "    return('Hola')"
   ]
  },
  {
   "cell_type": "code",
   "execution_count": 3,
   "metadata": {},
   "outputs": [],
   "source": [
    "@app.post('/')\n",
    "def eco():\n",
    "    print(request.form.get('saluda'))\n",
    "    return request.content_type, request.form.get('saluda')"
   ]
  },
  {
   "cell_type": "code",
   "execution_count": 4,
   "metadata": {
    "scrolled": true
   },
   "outputs": [
    {
     "name": "stdout",
     "output_type": "stream",
     "text": [
      "<WrapperTestResponse streamed [200 OK]>\n",
      "200\n",
      "text/html; charset=utf-8\n",
      "b'Hola'\n"
     ]
    }
   ],
   "source": [
    "with app.test_client() as client:\n",
    "    r = client.get('/')\n",
    "    print(r)\n",
    "    print(r.status_code)\n",
    "    print(r.content_type)\n",
    "    print(r.data)"
   ]
  },
  {
   "cell_type": "code",
   "execution_count": 6,
   "metadata": {},
   "outputs": [
    {
     "name": "stdout",
     "output_type": "stream",
     "text": [
      "hola\n",
      "<WrapperTestResponse streamed [0 hola]>\n",
      "text/html; charset=utf-8\n"
     ]
    }
   ],
   "source": [
    "with app.test_client() as client:\n",
    "    r = client.post('/', data={'saluda':'hola'})\n",
    "    print(r)\n",
    "    print(r.content_type)"
   ]
  },
  {
   "cell_type": "markdown",
   "metadata": {},
   "source": [
    " 'add_url_rule',\n",
    " 'after_request',\n",
    " 'app_context',\n",
    " 'before_first_request',\n",
    " 'before_request',\n",
    " 'debug',\n",
    " 'delete',\n",
    " 'endpoint',\n",
    " 'env',\n",
    " 'extensions',\n",
    " 'get',\n",
    " 'got_first_request',\n",
    " 'has_static_folder',\n",
    " 'patch',\n",
    " 'post',\n",
    " 'put',\n",
    " 'register_blueprint',\n",
    " 'request_context',\n",
    " 'root_path',\n",
    " 'route',\n",
    " 'run',\n",
    " 'secret_key',\n",
    " 'static_folder',\n",
    " 'static_url_path',\n",
    " 'teardown_appcontext',\n",
    " 'teardown_request',,\n",
    " 'template_test',\n",
    " 'test_client',\n",
    " 'test_client_class',\n",
    " 'test_request_context',\n",
    " 'testing',\n",
    " 'try_trigger_before_first_request_functions',\n",
    " 'update_template_context',"
   ]
  },
  {
   "cell_type": "markdown",
   "metadata": {},
   "source": [
    "<p style=\"text-align: center\"><a rel=\"license\" href=\"http://creativecommons.org/licenses/by/4.0/\"><img alt=\"Licencia Creative Commons\" style=\"border-width:0\" src=\"https://i.creativecommons.org/l/by/4.0/80x15.png\" /></a><br />Esta obra está bajo una <a rel=\"license\" href=\"http://creativecommons.org/licenses/by/4.0/\">Licencia Creative Commons Atribución 4.0 Internacional</a>.</p>\n",
    "<p style=\"text-align: center\">&copy; José Luis Chiquete Valdivieso. 2021.</p>"
   ]
  }
 ],
 "metadata": {
  "kernelspec": {
   "display_name": "Python 3 (ipykernel)",
   "language": "python",
   "name": "python3"
  },
  "language_info": {
   "codemirror_mode": {
    "name": "ipython",
    "version": 3
   },
   "file_extension": ".py",
   "mimetype": "text/x-python",
   "name": "python",
   "nbconvert_exporter": "python",
   "pygments_lexer": "ipython3",
   "version": "3.9.2"
  }
 },
 "nbformat": 4,
 "nbformat_minor": 2
}
