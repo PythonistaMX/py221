{
 "cells": [
  {
   "cell_type": "markdown",
   "metadata": {},
   "source": [
    "[![img/pythonista.png](img/pythonista.png)](https://www.pythonista.io)"
   ]
  },
  {
   "cell_type": "markdown",
   "metadata": {},
   "source": [
    "# *URLs* y redireccionamiento."
   ]
  },
  {
   "cell_type": "markdown",
   "metadata": {},
   "source": [
    "## La función ```flask.url_for()```."
   ]
  },
  {
   "cell_type": "markdown",
   "metadata": {},
   "source": [
    "La función *url_for()* permite utilizar una función de vista como referencia en vez de su URL correspondiente con la siguiente sintaxis.\n",
    "\n",
    "``` python\n",
    "url_for(<nombre de la función>, values=<argumentos de la función>)\n",
    "```\n",
    "\n",
    "Dicha función cuenta además con algunos otros parámetros adicionales para definir métodos y referencias para la URL."
   ]
  },
  {
   "cell_type": "markdown",
   "metadata": {},
   "source": [
    "### El uso de la función ```flask.url_for()```  para archivos estáticos.\n",
    "\n",
    "*Flask* está configurado para utiliza el directorio ```static``` para acceder a archivos estáticos de tal forma que la función ```url_for()``` permite generar URL a archivos estáticos con la siguiente sintaxis:\n",
    "\n",
    "```\n",
    "url_for('static', filename='<nombre del archivo>')\n",
    "```"
   ]
  },
  {
   "cell_type": "markdown",
   "metadata": {},
   "source": [
    "**Ejemplo:**\n",
    "\n",
    "Se correrá una aplicación con dos funciones de vista.\n",
    "* La función de vista *index()* apunta http://localhost:5000.\n",
    "* La función de vista *usuario()* es dinámica para ```http://localhost:5000/<cadena de caracteres>``` despliega código HTML que utiliza a la función *url_for()* para la función *index()* y para un archivo estático.\n",
    "\n",
    "La URL http://localhost:5000/Juan ejemplifica el uso de la función *usuario()*.\n",
    "\n",
    "**Advertencia:** Una vez ejecutada la siguiente celda, es necesario interrumpir el kernel de Jupyter para poder ejecutar el resto de las celdas de la notebook."
   ]
  },
  {
   "cell_type": "markdown",
   "metadata": {},
   "source": [
    "## La función ```flask.redirect()```.\n",
    "\n",
    "Dicha función le indica al cliente que se redirija a una URL específica.\n",
    "\n",
    "```\n",
    "return flask.redirect('<URL>')\n",
    "```"
   ]
  },
  {
   "cell_type": "code",
   "execution_count": null,
   "metadata": {},
   "outputs": [],
   "source": [
    "from flask import Flask, url_for, redirect\n",
    "app = Flask(__name__)"
   ]
  },
  {
   "cell_type": "code",
   "execution_count": null,
   "metadata": {},
   "outputs": [],
   "source": [
    "@app.route('/')\n",
    "def index():\n",
    "    return '<h1>Este es el inicio.</h1>' "
   ]
  },
  {
   "cell_type": "code",
   "execution_count": null,
   "metadata": {},
   "outputs": [],
   "source": [
    "@app.route('/busca/<nombre>')\n",
    "def usuario(nombre):\n",
    "    if nombre == 'inicio':\n",
    "        return redirect(url_for(\"index\"))\n",
    "    else:\n",
    "        return f'<img src={url_for(\"static\", filename=\"pythonista.png\")}> \\\n",
    "        <h1>Hola, {nombre}.</h1> \\\n",
    "        <p> Regresar al <a href={url_for(\"static\", filename=\"pythonista.png\")}>inicio.</p>'"
   ]
  },
  {
   "cell_type": "code",
   "execution_count": null,
   "metadata": {
    "scrolled": true
   },
   "outputs": [],
   "source": [
    "app.run('0.0.0.0')"
   ]
  },
  {
   "cell_type": "markdown",
   "metadata": {},
   "source": [
    "http://localhost:5000/"
   ]
  },
  {
   "cell_type": "markdown",
   "metadata": {},
   "source": [
    "http://localhost:5000/busca/Juan"
   ]
  },
  {
   "cell_type": "markdown",
   "metadata": {},
   "source": [
    "http://localhost:5000/busca/inicio"
   ]
  },
  {
   "cell_type": "markdown",
   "metadata": {},
   "source": [
    "<p style=\"text-align: center\"><a rel=\"license\" href=\"http://creativecommons.org/licenses/by/4.0/\"><img alt=\"Licencia Creative Commons\" style=\"border-width:0\" src=\"https://i.creativecommons.org/l/by/4.0/80x15.png\" /></a><br />Esta obra está bajo una <a rel=\"license\" href=\"http://creativecommons.org/licenses/by/4.0/\">Licencia Creative Commons Atribución 4.0 Internacional</a>.</p>\n",
    "<p style=\"text-align: center\">&copy; José Luis Chiquete Valdivieso. 2021.</p>"
   ]
  }
 ],
 "metadata": {
  "kernelspec": {
   "display_name": "Python 3 (ipykernel)",
   "language": "python",
   "name": "python3"
  },
  "language_info": {
   "codemirror_mode": {
    "name": "ipython",
    "version": 3
   },
   "file_extension": ".py",
   "mimetype": "text/x-python",
   "name": "python",
   "nbconvert_exporter": "python",
   "pygments_lexer": "ipython3",
   "version": "3.9.2"
  }
 },
 "nbformat": 4,
 "nbformat_minor": 2
}
