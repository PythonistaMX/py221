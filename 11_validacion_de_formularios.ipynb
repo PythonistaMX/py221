{
 "cells": [
  {
   "cell_type": "markdown",
   "metadata": {},
   "source": [
    "[![mg/pythonista.png](img/pythonista.png)](https://www.pythonista.io)"
   ]
  },
  {
   "cell_type": "markdown",
   "metadata": {},
   "source": [
    "# Validación de formularios."
   ]
  },
  {
   "cell_type": "markdown",
   "metadata": {},
   "source": [
    "## Validación de campos."
   ]
  },
  {
   "cell_type": "markdown",
   "metadata": {},
   "source": [
    "A lo largo del tiempo, los desarrolladores de aplicaciones basadas en Flask han identificado ciertos patrones que pueden ser útiles. Uno de ellos corresponde a un macro en Jinja que despliega los mensajes de error de validación de cada campo. Puede saber más al respecto en la siguiente liga:\n",
    "\n",
    "https://flask.palletsprojects.com/en/0.12.x/patterns/wtforms/#forms-in-templates"
   ]
  },
  {
   "cell_type": "markdown",
   "metadata": {},
   "source": [
    "## El macro ```render_field()```.\n",
    "\n",
    "El código de este patrón es el siguiente y se ha guardado en el archivo [*templates/_formhelpers.html*](templates/_formhelpers.html).\n",
    "\n",
    "``` html\n",
    "{% macro render_field(field) %}\n",
    "  <dt>{{ field.label }}\n",
    "  <dd>{{ field(**kwargs)|safe }}\n",
    "  {% if field.errors %}\n",
    "    <ul class=errors>\n",
    "    {% for error in field.errors %}\n",
    "      <li>{{ error }}</li>\n",
    "    {% endfor %}\n",
    "    </ul>\n",
    "  {% endif %}\n",
    "  </dd>\n",
    "{% endmacro %}\n",
    "```\n",
    "El macro *render_field()* desplegará los errores de validación de cada campo al presionar el botón de envío."
   ]
  },
  {
   "cell_type": "markdown",
   "metadata": {},
   "source": [
    "**Ejemplo:**\n",
    "\n",
    "Se creará el archivo [*templates/pantilla_formas_avanzadas.html*](templates/plantilla_formas_avanzadas.html) que incluye el siguiente código, que es similar a la plantilla *templates/pantilla_formas.html*, pero importando y aplicando el macro *render_field()*.\n",
    "\n",
    "``` html\n",
    "<h1> Datos personales del alumno </h1>\n",
    "{% from \"_formhelpers.html\" import render_field %}\n",
    "<form method=\"POST\">\n",
    "    {{ form.hidden_tag() }}\n",
    "    {{ render_field(form.nombre) }}\n",
    "    {{ render_field(form.primer_apellido) }}\n",
    "    {{ render_field(form.segundo_apellido) }}\n",
    "    {{ form.enviar }}\n",
    "</form>\n",
    "```\n",
    "**Advertencia:** Una vez ejecutada la siguiente celda, es necesario interrumpir el kernel de Jupyter para poder ejecutar el resto de las celdas de la notebook."
   ]
  },
  {
   "cell_type": "markdown",
   "metadata": {},
   "source": [
    "**Ejemplo:**\n",
    "\n",
    "La siguiente aplicación pedirá los datos personales de un alumno por medio de una página web, utilizando diversos tipos de campos. Sin embargo, el campo promedio requiere de una validación adicional que garantice que se ingresó un número real entre 0 y 10. \n",
    "\n",
    "La función *valida_promedio()* validará que se ingrese un número del 0 al 10 y se añadirá a la lista de validadores del campo *promedio*. \n",
    "\n",
    "Una vez que ejecute la siguiente celda, podrá acceder a la aplicación localizada en http://localhost:5000/\n",
    "\n",
    "**Advertencia:** Una vez ejecutada la siguiente celda, es necesario interrumpir el kernel de Jupyter para poder ejecutar el resto de las celdas de la notebook."
   ]
  },
  {
   "cell_type": "code",
   "execution_count": null,
   "metadata": {},
   "outputs": [],
   "source": [
    "from flask_wtf import FlaskForm\n",
    "from wtforms import StringField, SubmitField, BooleanField, SelectField\n",
    "from wtforms.validators import DataRequired, ValidationError\n",
    "from flask import Flask, render_template\n",
    "\n",
    "carreras = (('Derecho', 'Derecho'), ('Medicina', 'Medicina'), ('Sistemas', 'Sistemas'), ('Diseño', 'Diseño'))\n",
    "\n",
    "        \n",
    "class DatosEstudiante(FlaskForm):\n",
    "\n",
    "            \n",
    "    def valida_promedio(form, field):\n",
    "        try:\n",
    "            numero = float(field.data)\n",
    "        except:\n",
    "            raise ValidationError('Debe de ingresar un número')\n",
    "        if numero < 0 or numero > 10:\n",
    "            raise ValidationError('Debe de ingresar un número entre 0 y 10')        \n",
    "            \n",
    "            \n",
    "    nombre = StringField('Nombre', [DataRequired()], default = '')\n",
    "    primer_apellido = StringField('Primer apellido', [DataRequired()], default = '')\n",
    "    segundo_apellido = StringField('Segundo apellido', default = '')\n",
    "    carrera = SelectField('Carrera', [DataRequired()], choices = carreras)\n",
    "    semestre = SelectField('Semestre', [DataRequired()], choices = [(str(x), str(x)) for x in range(1, 50)])\n",
    "    promedio = StringField('Promedio', [DataRequired(), valida_promedio], default = '0')\n",
    "    alcorriente = BooleanField('Al corriente de pagos')\n",
    "    enviar = SubmitField('Enviar')\n",
    "    \n",
    "            \n",
    "app = Flask(__name__)\n",
    "app.config['SECRET_KEY']='Saludines'\n",
    "\n",
    "\n",
    "@app.route('/', methods=['GET', 'POST'])\n",
    "def index():\n",
    "    forma = DatosEstudiante()\n",
    "    if forma.validate_on_submit():\n",
    "        for campo in ['nombre', 'primer_apellido', 'segundo_apellido', 'carrera', 'semestre', 'promedio', 'alcorriente']:\n",
    "            print(forma[campo].data) \n",
    "    return render_template('alumno_carrera.html', form=forma)\n",
    "\n",
    "#Si no se define el parámetro host, flask sólo será visible desde localhost\n",
    "# app.run(host='localhost')\n",
    "app.run('0.0.0.0')"
   ]
  },
  {
   "cell_type": "markdown",
   "metadata": {},
   "source": [
    "<p style=\"text-align: center\"><a rel=\"license\" href=\"http://creativecommons.org/licenses/by/4.0/\"><img alt=\"Licencia Creative Commons\" style=\"border-width:0\" src=\"https://i.creativecommons.org/l/by/4.0/80x15.png\" /></a><br />Esta obra está bajo una <a rel=\"license\" href=\"http://creativecommons.org/licenses/by/4.0/\">Licencia Creative Commons Atribución 4.0 Internacional</a>.</p>\n",
    "<p style=\"text-align: center\">&copy; José Luis Chiquete Valdivieso. 2021.</p>"
   ]
  }
 ],
 "metadata": {
  "kernelspec": {
   "display_name": "Python 3 (ipykernel)",
   "language": "python",
   "name": "python3"
  },
  "language_info": {
   "codemirror_mode": {
    "name": "ipython",
    "version": 3
   },
   "file_extension": ".py",
   "mimetype": "text/x-python",
   "name": "python",
   "nbconvert_exporter": "python",
   "pygments_lexer": "ipython3",
   "version": "3.9.7"
  }
 },
 "nbformat": 4,
 "nbformat_minor": 2
}
