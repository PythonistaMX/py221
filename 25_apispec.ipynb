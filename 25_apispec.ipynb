{
 "cells": [
  {
   "cell_type": "markdown",
   "metadata": {},
   "source": [
    "[![img/pythonista.png](img/pythonista.png)](https://www.pythonista.io)"
   ]
  },
  {
   "cell_type": "markdown",
   "metadata": {},
   "source": [
    "## El proyecto *apispec*.\n",
    "\n",
    "https://flask-marshmallow.readthedocs.io/en/latest/"
   ]
  },
  {
   "cell_type": "code",
   "execution_count": null,
   "metadata": {},
   "outputs": [],
   "source": [
    "pip install flask-apispec"
   ]
  },
  {
   "cell_type": "code",
   "execution_count": null,
   "metadata": {},
   "outputs": [],
   "source": [
    "from flask import Flask, abort, request\n",
    "from flask_restful import Api, Resource\n",
    "from flask_sqlalchemy import SQLAlchemy\n",
    "from flask_marshmallow import Marshmallow, base_fields\n",
    "from marshmallow.validate import Length, Range, OneOf\n",
    "from data import carreras\n",
    "from json import loads"
   ]
  },
  {
   "cell_type": "code",
   "execution_count": null,
   "metadata": {},
   "outputs": [],
   "source": [
    "from flask_apispec import marshal_with\n",
    "from flask_apispec.views import MethodResource "
   ]
  },
  {
   "cell_type": "code",
   "execution_count": null,
   "metadata": {},
   "outputs": [],
   "source": [
    "from apispec import APISpec\n",
    "from apispec.ext.marshmallow import MarshmallowPlugin\n",
    "from flask_apispec.extension import FlaskApiSpec"
   ]
  },
  {
   "cell_type": "code",
   "execution_count": null,
   "metadata": {},
   "outputs": [],
   "source": [
    "app = Flask(__name__)\n",
    "app.config[\"SQLALCHEMY_DATABASE_URI\"] = \"sqlite:///data/alumnosql.sqlite\"\n",
    "app.config[\"SQLALCHEMY_TRACK_MODIFICATIONS\"] = False"
   ]
  },
  {
   "cell_type": "code",
   "execution_count": null,
   "metadata": {},
   "outputs": [],
   "source": []
  },
  {
   "cell_type": "code",
   "execution_count": null,
   "metadata": {},
   "outputs": [],
   "source": [
    "app.config.update({\n",
    "    'APISPEC_SPEC': APISpec(\n",
    "        title='Gestión de alumnos.',\n",
    "        version='v1',\n",
    "        plugins=[MarshmallowPlugin()],\n",
    "        openapi_version='2.0.0'\n",
    "    ),\n",
    "    'APISPEC_SWAGGER_URL': '/swagger/',  # URI to access API Doc JSON \n",
    "    'APISPEC_SWAGGER_UI_URL': '/swagger-ui/'  # URI to access UI of API Doc\n",
    "})"
   ]
  },
  {
   "cell_type": "code",
   "execution_count": null,
   "metadata": {},
   "outputs": [],
   "source": [
    "# Order matters: Initialize SQLAlchemy before Marshmallow\n",
    "api = Api(app)\n",
    "db = SQLAlchemy(app)\n",
    "ma = Marshmallow(app)"
   ]
  },
  {
   "cell_type": "code",
   "execution_count": null,
   "metadata": {},
   "outputs": [],
   "source": [
    "class Alumno(db.Model):\n",
    "    __tablename__ = 'alumno'\n",
    "    cuenta = db.Column(db.Integer, primary_key=True)\n",
    "    nombre = db.Column(db.String(50))\n",
    "    primer_apellido = db.Column(db.String(50))\n",
    "    segundo_apellido = db.Column(db.String(50))\n",
    "    carrera = db.Column(db.String(50))\n",
    "    semestre = db.Column(db.Integer)\n",
    "    promedio = db.Column(db.Float)\n",
    "    al_corriente = db.Column(db.Boolean)"
   ]
  },
  {
   "cell_type": "code",
   "execution_count": null,
   "metadata": {},
   "outputs": [],
   "source": [
    "class AlumnoSchema(ma.SQLAlchemySchema):\n",
    "    \n",
    "    \n",
    "    class Meta:\n",
    "        model = Alumno\n",
    "        load_instance = True\n",
    "    \n",
    "    \n",
    "    cuenta = base_fields.Int(required=True, validate=Range(min=1000000, max=9999999))\n",
    "    nombre = base_fields.String(required=True, validate=Length(min=2, max=50))\n",
    "    primer_apellido = base_fields.String(required=True, validate=Length(min=2, max=50))\n",
    "    segundo_apellido = base_fields.String(required=False, validate=Length(min=2, max=50))\n",
    "    carrera = base_fields.String(required=True, validate=OneOf(carreras))\n",
    "    semestre = base_fields.Int(required=True, validate=Range(min=1, max=50))\n",
    "    promedio = base_fields.Float(required=True, validate=Range(min=1, max=50))\n",
    "    al_corriente = base_fields.Bool(required=True)"
   ]
  },
  {
   "cell_type": "code",
   "execution_count": null,
   "metadata": {},
   "outputs": [],
   "source": [
    "schema_multiple = AlumnoSchema(many=True)\n",
    "schema = AlumnoSchema()"
   ]
  },
  {
   "cell_type": "code",
   "execution_count": null,
   "metadata": {},
   "outputs": [],
   "source": [
    "@marshal_with(schema_multiple)\n",
    "class MuestraAlumnos(MethodResource, Resource):\n",
    "    \n",
    "    \n",
    "    def get(Resource):\n",
    "        alumnos = Alumno.query.all()\n",
    "        return schema_multiple.dump(alumnos)"
   ]
  },
  {
   "cell_type": "code",
   "execution_count": null,
   "metadata": {
    "scrolled": true
   },
   "outputs": [],
   "source": [
    "@marshal_with(schema)\n",
    "class ABCAlumno(MethodResource, Resource):\n",
    "    \n",
    "    \n",
    "    def get(self, cuenta):\n",
    "        alumno = Alumno.query.filter_by(cuenta=cuenta).first()\n",
    "        if alumno:\n",
    "            return schema.dump(alumno)\n",
    "        else:\n",
    "            abort(404)\n",
    "    \n",
    "    \n",
    "    def delete(self, cuenta):\n",
    "        alumno = Alumno.query.filter_by(cuenta=cuenta).first()\n",
    "        if alumno:\n",
    "            db.session.delete(alumno)\n",
    "            db.session.commit()\n",
    "            return schema.dump(alumno)\n",
    "        else:\n",
    "            abort(404)\n",
    "     \n",
    "    \n",
    "    def post(self, cuenta):\n",
    "        alumno = Alumno.query.filter_by(cuenta=cuenta).first()\n",
    "        if alumno:\n",
    "            abort(409)\n",
    "        else:\n",
    "            respuesta = loads(request.data)\n",
    "            respuesta[\"cuenta\"] = cuenta\n",
    "            db.session.add(schema.load(respuesta))\n",
    "            db.session.commit()\n",
    "            return respuesta\n",
    "     \n",
    "    \n",
    "    def put(self, cuenta):\n",
    "        alumno = Alumno.query.filter_by(cuenta=cuenta).first()\n",
    "        if alumno:\n",
    "            respuesta = loads(request.data)\n",
    "            respuesta[\"cuenta\"] = cuenta\n",
    "            db.session.add(schema.load(respuesta))\n",
    "            db.session.commit()\n",
    "            return respuesta\n",
    "        else:\n",
    "            abort(404)"
   ]
  },
  {
   "cell_type": "code",
   "execution_count": null,
   "metadata": {},
   "outputs": [],
   "source": [
    "api.add_resource(ABCAlumno, '/api/<string:cuenta>')\n",
    "api.add_resource(MuestraAlumnos, '/api/')"
   ]
  },
  {
   "cell_type": "code",
   "execution_count": null,
   "metadata": {},
   "outputs": [],
   "source": [
    "docs = FlaskApiSpec(app)\n",
    "docs.register(ABCAlumno)\n",
    "docs.register(MuestraAlumnos)"
   ]
  },
  {
   "cell_type": "code",
   "execution_count": null,
   "metadata": {
    "scrolled": true
   },
   "outputs": [],
   "source": [
    "if __name__ == '__main__':\n",
    "    app.run(host='0.0.0.0')"
   ]
  },
  {
   "cell_type": "markdown",
   "metadata": {},
   "source": [
    "<p style=\"text-align: center\"><a rel=\"license\" href=\"http://creativecommons.org/licenses/by/4.0/\"><img alt=\"Licencia Creative Commons\" style=\"border-width:0\" src=\"https://i.creativecommons.org/l/by/4.0/80x15.png\" /></a><br />Esta obra está bajo una <a rel=\"license\" href=\"http://creativecommons.org/licenses/by/4.0/\">Licencia Creative Commons Atribución 4.0 Internacional</a>.</p>\n",
    "<p style=\"text-align: center\">&copy; José Luis Chiquete Valdivieso. 2021.</p>"
   ]
  }
 ],
 "metadata": {
  "kernelspec": {
   "display_name": "Python 3 (ipykernel)",
   "language": "python",
   "name": "python3"
  },
  "language_info": {
   "codemirror_mode": {
    "name": "ipython",
    "version": 3
   },
   "file_extension": ".py",
   "mimetype": "text/x-python",
   "name": "python",
   "nbconvert_exporter": "python",
   "pygments_lexer": "ipython3",
   "version": "3.9.2"
  }
 },
 "nbformat": 4,
 "nbformat_minor": 2
}
