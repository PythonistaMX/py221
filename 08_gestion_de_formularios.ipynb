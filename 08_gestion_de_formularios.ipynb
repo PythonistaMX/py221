{
 "cells": [
  {
   "cell_type": "markdown",
   "metadata": {},
   "source": [
    "[![imagenes](imagenes/pythonista.png)](https://pythonista.io)"
   ]
  },
  {
   "cell_type": "markdown",
   "metadata": {},
   "source": [
    "# Gestión de formularios.\n",
    "\n",
    "Flask permite desplegar, validar y obtener la información que se ingresa mediante las formas de un documento HTML. La gestión de formas corre a cargo de la extensión *flask-wtf*, la cual deriva del paquete *wtforms*.\n",
    "\n",
    "Para instalar los modulos en cuestión es necesario intalar el paquete *flask-wtf*."
   ]
  },
  {
   "cell_type": "code",
   "execution_count": null,
   "metadata": {
    "scrolled": false
   },
   "outputs": [],
   "source": [
    "!pip install flask-wtf"
   ]
  },
  {
   "cell_type": "markdown",
   "metadata": {},
   "source": [
    "## El paquete *wtforms*.\n",
    "WTForms es es un proyecto que permite crear y validar formas en HTML. Para mayor información puede visitar el sitio https://wtforms.readthedocs.io/en/latest."
   ]
  },
  {
   "cell_type": "code",
   "execution_count": null,
   "metadata": {},
   "outputs": [],
   "source": [
    "import wtforms"
   ]
  },
  {
   "cell_type": "code",
   "execution_count": null,
   "metadata": {},
   "outputs": [],
   "source": [
    "help(wtforms)"
   ]
  },
  {
   "cell_type": "markdown",
   "metadata": {},
   "source": [
    "### Los elementos básicos de *wtfoms* son:\n",
    "* **Campos**, los cuales capturan un tipo de dato específico y se definen mediante la clase ```Field```. Cada instancia de ```Field``` puede ser definido mediante diversos parámetros como validadores, identificador, descripción, errores, etc.\n",
    "* **Formularios**, las cuales son una colección de campos que pueden ser accedidos utilizando la sintaxis de un objeto _dict_ o mediante el operador de atributo \"*.*\" y están definidas por la clase *Form*.\n",
    "* **Validadores**, los cuales permiten corroborar que la información que se ingresa se ajusta a un requerimiento específico.\n",
    "* ***Widgets***, las cuales son las herramientas encargadas de generar el elemento HTML de cada campo.\n",
    "\n",
    "#### Campos.\n",
    " La clase *Field* puede definir diversos parámetros al instanciarse y cuenta con el método métodos para validar y procesar la información que recibe. El método *validate()* es el método encargado de hacer las evaluaciones de los datos asignados con respecto a los validadores definidos."
   ]
  },
  {
   "cell_type": "code",
   "execution_count": null,
   "metadata": {
    "scrolled": false
   },
   "outputs": [],
   "source": [
    "dir(wtforms.Field)"
   ]
  },
  {
   "cell_type": "markdown",
   "metadata": {},
   "source": [
    "Existen diversos tipos de clases que corresponde a diversos tipos de campos, los cuales pueden ser consultados de la siguiente manera:"
   ]
  },
  {
   "cell_type": "code",
   "execution_count": null,
   "metadata": {
    "scrolled": true
   },
   "outputs": [],
   "source": [
    "dir(wtforms.fields)"
   ]
  },
  {
   "cell_type": "markdown",
   "metadata": {},
   "source": [
    "Un objeto de campo se define instanciando la clase del tipo al que corresponde de la siguente forma:\n",
    "```\n",
    "<nombre> = <tipo de campo>(<descripción de tipo str>, [<lista de validadores>], default=<valor predeterminado>)\n",
    "```\n",
    "Los campos no pueden ser gestionados a menos que se encuentren dentro de una forma."
   ]
  },
  {
   "cell_type": "markdown",
   "metadata": {},
   "source": [
    "#### Validadores.\n",
    "Los validadores son un conjunto de clases que corroboran ciertas reglas definidas, dependiendo del tipo de información que se requiera."
   ]
  },
  {
   "cell_type": "code",
   "execution_count": null,
   "metadata": {
    "scrolled": true
   },
   "outputs": [],
   "source": [
    "help(wtforms.validators)"
   ]
  },
  {
   "cell_type": "markdown",
   "metadata": {},
   "source": [
    "**Ejemplo:**\n",
    "\n",
    "Se creará un objeto a partir de la clase *StringField* utilizando el validador *Length* para asegurarse que los campos *nombre* y *primer apellido* no sean cadenas de caracteres vacías."
   ]
  },
  {
   "cell_type": "code",
   "execution_count": null,
   "metadata": {},
   "outputs": [],
   "source": [
    "from wtforms import StringField\n",
    "from wtforms.validators import Length"
   ]
  },
  {
   "cell_type": "markdown",
   "metadata": {},
   "source": [
    "El validador *Lenght* acepta entre otros, al parámetro *min*, el cual designa el tamaño mínimo del dato ingresado como cadena de caracteres. "
   ]
  },
  {
   "cell_type": "code",
   "execution_count": null,
   "metadata": {},
   "outputs": [],
   "source": [
    "nombre = StringField('nombre', [Length(min=1)], default='Juan')"
   ]
  },
  {
   "cell_type": "code",
   "execution_count": null,
   "metadata": {},
   "outputs": [],
   "source": [
    "nombre"
   ]
  },
  {
   "cell_type": "markdown",
   "metadata": {},
   "source": [
    "El identificador *nombre* corresponde a un objeto *UnboundField*, lo cual significa que es un campo que no está ligado a una forma."
   ]
  },
  {
   "cell_type": "markdown",
   "metadata": {},
   "source": [
    "#### Formas.\n",
    "La clase *Form* es menos compleja que la clase *Field*, pero tambien cuenta con parámetros de configuración y métodos de proceso y validación de datos.\n",
    "\n",
    "Cuando un campo  es defindo en una forma, este adquiere el atributo *data*, en el que se almacena la información que captura."
   ]
  },
  {
   "cell_type": "code",
   "execution_count": null,
   "metadata": {},
   "outputs": [],
   "source": [
    "help(wtforms.Form)"
   ]
  },
  {
   "cell_type": "markdown",
   "metadata": {},
   "source": [
    "### Ejemplo del uso de *wtforms*.\n",
    "* Se creará la clase *NombreEstudiante* que es subclase de *Form*, la cual incluirá los campos son de tipo *StringField*, corespondientes a *nombre*, *primer_apellido* y *segundo_apellido*.\n",
    "* El valor por defecto de todos los campos es una cadena de caracteres vacía.\n",
    "* Los campos *nombre* y *primer_apellido* incluyen al validador *Length*, el cual verificará que los campos no sean cadenas de caracteres vacías.\n",
    "* Se creará el objeto *forma* a partir de la clase *NombreEstudiante*."
   ]
  },
  {
   "cell_type": "code",
   "execution_count": null,
   "metadata": {},
   "outputs": [],
   "source": [
    "from wtforms import Form, StringField, validators\n",
    "class NombreEstudiante(Form):\n",
    "    nombre = StringField('Nombre', [validators.Length(min=1)], default='')\n",
    "    primer_apellido = StringField('Primer apellido', [validators.Length(min=1)], default='')\n",
    "    segundo_apellido = StringField('Segundo apellido', default='')"
   ]
  },
  {
   "cell_type": "code",
   "execution_count": null,
   "metadata": {},
   "outputs": [],
   "source": [
    "forma = NombreEstudiante()"
   ]
  },
  {
   "cell_type": "code",
   "execution_count": null,
   "metadata": {},
   "outputs": [],
   "source": [
    "forma['nombre']"
   ]
  },
  {
   "cell_type": "code",
   "execution_count": null,
   "metadata": {},
   "outputs": [],
   "source": [
    "forma.nombre"
   ]
  },
  {
   "cell_type": "markdown",
   "metadata": {},
   "source": [
    "El campo *forma* en este caso corresponde a un objeto *wtforms.fields.core.StringField*, lo que indica que dicho campo está ligado a una forma. En este caso, el campo adquiere el atributo *data*."
   ]
  },
  {
   "cell_type": "code",
   "execution_count": null,
   "metadata": {},
   "outputs": [],
   "source": [
    "forma.nombre.data"
   ]
  },
  {
   "cell_type": "markdown",
   "metadata": {},
   "source": [
    "El método *validate()* del objeto *Form* realizará las validaciones de cada campo y en caso de una falla de validación regresará *False* y añadirá la descripción de cada falla de validación al atributo *errors*."
   ]
  },
  {
   "cell_type": "code",
   "execution_count": null,
   "metadata": {},
   "outputs": [],
   "source": [
    "forma.validate()"
   ]
  },
  {
   "cell_type": "code",
   "execution_count": null,
   "metadata": {},
   "outputs": [],
   "source": [
    "forma.errors"
   ]
  },
  {
   "cell_type": "code",
   "execution_count": null,
   "metadata": {},
   "outputs": [],
   "source": [
    "forma.nombre.data = 'Juan'\n",
    "forma.primer_apellido.data = 'Pérez'"
   ]
  },
  {
   "cell_type": "code",
   "execution_count": null,
   "metadata": {},
   "outputs": [],
   "source": [
    "forma.validate()"
   ]
  },
  {
   "cell_type": "code",
   "execution_count": null,
   "metadata": {},
   "outputs": [],
   "source": [
    "forma.errors"
   ]
  },
  {
   "cell_type": "markdown",
   "metadata": {},
   "source": [
    "## El módulo *flask_wtf*.\n",
    "El módulo *flask_wtf* es la implementación del módulo *wtforms* para *Flask* y contiene a la clase _FlaskForm_)."
   ]
  },
  {
   "cell_type": "code",
   "execution_count": null,
   "metadata": {},
   "outputs": [],
   "source": [
    "from flask_wtf import FlaskForm"
   ]
  },
  {
   "cell_type": "code",
   "execution_count": null,
   "metadata": {},
   "outputs": [],
   "source": [
    "help(FlaskForm)"
   ]
  },
  {
   "cell_type": "markdown",
   "metadata": {},
   "source": [
    "### Métodos propios de la clase *FlaskForm*.\n",
    "La clase *FlaskForm* define los métodos:\n",
    "\n",
    "* *hidden_tag()*\n",
    "* *is_submitted()*\n",
    "* *validate_on_submit()*\n",
    "\n",
    "#### El método *hidden_tag()*.\n",
    "Este método se utiliza para agregar una etiqueta oculta dentro de una forma. Porm lo general se utiliza para evitar ataques de tipo CSRF.\n",
    "\n",
    "#### El método *is_submitted()*.\n",
    "Este método valida si la forma fue enviada.\n",
    "\n",
    "#### El método *validate_on_submit()*.\n",
    "Este método valida los datos de cada campo una vez que son enviados y regresa _True_ en caso de que dicha validación haya sido exitosa."
   ]
  },
  {
   "cell_type": "markdown",
   "metadata": {},
   "source": [
    "### Protección contra ataques CSRF.\n",
    "\n",
    "El paquete *wtforms* utiliza por defecto un mecanismo que impide que reciba peticiones que no pertenezcan al sitio. A esta técnica de penetración se le conoce como \"CSRF\", por las siglas en inglés de Cross Site Request Forgery o Falsificación de Peticiones Cruzadas entre Sitios.\n",
    "\n",
    "#### Configuración de la clave de cifrado de un objeto *Flask*.\n",
    "\n",
    "Esta protección se realiza mendiante el uso de claves de cifrado a partir de las cuales generan \"tokens\" que verifican la autenticidad de las peticiones. La clave de cifrado de un objeto *Flask* se ingresa mediante la asignación de dicha clave al campo *'SECRET_KEY'* del atributo *config* de la siguiente manera.\n",
    "\n",
    "``` python\n",
    "<objeto Flask>.config['SECRET_KEY'] = <objeto tipo str>\n",
    "```"
   ]
  },
  {
   "cell_type": "markdown",
   "metadata": {},
   "source": [
    "### El atributo *config* de los objetos *Flask*.\n",
    "\n",
    "Este atributo corresponde a un objeto de tipo _dict_ el cual contiene variables de configuración de la aplicación."
   ]
  },
  {
   "cell_type": "code",
   "execution_count": null,
   "metadata": {
    "scrolled": true
   },
   "outputs": [],
   "source": [
    "from flask import Flask\n",
    "app = Flask(__name__)\n",
    "print(app.config)"
   ]
  },
  {
   "cell_type": "markdown",
   "metadata": {},
   "source": [
    "### Ejemplo del uso de *flask_wtf*.\n",
    "\n",
    "* Se creará la clase *NombreEstudiante* que es subclase de *FlaskForm*, la cual incluirá lo siguiente:\n",
    "    * Los campos *nombre*, *primer_apellido*, y *segundo_apellido* son instancias de *StringField* y su valor por defecto es una cadena de caracteres vacía.  \n",
    "    * Los campos *nombre* y *primer_apellido* incluyen al validador *Length*, el cual verificará que los campos no sean cadenas de caracteres vacías.\n",
    "    * El campo *enviar* es instancia de *SubmitField*.\n",
    "* Se creará el objeto *app* instanciándolo de *Flask*.\n",
    "* Se asignará una cadena de caracteres al elemento 'SECRET_KEY'del atributo *app.config*.\n",
    "* Se creará el objeto *forma* a partir de la clase *NombreEstudiante*.\n",
    "* Se creará la función de vista *index()* correspondiente a la ruta raíz del servidor, aceptando los métodos POST y GET. Dicha función realizará lo siguiente:\n",
    "    * Instanciará al objeto *forma* a partir de la clase *NombreEstudiante*.\n",
    "    * Desplegará una página HTML mendiate la función *render_template()* a partir de la plantilla *plantilla_formas.html*, asignando al parámetro *form* el objeto *forma*.\n",
    "    * En caso de que la forma haya sido enviada desde un cliente con todas las validaciones correctas, desplegará el contenido capturado por cada elemento del objeto *forma*.\n",
    "* La plantilla [*templates/plantilla_formas.html*](templates/plantilla_formas.html) contiene lo siguiente:\n",
    "``` html\n",
    "<h1> Datos personales del alumno </h1>\n",
    "<form method=\"POST\">\n",
    "    {{ form.hidden_tag() }}\n",
    "    {{ form.nombre.label }} {{form.nombre(id='nombre')}}\n",
    "    {{ form.primer_apellido.label }} {{form.primer_apellido(id='primer apellido')}}\n",
    "    {{ form.segundo_apellido.label }} {{form.segundo_apellido(id='segundo apellido')}}\n",
    "    {{ form.enviar }}\n",
    "</form>\n",
    "```\n",
    "\n",
    "Una vez que ejecute la siguiente celda, podrá acceder a la aplicación localizada en http://localhost:5000/\n",
    "\n",
    "**Advertencia:** Una vez ejecutada la siguiente celda, es necesario interrumpir el kernel de Jupyter para poder ejecutar el resto de las celdas de la notebook."
   ]
  },
  {
   "cell_type": "code",
   "execution_count": null,
   "metadata": {
    "scrolled": true
   },
   "outputs": [],
   "source": [
    "from flask_wtf import FlaskForm\n",
    "from wtforms import StringField, SubmitField\n",
    "from wtforms.validators import Length\n",
    "from flask import Flask, render_template\n",
    "\n",
    "\n",
    "class NombreEstudiante(FlaskForm):\n",
    "    nombre = StringField('Nombre', [Length(min=1)], default='')\n",
    "    primer_apellido = StringField('Primer apellido', [Length(min=1)], default='')\n",
    "    segundo_apellido = StringField('Segundo apellido', default='')\n",
    "    enviar = SubmitField('Enviar')\n",
    "    \n",
    "app = Flask(__name__)\n",
    "app.config['SECRET_KEY']='Saludines'\n",
    "\n",
    "\n",
    "@app.route('/', methods=['GET', 'POST'])\n",
    "def index():\n",
    "    forma = NombreEstudiante()\n",
    "    if forma.validate_on_submit():\n",
    "        for dato in forma:\n",
    "            print(dato) \n",
    "    return render_template('plantilla_formas.html', form=forma)\n",
    "\n",
    "#Si no se define el parámetro host, flask sólo será visible desde localhost\n",
    "# app.run(host='localhost')\n",
    "app.run('0.0.0.0')"
   ]
  },
  {
   "cell_type": "markdown",
   "metadata": {},
   "source": [
    "## Patrón de validación de datos mediante un macro de Jinja."
   ]
  },
  {
   "cell_type": "markdown",
   "metadata": {},
   "source": [
    "A lo largo del tiempo, los desarrolladores de aplicaciones basadas en Flask han identificado ciertos patrones que pueden ser útiles. Uno de ellos corresponde a un macro en Jinja que despliega los mensajes de error de validación de cada campo. Puede saber más al respecto en la siguiente liga:\n",
    "\n",
    "http://flask.pocoo.org/docs/0.12/patterns/wtforms/#forms-in-templates\n",
    "\n",
    "El código de este patrón es el siguiente y se ha guardado en el archivo [*templates/_formhelpers.html*](templates/_formhelpers.html).\n",
    "\n",
    "``` html\n",
    "{% macro render_field(field) %}\n",
    "  <dt>{{ field.label }}\n",
    "  <dd>{{ field(**kwargs)|safe }}\n",
    "  {% if field.errors %}\n",
    "    <ul class=errors>\n",
    "    {% for error in field.errors %}\n",
    "      <li>{{ error }}</li>\n",
    "    {% endfor %}\n",
    "    </ul>\n",
    "  {% endif %}\n",
    "  </dd>\n",
    "{% endmacro %}\n",
    "```\n",
    "El macro *render_field()* desplegará los errores de validación de cada campo al presionar el botón de envío.\n",
    "\n"
   ]
  },
  {
   "cell_type": "markdown",
   "metadata": {},
   "source": [
    "**Ejemplo:**\n",
    "\n",
    "Se creará el archivo [*templates/pantilla_formas_avanzadas.html*](templates/plantilla_formas_avanzadas.html) que incluye el siguiente código, que es similar a la plantilla *templates/pantilla_formas.html*, pero importando y aplicando el macro *render_field()*.\n",
    "\n",
    "``` html\n",
    "<h1> Datos personales del alumno </h1>\n",
    "{% from \"_formhelpers.html\" import render_field %}\n",
    "<form method=\"POST\">\n",
    "    {{ form.hidden_tag() }}\n",
    "    {{ render_field(form.nombre) }}\n",
    "    {{ render_field(form.primer_apellido) }}\n",
    "    {{ render_field(form.segundo_apellido) }}\n",
    "    {{ form.enviar }}\n",
    "</form>\n",
    "```\n",
    "**Advertencia:** Una vez ejecutada la siguiente celda, es necesario interrumpir el kernel de Jupyter para poder ejecutar el resto de las celdas de la notebook."
   ]
  },
  {
   "cell_type": "code",
   "execution_count": null,
   "metadata": {
    "scrolled": true
   },
   "outputs": [],
   "source": [
    "from flask_wtf import FlaskForm\n",
    "from wtforms import StringField, SubmitField\n",
    "from wtforms.validators import Length\n",
    "from flask import Flask, render_template\n",
    "\n",
    "\n",
    "class NombreEstudiante(FlaskForm):\n",
    "    nombre = StringField('Nombre', [Length(min=1)], default='')\n",
    "    primer_apellido = StringField('Primer apellido', [Length(min=1)], default='')\n",
    "    segundo_apellido = StringField('Segundo apellido', default='')\n",
    "    enviar = SubmitField('Enviar')\n",
    "    \n",
    "app = Flask(__name__)\n",
    "app.config['SECRET_KEY']='Saludines'\n",
    "\n",
    "\n",
    "@app.route('/', methods=['GET', 'POST'])\n",
    "def index():\n",
    "    forma = NombreEstudiante()\n",
    "    if forma.validate_on_submit():\n",
    "        for dato in forma:\n",
    "            print(dato) \n",
    "    return render_template('plantilla_formas_avanzadas.html', form=forma)\n",
    "\n",
    "#Si no se define el parámetro host, flask sólo será visible desde localhost\n",
    "# app.run(host='localhost')\n",
    "app.run('0.0.0.0')"
   ]
  },
  {
   "cell_type": "markdown",
   "metadata": {},
   "source": [
    "## Creación de validadores propios.\n",
    "\n",
    "Cuando un dato no cumple con las condiciones de un validador, dicho validador levanta una excepción de tipo *ValidatorError*, la cual es \"cachada\" por el objeto *Field* y el mensaje de error es guardado en el atributo *errors*.\n",
    "\n",
    "Es posible crear validadores propios definiendo funciones que levanten un error de tipo *ValidatorError*."
   ]
  },
  {
   "cell_type": "markdown",
   "metadata": {},
   "source": [
    "**Ejemplo:**\n",
    "\n",
    "La siguiente aplicación pedirá los datos personales de un alumno por medio de una página web, utilizando diversos tipos de campos. Sin embargo, el campo promedio requiere de una validación adicional que garantice que se ingresó un número real entre 0 y 10. \n",
    "\n",
    "La función *valida_promedio()* validará que se ingrese un número del 0 al 10 y se añadirá a la lista de validadores del campo *promedio*. \n",
    "\n",
    "Una vez que ejecute la siguiente celda, podrá acceder a la aplicación localizada en http://localhost:5000/\n",
    "\n",
    "**Advertencia:** Una vez ejecutada la siguiente celda, es necesario interrumpir el kernel de Jupyter para poder ejecutar el resto de las celdas de la notebook."
   ]
  },
  {
   "cell_type": "code",
   "execution_count": null,
   "metadata": {},
   "outputs": [],
   "source": [
    "from flask_wtf import FlaskForm\n",
    "from wtforms import StringField, SubmitField, BooleanField, SelectField\n",
    "from wtforms.validators import DataRequired, ValidationError\n",
    "from flask import Flask, render_template\n",
    "\n",
    "carreras = (('Derecho', 'Derecho'), ('Medicina', 'Medicina'), ('Sistemas', 'Sistemas'), ('Diseño', 'Diseño'))\n",
    "\n",
    "        \n",
    "class DatosEstudiante(FlaskForm):\n",
    "\n",
    "            \n",
    "    def valida_promedio(form, field):\n",
    "        try:\n",
    "            numero = float(field.data)\n",
    "        except:\n",
    "            raise ValidationError('Debe de ingresar un número')\n",
    "        if numero < 0 or numero > 10:\n",
    "            raise ValidationError('Debe de ingresar un número entre 0 y 10')        \n",
    "            \n",
    "            \n",
    "    nombre = StringField('Nombre', [DataRequired()], default = '')\n",
    "    primer_apellido = StringField('Primer apellido', [DataRequired()], default = '')\n",
    "    segundo_apellido = StringField('Segundo apellido', default = '')\n",
    "    carrera = SelectField('Carrera', [DataRequired()], choices = carreras)\n",
    "    semestre = SelectField('Semestre', [DataRequired()], choices = [(str(x), str(x)) for x in range(1, 50)])\n",
    "    promedio = StringField('Promedio', [DataRequired(), valida_promedio], default = '0')\n",
    "    alcorriente = BooleanField('Al corriente de pagos')\n",
    "    enviar = SubmitField('Enviar')\n",
    "    \n",
    "            \n",
    "app = Flask(__name__)\n",
    "app.config['SECRET_KEY']='Saludines'\n",
    "\n",
    "\n",
    "@app.route('/', methods=['GET', 'POST'])\n",
    "def index():\n",
    "    forma = DatosEstudiante()\n",
    "    if forma.validate_on_submit():\n",
    "        for campo in ['nombre', 'primer_apellido', 'segundo_apellido', 'carrera', 'semestre', 'promedio', 'alcorriente']:\n",
    "            print(forma[campo].data) \n",
    "    return render_template('alumno_carrera.html', form=forma)\n",
    "\n",
    "#Si no se define el parámetro host, flask sólo será visible desde localhost\n",
    "# app.run(host='localhost')\n",
    "app.run('0.0.0.0')"
   ]
  },
  {
   "cell_type": "markdown",
   "metadata": {},
   "source": [
    "<p style=\"text-align: center\"><a rel=\"license\" href=\"http://creativecommons.org/licenses/by/4.0/\"><img alt=\"Licencia Creative Commons\" style=\"border-width:0\" src=\"https://i.creativecommons.org/l/by/4.0/80x15.png\" /></a><br />Esta obra está bajo una <a rel=\"license\" href=\"http://creativecommons.org/licenses/by/4.0/\">Licencia Creative Commons Atribución 4.0 Internacional</a>.</p>\n",
    "<p style=\"text-align: center\">&copy; José Luis Chiquete Valdivieso. 2018.</p>"
   ]
  }
 ],
 "metadata": {
  "kernelspec": {
   "display_name": "Python 3 (ipykernel)",
   "language": "python",
   "name": "python3"
  },
  "language_info": {
   "codemirror_mode": {
    "name": "ipython",
    "version": 3
   },
   "file_extension": ".py",
   "mimetype": "text/x-python",
   "name": "python",
   "nbconvert_exporter": "python",
   "pygments_lexer": "ipython3",
   "version": "3.9.2"
  }
 },
 "nbformat": 4,
 "nbformat_minor": 2
}
