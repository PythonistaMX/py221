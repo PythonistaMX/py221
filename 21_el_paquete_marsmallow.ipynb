{
 "cells": [
  {
   "cell_type": "markdown",
   "metadata": {},
   "source": [
    "[![img/pythonista.png](img/pythonista.png)](https://www.pythonista.io)"
   ]
  },
  {
   "cell_type": "markdown",
   "metadata": {},
   "source": [
    "# *Marsmallow*."
   ]
  },
  {
   "cell_type": "markdown",
   "metadata": {},
   "source": [
    "https://marshmallow.readthedocs.io"
   ]
  },
  {
   "cell_type": "markdown",
   "metadata": {},
   "source": [
    "## El proyecto *Marshmallow*."
   ]
  },
  {
   "cell_type": "code",
   "execution_count": null,
   "metadata": {
    "scrolled": true
   },
   "outputs": [],
   "source": [
    "!pip install marshmallow"
   ]
  },
  {
   "cell_type": "markdown",
   "metadata": {},
   "source": [
    "### La clase ```marshmallow.Schema```."
   ]
  },
  {
   "cell_type": "markdown",
   "metadata": {},
   "source": [
    "### Campos.\n",
    "\n",
    "https://marshmallow.readthedocs.io/en/stable/marshmallow.fields.html"
   ]
  },
  {
   "cell_type": "markdown",
   "metadata": {},
   "source": [
    "### Validadores.\n",
    "\n",
    "https://marshmallow.readthedocs.io/en/stable/marshmallow.validate.html"
   ]
  },
  {
   "cell_type": "markdown",
   "metadata": {},
   "source": [
    "**Ejemplo:**"
   ]
  },
  {
   "cell_type": "code",
   "execution_count": null,
   "metadata": {},
   "outputs": [],
   "source": [
    "from marshmallow import Schema\n",
    "from marshmallow.fields import String, Int, Float, Bool\n",
    "from marshmallow.validate import Length, OneOf, Range"
   ]
  },
  {
   "cell_type": "code",
   "execution_count": null,
   "metadata": {},
   "outputs": [],
   "source": [
    "from json import dumps"
   ]
  },
  {
   "cell_type": "code",
   "execution_count": null,
   "metadata": {},
   "outputs": [],
   "source": [
    "from data import carreras"
   ]
  },
  {
   "cell_type": "code",
   "execution_count": null,
   "metadata": {},
   "outputs": [],
   "source": [
    "class AlumnoSchema(Schema):\n",
    "    cuenta = Int(required=True, validate=Range(min=1000000, max=9999999))\n",
    "    nombre = String(required=True, validate=Length(min=2, max=50))\n",
    "    primer_apellido = String(required=True, validate=Length(min=2, max=50))\n",
    "    segundo_apellido = String(required=False, validate=Length(min=2, max=50))\n",
    "    carrera = String(required=True, validate=OneOf(carreras))\n",
    "    semestre = Int(required=True, validate=Range(min=1, max=50))\n",
    "    promedio = Float(required=True, validate=Range(min=1, max=50))\n",
    "    al_corriente = Bool(required=True)"
   ]
  },
  {
   "cell_type": "code",
   "execution_count": null,
   "metadata": {},
   "outputs": [],
   "source": [
    "AlumnoSchema().load({\n",
    "    'cuenta': 1231221, \n",
    "    'al_corriente': False, \n",
    "    'carrera': 'Arquitectura', \n",
    "    'nombre': 'Pedro', \n",
    "    'primer_apellido': 'Solis', \n",
    "    'promedio': 7.8, \n",
    "    'semestre': 3, \n",
    "    'segundo_apellido': 'Cabañas'})"
   ]
  },
  {
   "cell_type": "code",
   "execution_count": null,
   "metadata": {},
   "outputs": [],
   "source": [
    "AlumnoSchema().load({\n",
    "    'cuenta': 1232210, \n",
    "    'al_corriente': False, \n",
    "    'carrera': 'Arquitectura', \n",
    "    'nombre': 'Pedro', \n",
    "    'primer_apellido': 'Solis', \n",
    "    'promedio': 7.8, \n",
    "    'semestre': 3,})"
   ]
  },
  {
   "cell_type": "code",
   "execution_count": null,
   "metadata": {},
   "outputs": [],
   "source": [
    "AlumnoSchema().load({\n",
    "    'cuenta': 1232210, \n",
    "    'al_corriente': False, \n",
    "    'carrera': 'Veterinaria', \n",
    "    'nombre': 'Pedro', \n",
    "    'primer_apellido': 'Solis', \n",
    "    'promedio': 7.8, \n",
    "    'semestre': 3,})"
   ]
  },
  {
   "cell_type": "code",
   "execution_count": null,
   "metadata": {
    "scrolled": false
   },
   "outputs": [],
   "source": [
    "AlumnoSchema().load({\n",
    "    'cuenta': 1232210, \n",
    "    'al_corriente': False, \n",
    "    'carrera': 'Derecho', \n",
    "    'nombre': 'Pedro', \n",
    "    'primer_apellido': 'Solis', \n",
    "    'promedio': 7.8, \n",
    "    'semestre': 3,\n",
    "    'Género': 'M'})"
   ]
  },
  {
   "cell_type": "code",
   "execution_count": null,
   "metadata": {},
   "outputs": [],
   "source": [
    "from dataclasses import dataclass"
   ]
  },
  {
   "cell_type": "code",
   "execution_count": null,
   "metadata": {},
   "outputs": [],
   "source": [
    "@dataclass\n",
    "class Alumno:\n",
    "    cuenta: int\n",
    "    nombre: str\n",
    "    primer_apellido: str\n",
    "    segundo_apellido: str\n",
    "    carrera: str\n",
    "    semestre: int\n",
    "    promedio: float\n",
    "    al_corriente: bool"
   ]
  },
  {
   "cell_type": "code",
   "execution_count": null,
   "metadata": {},
   "outputs": [],
   "source": [
    "alumno = Alumno(cuenta=1231221, \n",
    "    al_corriente=False, \n",
    "    carrera='Arquitectura', \n",
    "    nombre='Pedro', \n",
    "    primer_apellido='Solis', \n",
    "    promedio=7.8, \n",
    "    semestre=3, \n",
    "    segundo_apellido='Cabañas')"
   ]
  },
  {
   "cell_type": "code",
   "execution_count": null,
   "metadata": {},
   "outputs": [],
   "source": [
    "AlumnoSchema().dump(alumno)"
   ]
  },
  {
   "cell_type": "markdown",
   "metadata": {},
   "source": [
    "## La clase ```marshmallow.Schema.Meta```.\n",
    "\n",
    "\n",
    "https://marshmallow.readthedocs.io/en/stable/extending.html#custom-class-meta-options"
   ]
  },
  {
   "cell_type": "markdown",
   "metadata": {},
   "source": [
    "## *Marshmallow-SQLAlchemy*.\n",
    "\n",
    "https://marshmallow-sqlalchemy.readthedocs.io/en/latest/"
   ]
  },
  {
   "cell_type": "markdown",
   "metadata": {},
   "source": [
    "### La clase ```marshmallow_sqlalchemy.SQLAlchemySchema```."
   ]
  },
  {
   "cell_type": "code",
   "execution_count": null,
   "metadata": {},
   "outputs": [],
   "source": [
    "import sqlalchemy as sa\n",
    "from sqlalchemy.ext.declarative import declarative_base\n",
    "from sqlalchemy.orm import scoped_session, sessionmaker, relationship, backref"
   ]
  },
  {
   "cell_type": "code",
   "execution_count": null,
   "metadata": {},
   "outputs": [],
   "source": [
    "engine = sa.create_engine(\"sqlite:///data/alumnosql.sqlite\")\n",
    "session = scoped_session(sessionmaker(bind=engine))\n",
    "Base = declarative_base()"
   ]
  },
  {
   "cell_type": "code",
   "execution_count": null,
   "metadata": {},
   "outputs": [],
   "source": [
    "class AlumnosSQL(Base):\n",
    "    __tablename__ = 'alumno'\n",
    "    \n",
    "    cuenta = sa.Column(sa.Integer, primary_key=True)\n",
    "    nombre = sa.Column(sa.String(50))\n",
    "    primer_apellido = sa.Column(sa.String(50))\n",
    "    segundo_apellido = sa.Column(sa.String(50))\n",
    "    carrera = sa.Column(sa.String(50))\n",
    "    semestre = sa.Column(sa.Integer)\n",
    "    promedio = sa.Column(sa.Float)\n",
    "    al_corriente = sa.Column(sa.Boolean)"
   ]
  },
  {
   "cell_type": "code",
   "execution_count": null,
   "metadata": {},
   "outputs": [],
   "source": [
    "Base.metadata.create_all(engine)"
   ]
  },
  {
   "cell_type": "code",
   "execution_count": null,
   "metadata": {},
   "outputs": [],
   "source": [
    "from marshmallow_sqlalchemy import SQLAlchemySchema, auto_field"
   ]
  },
  {
   "cell_type": "code",
   "execution_count": null,
   "metadata": {},
   "outputs": [],
   "source": [
    "class AlumnoSchema(SQLAlchemySchema):\n",
    "    class Meta:\n",
    "        model = AlumnosSQL\n",
    "        load_instance = True\n",
    "        \n",
    "    cuenta = auto_field()\n",
    "    nombre = auto_field()\n",
    "    primer_apellido = auto_field()\n",
    "    segundo_apellido = auto_field()\n",
    "    carrera = auto_field()\n",
    "    semestre = auto_field()\n",
    "    promedio = auto_field()\n",
    "    al_corriente = auto_field()"
   ]
  },
  {
   "cell_type": "code",
   "execution_count": null,
   "metadata": {},
   "outputs": [],
   "source": [
    "alumno = AlumnosSQL(cuenta=12347)"
   ]
  },
  {
   "cell_type": "code",
   "execution_count": null,
   "metadata": {},
   "outputs": [],
   "source": [
    "session.add(alumno)\n",
    "session.commit()"
   ]
  },
  {
   "cell_type": "code",
   "execution_count": null,
   "metadata": {},
   "outputs": [],
   "source": [
    "alumno_schema = AlumnoSchema()"
   ]
  },
  {
   "cell_type": "code",
   "execution_count": null,
   "metadata": {},
   "outputs": [],
   "source": [
    "alumno_schema.dump(alumno)"
   ]
  },
  {
   "cell_type": "code",
   "execution_count": null,
   "metadata": {},
   "outputs": [],
   "source": [
    "nuevo_alumno = alumno_schema.load({\n",
    "    'cuenta': 12345,\n",
    "    'al_corriente': False, \n",
    "    'carrera': 'Derecho', \n",
    "    'nombre': 'Pedro', \n",
    "    'primer_apellido': 'Solis', \n",
    "    'promedio': 7.8, \n",
    "    'semestre': 3,},\n",
    "    session=session)"
   ]
  },
  {
   "cell_type": "code",
   "execution_count": null,
   "metadata": {},
   "outputs": [],
   "source": [
    "nuevo_alumno"
   ]
  },
  {
   "cell_type": "code",
   "execution_count": null,
   "metadata": {},
   "outputs": [],
   "source": [
    "session.add(nuevo_alumno)"
   ]
  },
  {
   "cell_type": "code",
   "execution_count": null,
   "metadata": {},
   "outputs": [],
   "source": [
    "session.commit()"
   ]
  },
  {
   "cell_type": "code",
   "execution_count": null,
   "metadata": {},
   "outputs": [],
   "source": [
    "%load_ext sql"
   ]
  },
  {
   "cell_type": "code",
   "execution_count": null,
   "metadata": {},
   "outputs": [],
   "source": [
    "%sql sqlite:///data/alumnosql.sqlite"
   ]
  },
  {
   "cell_type": "code",
   "execution_count": null,
   "metadata": {},
   "outputs": [],
   "source": [
    "%%sql \n",
    "select * from alumno"
   ]
  },
  {
   "cell_type": "markdown",
   "metadata": {},
   "source": [
    "### La clase ```marshmallow_sqlalchemy.SQLAlchemyAutoSchema```."
   ]
  },
  {
   "cell_type": "markdown",
   "metadata": {},
   "source": []
  },
  {
   "cell_type": "code",
   "execution_count": null,
   "metadata": {},
   "outputs": [],
   "source": [
    "from marshmallow_sqlalchemy import SQLAlchemyAutoSchema"
   ]
  },
  {
   "cell_type": "code",
   "execution_count": null,
   "metadata": {},
   "outputs": [],
   "source": [
    "class AlumnoSchema2(SQLAlchemyAutoSchema):\n",
    "    class Meta:\n",
    "        model = AlumnosSQL\n",
    "        include_relationships = True\n",
    "        load_instance = True"
   ]
  },
  {
   "cell_type": "code",
   "execution_count": null,
   "metadata": {},
   "outputs": [],
   "source": [
    "alumno_schema2 = AlumnoSchema2()"
   ]
  },
  {
   "cell_type": "code",
   "execution_count": null,
   "metadata": {},
   "outputs": [],
   "source": [
    "alumno_schema2.dump(nuevo_alumno)"
   ]
  },
  {
   "cell_type": "markdown",
   "metadata": {},
   "source": [
    "<p style=\"text-align: center\"><a rel=\"license\" href=\"http://creativecommons.org/licenses/by/4.0/\"><img alt=\"Licencia Creative Commons\" style=\"border-width:0\" src=\"https://i.creativecommons.org/l/by/4.0/80x15.png\" /></a><br />Esta obra está bajo una <a rel=\"license\" href=\"http://creativecommons.org/licenses/by/4.0/\">Licencia Creative Commons Atribución 4.0 Internacional</a>.</p>\n",
    "<p style=\"text-align: center\">&copy; José Luis Chiquete Valdivieso. 2021.</p>"
   ]
  }
 ],
 "metadata": {
  "kernelspec": {
   "display_name": "Python 3 (ipykernel)",
   "language": "python",
   "name": "python3"
  },
  "language_info": {
   "codemirror_mode": {
    "name": "ipython",
    "version": 3
   },
   "file_extension": ".py",
   "mimetype": "text/x-python",
   "name": "python",
   "nbconvert_exporter": "python",
   "pygments_lexer": "ipython3",
   "version": "3.9.7"
  }
 },
 "nbformat": 4,
 "nbformat_minor": 2
}
