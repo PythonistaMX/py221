{
 "cells": [
  {
   "cell_type": "markdown",
   "metadata": {},
   "source": [
    "[![img/pythonista.png](img/pythonista.png)](https://www.pythonista.io)"
   ]
  },
  {
   "cell_type": "markdown",
   "metadata": {},
   "source": [
    "# La extensión ```flask-restful```.\n",
    "\n",
    "https://flask-restful.readthedocs.io/en/latest/"
   ]
  },
  {
   "cell_type": "code",
   "execution_count": null,
   "metadata": {},
   "outputs": [],
   "source": [
    "!pip install flask-restful"
   ]
  },
  {
   "cell_type": "code",
   "execution_count": null,
   "metadata": {},
   "outputs": [],
   "source": [
    "from flask import Flask, request, abort\n",
    "from data import carreras, ruta, esquema_alumno\n",
    "from json import loads, dumps\n",
    "import jsonschema\n",
    "from flask_restful import Api, Resource"
   ]
  },
  {
   "cell_type": "code",
   "execution_count": null,
   "metadata": {},
   "outputs": [],
   "source": [
    "app = Flask(__name__)\n",
    "api = Api(app)"
   ]
  },
  {
   "cell_type": "code",
   "execution_count": null,
   "metadata": {},
   "outputs": [],
   "source": [
    "def accede_base(ruta, cuenta):\n",
    "    alumno = None\n",
    "    with open(ruta, 'tr') as f:\n",
    "        base = eval(f.read())\n",
    "    for item in base:\n",
    "        try:\n",
    "            if item['Cuenta'] == int(cuenta):\n",
    "                alumno = item\n",
    "        except:\n",
    "            break\n",
    "    return base, alumno"
   ]
  },
  {
   "cell_type": "code",
   "execution_count": null,
   "metadata": {},
   "outputs": [],
   "source": [
    "def recurso_completo(base, ruta, cuenta, peticion):\n",
    "    try:\n",
    "        candidato = {'Cuenta': int(cuenta)}\n",
    "        peticion = loads(peticion)\n",
    "        jsonschema.validate(peticion, esquema_alumno)\n",
    "        if set(esquema_alumno[\"properties\"]).issuperset(peticion) \\\n",
    "        and peticion[\"Carrera\"] in carreras:\n",
    "            candidato.update(peticion)\n",
    "        else:\n",
    "            raise(TypeError, \"Not valid\")\n",
    "    except (jsonschema.exceptions.ValidationError, TypeError):\n",
    "        abort(406)\n",
    "    base.append(candidato)\n",
    "    with open(ruta, 'wt') as f:\n",
    "            f.write(str(base))\n",
    "    return candidato"
   ]
  },
  {
   "cell_type": "code",
   "execution_count": null,
   "metadata": {},
   "outputs": [],
   "source": [
    "class Alumnos(Resource):\n",
    "    \n",
    "    \n",
    "    def get(self):\n",
    "        with open(ruta, 'tr') as base:    \n",
    "            return eval(base.read())"
   ]
  },
  {
   "cell_type": "code",
   "execution_count": null,
   "metadata": {},
   "outputs": [],
   "source": [
    "class ABCAlumno(Resource):\n",
    "       \n",
    "        \n",
    "    def get(self, cuenta):\n",
    "        base, alumno = accede_base(ruta, cuenta)\n",
    "        if alumno:\n",
    "            return alumno\n",
    "        else:\n",
    "            abort(404)\n",
    "    \n",
    "    \n",
    "    def post(self, cuenta):\n",
    "        base, alumno = accede_base(ruta, cuenta)\n",
    "        if alumno:\n",
    "            abort(409)\n",
    "        else:\n",
    "            return recurso_completo(base, ruta, cuenta, request.data)\n",
    "    \n",
    "    \n",
    "    def delete(self, cuenta):\n",
    "        base, alumno = accede_base(ruta, cuenta)\n",
    "        if alumno:\n",
    "            base.remove(alumno)\n",
    "            with open(ruta, 'wt') as f:\n",
    "                f.write(str(base))\n",
    "            return alumno\n",
    "        else:\n",
    "            abort(404)\n",
    "            \n",
    "            \n",
    "    def put(self, cuenta):\n",
    "        base, alumno = accede_base(ruta, cuenta)\n",
    "        if not alumno:\n",
    "            abort(404)\n",
    "        else:\n",
    "            base.remove(alumno)\n",
    "            return recurso_completo(base, ruta, cuenta, request.data)\n",
    "\n",
    "        \n",
    "    def patch(self, cuenta):\n",
    "        base, alumno = accede_base(ruta, cuenta)\n",
    "        if not alumno:\n",
    "            abort(404)\n",
    "        else:\n",
    "            base.remove(alumno)\n",
    "            del alumno['Cuenta']\n",
    "            alumno.update(loads(request.data))\n",
    "            return recurso_completo(base, ruta, cuenta, dumps(alumno))"
   ]
  },
  {
   "cell_type": "code",
   "execution_count": null,
   "metadata": {},
   "outputs": [],
   "source": [
    "api.add_resource(Alumnos, '/api/')"
   ]
  },
  {
   "cell_type": "code",
   "execution_count": null,
   "metadata": {},
   "outputs": [],
   "source": [
    "api.add_resource(ABCAlumno, '/api/<string:cuenta>')"
   ]
  },
  {
   "cell_type": "code",
   "execution_count": null,
   "metadata": {},
   "outputs": [],
   "source": [
    "app.run(host='0.0.0.0')"
   ]
  },
  {
   "cell_type": "markdown",
   "metadata": {},
   "source": [
    "<p style=\"text-align: center\"><a rel=\"license\" href=\"http://creativecommons.org/licenses/by/4.0/\"><img alt=\"Licencia Creative Commons\" style=\"border-width:0\" src=\"https://i.creativecommons.org/l/by/4.0/80x15.png\" /></a><br />Esta obra está bajo una <a rel=\"license\" href=\"http://creativecommons.org/licenses/by/4.0/\">Licencia Creative Commons Atribución 4.0 Internacional</a>.</p>\n",
    "<p style=\"text-align: center\">&copy; José Luis Chiquete Valdivieso. 2021.</p>"
   ]
  }
 ],
 "metadata": {
  "kernelspec": {
   "display_name": "Python 3 (ipykernel)",
   "language": "python",
   "name": "python3"
  },
  "language_info": {
   "codemirror_mode": {
    "name": "ipython",
    "version": 3
   },
   "file_extension": ".py",
   "mimetype": "text/x-python",
   "name": "python",
   "nbconvert_exporter": "python",
   "pygments_lexer": "ipython3",
   "version": "3.9.7"
  }
 },
 "nbformat": 4,
 "nbformat_minor": 2
}
