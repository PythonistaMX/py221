{
 "cells": [
  {
   "cell_type": "markdown",
   "metadata": {},
   "source": [
    "[![img](img/pythonista.png)](https://www.pythonista.io)"
   ]
  },
  {
   "cell_type": "markdown",
   "metadata": {},
   "source": [
    "# La extensión ```Flask-Bootstrap```."
   ]
  },
  {
   "cell_type": "markdown",
   "metadata": {},
   "source": [
    "[*Bootstrap*](https://getbootstrap.com/) es un marco de trabajo (*framework*) basada en *Javascript* y *CSS* cuyo propósito es el de facilitar el desarrollo de interfaces web responsivas. Aún cuando existen otras opciones, *Bootstrap* es una de las más populares.\n",
    "\n",
    "La extensión [*Flask-Bootstrap*](https://pythonhosted.org/Flask-Bootstrap/) permite crear páginas responsivas compatibles con las plantillas para *Jinja*.\n",
    "\n",
    "Para habilitar la extensión en una app de *Flask* se usa la siguiente sintaxis:\n",
    "\n",
    "```\n",
    "from flask_bootstrap import Bootstrap\n",
    "...\n",
    "...\n",
    "Bootstrap(app)\n",
    "```\n",
    "Las plantillas de la aplicación deben de heredar a la plantilla ```'bootstrap/base.html'```\n",
    "\n",
    "Los bloques definidos por Flask-Boootstrap son:\n",
    "\n",
    "* *doc*. \t\n",
    "* *html*.\n",
    "* *head*. \n",
    "* *body*. \n",
    "* *body_attribs*. \t\n",
    "* *title*. \t\n",
    "* *styles*. \n",
    "* *metas*.\n",
    "* *navbar*.\n",
    "* *content*.\n",
    "* *scripts*."
   ]
  },
  {
   "cell_type": "code",
   "execution_count": null,
   "metadata": {
    "scrolled": false
   },
   "outputs": [],
   "source": [
    "!pip install flask-bootstrap"
   ]
  },
  {
   "cell_type": "markdown",
   "metadata": {},
   "source": [
    "## Ejemplo.\n",
    "\n",
    "Se utilizará la extensión Flask-Bootstrap para gestionar el estilo de la aplicación ejecutándose desde http://localhost:5000 \n",
    "y se sobreescribirán algunos estilos con un archivo de hoja de estilo propio.\n",
    "\n",
    "En este ejemplo se utilizará la clase [*jumbotron*](https://getbootstrap.com/docs/4.0/components/jumbotron/) de Bootstrap.\n",
    "\n",
    "Se creará una aplicación que utilizará la platilla localizada en [*templates/ejemplo-bootstrap.html*](templates/ejemplo-bootstrap.html) que contiene lo siguiente:\n",
    "\n",
    "``` html\n",
    "{% extends \"bootstrap/base.html\" %}\n",
    "{% block title %}Página de prueba{% endblock %}\n",
    "\n",
    "\n",
    "{% block content %}\n",
    "<div class=\"jumbotron\">\n",
    "  <h1>Hola. Esta es la página de {{ mensaje }}.</h1>\n",
    "      <p> ¡Bienvenido!</p>\n",
    "</div>\n",
    "<p> Esta es una prueba simple del uso de Flask-Boostrap.</p>\n",
    "{% endblock %}\n",
    "\n",
    "\n",
    "{% block navbar %}\n",
    "<div id=\"navbar\">\n",
    " <ul>\n",
    "     <li><a href= {{url_for('index')}}>Inicio</a> </li>\n",
    "     <li><a href= {{url_for('apartado', nombre='Acerca de nosotros')}}>Acerca de nosotros</a> </li>\n",
    "     <li><a href= {{url_for('apartado', nombre='Contacto')}}>Contacto</a> </li>\n",
    "  </ul>\n",
    "  <!-- ... -->\n",
    "</div>\n",
    "{% endblock %}\n",
    "\n",
    "\n",
    "{% block styles %}\n",
    "{{super()}}\n",
    "<link rel=\"stylesheet\"\n",
    "      href=\"{{url_for('.static', filename='estilo.css')}}\">\n",
    "{% endblock %}\n",
    "\n",
    "```\n",
    "\n",
    "En el directorio [*static*](static) se creó el archivo de hojas de estilo [*static/estilo.css*](static/estilo.css) que contiene lo siguiente.\n",
    "\n",
    "``` css\n",
    "#navbar li {\n",
    "display:inline;\n",
    "padding-left: 2em;\n",
    "list-style-type: none;\n",
    "}\n",
    "#navbar a:link, #navbar a:visited {\n",
    "font-size: 110%;\n",
    "line-height: 1em;\n",
    "font-weight: normal;\n",
    "text-decoration: none;\n",
    "color: #CB5C14;\n",
    "background: no-repeat top center;\n",
    "}\n",
    "#navbar #navbar, #navbar a:hover {\n",
    "color: #000;\n",
    "background: transparent url(pyramid.gif) no-repeat top center;\n",
    "}\n",
    "```\n",
    "Este archivo de estilo sobreescribirá el comportamiento del elemento de clase *#navbar*.\n",
    "\n",
    "**Advertencia:** Una vez ejecutada la siguente celda es necesario interrumpir el kernel de Jupyter para poder ejecutar el resto de las celdas de la notebook."
   ]
  },
  {
   "cell_type": "code",
   "execution_count": null,
   "metadata": {
    "scrolled": true
   },
   "outputs": [],
   "source": [
    "from flask import Flask, render_template\n",
    "from flask_bootstrap import Bootstrap\n",
    "\n",
    "app = Flask(__name__)\n",
    "Bootstrap(app)\n",
    "\n",
    "@app.route('/')\n",
    "def index():\n",
    "    return render_template('ejemplo-bootstrap.html', mensaje='inicio')\n",
    "\n",
    "@app.route('/<nombre>')\n",
    "def apartado(nombre):\n",
    "    return render_template('ejemplo-bootstrap.html', mensaje=nombre)\n",
    "\n",
    "#Si no se define el parámetro host, flask sólo será visible desde localhost\n",
    "# app.run(host='localhost')    \n",
    "app.run('0.0.0.0')"
   ]
  },
  {
   "cell_type": "markdown",
   "metadata": {},
   "source": [
    "http://localhost:5000/\n",
    "\n",
    "http://localhost:5000/Juan\n"
   ]
  },
  {
   "cell_type": "markdown",
   "metadata": {},
   "source": [
    "<p style=\"text-align: center\"><a rel=\"license\" href=\"http://creativecommons.org/licenses/by/4.0/\"><img alt=\"Licencia Creative Commons\" style=\"border-width:0\" src=\"https://i.creativecommons.org/l/by/4.0/80x15.png\" /></a><br />Esta obra está bajo una <a rel=\"license\" href=\"http://creativecommons.org/licenses/by/4.0/\">Licencia Creative Commons Atribución 4.0 Internacional</a>.</p>\n",
    "<p style=\"text-align: center\">&copy; José Luis Chiquete Valdivieso. 2018.</p>"
   ]
  }
 ],
 "metadata": {
  "kernelspec": {
   "display_name": "Python 3 (ipykernel)",
   "language": "python",
   "name": "python3"
  },
  "language_info": {
   "codemirror_mode": {
    "name": "ipython",
    "version": 3
   },
   "file_extension": ".py",
   "mimetype": "text/x-python",
   "name": "python",
   "nbconvert_exporter": "python",
   "pygments_lexer": "ipython3",
   "version": "3.9.2"
  }
 },
 "nbformat": 4,
 "nbformat_minor": 2
}
