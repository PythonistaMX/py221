{
 "cells": [
  {
   "cell_type": "markdown",
   "metadata": {},
   "source": [
    "[![img/pythonista.png)](img/pythonista.png)](https://www.pythonista.io)"
   ]
  },
  {
   "cell_type": "markdown",
   "metadata": {},
   "source": [
    "# *Blueprints*."
   ]
  },
  {
   "cell_type": "markdown",
   "metadata": {},
   "source": [
    "Los *blueprints* son objetos similares a ```app```, los cuales son instanciados de la clase ```flask.Blueprint```.\n",
    "\n",
    "```\n",
    "<blueprint> = Blueprint(\"<nombre>\", __name__)\n",
    "```\n",
    "\n",
    "Estos objetos permiten relacionar rutas y funciones de forma similar a ```app```, pero permiten su reutilización.\\\n",
    "\n",
    "La ventaja de los *blueprints* es que peuden ser reutilizados y funcionan de forma modular.\n",
    "\n",
    "https://flask.palletsprojects.com/en/2.0.x/blueprints/"
   ]
  },
  {
   "cell_type": "markdown",
   "metadata": {},
   "source": [
    "**Ejemplo:** \n",
    "\n",
    "* Dentro de la estructura del directorio [```src/proyecto-flaskabc_alumnos/```](src/proyecto-flask/abc_alumnos/) se encuentra el script [```blueprints.py```](/src/proyecto-flask/abc_alumnos/blueprints.py). En dicho scrpit se hace la implantación de un blueprint muy similar al código de la *API* que se ha utilizado a lo largo del curso."
   ]
  },
  {
   "cell_type": "markdown",
   "metadata": {},
   "source": [
    "* una diferencia notable es que se ha instanciado el objeto ```abc_alumno``` a partir de la clase ```flask.Blueprint```. "
   ]
  },
  {
   "cell_type": "markdown",
   "metadata": {},
   "source": [
    "```python \n",
    "'''Blueprints de la aplicación.'''\n",
    "from flask import Blueprint, request, abort, jsonify\n",
    "from models import db, Alumno\n",
    "from functions import *\n",
    "abc_alumno = Blueprint('abc_alumno', __name__)\n",
    "```"
   ]
  },
  {
   "cell_type": "markdown",
   "metadata": {},
   "source": [
    "* Se definen una serie de rutas y funciones de forma idéntica a como se hace con un objeto ```app```."
   ]
  },
  {
   "cell_type": "markdown",
   "metadata": {},
   "source": [
    "```python\n",
    "@abc_alumno.route('/', methods=['GET'])\n",
    "def muestra_alumnos():\n",
    "    alumnos = Alumno.query.all()\n",
    "    return jsonify([convierte_a_dict(alumno.cuenta, alumno, esquema_alumno) for alumno in alumnos])\n",
    "\n",
    "\n",
    "@abc_alumno.route('/<cuenta>', methods=['GET', 'POST', 'DELETE', 'PUT'])\n",
    "def ops_alumno(cuenta):\n",
    "    if request.method == 'GET':\n",
    "        alumno = Alumno.query.filter_by(cuenta=cuenta).first()\n",
    "        if alumno:\n",
    "            return jsonify(convierte_a_dict(cuenta, alumno, esquema_alumno))\n",
    "        else:\n",
    "            abort(404)\n",
    "    if request.method == 'DELETE':\n",
    "        alumno = Alumno.query.filter_by(cuenta=cuenta).first()\n",
    "        if alumno:\n",
    "            db.session.delete(alumno)\n",
    "            db.session.commit()\n",
    "            return jsonify(convierte_a_dict(cuenta, alumno, esquema_alumno))\n",
    "        else:\n",
    "            abort(404)      \n",
    "    if request.method == 'POST':\n",
    "        alumno = Alumno.query.filter_by(cuenta=cuenta).first()\n",
    "        if alumno:\n",
    "            abort(403)\n",
    "        else:\n",
    "            respuesta = recurso_completo(cuenta, request.data)\n",
    "            if respuesta:\n",
    "                db.session.add(respuesta)\n",
    "                db.session.commit()\n",
    "                return jsonify(convierte_a_dict(cuenta, respuesta, esquema_alumno))\n",
    "            else:\n",
    "                abort(406)\n",
    "    if request.method == 'PUT':\n",
    "        alumno = Alumno.query.filter_by(cuenta=cuenta).first()\n",
    "        if alumno:\n",
    "            respuesta = recurso_completo(cuenta, request.data)\n",
    "            if respuesta:\n",
    "                db.session.delete(alumno)\n",
    "                db.session.add(respuesta)\n",
    "                db.session.commit()\n",
    "                return jsonify(convierte_a_dict(cuenta, respuesta, esquema_alumno))\n",
    "            else:\n",
    "                abort(406)\n",
    "        else:\n",
    "            \n",
    "            abort(404)                 \n",
    "```"
   ]
  },
  {
   "cell_type": "markdown",
   "metadata": {},
   "source": [
    "## Registro de un *blueprint* en una aplicación."
   ]
  },
  {
   "cell_type": "markdown",
   "metadata": {},
   "source": [
    "Los *blueprints* pueden ser aprovechado por app mediante el método ```app.register_blueprint()```.\n",
    "\n",
    "**Sintaxis:**\n",
    "\n",
    "```\n",
    "app.register_blueprint(<blueprint>, url_prefix='<ruta>')\n",
    "```"
   ]
  },
  {
   "cell_type": "markdown",
   "metadata": {},
   "source": [
    "**Ejemplo:**"
   ]
  },
  {
   "cell_type": "markdown",
   "metadata": {},
   "source": [
    "* El script [```app.py```](/src/proyecto-flask/abc_alumnos/app.py) registra el blueprint ```abc_alumno``` para que atienda peticiones desde la ruta ```/api/```.\n",
    "\n",
    "```python\n",
    "'''Módulo principal de la aplicación.'''\n",
    "from flask import Flask\n",
    "from models import db\n",
    "from blueprints import abc_alumno\n",
    "app = Flask(__name__)\n",
    "app.config.from_pyfile('settings.cfg')\n",
    "db.init_app(app)\n",
    "app.register_blueprint(abc_alumno, url_prefix='/api')\n",
    "\n",
    "if __name__ == '__main__':\n",
    "    app.run(host='0.0.0.0')\n",
    "```"
   ]
  },
  {
   "cell_type": "markdown",
   "metadata": {},
   "source": [
    "<p style=\"text-align: center\"><a rel=\"license\" href=\"http://creativecommons.org/licenses/by/4.0/\"><img alt=\"Licencia Creative Commons\" style=\"border-width:0\" src=\"https://i.creativecommons.org/l/by/4.0/80x15.png\" /></a><br />Esta obra está bajo una <a rel=\"license\" href=\"http://creativecommons.org/licenses/by/4.0/\">Licencia Creative Commons Atribución 4.0 Internacional</a>.</p>\n",
    "<p style=\"text-align: center\">&copy; José Luis Chiquete Valdivieso. 2021.</p>"
   ]
  }
 ],
 "metadata": {
  "kernelspec": {
   "display_name": "Python 3 (ipykernel)",
   "language": "python",
   "name": "python3"
  },
  "language_info": {
   "codemirror_mode": {
    "name": "ipython",
    "version": 3
   },
   "file_extension": ".py",
   "mimetype": "text/x-python",
   "name": "python",
   "nbconvert_exporter": "python",
   "pygments_lexer": "ipython3",
   "version": "3.9.7"
  }
 },
 "nbformat": 4,
 "nbformat_minor": 2
}
