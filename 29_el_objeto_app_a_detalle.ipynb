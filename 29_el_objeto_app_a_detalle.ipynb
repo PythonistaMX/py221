{
 "cells": [
  {
   "cell_type": "markdown",
   "metadata": {},
   "source": [
    "[![img/pythonista.png](img/pythonista.png)](https://www.pythonista.io)"
   ]
  },
  {
   "cell_type": "markdown",
   "metadata": {},
   "source": [
    "# Introducción a *Flask*."
   ]
  },
  {
   "cell_type": "markdown",
   "metadata": {},
   "source": [
    "[*Flask*](https://flask.palletsprojects.com) es conocido como un \"*microframework*\". Es decir, que a diferencia de proyectos como *Django* que viene \"con las pilas incluidas\", *Flask* sólamente contiene funcionalidades básicas tales como:\n",
    "\n",
    "* Un servidor de aplicaciones basado en la biblioteca [*Werkzeug*](https://werkzeug.palletsprojects.com/).\n",
    "* Soporte de Plantillas por medio de [*Jinja*](https://jinja.palletsprojects.com).\n",
    "* Una herramienta de depuración.\n",
    "* Soporte para pruebas unitarias.\n",
    "* Soporte para cookies seguras.\n",
    "* Soporte para desarrollo de instrucciones por medio de la interfaz de línea de comandos (*CLI*) mediante [*Click*](https://click.palletsprojects.com/)."
   ]
  },
  {
   "cell_type": "markdown",
   "metadata": {},
   "source": [
    "## Las extensiones de *Flask*.\n",
    "\n",
    "Aún cuando la instalación básica de *Flask* contiene componentes mínimos, el proyecto cuenta  con un extenso catáĺogo de extensiones disponibles en la siguiente liga: https://flask.palletsprojects.com/en/2.0.x/extensions/"
   ]
  },
  {
   "cell_type": "markdown",
   "metadata": {},
   "source": [
    "## Instalación del paquete ```flask```.\n",
    "\n",
    "El paquete ```flask``` se puede encontrar dentro del catalogo de [*pypi*](https://pypi.org/project/Flask/) y puede ser instalado mediante ```pip```."
   ]
  },
  {
   "cell_type": "code",
   "execution_count": null,
   "metadata": {},
   "outputs": [],
   "source": [
    "!pip install flask"
   ]
  },
  {
   "cell_type": "markdown",
   "metadata": {},
   "source": [
    "## La clase ```flask.Flask```.\n",
    "\n",
    "La clase ```flask.Flask``` es el componente principal del framework. Los objetos instanciados a partir de esta clase realizarán todas las funciones del servidor de aplicaciones.\n",
    "\n",
    "El único parámetro requerido obligatoriamente al instanciar un objeto de tipo ```Flask``` es el nombre de la aplicación, el cual de principio corresponde al objeto asignado al nombre del entorno global ```__name__```.\n",
    "\n",
    "Solamente si se piensa en utilizar un objeto de tipo ```Flask``` dentro de un paquete, el nombre deber de ser cambiado por el nombre del paquete.\n",
    "\n",
    "**Sintaxis:**\n",
    "\n",
    "``` python\n",
    "<nombre> = flask.Flask(<nombre de la aplicación>)\n",
    "```\n",
    "\n",
    "**Nota:** aún cuando puede asignársele cualquier nombre, se utiliza el nombre ```app``` por convención. En adelante se usará dicha convención para lacer referencia a un objeto instanciado de la clase ```flask.Flask```. "
   ]
  },
  {
   "cell_type": "markdown",
   "metadata": {},
   "source": [
    "**Ejemplo:**\n",
    "\n",
    "Las siguientes líneas de código asigna el nombre ```app``` al objeto instanciado de la clase ```Flask```, ingresando el nombre ```_name__``` como argumento."
   ]
  },
  {
   "cell_type": "code",
   "execution_count": null,
   "metadata": {},
   "outputs": [],
   "source": [
    "from flask import Flask\n",
    "app = Flask(__name__)"
   ]
  },
  {
   "cell_type": "code",
   "execution_count": null,
   "metadata": {},
   "outputs": [],
   "source": [
    "app"
   ]
  },
  {
   "cell_type": "markdown",
   "metadata": {},
   "source": [
    "## El atributo ```app.config```. "
   ]
  },
  {
   "cell_type": "markdown",
   "metadata": {},
   "source": [
    "El atributo ```app.config``` es un objeto instanciado de una subclase de ```dict``` que sirve como el recurso usado para consultar, añadir o modificar los parámetros de configuración de la aplicación, incluyendo aquellas que son utulizadas por las extensiones de *Flask*.\n",
    "\n",
    "La documentación de ```app.config``` puede ser consultada en:\n",
    "\n",
    "https://flask.palletsprojects.com/en/2.0.x/config/"
   ]
  },
  {
   "cell_type": "code",
   "execution_count": null,
   "metadata": {},
   "outputs": [],
   "source": [
    "app.config"
   ]
  },
  {
   "cell_type": "markdown",
   "metadata": {},
   "source": [
    "### Opciones comunes de ```app.config```.\n",
    "\n",
    "* ```app.config['ENV']```: ```'production'``` o ```'development'```\n",
    "* ```app.config['DEBUG']```\n",
    "* ```app.config['TESTING']```\n",
    "* ```app.config['SECRET_KEY']```"
   ]
  },
  {
   "cell_type": "markdown",
   "metadata": {},
   "source": [
    "**Ejemplos:**"
   ]
  },
  {
   "cell_type": "code",
   "execution_count": null,
   "metadata": {},
   "outputs": [],
   "source": [
    "app.config['ENV']"
   ]
  },
  {
   "cell_type": "code",
   "execution_count": null,
   "metadata": {},
   "outputs": [],
   "source": [
    "app.config['DEBUG']"
   ]
  },
  {
   "cell_type": "code",
   "execution_count": null,
   "metadata": {},
   "outputs": [],
   "source": [
    "app.config['TESTING']"
   ]
  },
  {
   "cell_type": "code",
   "execution_count": null,
   "metadata": {},
   "outputs": [],
   "source": [
    "app.config['SECRET_KEY']"
   ]
  },
  {
   "cell_type": "markdown",
   "metadata": {},
   "source": [
    "### Métodos  para la carga de configuraciones de  ```app.config``` .\n",
    "\n",
    "Algunos valores de configuración de ```app.config``` pueden contener contraseñas o datos sensibles que por seguridad no deben de ser incluidos en el código de la aplicación.\n",
    "\n",
    "Es por ello que los siguientes métodos permiten cargar los parámetros de configuración de ```app.config``` desde un archivo u objeto.\n",
    "\n",
    "```\n",
    "<método>(<ruta>)\n",
    "```\n",
    "Donde: \n",
    "* <método> es uno de los siguientes métodos:\n",
    "    * ```app.config.from_file()```\n",
    "    * ```app.config.from_json()```\n",
    "    * ```app.config.from_pyfile()```"
   ]
  },
  {
   "cell_type": "markdown",
   "metadata": {},
   "source": [
    "#### El método ```app.config.from_envvar()```."
   ]
  },
  {
   "cell_type": "markdown",
   "metadata": {},
   "source": [
    "#### El método ```app.config.from_object()```. "
   ]
  },
  {
   "cell_type": "markdown",
   "metadata": {},
   "source": [
    "## Rutas y funciones de vista.\n",
    "\n",
    "Cuando un cliente realiza una petición al servidor de aplicaciones de *Flask*, ésta debe de corresponder a una ruta válida capaz de gestionar dicha petición. De lo contrario, el servidor de *Flask* regresará un estado ```404```."
   ]
  },
  {
   "cell_type": "markdown",
   "metadata": {},
   "source": [
    "## El método ```app.route()```.\n",
    "\n",
    " \n",
    "El método ```app.route()``` es una función de orden superior que al ser usada como decorador, permite ligar a una ruta con una función.\n",
    "\n",
    "\n",
    "```\n",
    "@app.route(<regla de ruta>, methods=<métodos>)\n",
    "<función de vista>\n",
    "```\n",
    "\n",
    "Donde:\n",
    "\n",
    "* ```<regla de ruta>``` es un objeto ```str``` que define la ruta a la que se asociará una función de vista. \n",
    "* ```<métodos>``` es un objeto de tipo ```list``` que contiene los nombres en formato ```str``` de los métodos *HTTP*. El valor por defecto es ```[\"GET\"]```.\n",
    "* ```<función de vista>``` es la definición de una función cuyo resultado será enviado al cliente quen realice una petición a la ruta indicada."
   ]
  },
  {
   "cell_type": "markdown",
   "metadata": {},
   "source": [
    "**Ejemplo:**"
   ]
  },
  {
   "cell_type": "markdown",
   "metadata": {},
   "source": [
    "Las siguientes líneas de código."
   ]
  },
  {
   "cell_type": "code",
   "execution_count": null,
   "metadata": {},
   "outputs": [],
   "source": [
    "@app.route('/')\n",
    "def inicio():\n",
    "    return('<p>Hola, Mundo.</p>')"
   ]
  },
  {
   "cell_type": "markdown",
   "metadata": {},
   "source": [
    "### Reglas de ruta.\n",
    "\n",
    "```\n",
    "'{segmento 1}<{param 1}>{segmento 2}<{param 2}...>'\n",
    "```"
   ]
  },
  {
   "cell_type": "markdown",
   "metadata": {},
   "source": [
    "**Ejemplos:**"
   ]
  },
  {
   "cell_type": "markdown",
   "metadata": {},
   "source": []
  },
  {
   "cell_type": "markdown",
   "metadata": {},
   "source": [
    "### Captura de los parámetros en las funciones de vista.\n",
    "\n",
    "```\n",
    "app.route({segmento de ruta}<P{param 1}>...<{param 2}<... <{param n}>\n",
    "def {función de vista}({param 1}, {param 2},..., {param n})\n",
    "   ...\n",
    "```"
   ]
  },
  {
   "cell_type": "markdown",
   "metadata": {},
   "source": [
    "**Ejemplo:**"
   ]
  },
  {
   "cell_type": "code",
   "execution_count": null,
   "metadata": {},
   "outputs": [],
   "source": [
    "@app.route('/saluda/<usuario>')\n",
    "def ruta_dinamica(usuario):\n",
    "    return('<p>Hola, {}.</p>'.format(usuario))"
   ]
  },
  {
   "cell_type": "markdown",
   "metadata": {},
   "source": [
    "## El método ```app.run()```.\n",
    "\n",
    "El método ```app.run()``` es el encargado de levantar el servidor web. Es posible ingresar algunos parámetros iniciales tales como:\n",
    "\n",
    "\n",
    "```\n",
    "app.run(host=<host>, port=<puerto>, debug=<depurar>, production\n",
    "```\n",
    "\n",
    "* El parámetro ```<host>``` es un objeto de tipo ```str```define las direcciones *IP* que puede escuchar. Por defecto, el valor es ```'localhost'```, pero se puede especificar el rango de direcciones *IP* al que se desee atender. Por ehemplo el objeto ```'0.0.0.0'``` ate.\n",
    "* El parámetro ```<puerto>``` define el número del puerto que el servidor atiende. Por defecto escucha al puerto ```5000```.\n",
    "* El parámetro ```<depurar>``` permite a *Flask* entrar en modo de depuración y su valor por defecto es ```False```."
   ]
  },
  {
   "cell_type": "markdown",
   "metadata": {},
   "source": [
    "**Ejemplo:**"
   ]
  },
  {
   "cell_type": "code",
   "execution_count": null,
   "metadata": {},
   "outputs": [],
   "source": [
    "app.run(host=\"0.0.0.0\", port=5000)"
   ]
  },
  {
   "cell_type": "markdown",
   "metadata": {},
   "source": [
    "## Contextos de *Flask*.\n",
    "\n",
    "*Flask* es un servidor con la capacidad de permitir a una aplicación ejecutarse en varios hilos (*threads*) y a su vez, cada aplicación puede darle servicio a diversos usuarios concurrentes, por lo que la gestión de ámbitos puede complicarse rápidamente.\n",
    "\n",
    "Los desarrolladores de *Flask* definieron tres estados o \"contextos\" en los que puede encontrarse una aplicación.\n",
    "\n",
    "* El contexto de aplicación (*application context*) corresponde al estado cuando el objeto de tipo *Flask* está en ejecución, pero no ha recibido una petición de algún cliente.\n",
    "* El contexto de petición (*request context*) corresponde al estado del objeto de tipo *Flask* cuando un cliente realiza una petición. Este genera una especie de entorno global para cada petición que no interfiere con otras peticiones que se realizan simultáneamente.\n",
    "* Contexto de transición corresponde a un estado intermedio que puede ser aprovechado por medio de la ejecucion e comandos mediante la shell de *Flask*. A diferencia de los otros dos contextos, éste no tiene un nombre particular.\n",
    "\n",
    "Un objeto ```app``` puede cambiar de un contexto a otro durante su ejecución. A esto se le conoce como \"*push*\". \n",
    "\n",
    "Dependiendo del contexto en el que se encuentre el objeto ```app```, éste podrá tener acceso a ciertos objetos en su ámbito global.\n",
    "\n",
    "La razón de estos cambios de contexto es para proteger al objeto ```app``` de código malicioso que pudiera ser inyectado desde una petición y que a su vez, cada petición cuente con un entorno aislado de las otras.\n"
   ]
  },
  {
   "cell_type": "markdown",
   "metadata": {},
   "source": [
    "## Objetos en el contexto de aplicación.\n",
    "\n",
    "* El objeto ```current_app``` se refiere a la aplicación en ejecución.\n",
    "* El objeto ```g``` es un objeto capaz de guardar información temporal mientras se atiende a una petición."
   ]
  },
  {
   "cell_type": "markdown",
   "metadata": {},
   "source": [
    "## Objetos en el contexto de petición.\n",
    "\n",
    "* El objeto ```request``` contiene la petición hecha por el cliente.\n",
    "* El objeto ```session``` es un objeto de tipo ```dict``` que puede ser utilizado para guardar información de un mismo cliente entre una petición y otra."
   ]
  },
  {
   "cell_type": "markdown",
   "metadata": {},
   "source": [
    "<p style=\"text-align: center\"><a rel=\"license\" href=\"http://creativecommons.org/licenses/by/4.0/\"><img alt=\"Licencia Creative Commons\" style=\"border-width:0\" src=\"https://i.creativecommons.org/l/by/4.0/80x15.png\" /></a><br />Esta obra está bajo una <a rel=\"license\" href=\"http://creativecommons.org/licenses/by/4.0/\">Licencia Creative Commons Atribución 4.0 Internacional</a>.</p>\n",
    "<p style=\"text-align: center\">&copy; José Luis Chiquete Valdivieso. 2021.</p>"
   ]
  }
 ],
 "metadata": {
  "kernelspec": {
   "display_name": "Python 3 (ipykernel)",
   "language": "python",
   "name": "python3"
  },
  "language_info": {
   "codemirror_mode": {
    "name": "ipython",
    "version": 3
   },
   "file_extension": ".py",
   "mimetype": "text/x-python",
   "name": "python",
   "nbconvert_exporter": "python",
   "pygments_lexer": "ipython3",
   "version": "3.9.7"
  }
 },
 "nbformat": 4,
 "nbformat_minor": 2
}
