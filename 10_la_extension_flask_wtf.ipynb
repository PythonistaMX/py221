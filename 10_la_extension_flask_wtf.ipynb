{
 "cells": [
  {
   "cell_type": "markdown",
   "metadata": {},
   "source": [
    "[![mg/pythonista.png](img/pythonista.png)](https://www.pythonista.io)"
   ]
  },
  {
   "cell_type": "markdown",
   "metadata": {},
   "source": [
    "# El módulo ```flask_wtf```."
   ]
  },
  {
   "cell_type": "markdown",
   "metadata": {},
   "source": [
    "El módulo ```flask_wtf``` es la implementación del módulo ```wtforms``` para *Flask*."
   ]
  },
  {
   "cell_type": "markdown",
   "metadata": {},
   "source": [
    "## La clase ```flask_wtf.FlaskForm```."
   ]
  },
  {
   "cell_type": "code",
   "execution_count": null,
   "metadata": {},
   "outputs": [],
   "source": [
    "from flask_wtf import FlaskForm"
   ]
  },
  {
   "cell_type": "markdown",
   "metadata": {},
   "source": [
    "### El método ```flask_wtf.FlaskForm.hidden_tag()```.\n",
    "\n",
    "Este método se utiliza para agregar una etiqueta oculta dentro de una forma. Por lo general se utiliza para evitar ataques de tipo *CSRF*."
   ]
  },
  {
   "cell_type": "markdown",
   "metadata": {},
   "source": [
    "### El método ```flask_wtf.FlaskForm.is_submitted()```.\n",
    "\n",
    "Este método valida si la forma fue enviada."
   ]
  },
  {
   "cell_type": "markdown",
   "metadata": {},
   "source": [
    "### El método ```flask_wtf.FlaskForm.validate_on_submit()```.\n",
    "\n",
    "Este método valida los datos de cada campo una vez que son enviados y regresa _True_ en caso de que dicha validación haya sido exitosa."
   ]
  },
  {
   "cell_type": "markdown",
   "metadata": {},
   "source": [
    "## Protección contra ataques *CSRF*.\n",
    "\n",
    "El paquete *wtforms* utiliza por defecto un mecanismo que impide que reciba peticiones que no pertenezcan al sitio. A esta técnica de penetración se le conoce como \"CSRF\", por las siglas en inglés de Cross Site Request Forgery o Falsificación de Peticiones Cruzadas entre Sitios.\n",
    "\n",
    "Esta protección se realiza mendiante el uso de claves de cifrado a partir de las cuales generan \"tokens\" que verifican la autenticidad de las peticiones. La clave de cifrado de un objeto *Flask* se ingresa mediante la asignación de dicha clave al campo *'SECRET_KEY'* del atributo *config* de la siguiente manera.\n",
    "\n",
    "```\n",
    "app.config['SECRET_KEY'] = <objeto tipo str>\n",
    "```"
   ]
  },
  {
   "cell_type": "markdown",
   "metadata": {},
   "source": [
    "## Ejemplo del uso de *flask_wtf*."
   ]
  },
  {
   "cell_type": "markdown",
   "metadata": {},
   "source": [
    "### La plantilla ```plantilla_formas.html```.\n",
    "\n",
    "* La plantilla localizada en [```templates/plantilla_formas.html```](templates/plantilla_formas.html) tiene el siguiente contenido:\n",
    "\n",
    "``` html\n",
    "<h1> Datos personales del alumno </h1>\n",
    "<form method=\"POST\">\n",
    "    {{ form.hidden_tag() }}\n",
    "    {{ form.nombre.label }} {{form.nombre(id='nombre')}}\n",
    "    {{ form.primer_apellido.label }} {{form.primer_apellido(id='primer apellido')}}\n",
    "    {{ form.segundo_apellido.label }} {{form.segundo_apellido(id='segundo apellido')}}\n",
    "    {{ form.enviar }}\n",
    "</form>\n",
    "```"
   ]
  },
  {
   "cell_type": "markdown",
   "metadata": {},
   "source": [
    "### La clase ```NombreEstudiante```.\n",
    "\n",
    "* Se creará la clase *NombreEstudiante* que es subclase de *FlaskForm*, la cual incluirá lo siguiente:\n",
    "\n",
    "    * Los campos *nombre*, *primer_apellido*, y *segundo_apellido* son instancias de *StringField* y su valor por defecto es una cadena de caracteres vacía.  \n",
    "    * Los campos *nombre* y *primer_apellido* incluyen al validador *Length*, el cual verificará que los campos no sean cadenas de caracteres vacías.\n",
    "    * El campo *enviar* es instancia de *SubmitField*.\n",
    "* Se asignará una cadena de caracteres al elemento 'SECRET_KEY'del atributo *app.config*.\n",
    "* Se creará el objeto *forma* a partir de la clase *NombreEstudiante*.\n",
    "* Se creará la función de vista *index()* correspondiente a la ruta raíz del servidor, aceptando los métodos POST y GET. Dicha función realizará lo siguiente:\n",
    "    * Instanciará al objeto *forma* a partir de la clase *NombreEstudiante*.\n",
    "    * Desplegará una página HTML mendiate la función *render_template()* a partir de la plantilla *plantilla_formas.html*, asignando al parámetro *form* el objeto *forma*.\n",
    "    * En caso de que la forma haya sido enviada desde un cliente con todas las validaciones correctas, desplegará el contenido capturado por cada elemento del objeto *forma*."
   ]
  },
  {
   "cell_type": "code",
   "execution_count": null,
   "metadata": {
    "scrolled": true
   },
   "outputs": [],
   "source": [
    "from flask_wtf import FlaskForm\n",
    "from wtforms import StringField, SubmitField\n",
    "from wtforms.validators import Length\n",
    "\n",
    "\n",
    "class NombreEstudiante(FlaskForm):\n",
    "    nombre = StringField('Nombre', [Length(min=1)], default='')\n",
    "    primer_apellido = StringField('Primer apellido', [Length(min=1)], default='')\n",
    "    segundo_apellido = StringField('Segundo apellido', default='')\n",
    "    enviar = SubmitField('Enviar')"
   ]
  },
  {
   "cell_type": "code",
   "execution_count": null,
   "metadata": {},
   "outputs": [],
   "source": [
    "from flask import Flask, render_template"
   ]
  },
  {
   "cell_type": "code",
   "execution_count": null,
   "metadata": {},
   "outputs": [],
   "source": [
    "app = Flask(__name__)\n",
    "app.config['SECRET_KEY']='Saludines'"
   ]
  },
  {
   "cell_type": "code",
   "execution_count": null,
   "metadata": {},
   "outputs": [],
   "source": [
    "@app.route('/', methods=['GET', 'POST'])\n",
    "def index():\n",
    "    forma = NombreEstudiante()\n",
    "    if forma.validate_on_submit():\n",
    "        for dato in forma:\n",
    "            print(dato) \n",
    "    return render_template('plantilla_formas.html', form=forma)"
   ]
  },
  {
   "cell_type": "markdown",
   "metadata": {},
   "source": [
    "**Advertencia:** Una vez ejecutada la siguiente celda, es necesario interrumpir el kernel de Jupyter para poder ejecutar el resto de las celdas de la notebook."
   ]
  },
  {
   "cell_type": "code",
   "execution_count": null,
   "metadata": {},
   "outputs": [],
   "source": [
    "#Si no se define el parámetro host, flask sólo será visible desde localhost\n",
    "# app.run(host='localhost')\n",
    "app.run('0.0.0.0')"
   ]
  },
  {
   "cell_type": "markdown",
   "metadata": {},
   "source": [
    "<p style=\"text-align: center\"><a rel=\"license\" href=\"http://creativecommons.org/licenses/by/4.0/\"><img alt=\"Licencia Creative Commons\" style=\"border-width:0\" src=\"https://i.creativecommons.org/l/by/4.0/80x15.png\" /></a><br />Esta obra está bajo una <a rel=\"license\" href=\"http://creativecommons.org/licenses/by/4.0/\">Licencia Creative Commons Atribución 4.0 Internacional</a>.</p>\n",
    "<p style=\"text-align: center\">&copy; José Luis Chiquete Valdivieso. 2021.</p>"
   ]
  }
 ],
 "metadata": {
  "kernelspec": {
   "display_name": "Python 3 (ipykernel)",
   "language": "python",
   "name": "python3"
  },
  "language_info": {
   "codemirror_mode": {
    "name": "ipython",
    "version": 3
   },
   "file_extension": ".py",
   "mimetype": "text/x-python",
   "name": "python",
   "nbconvert_exporter": "python",
   "pygments_lexer": "ipython3",
   "version": "3.9.7"
  }
 },
 "nbformat": 4,
 "nbformat_minor": 2
}
