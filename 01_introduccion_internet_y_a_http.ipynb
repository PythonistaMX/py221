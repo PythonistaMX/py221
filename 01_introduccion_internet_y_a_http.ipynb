{
 "cells": [
  {
   "cell_type": "markdown",
   "metadata": {},
   "source": [
    "[![img/pythonista.png](img/pythonista.png)](https://www.pythonista.io)"
   ]
  },
  {
   "cell_type": "markdown",
   "metadata": {},
   "source": [
    "# Introducción a Internet y *HTTP*. "
   ]
  },
  {
   "cell_type": "markdown",
   "metadata": {},
   "source": [
    "## Breve introducción a Internet.\n",
    "\n",
    "Internet es una red de comunicaciones global basada en [la familia de protocolos de internet](https://es.wikipedia.org/wiki/Familia_de_protocolos_de_internet), también conocida como el conjunto de protocolos *TCP/IP*. A través de Internet y sus diversos protocolos es posible acceder a servicios tan diversos como:\n",
    "\n",
    "* Correo electrónico.\n",
    "* Mensajería instantánea y chats.\n",
    "* Comercio electrónico.\n",
    "* Telefonia.\n",
    "* Transmisión de audio y video.\n",
    "* Acceso a la web.\n",
    "\n",
    "Los protocolos *TPC/IP* fueron desarrollados inicialmente por [Vinton Cerf](https://es.wikipedia.org/wiki/Vinton_Cerf) y [Robert Kahn](https://es.wikipedia.org/wiki/Robert_Kahn) en la década de 1970 para el proyecto [ARPANET](https://es.wikipedia.org/wiki/ARPANET), el cual posteriormente evolucionó en Internet.\n",
    "\n",
    "\n",
    "**Nota:** En este capítulo se mencionarán brevemente los protocolos [*IP*](https://es.wikipedia.org/wiki/Protocolo_de_internet), [*DNS*](https://es.wikipedia.org/wiki/Sistema_de_nombres_de_dominio), [*SSL/TLS*](https://es.wikipedia.org/wiki/Transport_Layer_Security) y [*HTTPS*](https://es.wikipedia.org/wiki/Protocolo_seguro_de_transferencia_de_hipertexto), mientras que el protocolo [*HTTP*](https://es.wikipedia.org/wiki/Protocolo_de_transferencia_de_hipertexto) será el tema central del curso."
   ]
  },
  {
   "cell_type": "markdown",
   "metadata": {},
   "source": [
    "### El modelo *OSI*.\n",
    "\n",
    "El [modelo *OSI*](https://es.wikipedia.org/wiki/Modelo_OSI), por las siglas en inglés de \"modelo de interconexión de sistemas abiertos\" correspondiente al estándar *ISO/IEC 7498-1* es un modelo de referencia que facilita la comunicación e interacción entre diversos componentes de una red de comunicaciones de datos.\n",
    "\n",
    "El modelo *OSI* consta de 7 capas:\n",
    "\n",
    "1. Capa física.\n",
    "* Capa de enlace.\n",
    "* Capa de red.\n",
    "* Capa de transporte.\n",
    "* Capa de sesión.\n",
    "* Capa de presentación.\n",
    "* Capa de aplicación.\n",
    "\n",
    "Cada uno de los protocolos de la familia *TCP/IP* es implementado en alguna de estas capas.\n",
    "\n",
    "Para mayor referencia sobre los protocolos *TCP/IP* y su implementación en las capas del modelo *OSI* es posible consultar la siguiente liga.\n",
    "\n",
    "https://en.wikipedia.org/wiki/List_of_network_protocols_(OSI_model)"
   ]
  },
  {
   "cell_type": "markdown",
   "metadata": {},
   "source": [
    "## Localizadores Uniformes de Recursos (*URL*).\n",
    "\n",
    "Es posible acceder a un recurso disponble en Internet mediante los \"Localizadores Uniformes de Recursos, o *URL* por sus siglas en inglés. \n"
   ]
  },
  {
   "cell_type": "markdown",
   "metadata": {},
   "source": [
    "### Estructura de una *URL*.\n",
    "\n",
    "Una *URL* presenta la siguiente estructura general: \n",
    "\n",
    "Para un recurso que requiere de autenticación:\n",
    " \n",
    "```\n",
    "<esquema>://<usuario>:<contraseña>@<anfitrión>:<puerto>/<ruta>?<consultas>\n",
    "```\n",
    "\n",
    "Para un recurso que no requiere de autenticación:\n",
    " \n",
    "```\n",
    "<esquema>://<anfitrión>:<puerto>/<ruta>?<consultas>\n",
    "```\n",
    "\n",
    "Donde:\n",
    "\n",
    "* ```<esquema>``` es el protocolo o medio que se utilizará para acceder a un recurso.\n",
    "    * Para *HTTP* se usa ```http```.\n",
    "    * Para *HTTPS* se usa ```https```.\n",
    "    * Para un recuros en el sistema de archivos local se usa ```file```. \n",
    "* ```<usuario>``` es el nombre del usuario con el que se accederá al recurso en el caso de que el acceso requiera de autenticación.\n",
    "* ```<contraseña>```es la contraseña del usuario con el que se accederá al recurso en el caso de que el acceso requiera de autenticación.\n",
    "* ```<anfitrión>``` indica la dirección en la que se encuentra el sistema anfitrión (host) al que se quiere acceder.\n",
    "* ```<puerto>``` es el puerto en el que el servicio está habilitado.\n",
    "    * *HTTP* utiliza el puerto ```80``` por defecto.\n",
    "    * *HTTPS* utiliza el puerto ```443``` por defecto.\n",
    "* ```<ruta>``` es la ruta donde se encuentra localizado el recurso dentro del servidor.\n",
    "* ```<consulta>``` es una sucesión de parámtestros que pueden ser procesados por el sistema anfitrión."
   ]
  },
  {
   "cell_type": "markdown",
   "metadata": {},
   "source": [
    "### Estructura de una consulta (query).\n",
    "\n",
    "Las consultas son una sucesión de parámetros ```<nombre>=<valor>``` separados por el caracter ```&``` de la siguiente forma:\n",
    "\n",
    "```\n",
    "<nombre 1>=<valor 1>&<nombre 2>=<valor 2>&...&<nombre n>=<valor m>\n",
    "```\n",
    "\n",
    "Los parámetros no se utilizan para localizar un recurso. Los parámetros datos que pueden ser procesados por el sistema anfitrión."
   ]
  },
  {
   "cell_type": "markdown",
   "metadata": {},
   "source": [
    "**Ejemplo:**\n",
    "\n",
    "* La siguiente *URL* realizará lo siguiente:\n",
    "    * Realizará una conexión *HTTPS* en el puerto ```443``` con el sistema anfitrión localizado en ```www.google.com```.\n",
    "    * buscará al recurso localizado en la ruta ```search```.\n",
    "    * Enviará el parámetro ```q=pythonista```.\n",
    "\n",
    "https://www.google.com/search?q=pythonista\n",
    "\n",
    "Al ingresar la *URL* desde un navegador, el resultado será la búsqueda del término ```pythonista``` en Google.\n",
    "\n",
    "<img src=\"img/01/google_py.png\" width=\"500\">"
   ]
  },
  {
   "cell_type": "markdown",
   "metadata": {},
   "source": [
    "## Acceso a un anfitrión (*host*).\n",
    "\n",
    "Los sistemas anfitriones son equipos o sistemas de cómputo los cuales están distribuídos por todo el mundo y cuyos servicios pueden ser accedidos de dos maneras:\n",
    "\n",
    "* Mediante su dirección *IP*.\n",
    "* Mediante su nombre de dominio."
   ]
  },
  {
   "cell_type": "markdown",
   "metadata": {},
   "source": [
    "## Direcciones *IP*.\n",
    "\n",
    "Una [dirección *IP*](https://es.wikipedia.org/wiki/Direcci%C3%B3n_IP) es un número único que identifica a un nodo de red de un servidor específico. Un servidor puede tener más de un nodo de red, por lo que cada nodo tendría una direccion *IP* diferente y única.\n",
    "\n",
    "La \"Internet Asigned Numbres Authority\" ([*IANA*](https://www.iana.org/)) es la organización encargada de asignar y distribuir los segmentos de direcciones *IP* a las diversas organizaciones privadas y gubernamentales."
   ]
  },
  {
   "cell_type": "markdown",
   "metadata": {},
   "source": [
    "## Direcciones *IP* versión 4 (*IPv4*).\n",
    "\n",
    "La especificación de los identificadores *IPv4* fue definida por la \"Internet Engineering Task Force\" ([*IETF*](https://ietf.org/about/)) en el [*RFC 6864*](https://tools.ietf.org/html/rfc6864).\n",
    "\n",
    "Las direcciones *IPv4* son las de uso más común. Corresponden a un número de 32 bits expresado por 4 segmentos de números que van de ```0``` a ```255``` (8 bits) separados por un punto ```.```.\n",
    "\n",
    "\n",
    "**Ejemplo:**\n",
    "\n",
    "La dirección *IPv4* donde se encuentra el servidor de Pythonista® es ```142.4.217.131```.\n",
    "\n",
    "Debido al auge de Internet, a partir del año 2011 la reserva de direcciones *IPv4* se ha agotado. Sin embargo, aún cuando las reservas están agotadas, todavía es posible reutilizar y administrar las direcciones *IPv4* existentes."
   ]
  },
  {
   "cell_type": "markdown",
   "metadata": {},
   "source": [
    "### Clases de redes IPv4.\n",
    "\n",
    "A partir de la totalidad de direcciones *IP* disponibles se distribuyeron varias redes de diversas clases.  \n",
    "\n",
    "\n",
    "| Tipo | Rango | Número máximo de direcciones |\n",
    "| :---------: | :----: | :---: |\n",
    "| Clase A | ```1.0.0.1``` a ```126.255.255.254```| 16 millones en 127 redes |\n",
    "| Clase B |\t```128.1.0.1``` a ```191.255.255.254``` | 65,000 en 16,000 redes |\n",
    "| Clase C |\t```192.0.1.1``` a ```223.255.254.254``` | 254 en 2 millones de redes |\n",
    "| Clase D |\t```224.0.0.0``` a ```239.255.255.255``` | Reservada |\n",
    "| Clase E | ```240.0.0.0``` a ```254.255.255.254``` | Reservada | "
   ]
  },
  {
   "cell_type": "markdown",
   "metadata": {},
   "source": [
    "### Las \"intranets\" y los rangos de direcciones *IP* privados.\n",
    "\n",
    "Una intranet es una red privada basada en el conjunto de protocolos *TCP/IP*, en la que a cada interfaz de red de los sistemas locales se le asigna una dirección *IP* en un rango privado y sólo es posible acceder a Internet por medio de un [ruteador](https://es.wikipedia.org/wiki/Router).\n",
    "\n",
    "Los rangos de direcciones *IP* privados son un conjunto de direcciones que pueden ser asignados a una intranet sin que existan colisiones con las direcciones *IP* públicas.\n",
    "\n",
    "Los segmentos de red para direcciones *IP* privadas son:\n",
    "\n",
    "* Clase A que va de ```10.0.0.0``` a ```10.255.255.255```.\n",
    "* Clase B que va de ```172.16.0.0``` a ```172.31.255.255```.\n",
    "* Clase C que va de ```192.168.0.0``` a ```192.168.255.255```."
   ]
  },
  {
   "cell_type": "markdown",
   "metadata": {},
   "source": [
    "### *CIDR*.\n",
    "\n",
    "*Classless Inter-Domain Routing* (*CIDR*) es un estándar de red para la interpretación de direcciones *IP*. los bloques *CIDR* comparten una misma secuencia inicial de bits en la representación binaria de sus direcciones *IP*.\n",
    "\n",
    "Los bloques CIDR *IPv4* se identifican usando una sintaxis similar a la de las direcciones *IPv4*: cuatro números decimales separados por puntos, seguidos de una barra de división y un número de 0 a 32.\n",
    "\n",
    "Los primeros cuatro números decimales son la dirección *IPv4*, y el número tras la barra es la longitud de prefijo, contando desde la izquierda, y representa el número de bits comunes a todas las direcciones incluidas en el bloque *CIDR*.\n",
    "\n",
    "El número de *IPs* que define la longitud del prefijo corresponde a $ 2^{32 - n} $. \n",
    "\n",
    "**Ejemplo:**\n",
    "\n",
    "El bloque: ```201.107.4.0/13``` define el rango de 524,288 direcicones *IP* que van de ```201.104.0.0``` a ```201.111.255.255```\n",
    "\n",
    "```\n",
    "\n",
    "https://es.wikipedia.org/wiki/Classless_Inter-Domain_Routing\n",
    "\n",
    "https://www.ipaddressguide.com/cidr"
   ]
  },
  {
   "cell_type": "markdown",
   "metadata": {},
   "source": [
    "## Direcciones *IP* versión 6 (*IPv6*).\n",
    "\n",
    "A partir de la necesidad de contar con un mayor número de direcciones *IP* disponibles, fue publicada la especificación de los identificadores *IPv6*, la cual fue definida en el [*RFC 3513*](https://tools.ietf.org/html/rfc3513).\n",
    "\n",
    "Las direcciones *IPv6* son un número de 128 bits expresado por 8 segmentos de números hexadecimales que van de ```0``` a ```FFFF``` (```65535```), separados por dos puntos ```:```. Los valores iguales a ```0``` pueden ser omitidos.\n",
    "\n",
    "**Ejemplo:**\n",
    "\n",
    "La dirección *IPv6* donde se encuentra el servidor de Pythonista® es ```fe80::a6bf:1ff:fe08:aee4```."
   ]
  },
  {
   "cell_type": "markdown",
   "metadata": {},
   "source": [
    "### *DNS*, dominios y subdominios.\n",
    "\n",
    "Aún cuando las direcciones *IP* pueden identificar con precisión a un *host*, éstas no son fáciles de memorizar por parte de los seres humanos. Es  por ello que fueron creados los \"nombres de dominio\" y el \"sistema de nombres de dominio\" o [*DNS*](https://es.wikipedia.org/wiki/Sistema_de_nombres_de_dominio) por sus siglas en inglés.\n",
    "\n",
    "La \"Corporación de Internet para la Asignación de Nombres y Números\" o [*ICANN*](\n",
    "https://www.icann.org/) por sus siglas en  inglés, es la organización encargada en definir y asignar y distribuir los nombres de dominos válidos de Internet.\n",
    "\n",
    "Gracias al *DNS* es posible relacionar uno o más nombres de dominio a una dirección *IP* utilizando una estructura como la siguiente.\n",
    "\n",
    "```\n",
    "<subdominio>.<nombre de dominio>\n",
    "```\n",
    "\n",
    "Donde:\n",
    "\n",
    "* ```<nombre de dominio>``` es un nombre de domino válido que apunta a una dirección IP.\n",
    "* ```<subdominio>``` es una extensión del nombre de dominio que puede apuntar a una dirección *IP* distinta a la del dominio. Los subdominios permiten ofrecer servicios diferenciados dentro de un mismo dominio. "
   ]
  },
  {
   "cell_type": "markdown",
   "metadata": {},
   "source": [
    "**Ejemplos:**\n",
    "\n",
    "* ```google.com``` es el dominio propiedad de la empresa Google.\n",
    "* ```www.google.com``` apunta al servicio de búsqueda de Google.\n",
    "* ```docs.google.com``` apunta al servicio de gestión de documentos de Google.\n",
    "* ```mail.google.com``` apunta al servicio de correo electrónico de Google."
   ]
  },
  {
   "cell_type": "markdown",
   "metadata": {},
   "source": [
    "### *Registars*.\n",
    "\n",
    "Los nombres de dominio pueden ser adquiridos mediante un \"*registrar*\" autorizado por *ICANN*, el cual por lo general también ofrece servicios de *DNS*.\n",
    "\n",
    "Una vez adquirido un dominio es posible definir cualquier número de subdominios relacionados mediante el proveedor de servicios *DNS*."
   ]
  },
  {
   "cell_type": "markdown",
   "metadata": {},
   "source": [
    "### Dominios de nivel superior (*TLD*).\n",
    "\n",
    "Un nombre de dominio se compone de un nombre y un \"dominio de nivel superior\" o [*TLD*](https://en.wikipedia.org/wiki/Top-level_domain), por sus siglas en inglés,  de la siguiente forma.\n",
    "```\n",
    "<nombre>.<TLD>\n",
    "```\n",
    "\n",
    "Los TLD se utilizan primordialmente para:\n",
    "* Definir la actividad de una organilzación, como es el caso de:\n",
    "    * ```.com``` para organizaciones comerciales.\n",
    "    * ```.edu``` para organizaciones educativas. \n",
    "    * ```.net``` para organizaciones especializadas en comunicaciones de red. \n",
    "    * ```.org``` para organizaciones sin fines de lucro.\n",
    "    * ```.mil``` para organizaciones militares. \n",
    "* Definir la región o país al que pertence la organización, como es el caso de:\n",
    "    * ```.mx``` para México.\n",
    "    * ```.es``` para España.\n",
    "    * ```.io``` para la región del Oceano Índico.\n",
    "    * ```.lat``` para Latinoamérica.\n",
    "* Definir el tipo de servicio que se ofrece, como es el caso de:\n",
    "    * ```.info``` para servicios de información.\n",
    "    * ```.xxx``` para servicios de entretenimiento para adultos.\n",
    "    * ```mobi``` para aplicaciones móviles.\n",
    "\n",
    "La gestión de cada *TLD* puede ser asignada a una organización en particular, la cual fija las reglas para poder adquirir un dominio con dicho *TLD*.\n",
    "\n",
    "Los *TLD* pueden combinarse de tal forma que describan una actividad en una región."
   ]
  },
  {
   "cell_type": "markdown",
   "metadata": {},
   "source": [
    "**Ejemplos:**\n",
    "\n",
    "* ```google.com``` es el dominio primario de Google.\n",
    "* ```google.com.mx``` es el dominio de Google para México.\n",
    "* ```google.com.es``` es el dominio de Google para España."
   ]
  },
  {
   "cell_type": "markdown",
   "metadata": {},
   "source": [
    "### *localhost*.\n",
    "\n",
    "Es común que al desarrollar una aplicación web o diseñar un sitio web se haga desde una máquina de escritorio la cual ofrecería un servicio web local para consulta interna.\n",
    "\n",
    "En la mayoría de los sistemas, el nombre ```localhost``` permite conectarse a un servicio que corre en el mismo equipo sin necesidad de contar con una interfaz de red. Este nombre por lo general está relacionado con la dirección *IP* ```127.0.0.1```.\n",
    "\n",
    "Por seguridad, muchas herramientas de desarrollo de aplicaciones web están configuradas por defecto para conectarse exclusivamente a ```localhost```."
   ]
  },
  {
   "cell_type": "markdown",
   "metadata": {},
   "source": [
    "**Ejemplo:**"
   ]
  },
  {
   "cell_type": "markdown",
   "metadata": {},
   "source": [
    "En caso de estar viendo este contenido desde una notebook de *Jupyter* corriendo desde un equipo propio, es muy probable que el navegador apunte a ```http://localhost:8888```."
   ]
  },
  {
   "cell_type": "markdown",
   "metadata": {},
   "source": [
    "## Los protocolos *HTTP* y *HTTPS*."
   ]
  },
  {
   "cell_type": "markdown",
   "metadata": {},
   "source": [
    "### El protocolo  *HTTP*.\n",
    "\n",
    "*HTTP* es una especificación que forma parte de la familia de protocolos de Internet y su nombre se refiere a las siglas en inglés de \"Protocolo de Transferencia de Hipertexto\".\n",
    "\n",
    "Creado por [Tim Berners-Lee](https://es.wikipedia.org/wiki/Tim_Berners-Lee) en 1989, es el protocolo utilizado para acceder y publicar en la *World Wide Web*, o simplemente la web.\n",
    "\n",
    "Actualmente el [World Wide Web Consortium (*W3C*)](https://www.w3.org) es la entidad encargada, entre otras cosas, de publicar la especificación del protocolo *HTTP*. La versión más reciente es *HTTP/2*, pero la mayoría de los servidores utilizan la versión *HTTP/1.1*.\n",
    "\n",
    "Para saber mas sobre *HTTP* se puede consultar el siguiente enlace:\n",
    "\n",
    "https://developer.mozilla.org/es-ES/docs/Web/HTTP"
   ]
  },
  {
   "cell_type": "markdown",
   "metadata": {},
   "source": [
    "#### Características de *HTTP*.\n",
    "\n",
    "*HTTP* está basado en  una arquitectura cliente-servidor en la que se intercambian peticiones (requests) por parte del cliente y respuestas (responses) por parte del servidor y tiene las siguientes caracterísiticas. \n",
    "\n",
    "* **Sin estado.** Es decir, que cada una de las transacciones request/response que se realizan no afectan al estado del cliente o del servidor, además de que cada transacción es totalmente independiente de el resto.\n",
    "* **Independiente del contenido.** Aún cuando es muy común que un servidor *HTTP* entregue documentos en formato *HTML*, no existe restricción en el tipo de recurso al que se pueda acceder.\n",
    "* **Sin conexión.** Una vez que la transacción petición/respuesta es terminada, la conexión entre cliente y servidor es destruida.\n"
   ]
  },
  {
   "cell_type": "markdown",
   "metadata": {},
   "source": [
    "### El protocolo *HTTPS*.\n",
    "\n",
    "*HTTPS* es una variación de *HTTP* que permite cifrar las comunicaciones entre el cliente y el servidor por medio del protocolo [*SSL/TLS*](https://es.wikipedia.org/wiki/Transport_Layer_Security).\n",
    "\n",
    "Organizaciones como Google y Mozilla dan preferencia a los sitios que tienen implementado *HTTPS* e incluso advierten que los sitios que no cuentan con dicha implementación son inseguros."
   ]
  },
  {
   "cell_type": "markdown",
   "metadata": {},
   "source": [
    "## Conexiones *HTTP*.\n",
    "\n",
    "Una conexion entre un cliente y un servidor web consiste en un intercambio de mensajes en ambas direcciones. \n",
    "\n",
    "Las características de seguridad, duración y estado de estas conexiones son el resultado de una negociación entre el cliente y el servidor."
   ]
  },
  {
   "cell_type": "markdown",
   "metadata": {},
   "source": [
    "## Mensajes *HTTP*.\n",
    "\n",
    "Las comunicaciones entre el cliente y el servidor consisten en un serie de intercambios de mensajes.\n",
    "\n",
    "* Los mensajes que envía un cliente a un servidor mediante una *URL* se conocen como \"peticiones\" (*requests*).\n",
    "* Los mensajes que un servidor envía al cliente después de haber procesado la petición se conocen como \"respuestas\" (*responses*)."
   ]
  },
  {
   "cell_type": "markdown",
   "metadata": {},
   "source": [
    "### Estructura de un mensaje de *HTTP*.\n",
    "\n",
    "Los mensajes de *HTTP* son conjuntos de datos transmitidos en formato binario en codificación [*ASCII*](https://es.wikipedia.org/wiki/ASCII).\n",
    "\n",
    "Tanto las peticiones como las respuestas tiene una estructura compuesta primordialmente por:\n",
    "\n",
    "* Una línea de inicio, con la descripción general del mensaje.\n",
    "* Una serie de encabezados (headers), los cuales corresponden a ciertos campos que definen las caracterśiticas del mensaje y que se encuentran definidos en la [*RFC 4229*]( https://tools.ietf.org/html/rfc4229).\n",
    "* Una línea en blanco.\n",
    "* El cuerpo (body) del mensaje, el cual contienen los datos del mensaje.\n",
    "\n",
    "Para conocer más con respecto a los mensajes *HTTP* es posible consultar el siguiente enlace:\n",
    "\n",
    "https://developer.mozilla.org/es/docs/Web/HTTP/Messages"
   ]
  },
  {
   "cell_type": "markdown",
   "metadata": {},
   "source": [
    "## Métodos de *HTTP*.\n",
    "\n",
    "El protocolo *HTTP* define métodos o \"verbos\", los cuales permiten realizar peticiones específicas entre un cliente y un servidor. Algunos de los métodos más utilizados son:\n",
    "\n",
    "* ```GET``` se utiliza para obtener los datos de un recurso a partir de una *URL*. La información enviada mediante ```GET``` puede ser añadida a marcadores y puede ser regsitrada en las bitácoras del servidor.\n",
    "* ```HEAD``` es similar al método ```GET```, pero el servidor sólo proporcionará los encabezados respuesta y el mensaje de estado resultante.\n",
    "* ```POST``` se utiliza para cear un recurso. Los datos enviados no son expuestos en la *URL* sino que son enviados dentro de la estructura de la petición. \n",
    "* ```PUT``` se utiliza para sustituir un recurso existente y su estructura es similar a la de ```POST```.\n",
    "* ```PATCH``` es un método que se utiliza para modificar parcialmente un recurso.\n",
    "* ```DELETE``` es un método que se utiliza para eliminar un recurso.\n",
    "* ```OPTIONS``` es un método que se utiliza para para describir las opciones de comunicación para el recurso de destino.\n",
    "* ```CONNECT``` es un método que permite crear un túnel capaz de de contener un flujo (stream) ded datos.\n",
    "* ```TRACE``` es un método que describe la ruta y las transacciones de una conexión.\n",
    "\n",
    "La sdiguiente liga contiene más informaciójn sobre los métodos *HTTP*: \n",
    "\n",
    "https://developer.mozilla.org/es/docs/Web/HTTP/Methods."
   ]
  },
  {
   "cell_type": "markdown",
   "metadata": {},
   "source": [
    "### Idempotencia.\n",
    "\n",
    "Un método es 'idempotente' cuando no importan las veces que se envíe la misma petición, ésta dará el mismo resultado."
   ]
  },
  {
   "cell_type": "markdown",
   "metadata": {},
   "source": [
    "### Seguridad.\n",
    "\n",
    "Un método se considera seguro si no modifica los recursos a los que accede.\n",
    "\n",
    "|  Método  |  Idempotente  |  Seguro  |\n",
    "| -------- | ------------- | -------- |\n",
    "|  ```GET```  | Sí | Sí |\n",
    "|  ```HEAD```  | Sí | Sí |\n",
    "|  ```DELETE```  |Sí| No |\n",
    "|  ```POST``` | No | No|\n",
    "|  ```PUT```  | Sí | No|\n",
    "|  ```PATCH``` |No| No| \n",
    "\n",
    "**Advertencia:** La seguridad de un método depende de su implementación y aún cuando se considera como una mala práctica, es posible que los métodos como ```GET``` sean capaces de modificar al recurso al que acceden."
   ]
  },
  {
   "cell_type": "markdown",
   "metadata": {},
   "source": [
    "## Códigos de estado.\n",
    "\n",
    "Los códigos de estado permiten informar al cliente sobre la manera en la que ha sido procesada la petición. Está conformado por un número entero de 3 dígitos. En caso de que la petición haya sido procesada exitosamente, el servidor regresa el número ```200```.\n",
    "\n",
    "### Tipos por el número inicial:\n",
    "\n",
    "* 1xx Información.\n",
    "* 2xx Éxito.\n",
    "* 3xx Redireccionamiento.\n",
    "* 4xx Error del cliente.\n",
    "* 5xx Error del servidor.\n",
    "\n",
    "Puede consultar los mensajes de estado de *HTTP* en la siguiente liga: http://www.restapitutorial.com/httpstatuscodes.html"
   ]
  },
  {
   "cell_type": "markdown",
   "metadata": {},
   "source": [
    "<p style=\"text-align: center\"><a rel=\"license\" href=\"http://creativecommons.org/licenses/by/4.0/\"><img alt=\"Licencia Creative Commons\" style=\"border-width:0\" src=\"https://i.creativecommons.org/l/by/4.0/80x15.png\" /></a><br />Esta obra está bajo una <a rel=\"license\" href=\"http://creativecommons.org/licenses/by/4.0/\">Licencia Creative Commons Atribución 4.0 Internacional</a>.</p>\n",
    "<p style=\"text-align: center\">&copy; José Luis Chiquete Valdivieso. 2021.</p>"
   ]
  }
 ],
 "metadata": {
  "kernelspec": {
   "display_name": "Python 3 (ipykernel)",
   "language": "python",
   "name": "python3"
  },
  "language_info": {
   "codemirror_mode": {
    "name": "ipython",
    "version": 3
   },
   "file_extension": ".py",
   "mimetype": "text/x-python",
   "name": "python",
   "nbconvert_exporter": "python",
   "pygments_lexer": "ipython3",
   "version": "3.9.2"
  }
 },
 "nbformat": 4,
 "nbformat_minor": 2
}
