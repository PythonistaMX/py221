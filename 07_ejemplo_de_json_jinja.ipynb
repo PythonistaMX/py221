{
 "cells": [
  {
   "cell_type": "markdown",
   "metadata": {},
   "source": [
    "[![img/pythonista.png](img/pythonista.png)](https://www.pythonista.mx)"
   ]
  },
  {
   "cell_type": "markdown",
   "metadata": {},
   "source": [
    "# Ejemplo de uso con *JSON* y *Jinja*.\n",
    "\n",
    "En este capítulo se creará una aplicación que realice una búsqueda de datos:\n",
    "\n",
    "* Regresando un objeto serializado en formato *JSON*.\n",
    "* Desplegando una página *HTML* mediante el uso de plantillas de *Jinja*."
   ]
  },
  {
   "cell_type": "markdown",
   "metadata": {},
   "source": [
    "## La función ```encuentra()```.\n",
    "\n",
    "La función ```encuentra()``` busca patrones de texto en los campos de un objeto de tipo ```dict``` con las claves indicadas. En caso de encontrar al menos una coincidencia, regresará ```True```.\n",
    "\n",
    "```\n",
    "encuentra(<patron>, <obj>, <campos>)\n",
    "```\n",
    "\n",
    "Donde:\n",
    "\n",
    "* ```<patron>``` es una cadena de caracteres.\n",
    "* ```<obj>``` es un objeto de tipo ```dict```.\n",
    "* ```<campos>``` es un objeto iterable que contiene las claves del objeto ```<obj>```en las que se realizará la bísquedas."
   ]
  },
  {
   "cell_type": "code",
   "execution_count": 1,
   "metadata": {},
   "outputs": [],
   "source": [
    "encuentra = lambda patron, obj, campos: bool(sum([patron.casefold() in obj[campo].casefold() for campo in campos]))"
   ]
  },
  {
   "cell_type": "markdown",
   "metadata": {},
   "source": [
    "**Ejemplos:**"
   ]
  },
  {
   "cell_type": "markdown",
   "metadata": {},
   "source": [
    "* La siguiente celda ejecutará la función ```encuentra()``` para buscar la cadena ```'nez'``` que se ingresa como primer argumento, en el objeto ingresado como segundo argumento, para las claves definidas por ```['apellido', 'nombre']``` ingresado como tercer argumento. El resultado será ```True```."
   ]
  },
  {
   "cell_type": "code",
   "execution_count": 2,
   "metadata": {},
   "outputs": [
    {
     "data": {
      "text/plain": [
       "True"
      ]
     },
     "execution_count": 2,
     "metadata": {},
     "output_type": "execute_result"
    }
   ],
   "source": [
    "encuentra('nez', \n",
    "          {'nombre': 'Juan',\n",
    "           'apellido': 'Godínez',\n",
    "           'correo': 'falsonez@falso.com'},\n",
    "          ['apellido', 'nombre'])"
   ]
  },
  {
   "cell_type": "markdown",
   "metadata": {},
   "source": [
    "* La siguiente celda ejecutará la función ```encuentra()``` para buscar la cadena ```'Juan'``` que se ingresa como primer argumento, en el objeto ingresado como segundo argumento, para las claves definidas por ```['correo']``` ingresado como tercer argumento. El resultado será ```False```."
   ]
  },
  {
   "cell_type": "code",
   "execution_count": 3,
   "metadata": {},
   "outputs": [
    {
     "data": {
      "text/plain": [
       "False"
      ]
     },
     "execution_count": 3,
     "metadata": {},
     "output_type": "execute_result"
    }
   ],
   "source": [
    "encuentra('Juan',\n",
    "          {'nombre': 'Juan',\n",
    "           'apellido': 'Godínez',\n",
    "           'correo': 'falsonez@falso.com'},\n",
    "          ['correo'])"
   ]
  },
  {
   "cell_type": "markdown",
   "metadata": {},
   "source": [
    "* La siguiente celda ejecutará la función ```encuentra()``` para buscar la cadena ```'n'``` que se ingresa como primer argumento, en el objeto ingresado como segundo argumento, para las claves definidas por ```['correo', 'nombre', 'apellido']``` ingresado como tercer argumento. El resultado será ```True```."
   ]
  },
  {
   "cell_type": "code",
   "execution_count": 4,
   "metadata": {},
   "outputs": [
    {
     "data": {
      "text/plain": [
       "True"
      ]
     },
     "execution_count": 4,
     "metadata": {},
     "output_type": "execute_result"
    }
   ],
   "source": [
    "encuentra('n', \n",
    "          {'nombre': 'Juan',\n",
    "           'apellido': 'Godínez',\n",
    "           'correo': 'falsonez@falso.com'},\n",
    "          ['correo', 'nombre', 'apellido'])"
   ]
  },
  {
   "cell_type": "markdown",
   "metadata": {},
   "source": [
    "## La función ```buscar_archivo()```."
   ]
  },
  {
   "cell_type": "markdown",
   "metadata": {},
   "source": [
    "La función ```buscar_archivo()``` realizará las siguientes operaciones:\n",
    "\n",
    "* Leerá un documento de texto localizado en una ruta específica que contenga una representacion de una colección de objetos de tipoo ```dict```.\n",
    "* Regresará una colección de todos los objetos que coincidan con un patrón de texto dado en los campos indicados.\n",
    "\n",
    "```\n",
    "buscar_archivo(<patron>, <ruta>, <campos>)\n",
    "```"
   ]
  },
  {
   "cell_type": "code",
   "execution_count": 5,
   "metadata": {},
   "outputs": [],
   "source": [
    "def buscar_archivo(patron, ruta, campos):\n",
    "    with open(ruta, 'tr') as f:\n",
    "        base = eval(f.read())\n",
    "    return [item for item in base if encuentra(patron, item, campos)]"
   ]
  },
  {
   "cell_type": "markdown",
   "metadata": {},
   "source": [
    "**Ejemplo:**\n",
    "\n",
    "El archivo [```data/alumnos.py```](data/alumnos.py) contiene la representación de un objeto tipo ```list``` que a su vez contiene una sucesión de objetos tipo ```dict``` con los identificadores:\n",
    "\n",
    "* ```'cuenta'```\n",
    "* ```'nombre'```\n",
    "* ```'primer_apellido'```\n",
    "* ```'segundo_apellido'```\n",
    "* ```'carrera'```\n",
    "* ```'semestre'```\n",
    "* ```'promedio'```\n",
    "* ```'al_corriente'```.\n",
    "\n",
    "``` python\n",
    "[{'cuenta': 1231221, 'al_corriente': False, 'carrera': 'Arquitectura', 'nombre': 'Pedro', 'primer_apellido': 'Solis', 'promedio': 7.8, 'semestre': 3, 'segundo_apellido': 'Cabañas'},\n",
    "{'cuenta': 1231222, 'al_corriente': False, 'carrera': 'Actuaría', 'nombre': 'Yolanda', 'primer_apellido': 'Jiménez', 'segundo_apellido': 'Lerdo', 'promedio': 6, 'semestre': 3},\n",
    "{'cuenta': 1231223, 'al_corriente': True, 'carrera': 'sistemas', 'nombre': 'Juan', 'primer_apellido': 'Ramos', 'segundo_apellido': 'Breña', 'promedio': 8.6, 'semestre': 9},\n",
    "{'cuenta': 1231224, 'al_corriente': True, 'carrera': 'Derecho', 'nombre': 'Mayra Jimena', 'primer_apellido': 'Cervantes', 'segundo_apellido': 'Lisama', 'promedio': 9.2, 'semestre': 12}]\n",
    "```\n",
    "* Se utilizará la función ```buscar_archivo()``` para encontrar los elementos que coincidan con la cadena de búsqueda en los campos ```'nombre'```, ```'primer_apellido'``` y ```'segundo_apellido'``` dentro del archivo ```data/alumnos.py```."
   ]
  },
  {
   "cell_type": "code",
   "execution_count": 6,
   "metadata": {},
   "outputs": [],
   "source": [
    "campos = ('nombre', 'primer_apellido', 'segundo_apellido')\n",
    "ruta = 'data/alumnos.py'"
   ]
  },
  {
   "cell_type": "code",
   "execution_count": 7,
   "metadata": {},
   "outputs": [
    {
     "data": {
      "text/plain": [
       "[{'cuenta': 1231221,\n",
       "  'al_corriente': False,\n",
       "  'carrera': 'Arquitectura',\n",
       "  'nombre': 'Pedro',\n",
       "  'primer_apellido': 'Solis',\n",
       "  'promedio': 7.8,\n",
       "  'semestre': 3,\n",
       "  'segundo_apellido': 'Cabañas'}]"
      ]
     },
     "execution_count": 7,
     "metadata": {},
     "output_type": "execute_result"
    }
   ],
   "source": [
    "buscar_archivo('ed', ruta, campos)"
   ]
  },
  {
   "cell_type": "code",
   "execution_count": 8,
   "metadata": {
    "scrolled": false
   },
   "outputs": [
    {
     "data": {
      "text/plain": [
       "[{'cuenta': 1231222,\n",
       "  'al_corriente': False,\n",
       "  'carrera': 'Actuaría',\n",
       "  'nombre': 'Yolanda',\n",
       "  'primer_apellido': 'Jiménez',\n",
       "  'segundo_apellido': 'Lerdo',\n",
       "  'promedio': 6,\n",
       "  'semestre': 3}]"
      ]
     },
     "execution_count": 8,
     "metadata": {},
     "output_type": "execute_result"
    }
   ],
   "source": [
    "buscar_archivo('z', ruta, campos)"
   ]
  },
  {
   "cell_type": "code",
   "execution_count": 9,
   "metadata": {},
   "outputs": [
    {
     "data": {
      "text/plain": [
       "[]"
      ]
     },
     "execution_count": 9,
     "metadata": {},
     "output_type": "execute_result"
    }
   ],
   "source": [
    "buscar_archivo('Derecho', ruta, campos)"
   ]
  },
  {
   "cell_type": "code",
   "execution_count": 10,
   "metadata": {},
   "outputs": [
    {
     "data": {
      "text/plain": [
       "[{'cuenta': 1231223,\n",
       "  'al_corriente': True,\n",
       "  'carrera': 'Sistemas',\n",
       "  'nombre': 'Juan',\n",
       "  'primer_apellido': 'Ramos',\n",
       "  'segundo_apellido': 'Breña',\n",
       "  'promedio': 8.6,\n",
       "  'semestre': 9}]"
      ]
     },
     "execution_count": 10,
     "metadata": {},
     "output_type": "execute_result"
    }
   ],
   "source": [
    "buscar_archivo('Ramos', ruta, campos)"
   ]
  },
  {
   "cell_type": "markdown",
   "metadata": {},
   "source": [
    "## Aplicación de búsqueda."
   ]
  },
  {
   "cell_type": "markdown",
   "metadata": {},
   "source": [
    "La siguiente aplicación levantará un servicio web que regresará una búsqueda con la función ```buscar_archivo()``` si la cadena de búsqueda se ingresa como parte de la ruta.\n",
    "\n",
    "* Si la ruta es ```/api/<cadena>```regresará el resultado de la búsqueda de ```<cadena>```  en formato *JSON*.\n",
    "\n",
    "* Si la ruta es ```/despliega/<cadena>``` regresará un documento *HTML* desplegando el resultado de la búsqueda."
   ]
  },
  {
   "cell_type": "markdown",
   "metadata": {},
   "source": [
    "### Definición de la plantilla.\n",
    "\n",
    "La plantilla [```templates/busqueda.html```](templates/busqueda.html), que contiene el siguiente código que desplegará los datos de cada elemento encontrado y su contenido es el siguiente.\n",
    "\n",
    "``` html\n",
    "<h1> Alumnos Encontrados:</h1>\n",
    "<ul>\n",
    "    {% for alumno in alumnos %}\n",
    "    <li>{% for campo in ['nombre', 'primer_apellido', 'segundo_apellido'] %}\n",
    "{{alumno[campo]}}\n",
    "        {% endfor %}</li> \n",
    "    {% endfor %}\n",
    "</ul>\n",
    "```"
   ]
  },
  {
   "cell_type": "markdown",
   "metadata": {},
   "source": [
    "### El código principal."
   ]
  },
  {
   "cell_type": "code",
   "execution_count": 11,
   "metadata": {
    "scrolled": false
   },
   "outputs": [],
   "source": [
    "import json\n",
    "from flask import Flask, jsonify, render_template\n",
    "\n",
    "app =Flask(__name__)\n",
    "\n",
    "\n",
    "@app.route('/api/<termino>')\n",
    "def busqueda(termino):\n",
    "    '''Regresa el resultado de la búsqueda en formato JSON'''\n",
    "    return jsonify(buscar_archivo(str(termino), ruta, campos))\n",
    "\n",
    "@app.route('/despliega/<termino>')\n",
    "def despliega(termino):\n",
    "    '''Despliega el resultado de la búsqueda en un documento HTML'''\n",
    "    return render_template('busqueda.html',\n",
    "                           alumnos=buscar_archivo(str(termino),\n",
    "                           ruta,\n",
    "                           campos))"
   ]
  },
  {
   "cell_type": "markdown",
   "metadata": {},
   "source": [
    "**Advertencia:** Una vez ejecutada la siguiente celda, es necesario interrumpir el *kernel* de *Jupyter* para poder ejecutar el resto de las celdas de la *notebook*."
   ]
  },
  {
   "cell_type": "code",
   "execution_count": null,
   "metadata": {
    "scrolled": true
   },
   "outputs": [
    {
     "name": "stdout",
     "output_type": "stream",
     "text": [
      " * Serving Flask app '__main__' (lazy loading)\n",
      " * Environment: production\n",
      "\u001b[31m   WARNING: This is a development server. Do not use it in a production deployment.\u001b[0m\n",
      "\u001b[2m   Use a production WSGI server instead.\u001b[0m\n",
      " * Debug mode: off\n"
     ]
    },
    {
     "name": "stderr",
     "output_type": "stream",
     "text": [
      " * Running on all addresses.\n",
      "   WARNING: This is a development server. Do not use it in a production deployment.\n",
      " * Running on http://10.0.2.15:5000/ (Press CTRL+C to quit)\n",
      "10.0.2.2 - - [10/Feb/2022 20:17:30] \"GET /api/Ramos HTTP/1.1\" 200 -\n",
      "10.0.2.2 - - [10/Feb/2022 20:17:46] \"GET /despliega/Ramos HTTP/1.1\" 200 -\n",
      "10.0.2.2 - - [10/Feb/2022 20:17:55] \"GET /api/n HTTP/1.1\" 200 -\n",
      "10.0.2.2 - - [10/Feb/2022 20:18:03] \"GET /despliega/n HTTP/1.1\" 200 -\n",
      "10.0.2.2 - - [10/Feb/2022 20:18:13] \"GET /api/Juárez HTTP/1.1\" 200 -\n",
      "10.0.2.2 - - [10/Feb/2022 20:18:18] \"GET /despliega/Juárez HTTP/1.1\" 200 -\n"
     ]
    }
   ],
   "source": [
    "#Si no se define el parámetro host, flask sólo será visible desde localhost\n",
    "# app.run(host='localhost')\n",
    "app.run(host=\"0.0.0.0\", port=5000)"
   ]
  },
  {
   "cell_type": "markdown",
   "metadata": {},
   "source": [
    "http://localhost:5000/api/Ramos\n",
    "\n",
    "http://localhost:5000/despliega/Ramos\n",
    "\n",
    "http://localhost:5000/api/n\n",
    "\n",
    "http://localhost:5000/despliega/n\n",
    "\n",
    "http://localhost:5000/api/Juárez\n",
    "\n",
    "http://localhost:5000/despliega/Juárez\n"
   ]
  },
  {
   "cell_type": "markdown",
   "metadata": {},
   "source": [
    "<p style=\"text-align: center\"><a rel=\"license\" href=\"http://creativecommons.org/licenses/by/4.0/\"><img alt=\"Licencia Creative Commons\" style=\"border-width:0\" src=\"https://i.creativecommons.org/l/by/4.0/80x15.png\" /></a><br />Esta obra está bajo una <a rel=\"license\" href=\"http://creativecommons.org/licenses/by/4.0/\">Licencia Creative Commons Atribución 4.0 Internacional</a>.</p>\n",
    "<p style=\"text-align: center\">&copy; José Luis Chiquete Valdivieso. 2022.</p>"
   ]
  }
 ],
 "metadata": {
  "kernelspec": {
   "display_name": "Python 3 (ipykernel)",
   "language": "python",
   "name": "python3"
  },
  "language_info": {
   "codemirror_mode": {
    "name": "ipython",
    "version": 3
   },
   "file_extension": ".py",
   "mimetype": "text/x-python",
   "name": "python",
   "nbconvert_exporter": "python",
   "pygments_lexer": "ipython3",
   "version": "3.9.2"
  }
 },
 "nbformat": 4,
 "nbformat_minor": 2
}
