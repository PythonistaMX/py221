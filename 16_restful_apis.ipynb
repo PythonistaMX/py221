{
 "cells": [
  {
   "cell_type": "markdown",
   "metadata": {},
   "source": [
    "[![img/pythonista.png](img/pythonista.png)](https://www.pythonista.io)"
   ]
  },
  {
   "cell_type": "markdown",
   "metadata": {},
   "source": [
    "# *RESTful APIs*."
   ]
  },
  {
   "cell_type": "markdown",
   "metadata": {},
   "source": [
    "## La arquitectura *RESTful* o *REST*.\n",
    "\n",
    "*REST* es el acrónimo de \"Transferencia Representacional de Estado\", la cual es una propuesta de arquitectura de servcios web basada en los métodos definidos para *HTTP*. A estos servicios también se les conoce como *RESTFul*.\n",
    "\n",
    "La arquitectura *REST* fue propuesta por primera vez en [la tesis doctoral](https://www.ics.uci.edu/~fielding/pubs/dissertation/top.htm) de Roy Fieding en el año 2000.\n",
    "\n",
    "*REST* es una arquitectura que resulta flexible y simple en comparación con otras propuestas y en vista de que no restringe el uso de algún formato de datos ni tampoco exige el apego a esquema predefinidos, puede ser ampliamante extendida.\n",
    "\n",
    "En este capítulo utilizaremos *JSON* como el formato por defecto para la comunicación de mensajes de datos."
   ]
  },
  {
   "cell_type": "markdown",
   "metadata": {},
   "source": [
    "## Las interfaces de programación de aplicaciones (*API*).\n",
    "\n",
    "Una *API* permite definir las reglas y el modo en los que un usuario puede interactuar con un sistema mediante la construcción de expresiones con instrucciones y esquemas de datos específicos.\n",
    "\n",
    "Una *API* web es aquella que permite enviar instrucciones por medio del uso de *URLs* (*end points*) y los datos que se envían a ésta."
   ]
  },
  {
   "cell_type": "markdown",
   "metadata": {},
   "source": [
    "## Objetivos de este capítulo.\n",
    "\n",
    "Se creará una *API* que realizará operaciones de altas, bajas y cambios o *CRUD* (el acrónimo de \"crear, leer, actualizar y eliminar\" en inglés) en una base de datos rudimentaria.\n",
    "\n",
    "* Cada una de las operaciones serán definidas mapeando un método *HTTP* a una función que realice las operaciones utilizando los datos enviados en la petición.\n",
    "* Los *endpoints* corresponden a una *URL* compuesta por una ruta fija desde ```/api/``` añadiendo un número que correspondería al campo ```\"cuenta\"``` de un registro en la base de datos.\n",
    "* El resto de la información será enviada en formato *JSON* con los campos obligatorios:\n",
    "    * ```\"nombre\"``` \n",
    "    * ```\"primer_apellido\"```\n",
    "    * ```\"carrera\"```\n",
    "    * ```\"semestre\"```\n",
    "    * ```\"promedio\"```\n",
    "    * ```\"al_corriente\"```\n",
    "* El campo ```\"segundo_apellido\"``` es opcional y en caso de no ser enviado será sustituido por una cadena de caracteres vacía en la base de datos.\n",
    "* Los campos deben de cumplir ciertas reglas y apegarse a la estructura descrita. De lo contrario, la operación no se realizaría."
   ]
  },
  {
   "cell_type": "markdown",
   "metadata": {},
   "source": [
    "## Importación de módulos y datos."
   ]
  },
  {
   "cell_type": "markdown",
   "metadata": {},
   "source": [
    "### El paquete ```data```.\n",
    "\n",
    "El paquete data corresponde al directorio local [```data/```](data/), el cual contiene al *script* [```data/__init__.py```](data/__init__.py) con el siguiente código.\n",
    "\n",
    "``` python\n",
    "#! /usr/bin/python3\n",
    "\n",
    "# La ruta en la que se encuentra la base de datos.\n",
    "ruta = 'data/alumnos.py'\n",
    "\n",
    "# Define los campos que conforman la estructura de un mensaje completo. \n",
    "orden = ('nombre', 'primer_apellido', 'segundo_apellido', 'carrera','semestre', 'promedio', 'al_corriente')\n",
    "\n",
    "# Indica el tipo de dato de cada campo en un registro de la base de datos, y si este es obligatorio (True).\n",
    "campos ={'cuenta': (int, True), 'nombre': (str, True), 'primer_apellido': (str, True), 'segundo_apellido': (str, False), 'carrera': (str, True), 'semestre': (int, True), 'promedio': (float, True), 'al_corriente': (bool, True)}\n",
    "\n",
    "# Listado de las cadenas de caracteres que deben aceptarse en el campo \"Carreras\". \n",
    "carreras = (\"Sistemas\", \"Derecho\", \"Actuaría\", \"Arquitectura\", \"Administración\")\n",
    "\n",
    "```"
   ]
  },
  {
   "cell_type": "code",
   "execution_count": null,
   "metadata": {},
   "outputs": [],
   "source": [
    "from flask import Flask, jsonify, request, abort\n",
    "from json import loads\n",
    "from data import ruta, campos, orden, carreras"
   ]
  },
  {
   "cell_type": "code",
   "execution_count": null,
   "metadata": {},
   "outputs": [],
   "source": [
    "ruta"
   ]
  },
  {
   "cell_type": "code",
   "execution_count": null,
   "metadata": {},
   "outputs": [],
   "source": [
    "campos"
   ]
  },
  {
   "cell_type": "code",
   "execution_count": null,
   "metadata": {},
   "outputs": [],
   "source": [
    "orden"
   ]
  },
  {
   "cell_type": "code",
   "execution_count": null,
   "metadata": {},
   "outputs": [],
   "source": [
    "carreras"
   ]
  },
  {
   "cell_type": "markdown",
   "metadata": {},
   "source": [
    "## Definición de funciones."
   ]
  },
  {
   "cell_type": "markdown",
   "metadata": {},
   "source": [
    "### Funciones de gestión de la base de datos.\n",
    "\n",
    "En este caso la base de datos no es otra cosa más que un archivo de texto que representa a un objeto de tipo ```list``` de *Python*. \n",
    "\n",
    "La base de datos puede ser consultada en [data/alumnos.py](data/alumnos.py). "
   ]
  },
  {
   "cell_type": "markdown",
   "metadata": {},
   "source": [
    "### Función de carga de datos."
   ]
  },
  {
   "cell_type": "code",
   "execution_count": null,
   "metadata": {},
   "outputs": [],
   "source": [
    "def carga_base(ruta):\n",
    "    '''Función que carga la representación de un objeto de Python\n",
    "       localizada en un script de Python.'''\n",
    "    with open(ruta, 'tr') as base:\n",
    "        return eval(base.read())"
   ]
  },
  {
   "cell_type": "markdown",
   "metadata": {},
   "source": [
    "### Función de escritura de datos."
   ]
  },
  {
   "cell_type": "code",
   "execution_count": null,
   "metadata": {},
   "outputs": [],
   "source": [
    "def escribe_base(lista, ruta):\n",
    "    '''Función que excribe la representación de un objeto de Python\n",
    "       localizada en un script de Python.'''\n",
    "    with open(ruta, 'wt') as base:\n",
    "            base.write(str(lista))"
   ]
  },
  {
   "cell_type": "markdown",
   "metadata": {},
   "source": [
    "### Función de búsqueda en la base de datos.\n",
    "\n",
    "* Busca dentro del campo ```'cuenta'``` de cada elemento de ```base``` al número entero correspondiente al parámetro ```cuenta```.\n",
    "* En caso de encontrar una coincidencia, regresa al objeto correspondiente.\n",
    "* En caso de no encontrar coincidencia regresa ```False```."
   ]
  },
  {
   "cell_type": "code",
   "execution_count": null,
   "metadata": {},
   "outputs": [],
   "source": [
    "def busca_base(cuenta, base):\n",
    "    '''Función que busaca un valor dado como cuenta en una lista\n",
    "    de objetos tipo dict que contenga el campo \"cuenta\".'''\n",
    "    for alumno in base:\n",
    "        try:\n",
    "            if alumno['cuenta'] == int(cuenta):\n",
    "                return alumno\n",
    "        except:\n",
    "            return False\n",
    "    return False"
   ]
  },
  {
   "cell_type": "markdown",
   "metadata": {},
   "source": [
    "## Funciones de validación de datos."
   ]
  },
  {
   "cell_type": "markdown",
   "metadata": {},
   "source": [
    "### Función que valida el tipo de dato."
   ]
  },
  {
   "cell_type": "code",
   "execution_count": null,
   "metadata": {},
   "outputs": [],
   "source": [
    "def es_tipo(dato, tipo):\n",
    "    '''Función que valida el tipo de dato.'''\n",
    "    if tipo == str:\n",
    "        return True\n",
    "    else:\n",
    "        try: \n",
    "            return tipo(dato) is dato\n",
    "        except:\n",
    "            return False"
   ]
  },
  {
   "cell_type": "markdown",
   "metadata": {},
   "source": [
    "### Función que valida las reglas de los datos.\n",
    "\n",
    "* Los campos ```'nombre\"``` y ```'primer_apellido'``` no deben de ser una cadena de caracteres vacía.\n",
    "* El campo ```semestre``` debe de ser un entero mayor a ```1```.\n",
    "* La cadena de caracteres del campo ```'carrera'``` debe de estar dentro de las cadenas listadas en ```datos.carrera```.\n",
    "* El campo ```promedio``` debe de ser un número entre ```0``` y ```10```."
   ]
  },
  {
   "cell_type": "code",
   "execution_count": null,
   "metadata": {},
   "outputs": [],
   "source": [
    "def reglas(dato, campo):\n",
    "    '''Función que valida las reglas de datos.'''\n",
    "    if campo == \"carrera\" and dato not in carreras:\n",
    "        return False\n",
    "    elif campo == \"semestre\" and dato < 1:\n",
    "        return False\n",
    "    elif campo == \"promedio\" and (dato < 0 or dato > 10):\n",
    "        return False\n",
    "    elif (campo in (\"nombre\", \"primer_apellido\") and (dato == \"\")):\n",
    "        return False\n",
    "    else:\n",
    "        return True           "
   ]
  },
  {
   "cell_type": "markdown",
   "metadata": {},
   "source": [
    "### Función de validación de tipos y reglas."
   ]
  },
  {
   "cell_type": "code",
   "execution_count": null,
   "metadata": {},
   "outputs": [],
   "source": [
    "def valida(dato, campo):\n",
    "    '''Función que valida tipo  y reglas.'''\n",
    "    return es_tipo(dato, campos[campo][0]) and reglas(dato, campo)"
   ]
  },
  {
   "cell_type": "markdown",
   "metadata": {},
   "source": [
    "### Función que valida que el mensaje contiene todos los campos obligatorios."
   ]
  },
  {
   "cell_type": "code",
   "execution_count": null,
   "metadata": {},
   "outputs": [],
   "source": [
    "def recurso_completo(base, ruta, cuenta, peticion):\n",
    "    '''Función que valida la estructura de datos.'''\n",
    "    try:\n",
    "        candidato = {'cuenta': int(cuenta)}\n",
    "        peticion = loads(peticion)\n",
    "        if (set(peticion)).issubset(set(orden)):                    \n",
    "            for campo in orden:\n",
    "                if not campos[campo][1] and campo not in peticion:\n",
    "                    candidato[campo] = ''\n",
    "                elif valida(peticion[campo], campo):\n",
    "                    candidato[campo] = peticion[campo]      \n",
    "                else:\n",
    "                    abort(400)\n",
    "        else:\n",
    "            abort(400)\n",
    "    except:\n",
    "        abort(400)\n",
    "    base.append(candidato)\n",
    "    escribe_base(base, ruta)\n",
    "    return jsonify(candidato)"
   ]
  },
  {
   "cell_type": "markdown",
   "metadata": {},
   "source": [
    "## Código del servidor.\n",
    "\n",
    "* El servidor correrá en http://localhost:5000/api/. Si se accede a la raíz, se desplegará un listado de todos los alumnos en formato *JSON*.\n",
    "\n",
    "* El servidor soporta los métodos:\n",
    "    * **GET**: para obtener la información de un alumno por su número de cuenta.\n",
    "    * **POST**: para crear un registro nuevo.\n",
    "    * **PUT**: para sustituir por completo un registro existente.\n",
    "    * **PATCH**: para modificar ciertos datos de un registro existente.\n",
    "    * **DELETE**: para eliminar un registro existente."
   ]
  },
  {
   "cell_type": "code",
   "execution_count": null,
   "metadata": {
    "scrolled": true
   },
   "outputs": [],
   "source": [
    "app = Flask(__name__)\n",
    "\n",
    "\n",
    "@app.route('/api/', methods=['GET'])\n",
    "def index():\n",
    "    with open(ruta, 'tr') as base:    \n",
    "        return jsonify(eval(base.read()))\n",
    "\n",
    "    \n",
    "@app.route('/api/<cuenta>', methods=['GET', 'POST', 'PUT', 'PATCH', 'DELETE'])\n",
    "def api(cuenta):\n",
    "    \n",
    "    if request.method == 'GET':\n",
    "        base = carga_base(ruta)\n",
    "        alumno = busca_base(cuenta, base)\n",
    "        if alumno:\n",
    "            return jsonify(alumno)\n",
    "        else:\n",
    "            abort(404)\n",
    "            \n",
    "    if request.method == 'DELETE':               \n",
    "        base = carga_base(ruta)\n",
    "        alumno = busca_base(cuenta, base)\n",
    "        if alumno:\n",
    "            base.remove(alumno)\n",
    "            escribe_base(base, ruta)\n",
    "            return jsonify(alumno)\n",
    "        else:\n",
    "            abort(404)\n",
    "        \n",
    "    if request.method == 'POST':\n",
    "        base = carga_base(ruta)\n",
    "        alumno = busca_base(cuenta, base)\n",
    "        if alumno:\n",
    "            abort(409)\n",
    "        else:\n",
    "            return recurso_completo(base, ruta, cuenta, request.data)\n",
    "            \n",
    "    if request.method == 'PUT':\n",
    "        base = carga_base(ruta)\n",
    "        alumno = busca_base(cuenta, base)\n",
    "        if not alumno:\n",
    "            abort(404)\n",
    "        else:\n",
    "            base.remove(alumno)\n",
    "            return recurso_completo(base, ruta, cuenta, request.data)\n",
    "\n",
    "    if request.method == 'PATCH':               \n",
    "        base = carga_base(ruta)\n",
    "        alumno = busca_base(cuenta, base)\n",
    "        if not alumno:\n",
    "            abort(404)\n",
    "        else:\n",
    "            indice = base.index(alumno)\n",
    "            try:\n",
    "                peticion = loads(request.data)\n",
    "                if (set(peticion)).issubset(set(orden)):\n",
    "                    for campo in peticion:\n",
    "                        dato = peticion[campo]\n",
    "                        if valida(dato, campo):\n",
    "                            alumno[campo] = dato\n",
    "                        else:\n",
    "                            abort(400)\n",
    "                else:\n",
    "                    abort(400)\n",
    "            except:\n",
    "                abort(400)\n",
    "            base[indice] = alumno\n",
    "            escribe_base(base, ruta)\n",
    "            return jsonify(alumno)"
   ]
  },
  {
   "cell_type": "code",
   "execution_count": null,
   "metadata": {},
   "outputs": [],
   "source": [
    "app.run('0.0.0.0')"
   ]
  },
  {
   "cell_type": "markdown",
   "metadata": {},
   "source": [
    "### Notas:  \n",
    "* **No reinicie o detenga el kernel de la notebook hasta que los clientes que accedan a esta aplicación hayan terminado sus sesiones.**\n",
    "* Debido a que el código de la celda de arriba levanta el servidor de Flask, ésta se ejecutará indefinidamente y desplegará los mensajes de respuesta a las peticiones de los clientes que se conecten. "
   ]
  },
  {
   "cell_type": "markdown",
   "metadata": {},
   "source": [
    "<p style=\"text-align: center\"><a rel=\"license\" href=\"http://creativecommons.org/licenses/by/4.0/\"><img alt=\"Licencia Creative Commons\" style=\"border-width:0\" src=\"https://i.creativecommons.org/l/by/4.0/80x15.png\" /></a><br />Esta obra está bajo una <a rel=\"license\" href=\"http://creativecommons.org/licenses/by/4.0/\">Licencia Creative Commons Atribución 4.0 Internacional</a>.</p>\n",
    "<p style=\"text-align: center\">&copy; José Luis Chiquete Valdivieso. 2021.</p>"
   ]
  }
 ],
 "metadata": {
  "kernelspec": {
   "display_name": "Python 3 (ipykernel)",
   "language": "python",
   "name": "python3"
  },
  "language_info": {
   "codemirror_mode": {
    "name": "ipython",
    "version": 3
   },
   "file_extension": ".py",
   "mimetype": "text/x-python",
   "name": "python",
   "nbconvert_exporter": "python",
   "pygments_lexer": "ipython3",
   "version": "3.9.2"
  }
 },
 "nbformat": 4,
 "nbformat_minor": 2
}
