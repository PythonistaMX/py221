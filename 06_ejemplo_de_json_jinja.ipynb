{
 "cells": [
  {
   "cell_type": "markdown",
   "metadata": {},
   "source": [
    "[![imagenes](imagenes/pythonista.png)](https://pythonista.mx)"
   ]
  },
  {
   "cell_type": "markdown",
   "metadata": {},
   "source": [
    "# Ejemplo de uso con JSON y Jinja 2.\n",
    "\n",
    "En este capítulo se creará una aplicación que realice una búsqueda de datos:\n",
    "\n",
    "* Regresando un objeto serializado en formato JSON.\n",
    "* Desplegando una página HTML mediante el uso de plantillas de Jinja 2."
   ]
  },
  {
   "cell_type": "markdown",
   "metadata": {},
   "source": [
    "## La función *encuentra()*.\n",
    "\n",
    "* Hace una búsqueda de un objeto tipo _str_ que se ingresa como argumento en el parámetro *cadena*, dentro de los campos pertenecientes al objeto tipo _dict_ que se ingresa como argumento para el parámetro *registro* de la función. La función sólo buscará en los campos correspondientes a los indicadores listados dentro del objeto _tuple_ o _list_ que se ingresa como argumento para el parámetro *campos*.\n",
    "* En caso de que la cadena ingresada forme parte del texto contenido en al menos uno de los campos indicados, la función regresará _True_. De lo contrario, regresará _False_.\n"
   ]
  },
  {
   "cell_type": "code",
   "execution_count": null,
   "metadata": {},
   "outputs": [],
   "source": [
    "encuentra = lambda cadena, registro, campos: bool(sum([cadena.casefold() \\\n",
    "            in registro[campo].casefold() for campo in campos]))"
   ]
  },
  {
   "cell_type": "markdown",
   "metadata": {},
   "source": [
    "** Ejemplos:**"
   ]
  },
  {
   "cell_type": "code",
   "execution_count": null,
   "metadata": {},
   "outputs": [],
   "source": [
    "encuentra('nez', \n",
    "          {'Nombre': 'Juan', 'Apellido': 'Godínez', 'correo': 'falsonez@falso.com'},\n",
    "          ['Apellido', 'Nombre'])"
   ]
  },
  {
   "cell_type": "code",
   "execution_count": null,
   "metadata": {},
   "outputs": [],
   "source": [
    "encuentra('Juan', {'Nombre': 'Juan', 'Apellido': 'Godínez', 'correo': 'falsonez@falso.com'},\n",
    "          ['correo'])"
   ]
  },
  {
   "cell_type": "code",
   "execution_count": null,
   "metadata": {},
   "outputs": [],
   "source": [
    "encuentra('n', {'Nombre': 'Juan', 'Apellido': 'Godínez', 'correo': 'falsonez@falso.com'},\n",
    "          ['correo', 'Nombre', 'Apellido'])"
   ]
  },
  {
   "cell_type": "markdown",
   "metadata": {},
   "source": [
    "## La función *buscar_archivo()*.\n",
    "\n",
    "* Abre un archivo de texto localizado en la ruta definida como argumento para el parámetro *ruta*.\n",
    "* Lee y evalúa al contenido del archivo como si fuera una expresión.\n",
    "* Mediante el uso de la función *encuentra()*, regresará una lista de objetos que contenga al objeto _str_ ingresado como argumento para el parámetro *cadena* en al menos uno de los campos incluidos en el parámetro *campos*."
   ]
  },
  {
   "cell_type": "code",
   "execution_count": null,
   "metadata": {},
   "outputs": [],
   "source": [
    "def buscar_archivo(cadena, ruta, campos):\n",
    "    with open(ruta, 'tr') as archivo:\n",
    "        base = eval(archivo.read())\n",
    "    return [registro for registro in base if encuentra(cadena, registro, campos)]"
   ]
  },
  {
   "cell_type": "markdown",
   "metadata": {},
   "source": [
    "**Ejemplo:**\n",
    "\n",
    "El archivo [*data/alumnos.txt*](data/alumnos.txt) contiene la representación de un objeto tipo *list* que a suvez contiene una sucesiṕn de objetos tipo _dict_ con los identificadores _\"Cuenta\"_, _\"Nombre\"_, _\"Primer Apellido\"_, _\"Segundo Apellido\"_, _\"Carrera\"_, _\"Semestre\"_, _\"Promedio\"_ y _\"Al Corriente\"_.\n",
    "\n",
    "```\n",
    "[{'Cuenta': 1231221, 'Al Corriente': False, 'Carrera': 'Arquitectura', 'Nombre': 'Pedro', 'Primer Apellido': 'Solis', 'Promedio': 7.8, 'Semestre': 3, 'Segundo Apellido': 'Cabañas'}, \n",
    "{'Cuenta': 1231222, 'Al Corriente': False, 'Carrera': 'Actuaría', 'Nombre': 'Yolanda', 'Primer Apellido': 'Jiménez', 'Segundo Apellido': 'Lerdo', 'Promedio': 6, 'Semestre': 3}, \n",
    "{'Cuenta': 1231223, 'Al Corriente': True, 'Carrera': 'Sistemas', 'Nombre': 'Juan', 'Primer Apellido': 'Ramos', 'Segundo Apellido': 'Breña', 'Promedio': 8.6, 'Semestre': 9},\n",
    "{'Cuenta': 1231224, 'Al Corriente': True, 'Carrera': 'Derecho', 'Nombre': 'Mayra Jimena', 'Primer Apellido': 'Cervantes', 'Segundo Apellido': 'Lisama', 'Promedio': 9.2, 'Semestre': 12}]\n",
    "```\n",
    "Se utilizará la función *buscar_archivo()* para encontrar los elementos que coincidan con la cadena de búsqueda en los campos _'Nombre'_, _'Primer Apellido'_ y _'Segundo Apellido'_ dentro del archivo *data/alumnos.txt*."
   ]
  },
  {
   "cell_type": "code",
   "execution_count": null,
   "metadata": {},
   "outputs": [],
   "source": [
    "campos = ('Nombre', 'Primer Apellido', 'Segundo Apellido')\n",
    "ruta = 'data/alumnos.txt'"
   ]
  },
  {
   "cell_type": "code",
   "execution_count": null,
   "metadata": {},
   "outputs": [],
   "source": [
    "buscar_archivo('ed', ruta, campos)"
   ]
  },
  {
   "cell_type": "code",
   "execution_count": null,
   "metadata": {
    "scrolled": false
   },
   "outputs": [],
   "source": [
    "buscar_archivo('z', ruta, campos)"
   ]
  },
  {
   "cell_type": "code",
   "execution_count": null,
   "metadata": {},
   "outputs": [],
   "source": [
    "buscar_archivo('Derecho', ruta, campos)"
   ]
  },
  {
   "cell_type": "code",
   "execution_count": null,
   "metadata": {},
   "outputs": [],
   "source": [
    "buscar_archivo('Ramos', ruta, campos)"
   ]
  },
  {
   "cell_type": "markdown",
   "metadata": {},
   "source": [
    "## Ejemplo de búsqueda que regresa datos en JSON.\n",
    "\n",
    "El siguiente código levantará un servicio web que regresará una búsqueda con la función *buscar_archivo()* si la cadena de búsqueda se ingresa como parte de la ruta.\n",
    "\n",
    "Es decir, que la liga [http://localhost:5000/busca/Ramos](http://localhost:5000/busca/Ramos) regresará el resultado de la búsqueda de la cadena _Ramos_ en formato JSON.\n",
    "\n",
    "**Advertencia:** Una vez ejecutada la siguiente celda, es necesario interrumpir el kernel de Jupyter para poder ejecutar el resto de las celdas de la notebook."
   ]
  },
  {
   "cell_type": "code",
   "execution_count": null,
   "metadata": {
    "scrolled": false
   },
   "outputs": [],
   "source": [
    "import json\n",
    "from flask import Flask, jsonify\n",
    "campos = ('Nombre', 'Primer Apellido', 'Segundo Apellido')\n",
    "ruta = 'data/alumnos.txt'\n",
    "\n",
    "\n",
    "app =Flask(__name__)\n",
    "\n",
    "@app.route('/')\n",
    "def inicio():\n",
    "    return('<p>Hola, Mundo.</p>')\n",
    "    \n",
    "    \n",
    "@app.route('/busca/<termino>')\n",
    "def busqueda(termino):\n",
    "    return(jsonify(buscar_archivo(str(termino), ruta, campos)))\n",
    "\n",
    "#Si no se define el parámetro host, flask sólo será visible desde localhost\n",
    "# app.run(host='localhost')\n",
    "app.run(host=\"0.0.0.0\", port=5000)"
   ]
  },
  {
   "cell_type": "markdown",
   "metadata": {},
   "source": [
    "## Ejemplo de búsqueda que regresa datos con Jinja.\n",
    "\n",
    "Para este ejemplo se creó la plantilla [templates/busqueda.html](templates/busqueda.html), que contiene el siguiente código:"
   ]
  },
  {
   "cell_type": "markdown",
   "metadata": {},
   "source": [
    "``` html\n",
    "<h1> Alumnos Encontrados</h1>\n",
    "<ul>\n",
    "{%for alumno in alumnos %}\n",
    "<li>{% for campo in ['Nombre', 'Primer Apellido', 'Segundo Apellido'] %}\n",
    "{{alumno[campo]}}\n",
    "{% endfor %}</li> \n",
    "{% endfor %}\n",
    "</ul>\n",
    "```"
   ]
  },
  {
   "cell_type": "markdown",
   "metadata": {},
   "source": [
    "El siguiente código levantará un servicio web que regresará una búsqueda con la función buscar_archivo() si la cadena de búsqueda se ingresa como parte de la ruta.\n",
    "\n",
    "Es decir, que la liga http://localhost:5000/busca/Ramos regresará el resultado de la búsqueda de la cadena _Ramos_ en formato HTML a partir de la plantilla *templates/busqueda.html*.\n",
    "\n",
    "**Advertencia:** Una vez ejecutada la siguiente celda, es necesario interrumpir el kernel de Jupyter para poder ejecutar el resto de las celdas de la notebook."
   ]
  },
  {
   "cell_type": "code",
   "execution_count": null,
   "metadata": {},
   "outputs": [],
   "source": [
    "import jinja2\n",
    "from flask import Flask, render_template\n",
    "\n",
    "campos = ('Nombre', 'Primer Apellido', 'Segundo Apellido')\n",
    "ruta = 'data/alumnos.txt'\n",
    "\n",
    "app =Flask(__name__)\n",
    "\n",
    "@app.route('/')\n",
    "def inicio():\n",
    "    return('<p>Hola, Mundo.</p>')\n",
    "    \n",
    "    \n",
    "@app.route('/busca/<termino>')\n",
    "def busqueda(termino):\n",
    "    return render_template('busqueda.html', alumnos=buscar_archivo(str(termino), ruta, campos))\n",
    "\n",
    "#Si no se define el parámetro host, flask sólo será visible desde localhost\n",
    "# app.run(host='localhost')\n",
    "app.run(host=\"0.0.0.0\", port=5000)"
   ]
  },
  {
   "cell_type": "markdown",
   "metadata": {},
   "source": [
    "<p style=\"text-align: center\"><a rel=\"license\" href=\"http://creativecommons.org/licenses/by/4.0/\"><img alt=\"Licencia Creative Commons\" style=\"border-width:0\" src=\"https://i.creativecommons.org/l/by/4.0/80x15.png\" /></a><br />Esta obra está bajo una <a rel=\"license\" href=\"http://creativecommons.org/licenses/by/4.0/\">Licencia Creative Commons Atribución 4.0 Internacional</a>.</p>\n",
    "<p style=\"text-align: center\">&copy; José Luis Chiquete Valdivieso. 2018.</p>"
   ]
  }
 ],
 "metadata": {
  "kernelspec": {
   "display_name": "Python 3 (ipykernel)",
   "language": "python",
   "name": "python3"
  },
  "language_info": {
   "codemirror_mode": {
    "name": "ipython",
    "version": 3
   },
   "file_extension": ".py",
   "mimetype": "text/x-python",
   "name": "python",
   "nbconvert_exporter": "python",
   "pygments_lexer": "ipython3",
   "version": "3.9.2"
  }
 },
 "nbformat": 4,
 "nbformat_minor": 2
}
