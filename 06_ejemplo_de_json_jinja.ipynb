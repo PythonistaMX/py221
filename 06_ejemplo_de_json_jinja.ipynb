{
 "cells": [
  {
   "cell_type": "markdown",
   "metadata": {},
   "source": [
    "[![img/pythonista.png](img/pythonista.png)](https://www.pythonista.mx)"
   ]
  },
  {
   "cell_type": "markdown",
   "metadata": {},
   "source": [
    "# Ejemplo de uso con *JSON* y *Jinja*.\n",
    "\n",
    "En este capítulo se creará una aplicación que realice una búsqueda de datos:\n",
    "\n",
    "* Regresando un objeto serializado en formato *JSON*.\n",
    "* Desplegando una página *HTML* mediante el uso de plantillas de *Jinja*."
   ]
  },
  {
   "cell_type": "markdown",
   "metadata": {},
   "source": [
    "## La función ```enuentra()```.\n",
    "\n",
    "```\n",
    "encuentra(<patron>, <obj>, <iterable>\n",
    "```"
   ]
  },
  {
   "cell_type": "code",
   "execution_count": null,
   "metadata": {},
   "outputs": [],
   "source": [
    "encuentra = lambda patron, obj, iterable: bool(sum([patron.casefold() \\\n",
    "            in obj[item].casefold() for item in iterable]))"
   ]
  },
  {
   "cell_type": "markdown",
   "metadata": {},
   "source": [
    "**Ejemplos:**"
   ]
  },
  {
   "cell_type": "code",
   "execution_count": null,
   "metadata": {},
   "outputs": [],
   "source": [
    "encuentra('nez', \n",
    "          {'nombre': 'Juan',\n",
    "           'apellido': 'Godínez',\n",
    "           'correo': 'falsonez@falso.com'},\n",
    "          ['apellido', 'nombre'])"
   ]
  },
  {
   "cell_type": "code",
   "execution_count": null,
   "metadata": {},
   "outputs": [],
   "source": [
    "encuentra('Juan',\n",
    "          {'nombre': 'Juan',\n",
    "           'apellido': 'Godínez',\n",
    "           'correo': 'falsonez@falso.com'},\n",
    "          ['correo'])"
   ]
  },
  {
   "cell_type": "code",
   "execution_count": null,
   "metadata": {},
   "outputs": [],
   "source": [
    "encuentra('n', \n",
    "          {'nombre': 'Juan',\n",
    "           'apellido': 'Godínez',\n",
    "           'correo': 'falsonez@falso.com'},\n",
    "          ['correo', 'nombre', 'apellido'])"
   ]
  },
  {
   "cell_type": "markdown",
   "metadata": {},
   "source": [
    "## La función ```buscar_archivo()```.\n",
    "\n",
    "```\n",
    "buscar_archivo(<patron>, <ruta>, <iterable>\n",
    "```"
   ]
  },
  {
   "cell_type": "code",
   "execution_count": null,
   "metadata": {},
   "outputs": [],
   "source": [
    "def buscar_archivo(patron, ruta, iterable):\n",
    "    with open(ruta, 'tr') as f:\n",
    "        base = eval(f.read())\n",
    "    return [item for item in base if encuentra(patron, item, iterable)]"
   ]
  },
  {
   "cell_type": "markdown",
   "metadata": {},
   "source": [
    "**Ejemplo:**\n",
    "\n",
    "El archivo [```data/alumnos.txt```](data/alumnos.txt) contiene la representación de un objeto tipo ```list``` que a su vez contiene una sucesión de objetos tipo ```dict``` con los identificadores:\n",
    "\n",
    "* ```'cuenta'```\n",
    "* ```'nombre'```\n",
    "* ```'primer_apellido'```\n",
    "* ```'segundo_apellido'```\n",
    "* ```'carrera'```\n",
    "* ```'semestre'```\n",
    "* ```'promedio'```\n",
    "* ```'al_corriente'```.\n",
    "\n",
    "```\n",
    "[{'cuenta': 1231221, 'al_corriente': False, 'carrera': 'Arquitectura', 'nombre': 'Pedro', 'primer_apellido': 'Solis', 'promedio': 7.8, 'semestre': 3, 'segundo_apellido': 'Cabañas'},\n",
    "{'cuenta': 1231222, 'al_corriente': False, 'carrera': 'Actuaría', 'nombre': 'Yolanda', 'primer_apellido': 'Jiménez', 'segundo_apellido': 'Lerdo', 'promedio': 6, 'semestre': 3},\n",
    "{'cuenta': 1231223, 'al_corriente': True, 'carrera': 'sistemas', 'nombre': 'Juan', 'primer_apellido': 'Ramos', 'segundo_apellido': 'Breña', 'promedio': 8.6, 'semestre': 9},\n",
    "{'cuenta': 1231224, 'al_corriente': True, 'carrera': 'Derecho', 'nombre': 'Mayra Jimena', 'primer_apellido': 'Cervantes', 'segundo_apellido': 'Lisama', 'promedio': 9.2, 'semestre': 12}]\n",
    "```\n",
    "* Se utilizará la función ```buscar_archivo()``` para encontrar los elementos que coincidan con la cadena de búsqueda en los campos ```'nombre'```, ```'primer_apellido'``` y ```'segundo_apellido'``` dentro del archivo ```data/alumnos.txt```."
   ]
  },
  {
   "cell_type": "code",
   "execution_count": null,
   "metadata": {},
   "outputs": [],
   "source": [
    "campos = ('nombre', 'primer_apellido', 'segundo_apellido')\n",
    "ruta = 'data/alumnos.txt'"
   ]
  },
  {
   "cell_type": "code",
   "execution_count": null,
   "metadata": {},
   "outputs": [],
   "source": [
    "buscar_archivo('ed', ruta, campos)"
   ]
  },
  {
   "cell_type": "code",
   "execution_count": null,
   "metadata": {
    "scrolled": false
   },
   "outputs": [],
   "source": [
    "buscar_archivo('z', ruta, campos)"
   ]
  },
  {
   "cell_type": "code",
   "execution_count": null,
   "metadata": {},
   "outputs": [],
   "source": [
    "buscar_archivo('Derecho', ruta, campos)"
   ]
  },
  {
   "cell_type": "code",
   "execution_count": null,
   "metadata": {},
   "outputs": [],
   "source": [
    "buscar_archivo('Ramos', ruta, campos)"
   ]
  },
  {
   "cell_type": "markdown",
   "metadata": {},
   "source": [
    "## Aplicación de búsqueda."
   ]
  },
  {
   "cell_type": "markdown",
   "metadata": {},
   "source": [
    "La siguiente aplicación levantará un servicio web que regresará una búsqueda con la función ```buscar_archivo()``` si la cadena de búsqueda se ingresa como parte de la ruta.\n",
    "\n",
    "* Si la ruta es ```/api/<cadena>```regresará el resultado de la búsqueda de ```<cadena>```  en formato *JSON*.\n",
    "\n",
    "* Si la ruta es ```/despliega/<cadena>``` regresará un documento *HTML* desplegando el resultado de la búsqueda."
   ]
  },
  {
   "cell_type": "markdown",
   "metadata": {},
   "source": [
    "### Definición de la plantilla.\n",
    "\n",
    "La plantilla [```templates/busqueda.html```](templates/busqueda.html), que contiene el siguiente código que desplegará los datos de cada elemento encontrado y su contenido es el siguiente.\n",
    "\n",
    "``` html\n",
    "<h1> Alumnos Encontrados:</h1>\n",
    "<ul>\n",
    "    {% for alumno in alumnos %}\n",
    "    <li>{% for campo in ['nombre', 'primer_apellido', 'segundo_apellido'] %}\n",
    "{{alumno[campo]}}\n",
    "        {% endfor %}</li> \n",
    "    {% endfor %}\n",
    "</ul>\n",
    "```"
   ]
  },
  {
   "cell_type": "markdown",
   "metadata": {},
   "source": [
    "### El código principal."
   ]
  },
  {
   "cell_type": "code",
   "execution_count": null,
   "metadata": {
    "scrolled": false
   },
   "outputs": [],
   "source": [
    "import json\n",
    "from flask import Flask, jsonify, render_template\n",
    "\n",
    "app =Flask(__name__)\n",
    "\n",
    "\n",
    "@app.route('/api/<termino>')\n",
    "def busqueda(termino):\n",
    "    '''Regresa el resultado de la búsqueda en formato JSON'''\n",
    "    return(jsonify(buscar_archivo(str(termino), ruta, campos)))\n",
    "\n",
    "\n",
    "@app.route('/despliega/<termino>')\n",
    "def despliega(termino):\n",
    "    '''Despliega el resultado de la búsqueda en un documento HTML'''\n",
    "    return render_template('busqueda.html',\n",
    "                           alumnos=buscar_archivo(str(termino),\n",
    "                           ruta,\n",
    "                           campos))"
   ]
  },
  {
   "cell_type": "markdown",
   "metadata": {},
   "source": [
    "http://localhost:5000/api/Ramos\n",
    "\n",
    "http://localhost:5000/despliega/Ramos"
   ]
  },
  {
   "cell_type": "markdown",
   "metadata": {},
   "source": [
    "**Advertencia:** Una vez ejecutada la siguiente celda, es necesario interrumpir el kernel de Jupyter para poder ejecutar el resto de las celdas de la notebook."
   ]
  },
  {
   "cell_type": "code",
   "execution_count": null,
   "metadata": {},
   "outputs": [],
   "source": [
    "#Si no se define el parámetro host, flask sólo será visible desde localhost\n",
    "# app.run(host='localhost')\n",
    "app.run(host=\"0.0.0.0\", port=5000)"
   ]
  },
  {
   "cell_type": "markdown",
   "metadata": {},
   "source": [
    "<p style=\"text-align: center\"><a rel=\"license\" href=\"http://creativecommons.org/licenses/by/4.0/\"><img alt=\"Licencia Creative Commons\" style=\"border-width:0\" src=\"https://i.creativecommons.org/l/by/4.0/80x15.png\" /></a><br />Esta obra está bajo una <a rel=\"license\" href=\"http://creativecommons.org/licenses/by/4.0/\">Licencia Creative Commons Atribución 4.0 Internacional</a>.</p>\n",
    "<p style=\"text-align: center\">&copy; José Luis Chiquete Valdivieso. 2018.</p>"
   ]
  }
 ],
 "metadata": {
  "kernelspec": {
   "display_name": "Python 3 (ipykernel)",
   "language": "python",
   "name": "python3"
  },
  "language_info": {
   "codemirror_mode": {
    "name": "ipython",
    "version": 3
   },
   "file_extension": ".py",
   "mimetype": "text/x-python",
   "name": "python",
   "nbconvert_exporter": "python",
   "pygments_lexer": "ipython3",
   "version": "3.9.7"
  }
 },
 "nbformat": 4,
 "nbformat_minor": 2
}
