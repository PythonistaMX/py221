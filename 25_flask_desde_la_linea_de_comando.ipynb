{
 "cells": [
  {
   "cell_type": "markdown",
   "metadata": {},
   "source": [
    "[![img/pythonista.png](img/pythonista.png)](https://www.pythonista.io)"
   ]
  },
  {
   "cell_type": "markdown",
   "metadata": {},
   "source": [
    "# Gestión de *Flask* desde la *CLI*."
   ]
  },
  {
   "cell_type": "markdown",
   "metadata": {},
   "source": [
    "## El comando ```flask```."
   ]
  },
  {
   "cell_type": "markdown",
   "metadata": {},
   "source": [
    "```\n",
    "flask <subcomado> <argumentos>\n",
    "```"
   ]
  },
  {
   "cell_type": "code",
   "execution_count": 1,
   "metadata": {},
   "outputs": [
    {
     "name": "stdout",
     "output_type": "stream",
     "text": [
      "\u001b[31mError: Could not locate a Flask application. You did not provide the \"FLASK_APP\" environment variable, and a \"wsgi.py\" or \"app.py\" module was not found in the current directory.\r\n",
      "\u001b[0m\r\n",
      "Usage: flask [OPTIONS] COMMAND [ARGS]...\r\n",
      "\r\n",
      "  A general utility script for Flask applications.\r\n",
      "\r\n",
      "  Provides commands from Flask, extensions, and the application. Loads the\r\n",
      "  application defined in the FLASK_APP environment variable, or from a wsgi.py\r\n",
      "  file. Setting the FLASK_ENV environment variable to 'development' will\r\n",
      "  enable debug mode.\r\n",
      "\r\n",
      "    $ export FLASK_APP=hello.py\r\n",
      "    $ export FLASK_ENV=development\r\n",
      "    $ flask run\r\n",
      "\r\n",
      "Options:\r\n",
      "  --version  Show the flask version\r\n",
      "  --help     Show this message and exit.\r\n",
      "\r\n",
      "Commands:\r\n",
      "  routes  Show the routes for the app.\r\n",
      "  run     Run a development server.\r\n",
      "  shell   Run a shell in the app context.\r\n",
      "  spec    The command (`flask spec`) to output the OpenAPI spec to stdout...\r\n"
     ]
    }
   ],
   "source": [
    "!flask --help"
   ]
  },
  {
   "cell_type": "markdown",
   "metadata": {},
   "source": [
    "## Variables de entorno."
   ]
  },
  {
   "cell_type": "markdown",
   "metadata": {},
   "source": [
    "### Asignación de la aplicación.\n",
    "\n",
    "Para poder utilizar el comando _flask_, es necesario declarar la variable de entorno _FLASK_APP_ con la ruta del script que contiene elcódigo de la aplicación de Flask.\n",
    "\n",
    "**Sintaxis en Linux y MacOS X:**\n",
    "``` \n",
    "export FLASK_APP = <ruta del script>\n",
    "```\n",
    "**Sintaxis en Windows:**\n",
    "``` \n",
    "set FLASK_APP = <ruta del script>\n",
    "```"
   ]
  },
  {
   "cell_type": "markdown",
   "metadata": {},
   "source": [
    "### Modo de depuración.\n",
    "Es posible habilitar el modo de depuración asignándole el valor de ```1``` a la variable de entorno ```FLASK_DEBUG``` .\n",
    "\n",
    "**Sintaxis en Linux y MacOS X:**\n",
    "``` \n",
    "export FLASK_DEBUG=1\n",
    "```\n",
    "**Sintaxis en Windows:**\n",
    "``` \n",
    "set FLASK_DEBUG=1\n",
    "```"
   ]
  },
  {
   "cell_type": "markdown",
   "metadata": {},
   "source": [
    "## El comando ```flask run```.\n",
    "\n",
    "Este comando ejecuta el contenido de un script que incluye un objeto ```app```. Y en este caso, no es necesario incluir un método ```app.run()``` en el código para que éste levante el servidor.\n",
    "\n",
    "La designación de las direcciones *IP* autorizadas se definen con la opción ```-h``` y a continuación la cadena de caracteres con el segmento. El valor por defecto es ```localhost```. Para transmitir a todas las direcciones *IP* se utiliza la máscara ```'0.0.0.0'```.\n",
    "\n",
    "La designación del puerto que utilizará la aplicación se definen con la opción ```-p``` y a continuación el número de puerto. \n",
    "\n",
    "**Sintaxis:**\n",
    "```\n",
    "flask run -h '<segmento>' -p <numero de puerto>\n",
    "```"
   ]
  },
  {
   "cell_type": "markdown",
   "metadata": {},
   "source": [
    "**Ejemplo:** "
   ]
  },
  {
   "cell_type": "markdown",
   "metadata": {},
   "source": [
    "* Este proyecto contiene una estructura de código localizada en ```src/abc_alumnos```."
   ]
  },
  {
   "cell_type": "code",
   "execution_count": 2,
   "metadata": {
    "scrolled": true
   },
   "outputs": [
    {
     "name": "stdout",
     "output_type": "stream",
     "text": [
      "\u001b[01;34msrc/abc_alumnos/\u001b[00m\r\n",
      "├── app.py\r\n",
      "├── cliente.ipynb\r\n",
      "├── \u001b[01;34mdata\u001b[00m\r\n",
      "│   ├── alumnos.sqlite\r\n",
      "│   ├── __init__.py\r\n",
      "│   ├── jsonschemas.py\r\n",
      "│   └── \u001b[01;34m__pycache__\u001b[00m\r\n",
      "├── db_up.ipynb\r\n",
      "├── functions.py\r\n",
      "├── models.py\r\n",
      "├── \u001b[01;34m__pycache__\u001b[00m\r\n",
      "│   ├── app.cpython-39.pyc\r\n",
      "│   ├── functions.cpython-39.pyc\r\n",
      "│   └── models.cpython-39.pyc\r\n",
      "├── requirements.txt\r\n",
      "└── settings.cfg\r\n",
      "\r\n",
      "3 directories, 13 files\r\n"
     ]
    }
   ],
   "source": [
    "!tree src/abc_alumnos/ -L 2"
   ]
  },
  {
   "cell_type": "code",
   "execution_count": 3,
   "metadata": {},
   "outputs": [],
   "source": [
    "%pycat src/abc_alumnos/app.py"
   ]
  },
  {
   "cell_type": "markdown",
   "metadata": {},
   "source": [
    "* Para levantar la base de datos es necesario ejecutar los comandos en la *notebook* [```src/abc_alumnos/db_up.ipynb```](src/abc_alumnos/db_up.ipynb)"
   ]
  },
  {
   "cell_type": "markdown",
   "metadata": {},
   "source": [
    "``` bash\n",
    "export FLASK_APP=py221/src/abc_alumnos/app.py\n",
    "flask run -h '0.0.0.0' -p 3000\n",
    "```"
   ]
  },
  {
   "cell_type": "markdown",
   "metadata": {},
   "source": [
    "Esta celda levantará un servidor que puede ser accedido desde http://localhost:3000"
   ]
  },
  {
   "cell_type": "markdown",
   "metadata": {},
   "source": [
    "<p style=\"text-align: center\"><a rel=\"license\" href=\"http://creativecommons.org/licenses/by/4.0/\"><img alt=\"Licencia Creative Commons\" style=\"border-width:0\" src=\"https://i.creativecommons.org/l/by/4.0/80x15.png\" /></a><br />Esta obra está bajo una <a rel=\"license\" href=\"http://creativecommons.org/licenses/by/4.0/\">Licencia Creative Commons Atribución 4.0 Internacional</a>.</p>\n",
    "<p style=\"text-align: center\">&copy; José Luis Chiquete Valdivieso. 2022.</p>"
   ]
  }
 ],
 "metadata": {
  "kernelspec": {
   "display_name": "Python 3 (ipykernel)",
   "language": "python",
   "name": "python3"
  },
  "language_info": {
   "codemirror_mode": {
    "name": "ipython",
    "version": 3
   },
   "file_extension": ".py",
   "mimetype": "text/x-python",
   "name": "python",
   "nbconvert_exporter": "python",
   "pygments_lexer": "ipython3",
   "version": "3.9.2"
  }
 },
 "nbformat": 4,
 "nbformat_minor": 2
}
