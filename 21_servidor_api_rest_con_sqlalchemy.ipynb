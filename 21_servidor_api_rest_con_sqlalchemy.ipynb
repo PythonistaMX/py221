{
 "cells": [
  {
   "cell_type": "markdown",
   "metadata": {},
   "source": [
    "[![imagenes](img/pythonista.png)](https://www.pythonista.io)"
   ]
  },
  {
   "cell_type": "markdown",
   "metadata": {},
   "source": [
    "# Desarrollo de una servidor de *API REST* con *Flask-SQLAlchemy*."
   ]
  },
  {
   "cell_type": "markdown",
   "metadata": {},
   "source": [
    "En este capítulo se realizarán operaciones en la base de datos creada en la notebook [```20_la_extension_flask_sqlalchemy.ipynb```](20_la_extension_flask_sqlalchemy.ipynb).\n",
    "\n",
    "**Advertencia:** Es necesario que se haya creado correctamente la base de datos localizada en [```data/alumnos.db```]([data/alumnos.db)."
   ]
  },
  {
   "cell_type": "markdown",
   "metadata": {},
   "source": [
    "## Importación de módulos y datos."
   ]
  },
  {
   "cell_type": "code",
   "execution_count": null,
   "metadata": {},
   "outputs": [],
   "source": [
    "from flask import Flask, request, abort\n",
    "from data import esquema_alumno, carreras\n",
    "from json import loads\n",
    "from jsonschema import validate, ValidationError\n",
    "from flask_sqlalchemy import SQLAlchemy\n",
    "from flask_restful import Api, Resource"
   ]
  },
  {
   "cell_type": "code",
   "execution_count": null,
   "metadata": {},
   "outputs": [],
   "source": [
    "esquema_alumno"
   ]
  },
  {
   "cell_type": "markdown",
   "metadata": {},
   "source": [
    "## Creación de la aplicación e inicio de la sesión con la base de datos."
   ]
  },
  {
   "cell_type": "code",
   "execution_count": null,
   "metadata": {},
   "outputs": [],
   "source": [
    "app = Flask(__name__)\n",
    "app.config['SQLALCHEMY_DATABASE_URI'] = 'sqlite:///data/alumnos.db'\n",
    "app.config['SQLALCHEMY_TRACK_MODIFICATIONS'] = False\n",
    "db = SQLAlchemy(app)\n",
    "api = Api(app)"
   ]
  },
  {
   "cell_type": "markdown",
   "metadata": {},
   "source": [
    "## Definición de la clase ```Alumno```."
   ]
  },
  {
   "cell_type": "code",
   "execution_count": null,
   "metadata": {},
   "outputs": [],
   "source": [
    "class Alumno(db.Model):\n",
    "    __tablename__ = 'alumnos'\n",
    "    cuenta = db.Column(db.Integer, primary_key=True)\n",
    "    nombre = db.Column(db.String(50))\n",
    "    primer_apellido = db.Column(db.String(50))\n",
    "    segundo_apellido = db.Column(db.String(50))\n",
    "    carrera = db.Column(db.String(50))\n",
    "    semestre = db.Column(db.Integer)\n",
    "    promedio = db.Column(db.Float)\n",
    "    al_corriente = db.Column(db.Boolean)"
   ]
  },
  {
   "cell_type": "markdown",
   "metadata": {},
   "source": [
    "## La función ```extrae_estado()```."
   ]
  },
  {
   "cell_type": "code",
   "execution_count": null,
   "metadata": {},
   "outputs": [],
   "source": [
    "def extrae_estado(obj, esquema):\n",
    "    return  {campo: getattr(obj, campo)\n",
    "             for campo in esquema['properties']}"
   ]
  },
  {
   "cell_type": "markdown",
   "metadata": {},
   "source": [
    "## La función ```construye_instancia()```."
   ]
  },
  {
   "cell_type": "code",
   "execution_count": null,
   "metadata": {},
   "outputs": [],
   "source": [
    "def construye_instancia(candidato, Cls):\n",
    "    obj = Cls()\n",
    "    for campo in candidato:\n",
    "        setattr(obj, campo, candidato[campo])\n",
    "    return obj"
   ]
  },
  {
   "cell_type": "markdown",
   "metadata": {},
   "source": [
    "## La función ```datos_validos()```.\n",
    "\n",
    "Esta función fue modificada para poder gestionar objetos instanciados de ```Alumno``` y añadir registros a la base de datos."
   ]
  },
  {
   "cell_type": "code",
   "execution_count": null,
   "metadata": {},
   "outputs": [],
   "source": [
    "def valida_datos(cuenta, candidato, esquema):\n",
    "    try:\n",
    "        candidato['cuenta'] = int(cuenta)\n",
    "        validate(candidato, esquema)\n",
    "        if set(esquema[\"properties\"]).issuperset(candidato):\n",
    "            return candidato\n",
    "        else:\n",
    "            raise ValidationError(\"Invalid data\")\n",
    "    except ValidationError as e:\n",
    "        abort(400, e)"
   ]
  },
  {
   "cell_type": "code",
   "execution_count": null,
   "metadata": {},
   "outputs": [],
   "source": [
    "class Alumnos(Resource):\n",
    "    def get(self):\n",
    "        lista = Alumno.query.filter(Alumno.cuenta).all()\n",
    "        return [extrae_estado(alumno, esquema_alumno) for alumno in lista]"
   ]
  },
  {
   "cell_type": "code",
   "execution_count": null,
   "metadata": {},
   "outputs": [],
   "source": [
    "class AbcAlumnos(Resource):\n",
    "\n",
    "    \n",
    "    def get(self, cuenta):\n",
    "        alumno = Alumno.query.filter_by(cuenta=cuenta).first_or_404()\n",
    "        return extrae_estado(alumno, esquema_alumno)\n",
    "            \n",
    "            \n",
    "    def delete(self, cuenta):\n",
    "        alumno = Alumno.query.filter_by(cuenta=cuenta).first_or_404()\n",
    "        db.session.delete(alumno)\n",
    "        db.session.commit()\n",
    "        return extrae_estado(alumno, esquema_alumno)\n",
    "   \n",
    "\n",
    "    def post(self, cuenta):\n",
    "        alumno = Alumno.query.filter_by(cuenta=cuenta).first()\n",
    "        if alumno is None:\n",
    "            data_alumno = valida_datos(cuenta, \n",
    "                                      loads(request.data),\n",
    "                                      esquema_alumno)\n",
    "            db.session.add(construye_instancia(data_alumno, Alumno))\n",
    "            db.session.commit()\n",
    "            return data_alumno\n",
    "        else:\n",
    "            abort(409)\n",
    "            \n",
    "            \n",
    "    def put(self, cuenta):\n",
    "        alumno = Alumno.query.filter_by(cuenta=cuenta).first_or_404()\n",
    "        data_alumno = valida_datos(cuenta, \n",
    "                                    loads(request.data),\n",
    "                                    esquema_alumno)\n",
    "        db.session.delete(alumno)\n",
    "        db.session.add(construye_instancia(data_alumno, Alumno))\n",
    "        db.session.commit()\n",
    "        return data_alumno\n",
    "\n",
    "            \n",
    "    def patch(self, cuenta):\n",
    "        alumno = Alumno.query.filter_by(cuenta=cuenta).first_or_404()\n",
    "        candidato = extrae_estado(alumno, esquema_alumno)\n",
    "        candidato.update(loads(request.data))\n",
    "        data_alumno = valida_datos(cuenta, \n",
    "                                    candidato,\n",
    "                                    esquema_alumno)\n",
    "        db.session.delete(alumno)\n",
    "        db.session.add(construye_instancia(data_alumno, Alumno))\n",
    "        db.session.commit()\n",
    "        return data_alumno"
   ]
  },
  {
   "cell_type": "code",
   "execution_count": null,
   "metadata": {},
   "outputs": [],
   "source": [
    "api.add_resource(Alumnos, '/api/')"
   ]
  },
  {
   "cell_type": "code",
   "execution_count": null,
   "metadata": {},
   "outputs": [],
   "source": [
    "api.add_resource(AbcAlumnos, '/api/<int:cuenta>')"
   ]
  },
  {
   "cell_type": "code",
   "execution_count": null,
   "metadata": {},
   "outputs": [],
   "source": [
    "app.run('0.0.0.0')"
   ]
  },
  {
   "cell_type": "markdown",
   "metadata": {},
   "source": [
    "### Notas:\n",
    "\n",
    "* **No reinicie o detenga el kernel de la notebook hasta que haya terminado todas las sesiones los clientes.**\n",
    "* Debido a que el código de la celda de arriba levanta el servidor de Flask, ésta se ejecutará indefinidamente y desplegará los mensajes de respuesta a las peticiones de los clientes que se conecten."
   ]
  },
  {
   "cell_type": "markdown",
   "metadata": {},
   "source": [
    "<p style=\"text-align: center\"><a rel=\"license\" href=\"http://creativecommons.org/licenses/by/4.0/\"><img alt=\"Licencia Creative Commons\" style=\"border-width:0\" src=\"https://i.creativecommons.org/l/by/4.0/80x15.png\" /></a><br />Esta obra está bajo una <a rel=\"license\" href=\"http://creativecommons.org/licenses/by/4.0/\">Licencia Creative Commons Atribución 4.0 Internacional</a>.</p>\n",
    "<p style=\"text-align: center\">&copy; José Luis Chiquete Valdivieso. 2022.</p>"
   ]
  }
 ],
 "metadata": {
  "kernelspec": {
   "display_name": "Python 3 (ipykernel)",
   "language": "python",
   "name": "python3"
  },
  "language_info": {
   "codemirror_mode": {
    "name": "ipython",
    "version": 3
   },
   "file_extension": ".py",
   "mimetype": "text/x-python",
   "name": "python",
   "nbconvert_exporter": "python",
   "pygments_lexer": "ipython3",
   "version": "3.9.2"
  }
 },
 "nbformat": 4,
 "nbformat_minor": 2
}
