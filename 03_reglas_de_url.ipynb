{
 "cells": [
  {
   "cell_type": "markdown",
   "metadata": {},
   "source": [
    "[![img/pythonista.png](img/pythonista.png)](https://www.pythonista.io)"
   ]
  },
  {
   "cell_type": "markdown",
   "metadata": {},
   "source": [
    "# Reglas de *URL*."
   ]
  },
  {
   "cell_type": "markdown",
   "metadata": {},
   "source": [
    "## Preliminar."
   ]
  },
  {
   "cell_type": "code",
   "execution_count": null,
   "metadata": {},
   "outputs": [],
   "source": [
    "from flask import Flask\n",
    "app = Flask(__name__)"
   ]
  },
  {
   "cell_type": "markdown",
   "metadata": {},
   "source": [
    "## Extracción de valores a partir de una *URL*."
   ]
  },
  {
   "cell_type": "markdown",
   "metadata": {},
   "source": [
    "Las reglas de *URL* no sólo permiten definir rutas estáticas que apunten a una función, sino que pueden definir rutas dinámicas que permitan obtener información de la propia ruta y usarla como argumento para la función de vista.\n",
    "\n",
    "``\n",
    "'{texto 1}<{nombre 1}>{texto 2}<{nombre 2}> ...'\n",
    "``\n",
    "\n",
    "Donde:\n",
    "\n",
    "* ```{texto i}``` es un segmento de texto de la *URL* que es fijo.\n",
    "* ```{nombre i}``` es el nombre que se le asignará al texto capturado en ese segmento de la *URL*."
   ]
  },
  {
   "cell_type": "markdown",
   "metadata": {},
   "source": [
    "**Ejemplo:**"
   ]
  },
  {
   "cell_type": "markdown",
   "metadata": {},
   "source": [
    "* La siguiente celda define una regla para ```app.route()``` la cual capturaría el texto al final de la ruta ```/saluda/``` y lo guardaría con el nombre ```usuario```, el cual sería usado como argumento para la función ```saluda()```. La aplicación regresaría un documento *HTML* con un texto construido a partir del contenido de ```usuario```."
   ]
  },
  {
   "cell_type": "code",
   "execution_count": null,
   "metadata": {},
   "outputs": [],
   "source": [
    "@app.route('/saluda/<usuario>')\n",
    "def saluda(usuario):\n",
    "    return('<p>Hola, {}.</p>'.format(usuario))"
   ]
  },
  {
   "cell_type": "markdown",
   "metadata": {},
   "source": [
    "## Reglas de ruta con indicadores de tipo."
   ]
  },
  {
   "cell_type": "markdown",
   "metadata": {},
   "source": [
    "Es posible indicarle al sewrvidor de aplciaciones el tipo de dato esperado en la ruta.\n",
    "```\n",
    "<{tipo}:{nombre}>\n",
    "```\n",
    "\n",
    "Donde: \n",
    "\n",
    "* ```{tipo}``` puede ser:\n",
    "    * ```string```\n",
    "    * ```int```\n",
    "    * ```float```\n",
    "    * ```path```\n",
    "    * ```uuid```\n",
    "*  "
   ]
  },
  {
   "cell_type": "markdown",
   "metadata": {},
   "source": [
    "**Ejemplos:**"
   ]
  },
  {
   "cell_type": "markdown",
   "metadata": {},
   "source": [
    "La siguiente celda define una regla de *URL* para la función de vista ```operacion()``` en la que es necesario ingresar un valor de tipo ```float``` después del texto ```/operacion/``` y  antes del texto ```/mitad``` . \n",
    "\n",
    "*  La ruta ```/operacion/5.0/mitad``` captuará el valor de ```5.0``` en el parámetro ```numero``` y regresará un documento *HTML* desplegando operaciones con dicho valor.\n",
    "*  La ruta ```/operacion/5/mitad``` regresará un estado ```404```.\n",
    "*  La ruta ```/operacion/Juan/mitad``` regresará un estado ```404```."
   ]
  },
  {
   "cell_type": "code",
   "execution_count": null,
   "metadata": {},
   "outputs": [],
   "source": [
    "@app.route('/operacion/<float:numero>/mitad')\n",
    "def mitad(numero):\n",
    "    return f'La mitad de {numero} es {numero / 2}.' "
   ]
  },
  {
   "cell_type": "code",
   "execution_count": null,
   "metadata": {},
   "outputs": [],
   "source": [
    "@app.route('/operacion/<int:a>_suma_<int:b>')\n",
    "def suma(a, b):\n",
    "    return f'La suma de {a} + {b} es {a + b}.' "
   ]
  },
  {
   "cell_type": "markdown",
   "metadata": {},
   "source": [
    "**Advertencia:** Una vez ejecutada la siguiente celda, es necesario interrumpir el *kernel* de *Jupyter* para poder ejecutar el resto de las celdas de la *notebook*."
   ]
  },
  {
   "cell_type": "code",
   "execution_count": null,
   "metadata": {
    "scrolled": true
   },
   "outputs": [],
   "source": [
    "app.run(host=\"0.0.0.0\", port=5000)"
   ]
  },
  {
   "cell_type": "markdown",
   "metadata": {},
   "source": [
    "* http://localhost:5000/saluda/Juan\n",
    "* http://localhost:5000/operacion/5.0/mitad\n",
    "* http://localhost:5000/operacion/5/mitad\n",
    "* http://localhost:5000/operacion/Juan/mitad\n",
    "* http://localhost:5000/operacion/5.0\n",
    "* http://localhost:5000/operacion/2_suma_3"
   ]
  },
  {
   "cell_type": "markdown",
   "metadata": {},
   "source": [
    "<p style=\"text-align: center\"><a rel=\"license\" href=\"http://creativecommons.org/licenses/by/4.0/\"><img alt=\"Licencia Creative Commons\" style=\"border-width:0\" src=\"https://i.creativecommons.org/l/by/4.0/80x15.png\" /></a><br />Esta obra está bajo una <a rel=\"license\" href=\"http://creativecommons.org/licenses/by/4.0/\">Licencia Creative Commons Atribución 4.0 Internacional</a>.</p>\n",
    "<p style=\"text-align: center\">&copy; José Luis Chiquete Valdivieso. 2022.</p>"
   ]
  }
 ],
 "metadata": {
  "kernelspec": {
   "display_name": "Python 3 (ipykernel)",
   "language": "python",
   "name": "python3"
  },
  "language_info": {
   "codemirror_mode": {
    "name": "ipython",
    "version": 3
   },
   "file_extension": ".py",
   "mimetype": "text/x-python",
   "name": "python",
   "nbconvert_exporter": "python",
   "pygments_lexer": "ipython3",
   "version": "3.9.2"
  }
 },
 "nbformat": 4,
 "nbformat_minor": 2
}
