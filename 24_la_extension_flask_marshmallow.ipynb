{
 "cells": [
  {
   "cell_type": "markdown",
   "metadata": {},
   "source": [
    "[![img/pythonista.png](img/pythonista.png)](https://www.pythonista.io)"
   ]
  },
  {
   "cell_type": "markdown",
   "metadata": {},
   "source": [
    "## La extensión *Flask-Marshmallow*.\n",
    "\n",
    "https://flask-marshmallow.readthedocs.io"
   ]
  },
  {
   "cell_type": "code",
   "execution_count": 1,
   "metadata": {},
   "outputs": [
    {
     "name": "stdout",
     "output_type": "stream",
     "text": [
      "Collecting flask-marshmallow\n",
      "  Downloading flask_marshmallow-0.14.0-py2.py3-none-any.whl (10 kB)\n",
      "Requirement already satisfied: six>=1.9.0 in /home/oi/pythonista/lib/python3.9/site-packages (from flask-marshmallow) (1.16.0)\n",
      "Requirement already satisfied: Flask in /home/oi/pythonista/lib/python3.9/site-packages (from flask-marshmallow) (2.0.2)\n",
      "Requirement already satisfied: marshmallow>=2.0.0 in /home/oi/pythonista/lib/python3.9/site-packages (from flask-marshmallow) (3.14.1)\n",
      "Requirement already satisfied: itsdangerous>=2.0 in /home/oi/pythonista/lib/python3.9/site-packages (from Flask->flask-marshmallow) (2.0.1)\n",
      "Requirement already satisfied: Werkzeug>=2.0 in /home/oi/pythonista/lib/python3.9/site-packages (from Flask->flask-marshmallow) (2.0.3)\n",
      "Requirement already satisfied: Jinja2>=3.0 in /home/oi/pythonista/lib/python3.9/site-packages (from Flask->flask-marshmallow) (3.0.3)\n",
      "Requirement already satisfied: click>=7.1.2 in /home/oi/pythonista/lib/python3.9/site-packages (from Flask->flask-marshmallow) (8.0.3)\n",
      "Requirement already satisfied: MarkupSafe>=2.0 in /home/oi/pythonista/lib/python3.9/site-packages (from Jinja2>=3.0->Flask->flask-marshmallow) (2.0.1)\n",
      "Installing collected packages: flask-marshmallow\n",
      "Successfully installed flask-marshmallow-0.14.0\n",
      "\u001b[33mWARNING: You are using pip version 21.3.1; however, version 22.0.3 is available.\n",
      "You should consider upgrading via the '/home/oi/pythonista/bin/python -m pip install --upgrade pip' command.\u001b[0m\n"
     ]
    }
   ],
   "source": [
    "!pip install flask-marshmallow"
   ]
  },
  {
   "cell_type": "code",
   "execution_count": 9,
   "metadata": {},
   "outputs": [],
   "source": [
    "from flask import Flask, abort, request\n",
    "from flask_restful import Api, Resource\n",
    "from flask_sqlalchemy import SQLAlchemy\n",
    "from flask_marshmallow import Marshmallow, base_fields\n",
    "from marshmallow.validate import Length, Range, OneOf\n",
    "from data import carreras\n",
    "from json import loads"
   ]
  },
  {
   "cell_type": "code",
   "execution_count": 10,
   "metadata": {},
   "outputs": [],
   "source": [
    "app = Flask(__name__)\n",
    "app.config[\"SQLALCHEMY_DATABASE_URI\"] = \"sqlite:///data/alumnosql.sqlite\"\n",
    "app.config[\"SQLALCHEMY_TRACK_MODIFICATIONS\"] = False\n",
    "# Order matters: Initialize SQLAlchemy before Marshmallow\n",
    "api = Api(app)\n",
    "db = SQLAlchemy(app)\n",
    "ma = Marshmallow(app)"
   ]
  },
  {
   "cell_type": "code",
   "execution_count": 11,
   "metadata": {},
   "outputs": [],
   "source": [
    "class Alumno(db.Model):\n",
    "    __tablename__ = 'alumno'\n",
    "    cuenta = db.Column(db.Integer, primary_key=True)\n",
    "    nombre = db.Column(db.String(50))\n",
    "    primer_apellido = db.Column(db.String(50))\n",
    "    segundo_apellido = db.Column(db.String(50))\n",
    "    carrera = db.Column(db.String(50))\n",
    "    semestre = db.Column(db.Integer)\n",
    "    promedio = db.Column(db.Float)\n",
    "    al_corriente = db.Column(db.Boolean)"
   ]
  },
  {
   "cell_type": "code",
   "execution_count": 12,
   "metadata": {},
   "outputs": [],
   "source": [
    "class AlumnoSchema(ma.SQLAlchemySchema):\n",
    "    \n",
    "    \n",
    "    class Meta:\n",
    "        model = Alumno\n",
    "        load_instance = True\n",
    "    \n",
    "    \n",
    "    cuenta = base_fields.Int(required=True, validate=Range(min=1000000, max=9999999))\n",
    "    nombre = base_fields.String(required=True, validate=Length(min=2, max=50))\n",
    "    primer_apellido = base_fields.String(required=True, validate=Length(min=2, max=50))\n",
    "    segundo_apellido = base_fields.String(required=False, validate=Length(min=2, max=50))\n",
    "    carrera = base_fields.String(required=True, validate=OneOf(carreras))\n",
    "    semestre = base_fields.Int(required=True, validate=Range(min=1, max=50))\n",
    "    promedio = base_fields.Float(required=True, validate=Range(min=1, max=50))\n",
    "    al_corriente = base_fields.Bool(required=True)"
   ]
  },
  {
   "cell_type": "code",
   "execution_count": 13,
   "metadata": {},
   "outputs": [],
   "source": [
    "schema_multiple = AlumnoSchema(many=True)\n",
    "schema = AlumnoSchema()"
   ]
  },
  {
   "cell_type": "code",
   "execution_count": 14,
   "metadata": {},
   "outputs": [],
   "source": [
    "class MuestraAlumnos(Resource):\n",
    "    \n",
    "    \n",
    "    def get(Resource):\n",
    "        alumnos = Alumno.query.all()\n",
    "        return schema_multiple.dump(alumnos)"
   ]
  },
  {
   "cell_type": "code",
   "execution_count": 15,
   "metadata": {
    "scrolled": true
   },
   "outputs": [],
   "source": [
    "class ABCAlumno(Resource):\n",
    "    \n",
    "    \n",
    "    def get(self, cuenta):\n",
    "        alumno = Alumno.query.filter_by(cuenta=cuenta).first_or_404()\n",
    "        return schema.dump(alumno)\n",
    "    \n",
    "    \n",
    "    def delete(self, cuenta):\n",
    "        alumno = Alumno.query.filter_by(cuenta=cuenta).first_or_404()\n",
    "        db.session.delete(alumno)\n",
    "        db.session.commit()\n",
    "        return schema.dump(alumno)\n",
    "     \n",
    "    \n",
    "    def post(self, cuenta):\n",
    "        alumno = Alumno.query.filter_by(cuenta=cuenta).first()\n",
    "        if alumno:\n",
    "            abort(409)\n",
    "        else:\n",
    "            respuesta = loads(request.data)\n",
    "            respuesta[\"cuenta\"] = cuenta\n",
    "            db.session.add(schema.load(respuesta))\n",
    "            db.session.commit()\n",
    "            return respuesta\n",
    "     \n",
    "    \n",
    "    def put(self, cuenta):\n",
    "        alumno = Alumno.query.filter_by(cuenta=cuenta).first_or_404()\n",
    "        respuesta = loads(request.data)\n",
    "        respuesta[\"cuenta\"] = cuenta\n",
    "        db.session.add(schema.load(respuesta))\n",
    "        db.session.commit()\n",
    "        return respuesta"
   ]
  },
  {
   "cell_type": "code",
   "execution_count": 16,
   "metadata": {},
   "outputs": [],
   "source": [
    "api.add_resource(ABCAlumno, '/api/<string:cuenta>')\n",
    "api.add_resource(MuestraAlumnos, '/api/')"
   ]
  },
  {
   "cell_type": "code",
   "execution_count": null,
   "metadata": {
    "scrolled": true
   },
   "outputs": [
    {
     "name": "stdout",
     "output_type": "stream",
     "text": [
      " * Serving Flask app '__main__' (lazy loading)\n",
      " * Environment: production\n",
      "\u001b[31m   WARNING: This is a development server. Do not use it in a production deployment.\u001b[0m\n",
      "\u001b[2m   Use a production WSGI server instead.\u001b[0m\n",
      " * Debug mode: off\n"
     ]
    },
    {
     "name": "stderr",
     "output_type": "stream",
     "text": [
      " * Running on all addresses.\n",
      "   WARNING: This is a development server. Do not use it in a production deployment.\n",
      " * Running on http://10.0.2.15:5000/ (Press CTRL+C to quit)\n",
      "127.0.0.1 - - [17/Feb/2022 21:32:51] \"GET /api/ HTTP/1.1\" 200 -\n",
      "127.0.0.1 - - [17/Feb/2022 21:32:55] \"\u001b[33mGET /api/1231221 HTTP/1.1\u001b[0m\" 404 -\n",
      "[2022-02-17 21:33:36,152] ERROR in app: Exception on /api/1231268 [POST]\n",
      "Traceback (most recent call last):\n",
      "  File \"/home/oi/pythonista/lib/python3.9/site-packages/flask/app.py\", line 1516, in full_dispatch_request\n",
      "    rv = self.dispatch_request()\n",
      "  File \"/home/oi/pythonista/lib/python3.9/site-packages/flask/app.py\", line 1502, in dispatch_request\n",
      "    return self.ensure_sync(self.view_functions[rule.endpoint])(**req.view_args)\n",
      "  File \"/home/oi/pythonista/lib/python3.9/site-packages/flask_restful/__init__.py\", line 467, in wrapper\n",
      "    resp = resource(*args, **kwargs)\n",
      "  File \"/home/oi/pythonista/lib/python3.9/site-packages/flask/views.py\", line 84, in view\n",
      "    return current_app.ensure_sync(self.dispatch_request)(*args, **kwargs)\n",
      "  File \"/home/oi/pythonista/lib/python3.9/site-packages/flask_restful/__init__.py\", line 582, in dispatch_request\n",
      "    resp = meth(*args, **kwargs)\n",
      "  File \"/tmp/ipykernel_988/2298943500.py\", line 23, in post\n",
      "    db.session.add(schema.load(respuesta))\n",
      "  File \"/home/oi/pythonista/lib/python3.9/site-packages/marshmallow_sqlalchemy/load_instance_mixin.py\", line 96, in load\n",
      "    return super().load(data, **kwargs)\n",
      "  File \"/home/oi/pythonista/lib/python3.9/site-packages/marshmallow/schema.py\", line 719, in load\n",
      "    return self._do_load(\n",
      "  File \"/home/oi/pythonista/lib/python3.9/site-packages/marshmallow/schema.py\", line 904, in _do_load\n",
      "    raise exc\n",
      "marshmallow.exceptions.ValidationError: {'al_corriente': ['Not a valid boolean.']}\n",
      "127.0.0.1 - - [17/Feb/2022 21:33:36] \"\u001b[35m\u001b[1mPOST /api/1231268 HTTP/1.1\u001b[0m\" 500 -\n",
      "127.0.0.1 - - [17/Feb/2022 21:34:32] \"POST /api/1231268 HTTP/1.1\" 200 -\n",
      "127.0.0.1 - - [17/Feb/2022 21:34:39] \"GET /api/ HTTP/1.1\" 200 -\n",
      "127.0.0.1 - - [17/Feb/2022 21:35:30] \"PUT /api/1231268 HTTP/1.1\" 200 -\n",
      "127.0.0.1 - - [17/Feb/2022 21:35:36] \"\u001b[31m\u001b[1mPATCH /api/1231268 HTTP/1.1\u001b[0m\" 405 -\n",
      "127.0.0.1 - - [17/Feb/2022 21:36:00] \"DELETE /api/1231268 HTTP/1.1\" 200 -\n",
      "127.0.0.1 - - [17/Feb/2022 21:36:10] \"GET /api/ HTTP/1.1\" 200 -\n",
      "127.0.0.1 - - [17/Feb/2022 21:36:39] \"POST /api/1231268 HTTP/1.1\" 200 -\n"
     ]
    }
   ],
   "source": [
    "if __name__ == '__main__':\n",
    "    app.run(host='0.0.0.0')"
   ]
  },
  {
   "cell_type": "markdown",
   "metadata": {},
   "source": [
    "<p style=\"text-align: center\"><a rel=\"license\" href=\"http://creativecommons.org/licenses/by/4.0/\"><img alt=\"Licencia Creative Commons\" style=\"border-width:0\" src=\"https://i.creativecommons.org/l/by/4.0/80x15.png\" /></a><br />Esta obra está bajo una <a rel=\"license\" href=\"http://creativecommons.org/licenses/by/4.0/\">Licencia Creative Commons Atribución 4.0 Internacional</a>.</p>\n",
    "<p style=\"text-align: center\">&copy; José Luis Chiquete Valdivieso. 2022.</p>"
   ]
  }
 ],
 "metadata": {
  "kernelspec": {
   "display_name": "Python 3 (ipykernel)",
   "language": "python",
   "name": "python3"
  },
  "language_info": {
   "codemirror_mode": {
    "name": "ipython",
    "version": 3
   },
   "file_extension": ".py",
   "mimetype": "text/x-python",
   "name": "python",
   "nbconvert_exporter": "python",
   "pygments_lexer": "ipython3",
   "version": "3.9.2"
  }
 },
 "nbformat": 4,
 "nbformat_minor": 2
}
