{
 "cells": [
  {
   "cell_type": "markdown",
   "metadata": {},
   "source": [
    "[![img](img/pythonista.png)](https://www.pythonista.io)"
   ]
  },
  {
   "cell_type": "markdown",
   "metadata": {},
   "source": [
    "# Desarrollo de una aplicación web simple.\n",
    "\n",
    "## Objetivos.\n",
    "\n",
    "1. Desplegar un documento HTML con los datos completos del objeto de tipo *dict* contenido en la representación del objeto tipo *list* guardado en [data/alumnos.txt](data/alumnos.txt), cuando el valor correspondiente al identificador *'Cuenta'* coincida con el número ingresado como parte de la URL ```http://localhost:5000/alumno/<número>```. \n",
    "\n",
    "* Desplegar un documento HTML que contenga todas las coincidencias de la búsqueda de la cadena que se ingrese como parte de la URL ```http://localhost:5000/busca/<cadena>``` en los objetos de tipo *dict* contenidos en la representación del objeto tipo *list* guardado en [data/alumnos.txt](data/alumnos.txt).\n",
    "    * La busqueda se realizará en los valores correspondientes a los identificadores *'Nombre'*, *'Primer Apellido'* y *'Segundo Apellido'*.\n",
    "    * El documento HTML mostrará la lista de coincidencias de los objetos tipo _dict_ incluyendo los valores correspondientes a *'Nombre'*, *'Primer Apellido'*, *'Segundo Apellido'*, así como una URL que incluya el número correspondiente a *Cuenta* en el formato ```http://localhost:5000/alumno/<número>```."
   ]
  },
  {
   "cell_type": "markdown",
   "metadata": {},
   "source": [
    "## Plantillas.\n",
    "\n",
    "Los documentos HTML se elaborarán a partir de platillas de Jinja 2."
   ]
  },
  {
   "cell_type": "markdown",
   "metadata": {},
   "source": [
    "### Plantilla para ```http://localhost:5000/alumno/<número>```.\n",
    "\n",
    "La plantilla [templates/despliega.html](templates/despliega.html) contiene el siguiente código:\n",
    "\n",
    "```html\n",
    "<h1> Alumno {{ alumno['Cuenta'] }} </h1>\n",
    "<ul>\n",
    "<li>Nombre: {%for campo in ['Nombre', 'Primer Apellido', 'Segundo Apellido'] %}\n",
    "{{alumno[campo]}}{% endfor %}</li>\n",
    "<li>Carrera: {{ alumno['Carrera'] }} </li>\n",
    "<li>Semestre: {{ alumno['Semestre'] }} </li>\n",
    "<li>Promedio: {{ alumno['Promedio'] }} </li>\n",
    "{% if alumno[\"Al Corriente\"] %} <li>El alumno está al corriente de pagos.</li> {% endif %}\n",
    "</ul>\n",
    "```"
   ]
  },
  {
   "cell_type": "markdown",
   "metadata": {},
   "source": [
    "### Plantilla para ```http://localhost:5000/busca/<cadena>```.\n",
    "\n",
    "La plantilla [templates/busqueda_avanzada.html](templates/busqueda_avanzada.html) contiene el siguiente código:\n",
    "\n",
    "``` html\n",
    "<h1> Alumnos Encontrados</h1>\n",
    "<ul>\n",
    "{%for alumno in alumnos %}\n",
    "<li> <a href={{ url_for('despliega', cuenta=alumno['Cuenta']) }}> {{ alumno['Cuenta']}}</a>: \n",
    "{%for campo in ['Nombre', 'Primer Apellido', 'Segundo Apellido'] %}\n",
    "{{alumno[campo]}}\n",
    "{% endfor %} </li> \n",
    "{% endfor %}\n",
    "</ul>\n",
    "```"
   ]
  },
  {
   "cell_type": "markdown",
   "metadata": {},
   "source": [
    "## Código de la aplicación."
   ]
  },
  {
   "cell_type": "markdown",
   "metadata": {},
   "source": [
    "### Sección de datos."
   ]
  },
  {
   "cell_type": "code",
   "execution_count": null,
   "metadata": {},
   "outputs": [],
   "source": [
    "campos = ('Nombre', 'Primer Apellido', 'Segundo Apellido')\n",
    "ruta = 'data/alumnos.txt'"
   ]
  },
  {
   "cell_type": "markdown",
   "metadata": {},
   "source": [
    "### La función ```encuentra()``` .\n",
    "\n",
    "* Busca una cadena de caracteres dentro de los campos indicados de un objeto tipo ```dict```. \n",
    "* En caso de encontrar una coincidencia, el resultado es ```True```."
   ]
  },
  {
   "cell_type": "code",
   "execution_count": null,
   "metadata": {},
   "outputs": [],
   "source": [
    "encuentra = lambda cadena, registro, campos: bool(sum([cadena.casefold() \\\n",
    "            in registro[campo].casefold() for campo in campos]))"
   ]
  },
  {
   "cell_type": "markdown",
   "metadata": {},
   "source": [
    "### La función ```buscar_archivo()```.\n",
    "\n",
    "* Lee el contenido del archivo de texto indicado en el parámetro ```ruta``` y lo transforma mediante la función ```eval()```. Se da por sentado de que el objeto `` `base``` es de tipo ```tuple``` o ```list```que a su vez contiene objetos tipo ```dict```.\n",
    "* A cada elemento del objeto ```base``` se le aplica la función ```encuentra()``` y se crea una lista de aquellos elementos en los que exista una coicidencia de la cadena en los campos indicados."
   ]
  },
  {
   "cell_type": "code",
   "execution_count": null,
   "metadata": {},
   "outputs": [],
   "source": [
    "def buscar_archivo(cadena, ruta, campos):\n",
    "    with open(ruta, 'tr') as archivo:\n",
    "        base = eval(archivo.read())\n",
    "    return [registro for registro in base if encuentra(cadena, registro, campos)]"
   ]
  },
  {
   "cell_type": "markdown",
   "metadata": {},
   "source": [
    "Se importan los componentes requeridos."
   ]
  },
  {
   "cell_type": "code",
   "execution_count": null,
   "metadata": {},
   "outputs": [],
   "source": [
    "import jinja2\n",
    "from flask import Flask, render_template, url_for, abort"
   ]
  },
  {
   "cell_type": "markdown",
   "metadata": {},
   "source": [
    "Se instancia el objeto *app* a partir de la clase *Flask*."
   ]
  },
  {
   "cell_type": "code",
   "execution_count": null,
   "metadata": {},
   "outputs": [],
   "source": [
    "app = Flask(__name__)"
   ]
  },
  {
   "cell_type": "markdown",
   "metadata": {},
   "source": [
    "Se crea la función de vista para ```http://localhost:5000/busca/<cadena>```."
   ]
  },
  {
   "cell_type": "code",
   "execution_count": null,
   "metadata": {},
   "outputs": [],
   "source": [
    "@app.route('/busca/<cadena>')\n",
    "def busca(cadena):\n",
    "    return render_template('busqueda_avanzada.html', alumnos=buscar_archivo(str(cadena), ruta, campos))"
   ]
  },
  {
   "cell_type": "markdown",
   "metadata": {},
   "source": [
    "Se crea la función de vista para ```http://localhost:5000/alumno/<cuenta>```."
   ]
  },
  {
   "cell_type": "code",
   "execution_count": null,
   "metadata": {},
   "outputs": [],
   "source": [
    "@app.route('/alumno/<cuenta>')\n",
    "def despliega(cuenta):\n",
    "    falla = True\n",
    "    with open(ruta, 'tr') as archivo:\n",
    "        base = eval(archivo.read())\n",
    "    for registro in base:\n",
    "        try: \n",
    "            if registro['Cuenta'] == int(cuenta):\n",
    "                alumno = registro\n",
    "                falla = False\n",
    "                break\n",
    "        except:\n",
    "            pass\n",
    "    if falla :\n",
    "        abort(404)\n",
    "                \n",
    "    return render_template('despliega.html', alumno=alumno)"
   ]
  },
  {
   "cell_type": "markdown",
   "metadata": {},
   "source": [
    "Se crea la función de vista en caso de un error 404."
   ]
  },
  {
   "cell_type": "code",
   "execution_count": null,
   "metadata": {},
   "outputs": [],
   "source": [
    "@app.errorhandler(404)\n",
    "def no_encontrado(error):\n",
    "    return '<h1> Error</h1><p>Recurso no encontrado.</p>', 404"
   ]
  },
  {
   "cell_type": "markdown",
   "metadata": {},
   "source": [
    "**Advertencia:** Una vez ejecutada la siguente celda es necesario interrumpir el kernel de Jupyter para poder ejecutar el resto de las celdas de la notebook."
   ]
  },
  {
   "cell_type": "code",
   "execution_count": null,
   "metadata": {},
   "outputs": [],
   "source": [
    "#Si no se define el parámetro host, flask sólo será visible desde localhost\n",
    "# app.run(host='localhost')\n",
    "app.run(host=\"0.0.0.0\", port=5000)"
   ]
  },
  {
   "cell_type": "markdown",
   "metadata": {},
   "source": [
    "**Ejemplos:**\n",
    "\n",
    "* Regresa la lista de coincidencias usando la cadena *Ramos*.\n",
    "    * http://localhost:5000/busca/Ramos \n",
    "\n",
    "* Regresa al registro con el campo 'Cuenta' igual a *1231223*.\n",
    "    * http://localhost:5000/alumno/1231223\n",
    "    \n",
    "* Regresa la página de error 404.\n",
    "    * http://localhost:5000/alumno/1231217"
   ]
  },
  {
   "cell_type": "markdown",
   "metadata": {},
   "source": [
    "<p style=\"text-align: center\"><a rel=\"license\" href=\"http://creativecommons.org/licenses/by/4.0/\"><img alt=\"Licencia Creative Commons\" style=\"border-width:0\" src=\"https://i.creativecommons.org/l/by/4.0/80x15.png\" /></a><br />Esta obra está bajo una <a rel=\"license\" href=\"http://creativecommons.org/licenses/by/4.0/\">Licencia Creative Commons Atribución 4.0 Internacional</a>.</p>\n",
    "<p style=\"text-align: center\">&copy; José Luis Chiquete Valdivieso. 2018.</p>"
   ]
  }
 ],
 "metadata": {
  "kernelspec": {
   "display_name": "Python 3 (ipykernel)",
   "language": "python",
   "name": "python3"
  },
  "language_info": {
   "codemirror_mode": {
    "name": "ipython",
    "version": 3
   },
   "file_extension": ".py",
   "mimetype": "text/x-python",
   "name": "python",
   "nbconvert_exporter": "python",
   "pygments_lexer": "ipython3",
   "version": "3.9.2"
  }
 },
 "nbformat": 4,
 "nbformat_minor": 2
}
