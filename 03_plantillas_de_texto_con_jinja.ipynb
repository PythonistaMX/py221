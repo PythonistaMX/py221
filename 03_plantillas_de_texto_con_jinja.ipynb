{
 "cells": [
  {
   "cell_type": "markdown",
   "metadata": {},
   "source": [
    "[![img/pythonista.png](img/pythonista.png)](https://www.pythonista.io)"
   ]
  },
  {
   "cell_type": "markdown",
   "metadata": {},
   "source": [
    "# Introducción a *Jinja*."
   ]
  },
  {
   "cell_type": "markdown",
   "metadata": {},
   "source": [
    "El contenido que entrega una función de vista es procesado y enviado por *Flask* con el encabezado ```Content-Type: text/html; charset=UTF-8```, por lo que el cliente interpretará la respuesta como un documento *HTML*.\n",
    "\n",
    "*Flask* es capaz de entregar contenido *HTML* a partir de plantillas capaces de procesar objetos de *Python* que son pasados dentro de un contexto. "
   ]
  },
  {
   "cell_type": "markdown",
   "metadata": {},
   "source": [
    "## Jinja."
   ]
  },
  {
   "cell_type": "markdown",
   "metadata": {},
   "source": [
    "[*Jinja*](https://jinja.palletsprojects.com) es un lenguaje de plantillas (*templates*) escrito en *Python*, el cual permite insertar datos dentro de un documento de texto con diversos formatos, particularmente en *HTML*.\n",
    "\n",
    "*Jinja* no sólo es utilizado por *Flask*. Algunos otros proyectos como [*Ansible*](https://www.ansible.com/) lo utilizan para crear *playbooks* escritas en *YAML*."
   ]
  },
  {
   "cell_type": "code",
   "execution_count": null,
   "metadata": {},
   "outputs": [],
   "source": [
    "import jinja2"
   ]
  },
  {
   "cell_type": "markdown",
   "metadata": {},
   "source": [
    "## El lenguaje de plantillas de *Jinja*.\n",
    "\n",
    "*Jinja* ejecuta las expresiones y declaraciones que se encuentran encerrados entre signos de llaves \"```{```\" \"```}```\".\n",
    "\n",
    "### Declaraciones.\n",
    "\n",
    "Las declaraciones deben estar encerradas entre signos de porcentajes \"```%```\".\n",
    "\n",
    "**Sintaxis:**\n",
    "```\n",
    "{% <declaración> %} \n",
    "```\n",
    "\n",
    "### Expresiones.\n",
    "\n",
    "Las declaraciones deben estar encerradas entre llaves nuevamente \"```{```\" \"```}```\".\n",
    "\n",
    "**Sintaxis:**\n",
    "```\n",
    "{{ <expresión> }} \n",
    "```\n",
    "### Comentarios.\n",
    "\n",
    "Las declaraciones deben estar encerradas entre signos de gato \"```#```\".\n",
    "\n",
    "**Sintaxis:**\n",
    "```\n",
    "{# <comentario> #} \n",
    "```"
   ]
  },
  {
   "cell_type": "markdown",
   "metadata": {},
   "source": [
    "## La clase ```jinja2.Template```.\n",
    "\n",
    " La clase ```jinja2.Template``` permite instanciar objetos capaces de procesar plantillas y su contexto.\n",
    "\n",
    "```\n",
    "jinja2.Template(<plantilla>)\n",
    "```\n",
    "\n",
    "Donde:\n",
    "\n",
    "* ```<plantilla>```es un objeto ```str``` que contiene texto y código de *Jinja*.\n",
    "\n",
    "Para fines de claridad, los objetos instanciados de la clase ```jinja2.Template``` serán referidos como ```template```."
   ]
  },
  {
   "cell_type": "markdown",
   "metadata": {},
   "source": [
    "**Ejemplo:**"
   ]
  },
  {
   "cell_type": "code",
   "execution_count": null,
   "metadata": {},
   "outputs": [],
   "source": [
    "template = jinja2.Template(\"Hola, {{nombre}}.\")"
   ]
  },
  {
   "cell_type": "markdown",
   "metadata": {},
   "source": [
    "### El método ```template.render()```.\n",
    "\n",
    "Este método da por rebresa el texto procesado por la sintaxis de *Jinja*. Los argumentos que se ingresen en formato ``` <identificador> = <objeto>``` de forma susesiva y separados por comas serán sustituidos cuando se les haga referencia.\n",
    "\n",
    "\n",
    "```\n",
    "template.render(<contexto>)\n",
    "```"
   ]
  },
  {
   "cell_type": "markdown",
   "metadata": {},
   "source": [
    "**Ejemplo:**"
   ]
  },
  {
   "cell_type": "code",
   "execution_count": null,
   "metadata": {},
   "outputs": [],
   "source": [
    "plantilla = jinja2.Template(\"Hola,{{nombre}}.\")"
   ]
  },
  {
   "cell_type": "code",
   "execution_count": null,
   "metadata": {},
   "outputs": [],
   "source": [
    "plantilla.render(nombre=\"Juan\")"
   ]
  },
  {
   "cell_type": "markdown",
   "metadata": {},
   "source": [
    "## Expresiones."
   ]
  },
  {
   "cell_type": "markdown",
   "metadata": {},
   "source": [
    "### Nombres, índices y atributos.\n",
    "\n",
    "En vista de que Jinja 2 está basado en Python, es posible utilizar su sintaxis para acceder a los elementos y/o atributos de un objeto que se utiliza como parámetro.\n",
    "\n",
    "**Ejemplos:**"
   ]
  },
  {
   "cell_type": "code",
   "execution_count": null,
   "metadata": {},
   "outputs": [],
   "source": [
    "texto = \"Hola, {{persona['nombre'].upper()}}.\""
   ]
  },
  {
   "cell_type": "code",
   "execution_count": null,
   "metadata": {},
   "outputs": [],
   "source": [
    "plantilla = jinja2.Template(texto)"
   ]
  },
  {
   "cell_type": "code",
   "execution_count": null,
   "metadata": {},
   "outputs": [],
   "source": [
    "plantilla.render(persona={'nombre':'Jose', 'apellido': 'Pérez'})"
   ]
  },
  {
   "cell_type": "markdown",
   "metadata": {},
   "source": [
    "### Filtros.\n",
    "Un filtro en Jinja 2 es una especie de función que modifica al objeto resultante de una expresión.\n",
    "Es posible consultar lo diversos filtros que ofrece Jinja en esta liga:\n",
    "http://jinja.pocoo.org/docs/2.9/templates/#builtin-filters\n",
    "\n",
    "Jinja 2 puede aplicar diversos filtros al texto que se ingresa mediante pipes usando la siguiente sintaxis:\n",
    "\n",
    "```\n",
    "{{<expresión> | <filtro 1> | <filtro 2> |... | <filtro n>}}\n",
    "```\n",
    "De este modo, la salida de un filtro es la entrada del siguiente.\n",
    "\n",
    "**Ejemplos:**\n",
    "\n",
    "En estos ejemplos se utilizarán los filtros _center_ y _reverse_ de forma separada y posteriormente combinada."
   ]
  },
  {
   "cell_type": "code",
   "execution_count": null,
   "metadata": {},
   "outputs": [],
   "source": [
    "texto = \"Hola, {{persona['nombre'].upper() | center(40)}}.\"\n",
    "plantilla = jinja2.Template(texto)\n",
    "plantilla.render(persona={'nombre':'Jose', 'apellido': 'Pérez'})"
   ]
  },
  {
   "cell_type": "code",
   "execution_count": null,
   "metadata": {},
   "outputs": [],
   "source": [
    "texto = \"Hola, {{persona['nombre'].upper() | reverse}}.\"\n",
    "plantilla = jinja2.Template(texto)\n",
    "plantilla.render(persona={'nombre':'Jose', 'apellido': 'Pérez'})"
   ]
  },
  {
   "cell_type": "code",
   "execution_count": null,
   "metadata": {},
   "outputs": [],
   "source": [
    "texto = \"Hola, {{persona['nombre'].upper()| center(40)| reverse}}.\"\n",
    "plantilla = jinja2.Template(texto)\n",
    "plantilla.render(persona={'nombre':'Jose', 'apellido': 'Pérez'})"
   ]
  },
  {
   "cell_type": "markdown",
   "metadata": {},
   "source": [
    "## Declaraciones.\n",
    "\n",
    "Una declaración corresponde a un bloque de código que se ejecuta y que incluye varias expresiones con la siguiente sintaxis.\n",
    "\n",
    "```\n",
    "{% <declaración> %}\n",
    "...\n",
    "<texto y expresiones>\n",
    "...\n",
    "<% end<expresión correspondiente> %>\n",
    "\n",
    "```\n",
    "Jinja 2 puede utilizar expresiones de Python como:\n",
    "\n",
    "* *if*, *elif* y *else*.\n",
    "* *for*.\n",
    "* *with*.\n",
    "\n",
    "### Limitación del ámbito de las declaraciones.\n",
    "\n",
    "Los nombres y objetos definidos dentro de una declaración pertenecen exclusivamente al ámbito de dicha declaración. Sólo los argumentos ingresados en el método *render()* pertenecen al ámbito global.\n",
    "\n",
    "### Condicionales con *if* .\n",
    "\n",
    "Jinja 2 permite el uso del condicionales if con la siguiente sintaxis:\n",
    "\n",
    "```\n",
    "{% _if_ <expresión lógica>%}\n",
    "<Texto y código>\n",
    "{% endif %}\n",
    "```\n",
    "\n",
    "Cabe hacer notar que los operadores lógicos de Python son los mismos que se utilizan para las expresiones lógicas de este condicional.\n",
    " \n",
    "**Ejemplo:**"
   ]
  },
  {
   "cell_type": "code",
   "execution_count": null,
   "metadata": {},
   "outputs": [],
   "source": [
    "texto = \"Hola {{persona['nombre']}}.\\\n",
    "{% if persona['socio'] %}\\\n",
    "\\nUsted es socio distinguido.\\\n",
    "{% endif %}\""
   ]
  },
  {
   "cell_type": "code",
   "execution_count": null,
   "metadata": {},
   "outputs": [],
   "source": [
    "print(texto)"
   ]
  },
  {
   "cell_type": "code",
   "execution_count": null,
   "metadata": {},
   "outputs": [],
   "source": [
    "plantilla = jinja2.Template(texto)\n",
    "resultado = plantilla.render(persona={'nombre':'Jose', 'socio': True})\n",
    "print(resultado)"
   ]
  },
  {
   "cell_type": "code",
   "execution_count": null,
   "metadata": {},
   "outputs": [],
   "source": [
    "plantilla = jinja2.Template(texto)\n",
    "resultado = plantilla.render(persona={'nombre':'Juan', 'socio': False})\n",
    "print(resultado)"
   ]
  },
  {
   "cell_type": "markdown",
   "metadata": {},
   "source": [
    "####  Uso de _else_ y _elif_ en un condicional .\n",
    "\n",
    "También es posible evaluar más de una expresión con la siguiente sintaxis:\n",
    "\n",
    "```\n",
    "{% _if_ <expresión lógica 1>%}\n",
    "<Texto y código>\n",
    "{% _elif_ <expresión lógica 2>%}\n",
    "<Texto y código>\n",
    "...\n",
    "...\n",
    "{% _elif_ <expresión lógica n>%}\n",
    "<Texto y código>\n",
    "{% _else %}\n",
    "<Texto y código>\n",
    "\n",
    "{% endif %}\n",
    "```\n",
    "**Ejemplo:**"
   ]
  },
  {
   "cell_type": "code",
   "execution_count": null,
   "metadata": {},
   "outputs": [],
   "source": [
    "texto = \"Hola {{persona['nombre']}}.\\n\\\n",
    "{% if persona['status'] == 'socio' %}\\\n",
    "Usted es socio distinguido.\\\n",
    "{% elif persona['status'] == 'cliente' %}\\\n",
    "Usted tiene una cuenta de cliente.\\\n",
    "{% else %}\\\n",
    "Por favor indique si es socio o cliente.\\\n",
    "{% endif %}\""
   ]
  },
  {
   "cell_type": "code",
   "execution_count": null,
   "metadata": {},
   "outputs": [],
   "source": [
    "plantilla = jinja2.Template(texto)\n",
    "resultado = plantilla.render(persona={'nombre':'Jose', 'status': 'socio'})\n",
    "print(resultado)"
   ]
  },
  {
   "cell_type": "code",
   "execution_count": null,
   "metadata": {},
   "outputs": [],
   "source": [
    "plantilla = jinja2.Template(texto)\n",
    "resultado = plantilla.render(persona={'nombre':'Juan', 'status': 'cliente'})\n",
    "print(resultado)"
   ]
  },
  {
   "cell_type": "code",
   "execution_count": null,
   "metadata": {},
   "outputs": [],
   "source": [
    "plantilla = jinja2.Template(texto)\n",
    "resultado = plantilla.render(persona={'nombre':'Juan'})\n",
    "print(resultado)"
   ]
  },
  {
   "cell_type": "markdown",
   "metadata": {},
   "source": [
    "### Validaciones adicionales.\n",
    "Aemás de los operadores lógicos de Python, Jinja 2 cuenta con algunas otras validaciones que pueden ser consultadas en esta liga: http://jinja.pocoo.org/docs/latest/templates/#builtin-tests\n",
    "\n",
    "**Ejemplo:**\n",
    "\n",
    "Para este caso se utilizarán los validadores _even_ y _odd_."
   ]
  },
  {
   "cell_type": "code",
   "execution_count": null,
   "metadata": {},
   "outputs": [],
   "source": [
    "texto = \"El número es {{numero}}.\\n\\\n",
    "{% if numero is even %}\\\n",
    "Este número es par.\\\n",
    "{% elif numero is odd %}\\\n",
    "Este número es non.\\\n",
    "{% endif %}\""
   ]
  },
  {
   "cell_type": "code",
   "execution_count": null,
   "metadata": {},
   "outputs": [],
   "source": [
    "plantilla = jinja2.Template(texto)\n",
    "resultado = plantilla.render(numero=6)\n",
    "print(resultado)"
   ]
  },
  {
   "cell_type": "markdown",
   "metadata": {},
   "source": [
    "### Ciclos con _for_.\n",
    "\n",
    "La evaluación de ciclos con _for_ se comportan de forma idéntica a python, pero con la siguiente sintaxis:\n",
    "\n",
    "```\n",
    "{% for <elemento> in <iterable> %}\n",
    "    {{ <elemento> }}\n",
    "{% endfor %}\n",
    "```\n",
    "\n",
    "**Ejemplo:**\n",
    "Se utilizará el ciclo _for_ para una lista que a su vez contiene listas de dos elementos."
   ]
  },
  {
   "cell_type": "code",
   "execution_count": null,
   "metadata": {},
   "outputs": [],
   "source": [
    "texto = \"Enlaces recomendados:\\n\\\n",
    "{%for nombre, liga in dato %}\\\n",
    " \\n{{ nombre }}: {{ liga }}  \\\n",
    "{% endfor %}\""
   ]
  },
  {
   "cell_type": "code",
   "execution_count": null,
   "metadata": {},
   "outputs": [],
   "source": [
    "ligas = [['slashdot', 'https://slashdot.org'], \n",
    "         ['pythonista', 'https://pythonista.mx'], \n",
    "         ['cloudevel', 'https://cloudevel.com']]"
   ]
  },
  {
   "cell_type": "code",
   "execution_count": null,
   "metadata": {},
   "outputs": [],
   "source": [
    "plantilla = jinja2.Template(texto)\n",
    "resultado = plantilla.render(dato=ligas)\n",
    "print(resultado)"
   ]
  },
  {
   "cell_type": "markdown",
   "metadata": {},
   "source": [
    "## Macros.\n",
    "\n",
    "Lo macros se comportan de forma similar a una función de Python y se definen con la siguiente sintaxis:\n",
    "\n",
    "```\n",
    "{% macro <nombre> (<argumentos>) %}\n",
    "<texto y código>\n",
    "{% endmacro %}\n",
    "```\n",
    "\n",
    "Para invocar un macro se hace de la siguiente manera:\n",
    "```\n",
    "{{ <nombre>(<parámetros>) }}\n",
    "```\n",
    "\n",
    "**Ejemplo:**"
   ]
  },
  {
   "cell_type": "code",
   "execution_count": null,
   "metadata": {},
   "outputs": [],
   "source": [
    "texto = '{% macro suma (a, b=2) %}\\\n",
    "La suma es {{a + b}}.\\n\\\n",
    "{% endmacro %}\\\n",
    "{{ suma(2)}}\\\n",
    "{{ suma(2, 3) }}'"
   ]
  },
  {
   "cell_type": "code",
   "execution_count": null,
   "metadata": {},
   "outputs": [],
   "source": [
    "plantilla = jinja2.Template(texto)\n",
    "resultado = plantilla.render()\n",
    "print(resultado)"
   ]
  },
  {
   "cell_type": "markdown",
   "metadata": {},
   "source": [
    "## Lectura de plantillas a partir de archivos.\n",
    "\n",
    "La clase _jinja.Template_ puede gestionar objetos de texto. Sin embargo, el verdadero potencial de Jinja 2 está en el consumo de archivos de texto.\n",
    "\n",
    "### La clase _jinja2.FileSystemLoader_.\n",
    "\n",
    "La clase _jinja2.FileSystemLoader_ permite definir los parámetros necesarios para acceder a un sistema  de archivos, definiendo una o varias rutas en las que se encontrarán las plantillas.\n",
    "\n",
    "Sintaxis:\n",
    "\n",
    "```\n",
    "jinja2.FileSystemLoader('<ruta>')\n",
    "\n",
    "o\n",
    "\n",
    "jinja2.FileSystemLoader(['<ruta 1>', '<ruta 2>', ..., '<ruta n>'])\n",
    "```"
   ]
  },
  {
   "cell_type": "markdown",
   "metadata": {},
   "source": [
    "### La clase _jinja2.Environment_.\n",
    "\n",
    "La clase _jinja2.Environment_ permite definir la configuración de diversas propiedades de Jinja2, incluyendo el parámetro _loader_ el cual debe corresponder a un objeto instanciado de la clase  _jinja2.FileSystemLoader_.\n",
    "\n",
    "**Sintaxis:**\n",
    "\n",
    "```\n",
    "<nombre> = jinja2.Environment(loader = <objeto de la clase jinja2.FileSystemLoader>, <otros parámetros>)\n",
    "```\n",
    "\n",
    "El objeto resultante contiene al  método *get_template()*, el cual permite acceder a una archivo cuyo nombre o ruta relativa se ingresa como parámetro.\n",
    "\n",
    "Jinja 2 buscará el archivo desde las rutas definidas previamente.\n",
    "\n",
    "**Sintaxis:**\n",
    "\n",
    "```\n",
    "<nombre>.get_template('<ruta relativa del archivo>') \n",
    "```\n",
    "El resultado es un objeto similar al de _jinja2.Template_."
   ]
  },
  {
   "cell_type": "markdown",
   "metadata": {},
   "source": [
    "**Ejemplo:**\n",
    "El archivo [*plantillas/plantilla.html*](plantillas/plantilla.html) contiene el siguiente código:\n",
    "\n",
    "``` html\n",
    "<!DOCTYPE html>\n",
    "<html>\n",
    "<head>\n",
    "    <title>Bienvenidos </title>\n",
    "</head>\n",
    "<body>\n",
    "   <h1>Listado de referencias</h1>\n",
    "   <ul>\n",
    "   {% for nombre, liga in lista %}\n",
    "   <li><a href='{{ liga }}'> {{ nombre.capitalize() }}</a></li>\n",
    "   <ul>\n",
    "   {% endfor %}\n",
    "</body>\n",
    "```"
   ]
  },
  {
   "cell_type": "code",
   "execution_count": null,
   "metadata": {},
   "outputs": [],
   "source": [
    "import os"
   ]
  },
  {
   "cell_type": "code",
   "execution_count": null,
   "metadata": {},
   "outputs": [],
   "source": [
    "entorno = jinja2.Environment(loader=jinja2.FileSystemLoader(os.getcwd() + '/plantillas'))"
   ]
  },
  {
   "cell_type": "code",
   "execution_count": null,
   "metadata": {},
   "outputs": [],
   "source": [
    "plantilla = entorno.get_template(\"plantilla.html\")"
   ]
  },
  {
   "cell_type": "code",
   "execution_count": null,
   "metadata": {},
   "outputs": [],
   "source": [
    "ligas = [['slashdot', 'https://slashdot.org'], \n",
    "         ['pythonista', 'https://pythonista.mx'], \n",
    "         ['cloudevel', 'https://cloudevel.com']]"
   ]
  },
  {
   "cell_type": "code",
   "execution_count": null,
   "metadata": {},
   "outputs": [],
   "source": [
    "print(plantilla.render(lista=ligas))"
   ]
  },
  {
   "cell_type": "markdown",
   "metadata": {},
   "source": [
    "## Importación de macros.\n",
    "\n",
    "Es posible importar un macro desde una plantilla mediante la siguiente sintaxis:\n",
    "\n",
    "```\n",
    "{% from <ruta del archivo en fornato str> import <nombre del macro>\n",
    "\n",
    "``` "
   ]
  },
  {
   "cell_type": "markdown",
   "metadata": {},
   "source": [
    "**Ejemplo:**\n",
    "\n",
    "El archivo [*plantillas/sumadora.txt*](plantillas/sumadora.txt) contiene la siguiente plantilla:\n",
    "\n",
    "```\n",
    "{% macro suma (a, b=2) %}\n",
    "La suma es {{a + b}}.\n",
    "{% endmacro %}\n",
    "```\n",
    "\n",
    "l archivo [*plantillas/importadora.txt*](plantillas/importadora.txt) contiene la siguiente plantilla:\n",
    "```\n",
    "{% from \"sumadora.txt\" import suma %}\\\n",
    "{{ suma(3, 4) }}\n",
    "```\n"
   ]
  },
  {
   "cell_type": "code",
   "execution_count": null,
   "metadata": {},
   "outputs": [],
   "source": [
    "plantilla = entorno.get_template(\"importadora.txt\")"
   ]
  },
  {
   "cell_type": "code",
   "execution_count": null,
   "metadata": {},
   "outputs": [],
   "source": [
    "print(plantilla.render())"
   ]
  },
  {
   "cell_type": "markdown",
   "metadata": {},
   "source": [
    "## Herencia de plantillas.\n",
    "\n",
    "Jinja 2 tiene la capacidad de aprovechar plantillas que pueden ser modificadas utilizando el concepto de bloques.\n",
    "\n",
    "### Bloques.\n",
    "Los bloques son etiquetas que lleva un nombre y que se definen con la siguiente sintaxis:\n",
    "\n",
    "```\n",
    "{% block <nombre> %}\n",
    "...\n",
    "...\n",
    "{% endblock% }\n",
    "```\n",
    "Los bloques pueden ser anidados.\n",
    "\n",
    "### Herencia con _extends_.\n",
    "\n",
    "Es posible crear una nueva plantilla partir de mediante la siguiente sintaxis:\n",
    "\n",
    "```{% extends '<ruta de la platilla de origen>' %}\n",
    "```\n",
    "\n",
    "Esto traerá consigo el contenido completo de la plantilla de origen y es posible sobrescribir los bloques simpremente redefiniéndolos."
   ]
  },
  {
   "cell_type": "markdown",
   "metadata": {},
   "source": [
    "**Ejemplo:**\n",
    "\n",
    "El archivo [*plantillas/plantilla_base.html*](plantillas/plantilla_base.html) contiene el siguiente código.\n",
    "\n",
    "``` html\n",
    "<!DOCTYPE html>\n",
    "<html>\n",
    "<head>\n",
    "    {% block head %}\n",
    "    <link rel=\"stylesheet\" href=\"style.css\" />\n",
    "    <title>Bienvenidos a {% block title%}Pythonista{% endblock %}</title>\n",
    "    {% endblock %}\n",
    "</head>\n",
    "<body>\n",
    "    <div id=\"content\">{% block content %}Hola, Bienvenidos.{% endblock %}</div>\n",
    "    <div id=\"footer\">\n",
    "        {% block footer %}\n",
    "        &copy; Copyright 2018 <a href=\"https://pythonista.io/\">Pythonista®.</a>.\n",
    "        {% endblock %}\n",
    "    </div>\n",
    "</body>\n",
    "```"
   ]
  },
  {
   "cell_type": "code",
   "execution_count": null,
   "metadata": {},
   "outputs": [],
   "source": [
    "plantilla = entorno.get_template(\"plantilla_base.html\")"
   ]
  },
  {
   "cell_type": "code",
   "execution_count": null,
   "metadata": {},
   "outputs": [],
   "source": [
    "print(plantilla.render())"
   ]
  },
  {
   "cell_type": "markdown",
   "metadata": {},
   "source": [
    "El archivo [*plantillas/plantilla_hija.html*](plantillas/plantilla_hija.html) contiene el siguiente código, el cual hereda el código del archivo *plantilla_base.html*.\n",
    "\n",
    "``` html\n",
    "{% extends \"plantilla_base.html\" %}\n",
    "{% block title %} Cloudevel {%endblock %}\n",
    "{% block footer %}\n",
    "    &copy; Copyright 2018 <a href=\"https://cloudevel.com/\">Cloudevel.</a>.\n",
    "{% endblock %}\n",
    "```"
   ]
  },
  {
   "cell_type": "code",
   "execution_count": null,
   "metadata": {
    "scrolled": true
   },
   "outputs": [],
   "source": [
    "plantilla = entorno.get_template(\"plantilla_hija.html\")"
   ]
  },
  {
   "cell_type": "code",
   "execution_count": null,
   "metadata": {},
   "outputs": [],
   "source": [
    "print(plantilla.render())"
   ]
  },
  {
   "cell_type": "markdown",
   "metadata": {},
   "source": [
    "### La función *super()*.\n",
    "\n",
    "Esta función de Jinja 2 es similar a la super() de Python, y permite traer el contenido del bloque original para ser reutilizado en el nuevo bloque."
   ]
  },
  {
   "cell_type": "markdown",
   "metadata": {},
   "source": [
    "**Ejemplo:**\n",
    "\n",
    "El archivo [*plantillas/plantilla_superpuesta.html*](plantillas/plantilla_superpuesta.html) contiene el siguiente código, el cual hereda el código del archivo *plantillas/plantilla_base.html*, pero usa la función *super()* para traer el bloque de texto que sobreescribió.\n",
    "\n",
    "```\n",
    "{% extends \"plantilla_base.html\" %}\n",
    "{% block title %} \n",
    "Cloudevel, empresa hermana de \n",
    "{{ super() }}\n",
    "{%endblock %}\n",
    "{% block footer %}\n",
    "    &copy; Copyright 2018 <a href=\"https://cloudevel.com/\">Cloudevel.</a>.\n",
    "{{ super() }}\n",
    "{% endblock %}\n",
    "```\n",
    "\n"
   ]
  },
  {
   "cell_type": "markdown",
   "metadata": {},
   "source": [
    "**Nota:** Asegúrese que la ruta de la celda de abajo coresponda a la de la celda superior."
   ]
  },
  {
   "cell_type": "code",
   "execution_count": null,
   "metadata": {
    "scrolled": true
   },
   "outputs": [],
   "source": [
    "plantilla = entorno.get_template(\"plantilla_superpuesta.html\")"
   ]
  },
  {
   "cell_type": "code",
   "execution_count": null,
   "metadata": {},
   "outputs": [],
   "source": [
    "print(plantilla.render())"
   ]
  },
  {
   "cell_type": "markdown",
   "metadata": {
    "collapsed": true
   },
   "source": [
    "## Flask y Jinja 2.\n",
    "\n",
    "Flask utiliza por defecto las plantillas de Jinja 2 mediante la función *flask.render_template()*. \n",
    "\n",
    "Del mismo modo, está configurado para buscar los archivos de plantilla en el subdirectorio [*templates*](templates).\n",
    "\n",
    "**Ejemplo:**\n",
    "\n",
    "La siguiente aplicación utilizará la plantilla [*templates/plantilla.html*](templates/plantilla.html), la cual contiene lo siguiente:\n",
    "\n",
    "``` html\n",
    "<!DOCTYPE html>\n",
    "<html>\n",
    "<head>\n",
    "    <title>Bienvenidos </title>\n",
    "</head>\n",
    "<body>\n",
    "   <h1>Listado de referencias</h1>\n",
    "   <ul>\n",
    "   {% for nombre, liga in lista %}\n",
    "   <li><a href='{{ liga }}'> {{ nombre.capitalize() }}</a></li>\n",
    "   {% endfor %}\n",
    "   <ul>\n",
    "</body>\n",
    "```"
   ]
  },
  {
   "cell_type": "markdown",
   "metadata": {},
   "source": [
    "**Advertencia:** Una vez ejecutada la siguiente celda, es necesario interrumpir el kernel de Jupyter para poder ejecutar el resto de las celdas de la notebook."
   ]
  },
  {
   "cell_type": "code",
   "execution_count": null,
   "metadata": {
    "scrolled": true
   },
   "outputs": [],
   "source": [
    "from flask import Flask, render_template\n",
    "\n",
    "app = Flask(__name__)\n",
    "\n",
    "@app.route('/')\n",
    "def inicio():\n",
    "    \n",
    "    ligas = [['slashdot', 'https://slashdot.org'], \n",
    "         ['pythonista', 'https://pythonista.io'], \n",
    "         ['cloudevel', 'https://cloudevel.com']]\n",
    "    \n",
    "    return render_template('plantilla.html', lista=ligas)\n",
    "\n",
    "#Si no se define el parámetro host, flask sólo será visible desde localhost\n",
    "app.run(host='0.0.0.0')"
   ]
  },
  {
   "cell_type": "markdown",
   "metadata": {},
   "source": [
    "Esta celda levantará un servidor que puede ser accedido desde http://localhost:5000"
   ]
  },
  {
   "cell_type": "markdown",
   "metadata": {},
   "source": [
    "<p style=\"text-align: center\"><a rel=\"license\" href=\"http://creativecommons.org/licenses/by/4.0/\"><img alt=\"Licencia Creative Commons\" style=\"border-width:0\" src=\"https://i.creativecommons.org/l/by/4.0/80x15.png\" /></a><br />Esta obra está bajo una <a rel=\"license\" href=\"http://creativecommons.org/licenses/by/4.0/\">Licencia Creative Commons Atribución 4.0 Internacional</a>.</p>\n",
    "<p style=\"text-align: center\">&copy; José Luis Chiquete Valdivieso. 2021.</p>"
   ]
  }
 ],
 "metadata": {
  "kernelspec": {
   "display_name": "Python 3 (ipykernel)",
   "language": "python",
   "name": "python3"
  },
  "language_info": {
   "codemirror_mode": {
    "name": "ipython",
    "version": 3
   },
   "file_extension": ".py",
   "mimetype": "text/x-python",
   "name": "python",
   "nbconvert_exporter": "python",
   "pygments_lexer": "ipython3",
   "version": "3.9.2"
  }
 },
 "nbformat": 4,
 "nbformat_minor": 2
}
