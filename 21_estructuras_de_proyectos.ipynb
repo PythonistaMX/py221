{
 "cells": [
  {
   "cell_type": "markdown",
   "metadata": {},
   "source": [
    "[![img/pythonista.png)](img/pythonista.png)](https://www.pythonista.io)"
   ]
  },
  {
   "cell_type": "markdown",
   "metadata": {},
   "source": [
    "# Estructuras de proyectos."
   ]
  },
  {
   "cell_type": "markdown",
   "metadata": {},
   "source": [
    "## Estructura sugerida por *pypa*.\n",
    "\n",
    "https://github.com/pypa/sampleproject"
   ]
  },
  {
   "cell_type": "markdown",
   "metadata": {},
   "source": [
    "## Estructura de un proyecto basado en *Flask-Restful*.\n",
    "\n"
   ]
  },
  {
   "cell_type": "code",
   "execution_count": 2,
   "metadata": {},
   "outputs": [
    {
     "name": "stdout",
     "output_type": "stream",
     "text": [
      "\u001b[01;34msrc/proyecto-flask-restful/\u001b[00m\r\n",
      "└── \u001b[01;34mabc_alumnos\u001b[00m\r\n",
      "    ├── app.py\r\n",
      "    ├── cliente.ipynb\r\n",
      "    ├── \u001b[01;34mdata\u001b[00m\r\n",
      "    │   ├── alumnos.sqlite\r\n",
      "    │   ├── __init__.py\r\n",
      "    │   ├── jsonschemas.py\r\n",
      "    │   └── \u001b[01;34m__pycache__\u001b[00m\r\n",
      "    │       ├── __init__.cpython-39.pyc\r\n",
      "    │       └── jsonschemas.cpython-39.pyc\r\n",
      "    ├── db_up.ipynb\r\n",
      "    ├── functions.py\r\n",
      "    ├── models.py\r\n",
      "    ├── \u001b[01;34m__pycache__\u001b[00m\r\n",
      "    │   ├── app.cpython-39.pyc\r\n",
      "    │   ├── blueprints.cpython-39.pyc\r\n",
      "    │   ├── funciones.cpython-39.pyc\r\n",
      "    │   ├── functions.cpython-39.pyc\r\n",
      "    │   ├── __init__.cpython-39.pyc\r\n",
      "    │   ├── jsonschemas.cpython-39.pyc\r\n",
      "    │   └── models.cpython-39.pyc\r\n",
      "    ├── requirements.txt\r\n",
      "    ├── settings.cfg\r\n",
      "    ├── \u001b[01;34mstatic\u001b[00m\r\n",
      "    └── \u001b[01;34mtests\u001b[00m\r\n",
      "\r\n",
      "6 directories, 19 files\r\n"
     ]
    }
   ],
   "source": [
    "!tree src/proyecto-flask-restful/"
   ]
  },
  {
   "cell_type": "markdown",
   "metadata": {},
   "source": [
    "<p style=\"text-align: center\"><a rel=\"license\" href=\"http://creativecommons.org/licenses/by/4.0/\"><img alt=\"Licencia Creative Commons\" style=\"border-width:0\" src=\"https://i.creativecommons.org/l/by/4.0/80x15.png\" /></a><br />Esta obra está bajo una <a rel=\"license\" href=\"http://creativecommons.org/licenses/by/4.0/\">Licencia Creative Commons Atribución 4.0 Internacional</a>.</p>\n",
    "<p style=\"text-align: center\">&copy; José Luis Chiquete Valdivieso. 2021.</p>"
   ]
  }
 ],
 "metadata": {
  "kernelspec": {
   "display_name": "Python 3 (ipykernel)",
   "language": "python",
   "name": "python3"
  },
  "language_info": {
   "codemirror_mode": {
    "name": "ipython",
    "version": 3
   },
   "file_extension": ".py",
   "mimetype": "text/x-python",
   "name": "python",
   "nbconvert_exporter": "python",
   "pygments_lexer": "ipython3",
   "version": "3.9.2"
  }
 },
 "nbformat": 4,
 "nbformat_minor": 2
}
