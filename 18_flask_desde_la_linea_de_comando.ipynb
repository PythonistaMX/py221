{
 "cells": [
  {
   "cell_type": "markdown",
   "metadata": {},
   "source": [
    "[![img/pythonista.png](img/pythonista.png)](https://www.pythonista.io)"
   ]
  },
  {
   "cell_type": "markdown",
   "metadata": {},
   "source": [
    "# Gestión de *Flask* desde la *CLI*."
   ]
  },
  {
   "cell_type": "markdown",
   "metadata": {},
   "source": [
    "## El comando ```flask```."
   ]
  },
  {
   "cell_type": "markdown",
   "metadata": {},
   "source": [
    "```\n",
    "flask <subcomado> <argumentos>\n",
    "```"
   ]
  },
  {
   "cell_type": "markdown",
   "metadata": {},
   "source": [
    "## Variables de entorno."
   ]
  },
  {
   "cell_type": "markdown",
   "metadata": {},
   "source": [
    "### Asignación de la aplicación.\n",
    "\n",
    "Para poder utilizar el comando _flask_, es necesario declarar la variable de entorno _FLASK_APP_ con la ruta del script que contiene elcódigo de la aplicación de Flask.\n",
    "\n",
    "** Sintaxis en Linux y MacOS X:**\n",
    "``` \n",
    "export FLASK_APP = <ruta del script>\n",
    "```\n",
    "** Sintaxis en Windows:**\n",
    "``` \n",
    "set FLASK_APP = <ruta del script>\n",
    "```"
   ]
  },
  {
   "cell_type": "markdown",
   "metadata": {},
   "source": [
    "### Modo de depuración.\n",
    "Es posible habilitar el modo de depuración asignándole el valor de _1_ a la variable de entorno *FLASK_DEBUG*.\n",
    "\n",
    "** Sintaxis en Linux y MacOS X:**\n",
    "``` \n",
    "export FLASK_DEBUG=1\n",
    "```\n",
    "** Sintaxis en Windows:**\n",
    "``` \n",
    "set FLASK_DEBUG=1\n",
    "```"
   ]
  },
  {
   "cell_type": "markdown",
   "metadata": {},
   "source": [
    "## El comando ```flask run```.\n",
    "\n",
    "Este comando ejecuta el contenido de un script que incluye un objeto de tipo _Flask_. Y en este caso, no es necesario incluir un método *run()* del objeto de tipo Flask en el código para que éste levante el servidor.\n",
    "\n",
    "La designación de las direcciones IP autorizadas se definen con la opción *-h* y a continuación la cadena de caracteres con el segmento. \n",
    "\n",
    "La designación del puerto que utilizará la aplicación se definen con la opción *-p* y a continuación el número de puerto. \n",
    "\n",
    "**Sintaxis:**\n",
    "```\n",
    "flask run -h '<segmento>' -p <numero de puerto>\n",
    "```"
   ]
  },
  {
   "cell_type": "markdown",
   "metadata": {},
   "source": [
    "## Variables de entorno.\n",
    "\n",
    "Para poder utilizar el comando _flask_, es necesario declarar la variable de entorno _FLASK_APP_ con la ruta del script que contiene elcódigo de la aplicación de Flask.\n",
    "\n",
    "** Sintaxis en Linux y MacOS X:**\n",
    "``` \n",
    "export FLASK_APP = <ruta del script>\n",
    "```\n",
    "** Sintaxis en Windows:**\n",
    "``` \n",
    "set FLASK_APP = <ruta del script>\n",
    "```\n",
    "\n",
    "### Modo de depuración.\n",
    "Es posible habilitar el modo de depuración asignándole el valor de _1_ a la variable de entorno *FLASK_DEBUG*.\n",
    "\n",
    "** Sintaxis en Linux y MacOS X:**\n",
    "``` \n",
    "export FLASK_DEBUG=1\n",
    "```\n",
    "** Sintaxis en Windows:**\n",
    "``` \n",
    "set FLASK_DEBUG=1\n",
    "```\n",
    "\n",
    "### El comando _flask run_.\n",
    "\n",
    "Este comando ejecuta el contenido de un script que incluye un objeto de tipo _Flask_. Y en este caso, no es necesario incluir un método *run()* del objeto de tipo Flask en el código para que éste levante el servidor.\n",
    "\n",
    "La designación de las direcciones IP autorizadas se definen con la opción *-h* y a continuación la cadena de caracteres con el segmento. \n",
    "\n",
    "La designación del puerto que utilizará la aplicación se definen con la opción *-p* y a continuación el número de puerto. \n",
    "\n",
    "**Sintaxis:**\n",
    "```\n",
    "flask run -h '<segmento>' -p <numero de puerto>\n",
    "```"
   ]
  },
  {
   "cell_type": "code",
   "execution_count": null,
   "metadata": {},
   "outputs": [],
   "source": [
    "%pwd"
   ]
  },
  {
   "cell_type": "markdown",
   "metadata": {},
   "source": [
    "Asegúrese que la ruta de corresponda con la ruta en la que se encuentra el script _[src/rutas-shell.py](src/rutas-shell.py)_"
   ]
  },
  {
   "cell_type": "markdown",
   "metadata": {},
   "source": [
    "**Advertencia:** Una vez ejecutada la siguiente celda, es necesario interrumpir el kernel de Jupyter para poder ejecutar el resto de las celdas de la notebook."
   ]
  },
  {
   "cell_type": "code",
   "execution_count": null,
   "metadata": {},
   "outputs": [],
   "source": [
    "%%bash\n",
    "export FLASK_APP=/opt/pythonista/py201/src/rutas-shell.py\n",
    "flask run -h '0.0.0.0'"
   ]
  },
  {
   "cell_type": "markdown",
   "metadata": {},
   "source": [
    "Esta celda levantará un servidor que puede ser accedido desde http://localhost:5000"
   ]
  },
  {
   "cell_type": "markdown",
   "metadata": {},
   "source": [
    "<p style=\"text-align: center\"><a rel=\"license\" href=\"http://creativecommons.org/licenses/by/4.0/\"><img alt=\"Licencia Creative Commons\" style=\"border-width:0\" src=\"https://i.creativecommons.org/l/by/4.0/80x15.png\" /></a><br />Esta obra está bajo una <a rel=\"license\" href=\"http://creativecommons.org/licenses/by/4.0/\">Licencia Creative Commons Atribución 4.0 Internacional</a>.</p>\n",
    "<p style=\"text-align: center\">&copy; José Luis Chiquete Valdivieso. 2021.</p>"
   ]
  }
 ],
 "metadata": {
  "kernelspec": {
   "display_name": "Python 3 (ipykernel)",
   "language": "python",
   "name": "python3"
  },
  "language_info": {
   "codemirror_mode": {
    "name": "ipython",
    "version": 3
   },
   "file_extension": ".py",
   "mimetype": "text/x-python",
   "name": "python",
   "nbconvert_exporter": "python",
   "pygments_lexer": "ipython3",
   "version": "3.9.2"
  }
 },
 "nbformat": 4,
 "nbformat_minor": 2
}
