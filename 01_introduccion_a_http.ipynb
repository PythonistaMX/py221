{
 "cells": [
  {
   "cell_type": "markdown",
   "metadata": {},
   "source": [
    "[![imagenes](imagenes/pythonista.png)](https://pythonista.io)"
   ]
  },
  {
   "cell_type": "markdown",
   "metadata": {},
   "source": [
    "# Introducción a HTTP."
   ]
  },
  {
   "cell_type": "markdown",
   "metadata": {},
   "source": [
    "## El protocolo HTTP.\n",
    "\n",
    "Creado por Tim Berners-Lee en 1989, es el protocolo utilizado para acceder y publicar en la World Wide Web (o  web).\n",
    "Significa Protocolo de transmisión de hipertexto.\n",
    "\n",
    "Actualmente el World Wide Web Consortium (W3C) es la entidad encargada, entre otras cosas, de publicar la especificación del protocolo HTTP. La versión más reciente es HTTP/2, pero la mayoría de los servidores utilizan la versión HTTP/1.1.\n",
    "\n",
    "https://www.w3.org/Protocols/\n",
    "\n",
    "HTTP está basado en  una arquitectura cliente-servidor en la que se intercambian peticiones (requests) por parte del cliente y respuestas (responses) por parte del servidor."
   ]
  },
  {
   "cell_type": "markdown",
   "metadata": {},
   "source": [
    "### Características.\n",
    "* **Sin estado.** Es decir, que cada una de las transacciones request/response que se realizan no afectan al estado del cliente o del servidor, además de que cada transacción es totalmente independiente de el resto.\n",
    "* **Independiente del contenido.** Aún cuando es muy común que un servidor HTTP entregue documentos HTML, pero no existe restricción en el tipo de recurso al que se pueda acceder.\n",
    "* **Sin conexión.** Una vez que la transacción request/response es terminada, la conexión entre cliente y servidor es destruida.\n"
   ]
  },
  {
   "cell_type": "markdown",
   "metadata": {},
   "source": [
    "### Uniform Resource Locator (URL).\n",
    "\n",
    "El protocolo HTTP permite localizar los diversos recursos disponbles en la web mediante los Localizadores Uniformes de Recursos (URL). La estructura de una URL es la siguiente:\n",
    "\n",
    "```\n",
    "http://<subdominio>.<dominio>:<puerto>/<ruta absoluta>?<parámetros>\n",
    "```\n",
    "\n",
    "HTTP utiliza por defecto el puerto 80.\n",
    "\n",
    "El protocolo HTTPS es una variación del HTTP que permite cifrar las comunicaciones entre el cliente y el servdor. \n",
    "\n",
    "```\n",
    "https://<subdominio>.<dominio>:<puerto>/<ruta absoluta>?<parámetros>\n",
    "```\n",
    "\n",
    "HTTPS utiliza el puerto 443 por defecto."
   ]
  },
  {
   "cell_type": "markdown",
   "metadata": {},
   "source": [
    "## Peticiones, respuestas y sesiones.\n",
    "\n",
    "Las comunicaciones entre el cliente y el servidor consisten en un serie de intercambios de datos.\n",
    "\n",
    "*  Un cliente por lo general envía una petición (request) a un servidor que se encuentra atendiendo a una dirección específica. La petición incluye generalmente los datos del cliente, asi como la información necesaria para que el servidor pueda procesar correctamente el requerimiento.\n",
    "* El servidor recibe la petición y procesa los datos. Dependiendo de la petición, el servidor puede enviar cualquier tipo de recurso, así como mensajes de estado.\n",
    "* A este intercambio de peticiones y respuestas entre un cliente y un servidor se conocen como sesiones."
   ]
  },
  {
   "cell_type": "markdown",
   "metadata": {},
   "source": [
    "## Mensajes de estado.\n",
    "Los mensajes de estado permiten informar al cliente sobre la manera en la que ha sido procesada la petición. Está conformado por un número entero de 3 dígitos. En caso de que la petición haya sido procesada exitosamente, el servidor regresa el número 200.\n",
    "\n",
    "### Tipos por el número inicial:\n",
    "* 1xx Información.\n",
    "* 2xx Éxito.\n",
    "* 3xx Redireccionamiento.\n",
    "* 4xx Error del cliente.\n",
    "* 5xx Error del servidor.\n",
    "\n",
    "Puede consultar los mensajes de estado de HTTP en la siguiente liga: http://www.restapitutorial.com/httpstatuscodes.html"
   ]
  },
  {
   "cell_type": "markdown",
   "metadata": {},
   "source": [
    "## Métodos HTTP.\n",
    "\n",
    "El protocolo HTTP define métodos o \"verbos\", los cuales permiten realizar peticiones específicas entre un cliente y un servidor. Algunos de los métodos más utilizados son:\n",
    "\n",
    "* ***GET*** se utiliza para obtener los datos de un recurso a partir de una URI. La información enviada mediante *GET* puede ser añadida a marcadores y puede ser regsitrada en las bitácoras del servidor.\n",
    "* ***HEAD*** es similar al método GET, pero sólo proporciona el encabezado de la petición y el mensaje de estado resultante.\n",
    "* ***POST*** se utiliza para cear un recurso. Los datos enviados no son expuestos en la URI sino que son enviados dentro de la estructura de la petición. \n",
    "* ***PUT*** se utiliza para sustituir un recurso existente y su estructura es similar a la de *POST*.\n",
    "* ***PATCH*** es un método que se utiliza para modificar parcialmente un recurso.\n",
    "* ***DELETE*** es un método que se utiliza para eliminar un recurso. \n",
    "\n",
    "Existen algunos otros métodos como *OPTIONS*, *TRACE* y *CONNECT*, pero no están contemplados en el alcance de este taller. Puede consultar más al respecto puede acceder a https://developer.mozilla.org/es/docs/Web/HTTP/Methods.\n",
    "\n",
    "### Idempotencia.\n",
    "\n",
    "Un método es 'idempotente' cuando no importan las veces que se envíe la misma petición, ésta dará el mismo resultado.\n",
    "\n",
    "### Seguridad.\n",
    "\n",
    "Un método se considera seguro si no modifica los recursos a los que accede.\n",
    "\n",
    "\n",
    "|*  Método  *|*  Idempotente  *|*  Seguro  *|\n",
    "| -------- | ------------- | -------- |\n",
    "|  **GET**  | Sí | Sí |\n",
    "|  **HEAD**  | Sí | Sí |\n",
    "|  **DELETE**  |Sí| No |\n",
    "|  **POST**  | No | No|\n",
    "|  **PUT**  | Sí | No|\n",
    "|  **PATCH**  |No| No| \n",
    "\n",
    "### Advertencia sobre los métodos seguros.\n",
    "\n",
    "La seguridad de un método depende de su implementación y aún cuando se considera como una mala práctica, es posible que los métodos como *GET* sean capaces de modificar al recurso al que acceden."
   ]
  },
  {
   "cell_type": "markdown",
   "metadata": {},
   "source": [
    "## El paquete _requests_.\n",
    "\n",
    "El paquete [requests](http://docs.python-requests.org)  permite hacer peticiones mediante funciones que emulan los métodos del protocolo HTTP, regresando un objeto de Python que contiene los mensajes y datos de la respuesta del servidor a modo de atributos.\n",
    "\n",
    "El paquete *requests* presenta funcionalidades avanzadas como autenticación, conexiones seguras, manejo de 'cookies', etc. "
   ]
  },
  {
   "cell_type": "code",
   "execution_count": null,
   "metadata": {},
   "outputs": [],
   "source": [
    "!pip install requests"
   ]
  },
  {
   "cell_type": "code",
   "execution_count": 3,
   "metadata": {},
   "outputs": [],
   "source": [
    "import requests"
   ]
  },
  {
   "cell_type": "code",
   "execution_count": null,
   "metadata": {},
   "outputs": [],
   "source": [
    "help(requests.get)"
   ]
  },
  {
   "cell_type": "markdown",
   "metadata": {},
   "source": [
    "**Ejemplo:**\n",
    "\n",
    "* Se utilizará la función *requests.get()* en la URL https://pythonista.io/cursos para abir una conexión enviando una petición *GET*. \n",
    "* Se desplegarán los siguientes datos guardados en el objeto resultante. ligado al nombre *sitio*.\n",
    "    * Los encabezados de la petición contenidos en el atributo *sitios.headers*\n",
    "    * El mensaje de estado resultante contenido en el atributo *sitio.status_code*.\n",
    "    * El contenido de la respuesta contenido en el atributo *sitio.content*. \n",
    "* Se cerrará la conexión mediante el método *sitio.close()*."
   ]
  },
  {
   "cell_type": "code",
   "execution_count": null,
   "metadata": {},
   "outputs": [],
   "source": [
    "sitio = requests.get(\"https://pythonista.io/cursos\") "
   ]
  },
  {
   "cell_type": "code",
   "execution_count": null,
   "metadata": {
    "scrolled": true
   },
   "outputs": [],
   "source": [
    "print(sitio.headers)"
   ]
  },
  {
   "cell_type": "code",
   "execution_count": null,
   "metadata": {
    "scrolled": true
   },
   "outputs": [],
   "source": [
    "print(sitio.status_code)"
   ]
  },
  {
   "cell_type": "code",
   "execution_count": null,
   "metadata": {},
   "outputs": [],
   "source": [
    "print(sitio.content)"
   ]
  },
  {
   "cell_type": "code",
   "execution_count": null,
   "metadata": {},
   "outputs": [],
   "source": [
    "sitio.close()"
   ]
  },
  {
   "cell_type": "markdown",
   "metadata": {},
   "source": [
    "**Ejemplo:**\n",
    "\n",
    "Se utilizará la función *requests.get()* en la URL https://pythonista.mx/cur (la cual no existe) para abir una conexión enviando una petición *GET*. Se desplegarán los siguientes datos guardados en el objeto resultante.\n",
    "\n",
    "* El mensaje de estado resultante contenido en *sitio.status_code*.\n",
    "* El contenido del atributo *sitio.content*. En este caso, un mensaje de error.\n",
    "\n",
    "En este caso se utilizará la declaración *with* para cerrar la conexión ta pronto se ejecute el bloque de código  inscrito."
   ]
  },
  {
   "cell_type": "code",
   "execution_count": null,
   "metadata": {},
   "outputs": [],
   "source": [
    "with requests.get(\"https://pythonista.mx/cur\") as sitio:\n",
    "    print(sitio.status_code)\n",
    "    print(sitio.content)"
   ]
  },
  {
   "cell_type": "markdown",
   "metadata": {},
   "source": [
    "**Ejemplo:**\n",
    "\n",
    "Se utilizará la función *requests.get()* para acceder a https://pythonista.mx (el cual hace un redireccionamiento a https://pythonista.io) para abir una conexión enviando una petición *GET*. Se desplegarán los siguientes datos guardados en el objeto resultante.\n",
    "\n",
    "* El mensaje de estado resultante.\n",
    "\n",
    "En este caso se utilizará la declaración *with* para cerrar la conexión ta pronto se ejecute el bloque de código  inscrito."
   ]
  },
  {
   "cell_type": "code",
   "execution_count": 4,
   "metadata": {
    "scrolled": true
   },
   "outputs": [
    {
     "name": "stdout",
     "output_type": "stream",
     "text": [
      "301\n",
      "{'Date': 'Tue, 17 Apr 2018 04:16:16 GMT', 'Server': 'Apache/2.4.18 (Ubuntu)', 'Location': 'https://pythonista.io/', 'Keep-Alive': 'timeout=5, max=100', 'Connection': 'Keep-Alive', 'Content-Type': 'text/html; charset=iso-8859-1'}\n"
     ]
    }
   ],
   "source": [
    "with requests.head(\"https://pythonista.mx\") as sitio:\n",
    "    print(sitio.status_code)\n",
    "    print(sitio.headers)"
   ]
  },
  {
   "cell_type": "markdown",
   "metadata": {},
   "source": [
    "## Ejemplos prácticos para el uso de HTTP.\n",
    "\n",
    "El sitio https://httpbin.org/ incluye ejemplos ilustrativos de los posibles usos del protocolo HTTP."
   ]
  },
  {
   "cell_type": "markdown",
   "metadata": {},
   "source": [
    "**Ejemplo:**\n",
    "\n",
    "Se utilizará get para obtener un recurso que corresponde a una imagen."
   ]
  },
  {
   "cell_type": "code",
   "execution_count": null,
   "metadata": {},
   "outputs": [],
   "source": [
    "resultado = requests.get(\"https://httpbin.org/image/png\")"
   ]
  },
  {
   "cell_type": "code",
   "execution_count": null,
   "metadata": {
    "scrolled": false
   },
   "outputs": [],
   "source": [
    "print(resultado.content)"
   ]
  },
  {
   "cell_type": "markdown",
   "metadata": {},
   "source": [
    "Para desplegar una imagen se utilziará el módulo _Image_ de iPython."
   ]
  },
  {
   "cell_type": "code",
   "execution_count": null,
   "metadata": {},
   "outputs": [],
   "source": [
    "from IPython.display import Image"
   ]
  },
  {
   "cell_type": "code",
   "execution_count": null,
   "metadata": {},
   "outputs": [],
   "source": [
    "Image(resultado.content)"
   ]
  },
  {
   "cell_type": "code",
   "execution_count": null,
   "metadata": {},
   "outputs": [],
   "source": [
    "resultado.close()"
   ]
  },
  {
   "cell_type": "markdown",
   "metadata": {},
   "source": [
    "**Ejemplo:**\n",
    "\n",
    "El método post aplicado a https://httpbin.org"
   ]
  },
  {
   "cell_type": "code",
   "execution_count": null,
   "metadata": {},
   "outputs": [],
   "source": [
    "respuesta = requests.post(\"https://httpbin.org/post\", json = {\"saludo\": \"Hola\"})"
   ]
  },
  {
   "cell_type": "code",
   "execution_count": null,
   "metadata": {},
   "outputs": [],
   "source": [
    "respuesta.json()"
   ]
  },
  {
   "cell_type": "markdown",
   "metadata": {},
   "source": [
    "<p style=\"text-align: center\"><a rel=\"license\" href=\"http://creativecommons.org/licenses/by/4.0/\"><img alt=\"Licencia Creative Commons\" style=\"border-width:0\" src=\"https://i.creativecommons.org/l/by/4.0/80x15.png\" /></a><br />Esta obra está bajo una <a rel=\"license\" href=\"http://creativecommons.org/licenses/by/4.0/\">Licencia Creative Commons Atribución 4.0 Internacional</a>.</p>\n",
    "<p style=\"text-align: center\">&copy; José Luis Chiquete Valdivieso. 2018.</p>"
   ]
  }
 ],
 "metadata": {
  "kernelspec": {
   "display_name": "Python 3",
   "language": "python",
   "name": "python3"
  },
  "language_info": {
   "codemirror_mode": {
    "name": "ipython",
    "version": 3
   },
   "file_extension": ".py",
   "mimetype": "text/x-python",
   "name": "python",
   "nbconvert_exporter": "python",
   "pygments_lexer": "ipython3",
   "version": "3.6.5"
  }
 },
 "nbformat": 4,
 "nbformat_minor": 2
}
